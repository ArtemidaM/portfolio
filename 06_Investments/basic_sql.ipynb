{
 "cells": [
  {
   "cell_type": "markdown",
   "id": "6469175a-726d-40f0-b898-6c90147056c2",
   "metadata": {},
   "source": [
    "# Проект Исследование данных об инвестиции венчурных фондов в компании-стартапы"
   ]
  },
  {
   "cell_type": "markdown",
   "id": "ac15ba94-3870-4c67-91c2-58fdfd936113",
   "metadata": {},
   "source": [
    "**Цель проекта:**\n",
    "Произвести различные выгрузки данных венчурных фондов с помощью SQL"
   ]
  },
  {
   "cell_type": "markdown",
   "id": "1571aee4-0bad-4342-9972-052d4cdc823a",
   "metadata": {},
   "source": [
    "**Описание проекта:** Работа идёт с базой данных, которая хранит информацию о венчурных фондах и инвестициях в компании-стартапы. Эта база данных основана на датасете Startup Investments, опубликованном на популярной платформе для соревнований по исследованию данных Kaggle."
   ]
  },
  {
   "cell_type": "markdown",
   "id": "11037b01-96e8-4018-9ba8-f9d858c046f9",
   "metadata": {},
   "source": [
    "## Задание 1\n",
    "Отобразите все записи из таблицы company по компаниям, которые закрылись."
   ]
  },
  {
   "cell_type": "code",
   "execution_count": null,
   "id": "d5f39502-229b-4e8d-8631-222550ddcd6d",
   "metadata": {},
   "outputs": [],
   "source": [
    "SELECT *\n",
    "FROM company\n",
    "WHERE status = 'closed'"
   ]
  },
  {
   "cell_type": "markdown",
   "id": "d57abccc-c2ea-4aba-ba60-95e63f1a5bfb",
   "metadata": {},
   "source": [
    "## Задание 2\n",
    "Отобразите количество привлечённых средств для новостных компаний США. Используйте данные из таблицы company. Отсортируйте таблицу по убыванию значений в поле funding_total."
   ]
  },
  {
   "cell_type": "code",
   "execution_count": null,
   "id": "12eb4de3-7f77-4ff9-b472-767fad1fc974",
   "metadata": {},
   "outputs": [],
   "source": [
    "SELECT funding_total\n",
    "FROM company\n",
    "WHERE category_code = 'news'\n",
    "  AND country_code = 'USA'\n",
    "ORDER BY funding_total DESC"
   ]
  },
  {
   "cell_type": "markdown",
   "id": "449a184e-042d-4970-9250-50dd41d2d075",
   "metadata": {},
   "source": [
    "## Задание 3\n",
    "Найдите общую сумму сделок по покупке одних компаний другими в долларах. Отберите сделки, которые осуществлялись только за наличные с 2011 по 2013 год включительно."
   ]
  },
  {
   "cell_type": "code",
   "execution_count": null,
   "id": "e36c7bf5-350a-49fb-a927-359044709796",
   "metadata": {},
   "outputs": [],
   "source": [
    "SELECT SUM(price_amount)\n",
    "FROM acquisition\n",
    "WHERE term_code = 'cash'\n",
    "  AND EXTRACT(YEAR FROM acquired_at) BETWEEN 2011 AND 2013"
   ]
  },
  {
   "cell_type": "markdown",
   "id": "fc2ccd41-7b57-493f-a980-648e5a26563a",
   "metadata": {},
   "source": [
    "## Задание 4\n",
    "Отобразите имя, фамилию и названия аккаунтов людей в поле network_username, у которых названия аккаунтов начинаются на 'Silver'."
   ]
  },
  {
   "cell_type": "code",
   "execution_count": null,
   "id": "b531faaa-fcda-4ecc-996f-ebfc2bb03d58",
   "metadata": {},
   "outputs": [],
   "source": [
    "SELECT first_name,\n",
    "       last_name,\n",
    "       network_username\n",
    "\n",
    "FROM people\n",
    "WHERE network_username LIKE 'Silver%'"
   ]
  },
  {
   "cell_type": "markdown",
   "id": "53e6f92c-3fc4-41e6-98c2-1e97b07941ae",
   "metadata": {},
   "source": [
    "## Задание 5\n",
    "Выведите на экран всю информацию о людях, у которых названия аккаунтов в поле network_username содержат подстроку 'money', а фамилия начинается на 'K'."
   ]
  },
  {
   "cell_type": "code",
   "execution_count": null,
   "id": "ea1c169a-34d8-4e0d-b0d5-15bac81cba76",
   "metadata": {},
   "outputs": [],
   "source": [
    "SELECT *\n",
    "FROM people\n",
    "WHERE network_username LIKE '%money%'\n",
    "  AND last_name LIKE 'K%'"
   ]
  },
  {
   "cell_type": "markdown",
   "id": "12fad925-eac4-4e3e-9b52-90806eff4a38",
   "metadata": {},
   "source": [
    "## Задание 6\n",
    "Для каждой страны отобразите общую сумму привлечённых инвестиций, которые получили компании, зарегистрированные в этой стране. Страну, в которой зарегистрирована компания, можно определить по коду страны. Отсортируйте данные по убыванию суммы."
   ]
  },
  {
   "cell_type": "code",
   "execution_count": null,
   "id": "29f253ad-2446-4bec-a776-221358e888ca",
   "metadata": {},
   "outputs": [],
   "source": [
    "SELECT country_code,\n",
    "       SUM(funding_total)\n",
    "FROM company\n",
    "GROUP BY country_code\n",
    "ORDER BY SUM(funding_total) DESC"
   ]
  },
  {
   "cell_type": "markdown",
   "id": "cd7d865a-be16-4cd2-98fc-9e6ec87b5c44",
   "metadata": {},
   "source": [
    "## Задание 7\n",
    "Составьте таблицу, в которую войдёт дата проведения раунда, а также минимальное и максимальное значения суммы инвестиций, привлечённых в эту дату.\n",
    "Оставьте в итоговой таблице только те записи, в которых минимальное значение суммы инвестиций не равно нулю и не равно максимальному значению."
   ]
  },
  {
   "cell_type": "code",
   "execution_count": null,
   "id": "4b80b179-dd7f-4e62-8624-9ed4b104cbab",
   "metadata": {},
   "outputs": [],
   "source": [
    "SELECT funded_at,\n",
    "       MIN(raised_amount),\n",
    "       MAX(raised_amount)\n",
    "FROM funding_round\n",
    "GROUP BY funded_at\n",
    "HAVING MIN(raised_amount) != 0\n",
    "  AND MIN(raised_amount) != MAX(raised_amount)"
   ]
  },
  {
   "cell_type": "markdown",
   "id": "6f38f9df-9991-48df-b614-2bb8632c3f6f",
   "metadata": {},
   "source": [
    "## Задание 8\n",
    "Создайте поле с категориями:  \n",
    "Для фондов, которые инвестируют в 100 и более компаний, назначьте категорию high_activity.  \n",
    "Для фондов, которые инвестируют в 20 и более компаний до 100, назначьте категорию middle_activity.  \n",
    "Если количество инвестируемых компаний фонда не достигает 20, назначьте категорию low_activity.  \n",
    "Отобразите все поля таблицы fund и новое поле с категориями."
   ]
  },
  {
   "cell_type": "code",
   "execution_count": null,
   "id": "820b551d-5a06-43f0-b828-41b01d59d3e5",
   "metadata": {},
   "outputs": [],
   "source": [
    "SELECT *,\n",
    "  CASE\n",
    "      WHEN invested_companies < 20 THEN 'low_activity'\n",
    "      WHEN invested_companies BETWEEN 20 AND 100 THEN 'middle_activity'\n",
    "      WHEN invested_companies >= 100 THEN 'high_activity'\n",
    "  END\n",
    "FROM fund"
   ]
  },
  {
   "cell_type": "markdown",
   "id": "5268d71a-375b-4880-875f-57aa7807621f",
   "metadata": {},
   "source": [
    "## Задание 9\n",
    "Для каждой из категорий, назначенных в предыдущем задании, посчитайте округлённое до ближайшего целого числа среднее количество инвестиционных раундов, в которых фонд принимал участие. Выведите на экран категории и среднее число инвестиционных раундов. Отсортируйте таблицу по возрастанию среднего."
   ]
  },
  {
   "cell_type": "code",
   "execution_count": null,
   "id": "d41c598f-32dc-46ac-ac80-b04d6c9683ab",
   "metadata": {},
   "outputs": [],
   "source": [
    "SELECT \n",
    "       CASE\n",
    "           WHEN invested_companies>=100 THEN 'high_activity'\n",
    "           WHEN invested_companies>=20 THEN 'middle_activity'\n",
    "           ELSE 'low_activity'\n",
    "       END AS activity,\n",
    "       ROUND(AVG(investment_rounds), 0)\n",
    "FROM fund\n",
    "GROUP BY activity\n",
    "ORDER BY ROUND(AVG(investment_rounds)) ASC;"
   ]
  },
  {
   "cell_type": "markdown",
   "id": "80a8d2c4-d72b-4276-a013-b0bf6c068a1e",
   "metadata": {},
   "source": [
    "## Задание 10\n",
    "Проанализируйте, в каких странах находятся фонды, которые чаще всего инвестируют в стартапы.  \n",
    "Для каждой страны посчитайте минимальное, максимальное и среднее число компаний, в которые инвестировали фонды этой страны, основанные с 2010 по 2012 год включительно. Исключите страны с фондами, у которых минимальное число компаний, получивших инвестиции, равно нулю.  \n",
    "Выгрузите десять самых активных стран-инвесторов: отсортируйте таблицу по среднему количеству компаний от большего к меньшему. Затем добавьте сортировку по коду страны в лексикографическом порядке."
   ]
  },
  {
   "cell_type": "code",
   "execution_count": null,
   "id": "091648a2-749d-4724-8955-d03a7c3d9da7",
   "metadata": {},
   "outputs": [],
   "source": [
    "SELECT country_code,\n",
    "       MIN(invested_companies),\n",
    "       MAX(invested_companies),\n",
    "       AVG(invested_companies)\n",
    "FROM fund\n",
    "WHERE EXTRACT(YEAR FROM founded_at) BETWEEN 2010 AND 2012\n",
    "GROUP BY country_code\n",
    "HAVING MIN(invested_companies) != 0\n",
    "ORDER BY AVG(invested_companies) DESC, country_code ASC\n",
    "LIMIT 10"
   ]
  },
  {
   "cell_type": "markdown",
   "id": "8dfccaf4-7863-4d73-80e2-0889e007a1b7",
   "metadata": {},
   "source": [
    "## Задание 11\n",
    "Отобразите имя и фамилию всех сотрудников стартапов. Добавьте поле с названием учебного заведения, которое окончил сотрудник, если эта информация известна."
   ]
  },
  {
   "cell_type": "code",
   "execution_count": null,
   "id": "2dca5c52-0fdb-482c-aa5c-5149ca1ab5c9",
   "metadata": {},
   "outputs": [],
   "source": [
    "SELECT p.first_name,\n",
    "       p.last_name,\n",
    "       e.instituition\n",
    "FROM people AS p\n",
    "LEFT OUTER JOIN education AS e ON p.id=e.person_id"
   ]
  },
  {
   "cell_type": "markdown",
   "id": "cbf586bc-3e8b-4c06-9905-b68cda65d2fe",
   "metadata": {},
   "source": [
    "## Задание 12\n",
    "Для каждой компании найдите количество учебных заведений, которые окончили её сотрудники. Выведите название компании и число уникальных названий учебных заведений. Составьте топ-5 компаний по количеству университетов."
   ]
  },
  {
   "cell_type": "code",
   "execution_count": null,
   "id": "30e69643-a017-4490-a4b9-320996968130",
   "metadata": {},
   "outputs": [],
   "source": [
    "SELECT c.name,\n",
    "       COUNT(DISTINCT e.instituition)\n",
    "FROM people AS p\n",
    "LEFT OUTER JOIN education AS e ON p.id=e.person_id\n",
    "LEFT OUTER JOIN company AS c ON p.company_id=c.id\n",
    "WHERE p.company_id IS NOT NULL\n",
    "GROUP BY c.name\n",
    "ORDER BY COUNT(DISTINCT e.instituition) DESC\n",
    "LIMIT 5"
   ]
  },
  {
   "cell_type": "markdown",
   "id": "32703e0d-a202-4066-b6ef-5235f8368b30",
   "metadata": {},
   "source": [
    "## Задание 13\n",
    "Составьте список с уникальными названиями закрытых компаний, для которых первый раунд финансирования оказался последним."
   ]
  },
  {
   "cell_type": "code",
   "execution_count": null,
   "id": "eec58b67-008c-4c71-8c84-87824cb04d8a",
   "metadata": {},
   "outputs": [],
   "source": [
    "SELECT name\n",
    "FROM company\n",
    "WHERE id IN\n",
    "(SELECT company_id\n",
    "FROM funding_round\n",
    "WHERE is_first_round = 1\n",
    "  AND is_last_round = 1)\n",
    "AND status = 'closed'"
   ]
  },
  {
   "cell_type": "markdown",
   "id": "dab6e5b8-ec65-4cd9-b124-bc47d8f63c6f",
   "metadata": {},
   "source": [
    "## Задание 14\n",
    "Составьте список уникальных номеров сотрудников, которые работают в компаниях, отобранных в предыдущем задании."
   ]
  },
  {
   "cell_type": "code",
   "execution_count": null,
   "id": "2975d5d6-3272-49cb-ada9-c09f4a66ceca",
   "metadata": {},
   "outputs": [],
   "source": [
    "SELECT id\n",
    "FROM people\n",
    "WHERE company_id IN\n",
    "(SELECT id\n",
    "FROM company\n",
    "WHERE id IN\n",
    "(SELECT company_id\n",
    "FROM funding_round\n",
    "WHERE is_first_round = 1\n",
    "  AND is_last_round = 1)\n",
    "AND status = 'closed')"
   ]
  },
  {
   "cell_type": "markdown",
   "id": "23a9ea31-7471-4db6-ab10-a905e68ee487",
   "metadata": {},
   "source": [
    "## Задание 15\n",
    "Составьте таблицу, куда войдут уникальные пары с номерами сотрудников из предыдущей задачи и учебным заведением, которое окончил сотрудник."
   ]
  },
  {
   "cell_type": "code",
   "execution_count": null,
   "id": "9b5b7522-6a08-4d5c-b130-d7770f61f827",
   "metadata": {},
   "outputs": [],
   "source": [
    "SELECT DISTINCT person_id,\n",
    "       instituition\n",
    "FROM education\n",
    "WHERE person_id IN\n",
    "(SELECT id\n",
    "FROM people\n",
    "WHERE company_id IN\n",
    "(SELECT id\n",
    "FROM company\n",
    "WHERE id IN\n",
    "(SELECT company_id\n",
    "FROM funding_round\n",
    "WHERE is_first_round = 1\n",
    "  AND is_last_round = 1)\n",
    "AND status = 'closed'))"
   ]
  },
  {
   "cell_type": "markdown",
   "id": "4b224c2a-edd9-40eb-8972-7a43fd9417cd",
   "metadata": {},
   "source": [
    "## Задание 16\n",
    "Посчитайте количество учебных заведений для каждого сотрудника из предыдущего задания. При подсчёте учитывайте, что некоторые сотрудники могли окончить одно и то же заведение дважды."
   ]
  },
  {
   "cell_type": "code",
   "execution_count": null,
   "id": "18f2e234-8bfb-44af-b2ac-d0493828100e",
   "metadata": {},
   "outputs": [],
   "source": [
    "SELECT DISTINCT person_id,\n",
    "       COUNT(instituition)\n",
    "FROM education\n",
    "WHERE person_id IN\n",
    "(SELECT id\n",
    "FROM people\n",
    "WHERE company_id IN\n",
    "(SELECT id\n",
    "FROM company\n",
    "WHERE id IN\n",
    "(SELECT company_id\n",
    "FROM funding_round\n",
    "WHERE is_first_round = 1\n",
    "  AND is_last_round = 1)\n",
    "AND status = 'closed'))\n",
    "GROUP BY person_id"
   ]
  },
  {
   "cell_type": "markdown",
   "id": "1d780dd0-0be4-47aa-a3dc-f32da695acd4",
   "metadata": {},
   "source": [
    "## Задание 17\n",
    "Дополните предыдущий запрос и выведите среднее число учебных заведений (всех, не только уникальных), которые окончили сотрудники разных компаний. Нужно вывести только одну запись, группировка здесь не понадобится."
   ]
  },
  {
   "cell_type": "code",
   "execution_count": null,
   "id": "2ce660d5-0785-4362-8dca-da9226edf721",
   "metadata": {},
   "outputs": [],
   "source": [
    "SELECT AVG(a.instituition_count)\n",
    "FROM\n",
    "(SELECT DISTINCT person_id,\n",
    "       COUNT(instituition) as instituition_count\n",
    "FROM education\n",
    "WHERE person_id IN\n",
    "(SELECT id\n",
    "FROM people\n",
    "WHERE company_id IN\n",
    "(SELECT id\n",
    "FROM company\n",
    "WHERE id IN\n",
    "(SELECT company_id\n",
    "FROM funding_round\n",
    "WHERE is_first_round = 1\n",
    "  AND is_last_round = 1)\n",
    "AND status = 'closed')) \n",
    "GROUP BY person_id) AS a"
   ]
  },
  {
   "cell_type": "markdown",
   "id": "081697e9-f16d-4d46-a281-dfe5a0c31d0d",
   "metadata": {},
   "source": [
    "## Задание 18\n",
    "Напишите похожий запрос: выведите среднее число учебных заведений (всех, не только уникальных), которые окончили сотрудники Socialnet."
   ]
  },
  {
   "cell_type": "code",
   "execution_count": null,
   "id": "dcb64cef-0746-4b12-8218-4ec20b1bbe54",
   "metadata": {},
   "outputs": [],
   "source": [
    "SELECT AVG(a.instituition_count)\n",
    "FROM\n",
    "(SELECT DISTINCT person_id,\n",
    "       COUNT(instituition) AS instituition_count\n",
    "FROM education \n",
    "WHERE person_id IN\n",
    "(SELECT id\n",
    "FROM people\n",
    "WHERE company_id =\n",
    "(SELECT id\n",
    "FROM company\n",
    "WHERE name = 'Socialnet'))\n",
    "GROUP BY person_id) AS a"
   ]
  },
  {
   "cell_type": "markdown",
   "id": "4d1738b9-89dd-44c9-befd-cc383ebe4a10",
   "metadata": {},
   "source": [
    "## Задание 19\n",
    "Составьте таблицу из полей:  \n",
    "- name_of_fund — название фонда;  \n",
    "- name_of_company — название компании;  \n",
    "- amount — сумма инвестиций, которую привлекла компания в раунде.  \n",
    "\n",
    "В таблицу войдут данные о компаниях, в истории которых было больше шести важных этапов, а раунды финансирования проходили с 2012 по 2013 год включительно."
   ]
  },
  {
   "cell_type": "code",
   "execution_count": null,
   "id": "fa2b3447-03d6-4128-b469-3e524c097949",
   "metadata": {},
   "outputs": [],
   "source": [
    "SELECT f.name AS name_of_fund,\n",
    "       c.name AS name_of_company,\n",
    "       fr.raised_amount AS amount\n",
    "FROM investment AS i\n",
    "INNER JOIN company AS c ON i.company_id=c.id\n",
    "INNER JOIN fund AS f ON i.fund_id=f.id\n",
    "INNER JOIN funding_round AS fr ON fr.id=i.funding_round_id\n",
    "WHERE EXTRACT(YEAR FROM fr.funded_at) BETWEEN 2012 AND 2013\n",
    "  AND c.milestones > 6"
   ]
  },
  {
   "cell_type": "markdown",
   "id": "82c76e6b-2d4d-4155-acae-89be9ed1ff77",
   "metadata": {},
   "source": [
    "## Задание 20\n",
    "Выгрузите таблицу, в которой будут такие поля:\n",
    "- название компании-покупателя;\n",
    "- сумма сделки;\n",
    "- название компании, которую купили;\n",
    "- сумма инвестиций, вложенных в купленную компанию;\n",
    "- доля, которая отображает, во сколько раз сумма покупки превысила сумму вложенных в компанию инвестиций, - округлённая до ближайшего целого числа.\n",
    "\n",
    "Не учитывайте те сделки, в которых сумма покупки равна нулю. Если сумма инвестиций в компанию равна нулю, исключите такую компанию из таблицы. \n",
    "\n",
    "Отсортируйте таблицу по сумме сделки от большей к меньшей, а затем по названию купленной компании в лексикографическом порядке. Ограничьте таблицу первыми десятью записями."
   ]
  },
  {
   "cell_type": "code",
   "execution_count": null,
   "id": "de487faf-9c77-42c2-a65c-11bcccaa47e4",
   "metadata": {},
   "outputs": [],
   "source": [
    "SELECT c1.name AS acquiring_company,\n",
    "       a.price_amount AS price_amount,\n",
    "       c2.name AS acquired_company,\n",
    "       c2.funding_total AS funding_total,\n",
    "       ROUND(a.price_amount/c2.funding_total) AS price_funding\n",
    "FROM acquisition AS a \n",
    "LEFT OUTER JOIN company AS c1 ON c1.id=a.acquiring_company_id\n",
    "LEFT OUTER JOIN company AS c2 ON c2.id=a.acquired_company_id\n",
    "WHERE a.price_amount != 0\n",
    "  AND c2.funding_total != 0\n",
    "ORDER BY price_amount DESC, acquired_company ASC\n",
    "LIMIT 10"
   ]
  },
  {
   "cell_type": "markdown",
   "id": "5ea5609a-33d7-458b-bcc8-cacc76c0689f",
   "metadata": {},
   "source": [
    "## Задание 21\n",
    "Выгрузите таблицу, в которую войдут названия компаний из категории social, получившие финансирование с 2010 по 2013 год включительно. Проверьте, что сумма инвестиций не равна нулю. Выведите также номер месяца, в котором проходил раунд финансирования."
   ]
  },
  {
   "cell_type": "code",
   "execution_count": null,
   "id": "d0000f36-7314-42fe-a351-0f82c9854875",
   "metadata": {},
   "outputs": [],
   "source": [
    "SELECT c.name AS company_name,\n",
    "       EXTRACT(MONTH FROM fr.funded_at) AS month\n",
    "FROM funding_round AS fr \n",
    "LEFT OUTER JOIN company AS c ON fr.company_id=c.id\n",
    "WHERE c.category_code = 'social'\n",
    "  AND EXTRACT(YEAR FROM fr.funded_at) BETWEEN 2010 AND 2013\n",
    "  AND fr.raised_amount != 0"
   ]
  },
  {
   "cell_type": "markdown",
   "id": "b6114b9f-6cf5-4c92-bff6-538e99d2f872",
   "metadata": {},
   "source": [
    "## Задание 22\n",
    "Отберите данные по месяцам с 2010 по 2013 год, когда проходили инвестиционные раунды. Сгруппируйте данные по номеру месяца и получите таблицу, в которой будут поля:\n",
    "- номер месяца, в котором проходили раунды;\n",
    "- количество уникальных названий фондов из США, которые инвестировали в этом месяце;\n",
    "- количество компаний, купленных за этот месяц;\n",
    "- общая сумма сделок по покупкам в этом месяце."
   ]
  },
  {
   "cell_type": "code",
   "execution_count": null,
   "id": "86f6d09d-1cdb-4e4b-a74a-674ba0ac7655",
   "metadata": {},
   "outputs": [],
   "source": [
    "WITH\n",
    "\n",
    "q1 AS\n",
    "(SELECT EXTRACT(MONTH FROM fr.funded_at) AS month,\n",
    "       COUNT(DISTINCT f.name) AS funds\n",
    "FROM funding_round AS fr\n",
    "LEFT OUTER JOIN investment AS i ON fr.id=i.funding_round_id\n",
    "LEFT OUTER JOIN fund AS f ON i.fund_id=f.id\n",
    "WHERE EXTRACT(YEAR FROM fr.funded_at) BETWEEN 2010 AND 2013\n",
    "  AND f.country_code = 'USA'\n",
    "GROUP BY EXTRACT(MONTH FROM fr.funded_at)),\n",
    "\n",
    "q2 AS\n",
    "(SELECT EXTRACT(MONTH FROM acquired_at) AS month,\n",
    "       COUNT(acquired_company_id) AS companies,\n",
    "       SUM(price_amount) AS total_amount\n",
    "FROM acquisition\n",
    "WHERE EXTRACT(YEAR FROM acquired_at) BETWEEN 2010 AND 2013\n",
    "GROUP BY month)\n",
    "\n",
    "SELECT q1.month, q1.funds, q2.companies, q2.total_amount\n",
    "FROM q1\n",
    "INNER JOIN q2 ON q1.month=q2.month"
   ]
  },
  {
   "cell_type": "markdown",
   "id": "80398ec5-3235-4aa6-9f8c-f317b8b652c5",
   "metadata": {},
   "source": [
    "## Задание 23\n",
    "Составьте сводную таблицу и выведите среднюю сумму инвестиций для стран, в которых есть стартапы, зарегистрированные в 2011, 2012 и 2013 годах. Данные за каждый год должны быть в отдельном поле. Отсортируйте таблицу по среднему значению инвестиций за 2011 год от большего к меньшему."
   ]
  },
  {
   "cell_type": "code",
   "execution_count": null,
   "id": "d2fcf40b-3633-472c-8257-63f75fed79b1",
   "metadata": {},
   "outputs": [],
   "source": [
    "WITH\n",
    "     inv_2011 AS \n",
    "     (SELECT country_code,\n",
    "            AVG(funding_total) AS avg_2011\n",
    "     FROM company \n",
    "     WHERE EXTRACT(YEAR FROM founded_at) = 2011\n",
    "     GROUP BY country_code),\n",
    "     \n",
    "     inv_2012 AS \n",
    "     (SELECT country_code,\n",
    "            AVG(funding_total) AS avg_2012\n",
    "     FROM company \n",
    "     WHERE EXTRACT(YEAR FROM founded_at) = 2012\n",
    "     GROUP BY country_code),\n",
    "     \n",
    "     inv_2013 AS \n",
    "     (SELECT country_code,\n",
    "            AVG(funding_total) AS avg_2013\n",
    "     FROM company \n",
    "     WHERE EXTRACT(YEAR FROM founded_at) = 2013\n",
    "     GROUP BY country_code)\n",
    "     \n",
    "SELECT inv_2011.country_code,\n",
    "       inv_2011.avg_2011,\n",
    "       inv_2012.avg_2012,\n",
    "       inv_2013.avg_2013\n",
    "FROM inv_2011 \n",
    "INNER JOIN inv_2012 ON inv_2011.country_code=inv_2012.country_code\n",
    "INNER JOIN inv_2013 ON inv_2011.country_code=inv_2013.country_code\n",
    "ORDER BY inv_2011.avg_2011 DESC"
   ]
  }
 ],
 "metadata": {
  "kernelspec": {
   "display_name": "Python 3 (ipykernel)",
   "language": "python",
   "name": "python3"
  },
  "language_info": {
   "codemirror_mode": {
    "name": "ipython",
    "version": 3
   },
   "file_extension": ".py",
   "mimetype": "text/x-python",
   "name": "python",
   "nbconvert_exporter": "python",
   "pygments_lexer": "ipython3",
   "version": "3.11.7"
  }
 },
 "nbformat": 4,
 "nbformat_minor": 5
}
