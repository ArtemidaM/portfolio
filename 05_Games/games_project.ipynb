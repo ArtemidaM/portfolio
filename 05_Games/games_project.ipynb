{
 "cells": [
  {
   "cell_type": "markdown",
   "metadata": {},
   "source": [
    "# Анализ продаж компьютерных игр для интернет-магазина «Стримчик»"
   ]
  },
  {
   "cell_type": "markdown",
   "metadata": {},
   "source": [
    "# Описание проекта"
   ]
  },
  {
   "cell_type": "markdown",
   "metadata": {},
   "source": [
    "Из открытых источников доступны исторические данные о продажах игр, оценки пользователей и экспертов, жанры и платформы (например, Xbox или PlayStation). Нужно выявить определяющие успешность игры закономерности. Это позволит сделать ставку на потенциально популярный продукт и спланировать рекламные кампании.\n",
    "\n",
    "Нам будут доступны следующие данные:  \n",
    "Name — название игры  \n",
    "Platform — платформа  \n",
    "Year_of_Release — год выпуска  \n",
    "Genre — жанр игры  \n",
    "NA_sales — продажи в Северной Америке (миллионы проданных копий)  \n",
    "EU_sales — продажи в Европе (миллионы проданных копий)  \n",
    "JP_sales — продажи в Японии (миллионы проданных копий)  \n",
    "Other_sales — продажи в других странах (миллионы проданных копий)  \n",
    "Critic_Score — оценка критиков (максимум 100)  \n",
    "User_Score — оценка пользователей (максимум 10)  \n",
    "Rating — рейтинг от организации ESRB (англ. Entertainment Software Rating Board). Эта ассоциация определяет рейтинг компьютерных игр и присваивает им подходящую возрастную категорию.  \n",
    "Данные за 2016 год могут быть неполными.\n",
    "\n",
    "В ходе анализа мы пройдем следующие шаги:\n",
    "- откроем файл и изучим данные;\n",
    "- проведем предобработку данных для качественного проведения анализа;\n",
    "- проведем исследовательский анализ данных;\n",
    "- составим портрет пользователя каждого региона;\n",
    "- проверим некоторые гипотезы;\n",
    "- напишем общий вывод."
   ]
  },
  {
   "cell_type": "markdown",
   "metadata": {},
   "source": [
    "##  Откроем файл с данными и изучим общую информацию"
   ]
  },
  {
   "cell_type": "code",
   "execution_count": 1,
   "metadata": {},
   "outputs": [],
   "source": [
    "#импортируем необходимые библиотеки\n",
    "import pandas as pd \n",
    "import matplotlib.pyplot as plt\n",
    "import numpy as np\n",
    "import seaborn as sns\n",
    "\n",
    "from scipy import stats as st"
   ]
  },
  {
   "cell_type": "code",
   "execution_count": 2,
   "metadata": {},
   "outputs": [
    {
     "data": {
      "text/html": [
       "<div>\n",
       "<style scoped>\n",
       "    .dataframe tbody tr th:only-of-type {\n",
       "        vertical-align: middle;\n",
       "    }\n",
       "\n",
       "    .dataframe tbody tr th {\n",
       "        vertical-align: top;\n",
       "    }\n",
       "\n",
       "    .dataframe thead th {\n",
       "        text-align: right;\n",
       "    }\n",
       "</style>\n",
       "<table border=\"1\" class=\"dataframe\">\n",
       "  <thead>\n",
       "    <tr style=\"text-align: right;\">\n",
       "      <th></th>\n",
       "      <th>Name</th>\n",
       "      <th>Platform</th>\n",
       "      <th>Year_of_Release</th>\n",
       "      <th>Genre</th>\n",
       "      <th>NA_sales</th>\n",
       "      <th>EU_sales</th>\n",
       "      <th>JP_sales</th>\n",
       "      <th>Other_sales</th>\n",
       "      <th>Critic_Score</th>\n",
       "      <th>User_Score</th>\n",
       "      <th>Rating</th>\n",
       "    </tr>\n",
       "  </thead>\n",
       "  <tbody>\n",
       "    <tr>\n",
       "      <th>0</th>\n",
       "      <td>Wii Sports</td>\n",
       "      <td>Wii</td>\n",
       "      <td>2006.0</td>\n",
       "      <td>Sports</td>\n",
       "      <td>41.36</td>\n",
       "      <td>28.96</td>\n",
       "      <td>3.77</td>\n",
       "      <td>8.45</td>\n",
       "      <td>76.0</td>\n",
       "      <td>8</td>\n",
       "      <td>E</td>\n",
       "    </tr>\n",
       "    <tr>\n",
       "      <th>1</th>\n",
       "      <td>Super Mario Bros.</td>\n",
       "      <td>NES</td>\n",
       "      <td>1985.0</td>\n",
       "      <td>Platform</td>\n",
       "      <td>29.08</td>\n",
       "      <td>3.58</td>\n",
       "      <td>6.81</td>\n",
       "      <td>0.77</td>\n",
       "      <td>NaN</td>\n",
       "      <td>NaN</td>\n",
       "      <td>NaN</td>\n",
       "    </tr>\n",
       "    <tr>\n",
       "      <th>2</th>\n",
       "      <td>Mario Kart Wii</td>\n",
       "      <td>Wii</td>\n",
       "      <td>2008.0</td>\n",
       "      <td>Racing</td>\n",
       "      <td>15.68</td>\n",
       "      <td>12.76</td>\n",
       "      <td>3.79</td>\n",
       "      <td>3.29</td>\n",
       "      <td>82.0</td>\n",
       "      <td>8.3</td>\n",
       "      <td>E</td>\n",
       "    </tr>\n",
       "    <tr>\n",
       "      <th>3</th>\n",
       "      <td>Wii Sports Resort</td>\n",
       "      <td>Wii</td>\n",
       "      <td>2009.0</td>\n",
       "      <td>Sports</td>\n",
       "      <td>15.61</td>\n",
       "      <td>10.93</td>\n",
       "      <td>3.28</td>\n",
       "      <td>2.95</td>\n",
       "      <td>80.0</td>\n",
       "      <td>8</td>\n",
       "      <td>E</td>\n",
       "    </tr>\n",
       "    <tr>\n",
       "      <th>4</th>\n",
       "      <td>Pokemon Red/Pokemon Blue</td>\n",
       "      <td>GB</td>\n",
       "      <td>1996.0</td>\n",
       "      <td>Role-Playing</td>\n",
       "      <td>11.27</td>\n",
       "      <td>8.89</td>\n",
       "      <td>10.22</td>\n",
       "      <td>1.00</td>\n",
       "      <td>NaN</td>\n",
       "      <td>NaN</td>\n",
       "      <td>NaN</td>\n",
       "    </tr>\n",
       "    <tr>\n",
       "      <th>...</th>\n",
       "      <td>...</td>\n",
       "      <td>...</td>\n",
       "      <td>...</td>\n",
       "      <td>...</td>\n",
       "      <td>...</td>\n",
       "      <td>...</td>\n",
       "      <td>...</td>\n",
       "      <td>...</td>\n",
       "      <td>...</td>\n",
       "      <td>...</td>\n",
       "      <td>...</td>\n",
       "    </tr>\n",
       "    <tr>\n",
       "      <th>16710</th>\n",
       "      <td>Samurai Warriors: Sanada Maru</td>\n",
       "      <td>PS3</td>\n",
       "      <td>2016.0</td>\n",
       "      <td>Action</td>\n",
       "      <td>0.00</td>\n",
       "      <td>0.00</td>\n",
       "      <td>0.01</td>\n",
       "      <td>0.00</td>\n",
       "      <td>NaN</td>\n",
       "      <td>NaN</td>\n",
       "      <td>NaN</td>\n",
       "    </tr>\n",
       "    <tr>\n",
       "      <th>16711</th>\n",
       "      <td>LMA Manager 2007</td>\n",
       "      <td>X360</td>\n",
       "      <td>2006.0</td>\n",
       "      <td>Sports</td>\n",
       "      <td>0.00</td>\n",
       "      <td>0.01</td>\n",
       "      <td>0.00</td>\n",
       "      <td>0.00</td>\n",
       "      <td>NaN</td>\n",
       "      <td>NaN</td>\n",
       "      <td>NaN</td>\n",
       "    </tr>\n",
       "    <tr>\n",
       "      <th>16712</th>\n",
       "      <td>Haitaka no Psychedelica</td>\n",
       "      <td>PSV</td>\n",
       "      <td>2016.0</td>\n",
       "      <td>Adventure</td>\n",
       "      <td>0.00</td>\n",
       "      <td>0.00</td>\n",
       "      <td>0.01</td>\n",
       "      <td>0.00</td>\n",
       "      <td>NaN</td>\n",
       "      <td>NaN</td>\n",
       "      <td>NaN</td>\n",
       "    </tr>\n",
       "    <tr>\n",
       "      <th>16713</th>\n",
       "      <td>Spirits &amp; Spells</td>\n",
       "      <td>GBA</td>\n",
       "      <td>2003.0</td>\n",
       "      <td>Platform</td>\n",
       "      <td>0.01</td>\n",
       "      <td>0.00</td>\n",
       "      <td>0.00</td>\n",
       "      <td>0.00</td>\n",
       "      <td>NaN</td>\n",
       "      <td>NaN</td>\n",
       "      <td>NaN</td>\n",
       "    </tr>\n",
       "    <tr>\n",
       "      <th>16714</th>\n",
       "      <td>Winning Post 8 2016</td>\n",
       "      <td>PSV</td>\n",
       "      <td>2016.0</td>\n",
       "      <td>Simulation</td>\n",
       "      <td>0.00</td>\n",
       "      <td>0.00</td>\n",
       "      <td>0.01</td>\n",
       "      <td>0.00</td>\n",
       "      <td>NaN</td>\n",
       "      <td>NaN</td>\n",
       "      <td>NaN</td>\n",
       "    </tr>\n",
       "  </tbody>\n",
       "</table>\n",
       "<p>16715 rows × 11 columns</p>\n",
       "</div>"
      ],
      "text/plain": [
       "                                Name Platform  Year_of_Release         Genre  \\\n",
       "0                         Wii Sports      Wii           2006.0        Sports   \n",
       "1                  Super Mario Bros.      NES           1985.0      Platform   \n",
       "2                     Mario Kart Wii      Wii           2008.0        Racing   \n",
       "3                  Wii Sports Resort      Wii           2009.0        Sports   \n",
       "4           Pokemon Red/Pokemon Blue       GB           1996.0  Role-Playing   \n",
       "...                              ...      ...              ...           ...   \n",
       "16710  Samurai Warriors: Sanada Maru      PS3           2016.0        Action   \n",
       "16711               LMA Manager 2007     X360           2006.0        Sports   \n",
       "16712        Haitaka no Psychedelica      PSV           2016.0     Adventure   \n",
       "16713               Spirits & Spells      GBA           2003.0      Platform   \n",
       "16714            Winning Post 8 2016      PSV           2016.0    Simulation   \n",
       "\n",
       "       NA_sales  EU_sales  JP_sales  Other_sales  Critic_Score User_Score  \\\n",
       "0         41.36     28.96      3.77         8.45          76.0          8   \n",
       "1         29.08      3.58      6.81         0.77           NaN        NaN   \n",
       "2         15.68     12.76      3.79         3.29          82.0        8.3   \n",
       "3         15.61     10.93      3.28         2.95          80.0          8   \n",
       "4         11.27      8.89     10.22         1.00           NaN        NaN   \n",
       "...         ...       ...       ...          ...           ...        ...   \n",
       "16710      0.00      0.00      0.01         0.00           NaN        NaN   \n",
       "16711      0.00      0.01      0.00         0.00           NaN        NaN   \n",
       "16712      0.00      0.00      0.01         0.00           NaN        NaN   \n",
       "16713      0.01      0.00      0.00         0.00           NaN        NaN   \n",
       "16714      0.00      0.00      0.01         0.00           NaN        NaN   \n",
       "\n",
       "      Rating  \n",
       "0          E  \n",
       "1        NaN  \n",
       "2          E  \n",
       "3          E  \n",
       "4        NaN  \n",
       "...      ...  \n",
       "16710    NaN  \n",
       "16711    NaN  \n",
       "16712    NaN  \n",
       "16713    NaN  \n",
       "16714    NaN  \n",
       "\n",
       "[16715 rows x 11 columns]"
      ]
     },
     "metadata": {},
     "output_type": "display_data"
    }
   ],
   "source": [
    "df = pd.read_csv('/datasets/games.csv') #сохраняем файл в датафрейм\n",
    "display(df)"
   ]
  },
  {
   "cell_type": "code",
   "execution_count": 3,
   "metadata": {},
   "outputs": [
    {
     "name": "stdout",
     "output_type": "stream",
     "text": [
      "<class 'pandas.core.frame.DataFrame'>\n",
      "RangeIndex: 16715 entries, 0 to 16714\n",
      "Data columns (total 11 columns):\n",
      " #   Column           Non-Null Count  Dtype  \n",
      "---  ------           --------------  -----  \n",
      " 0   Name             16713 non-null  object \n",
      " 1   Platform         16715 non-null  object \n",
      " 2   Year_of_Release  16446 non-null  float64\n",
      " 3   Genre            16713 non-null  object \n",
      " 4   NA_sales         16715 non-null  float64\n",
      " 5   EU_sales         16715 non-null  float64\n",
      " 6   JP_sales         16715 non-null  float64\n",
      " 7   Other_sales      16715 non-null  float64\n",
      " 8   Critic_Score     8137 non-null   float64\n",
      " 9   User_Score       10014 non-null  object \n",
      " 10  Rating           9949 non-null   object \n",
      "dtypes: float64(6), object(5)\n",
      "memory usage: 1.4+ MB\n"
     ]
    }
   ],
   "source": [
    "#смотрим общую информацию о данных\n",
    "df.info()"
   ]
  },
  {
   "cell_type": "code",
   "execution_count": 4,
   "metadata": {},
   "outputs": [
    {
     "data": {
      "text/plain": [
       "Critic_Score       8578\n",
       "Rating             6766\n",
       "User_Score         6701\n",
       "Year_of_Release     269\n",
       "Name                  2\n",
       "Genre                 2\n",
       "Platform              0\n",
       "NA_sales              0\n",
       "EU_sales              0\n",
       "JP_sales              0\n",
       "Other_sales           0\n",
       "dtype: int64"
      ]
     },
     "execution_count": 4,
     "metadata": {},
     "output_type": "execute_result"
    }
   ],
   "source": [
    "#смотрим количество пропусков\n",
    "df.isna().sum().sort_values(ascending=False)"
   ]
  },
  {
   "cell_type": "code",
   "execution_count": 5,
   "metadata": {},
   "outputs": [
    {
     "data": {
      "text/plain": [
       "Name                0.01\n",
       "Platform            0.00\n",
       "Year_of_Release     1.61\n",
       "Genre               0.01\n",
       "NA_sales            0.00\n",
       "EU_sales            0.00\n",
       "JP_sales            0.00\n",
       "Other_sales         0.00\n",
       "Critic_Score       51.32\n",
       "User_Score         40.09\n",
       "Rating             40.48\n",
       "dtype: float64"
      ]
     },
     "execution_count": 5,
     "metadata": {},
     "output_type": "execute_result"
    }
   ],
   "source": [
    "#считаем процент пропусков от общего числа строк\n",
    "round((df.isna().sum() / len(df) * 100), 2)"
   ]
  },
  {
   "cell_type": "code",
   "execution_count": 6,
   "metadata": {},
   "outputs": [
    {
     "data": {
      "text/plain": [
       "False    16715\n",
       "dtype: int64"
      ]
     },
     "execution_count": 6,
     "metadata": {},
     "output_type": "execute_result"
    }
   ],
   "source": [
    "#проверяем наличие явных дубликатов\n",
    "df.duplicated().value_counts()"
   ]
  },
  {
   "cell_type": "markdown",
   "metadata": {},
   "source": [
    "При первоначальном изучении данных мы выявили следующее:\n",
    "- в большинстве столбцов пропусков нет или имеется незначительное количество, но в 3 столбцах процент пропусков составляет 40-51%%, \n",
    "- в названиях столбцов используется разный регистр, \n",
    "- в некоторых столбцах требуется изменение формата данных,\n",
    "- явные дубликаты отсутствуют."
   ]
  },
  {
   "cell_type": "markdown",
   "metadata": {},
   "source": [
    "## Проведем предобработку данных"
   ]
  },
  {
   "cell_type": "markdown",
   "metadata": {},
   "source": [
    "### Приведем все названия столбцов к нижнему регистру"
   ]
  },
  {
   "cell_type": "code",
   "execution_count": 7,
   "metadata": {},
   "outputs": [
    {
     "data": {
      "text/html": [
       "<div>\n",
       "<style scoped>\n",
       "    .dataframe tbody tr th:only-of-type {\n",
       "        vertical-align: middle;\n",
       "    }\n",
       "\n",
       "    .dataframe tbody tr th {\n",
       "        vertical-align: top;\n",
       "    }\n",
       "\n",
       "    .dataframe thead th {\n",
       "        text-align: right;\n",
       "    }\n",
       "</style>\n",
       "<table border=\"1\" class=\"dataframe\">\n",
       "  <thead>\n",
       "    <tr style=\"text-align: right;\">\n",
       "      <th></th>\n",
       "      <th>name</th>\n",
       "      <th>platform</th>\n",
       "      <th>year_of_release</th>\n",
       "      <th>genre</th>\n",
       "      <th>na_sales</th>\n",
       "      <th>eu_sales</th>\n",
       "      <th>jp_sales</th>\n",
       "      <th>other_sales</th>\n",
       "      <th>critic_score</th>\n",
       "      <th>user_score</th>\n",
       "      <th>rating</th>\n",
       "    </tr>\n",
       "  </thead>\n",
       "  <tbody>\n",
       "    <tr>\n",
       "      <th>0</th>\n",
       "      <td>Wii Sports</td>\n",
       "      <td>Wii</td>\n",
       "      <td>2006.0</td>\n",
       "      <td>Sports</td>\n",
       "      <td>41.36</td>\n",
       "      <td>28.96</td>\n",
       "      <td>3.77</td>\n",
       "      <td>8.45</td>\n",
       "      <td>76.0</td>\n",
       "      <td>8</td>\n",
       "      <td>E</td>\n",
       "    </tr>\n",
       "    <tr>\n",
       "      <th>1</th>\n",
       "      <td>Super Mario Bros.</td>\n",
       "      <td>NES</td>\n",
       "      <td>1985.0</td>\n",
       "      <td>Platform</td>\n",
       "      <td>29.08</td>\n",
       "      <td>3.58</td>\n",
       "      <td>6.81</td>\n",
       "      <td>0.77</td>\n",
       "      <td>NaN</td>\n",
       "      <td>NaN</td>\n",
       "      <td>NaN</td>\n",
       "    </tr>\n",
       "    <tr>\n",
       "      <th>2</th>\n",
       "      <td>Mario Kart Wii</td>\n",
       "      <td>Wii</td>\n",
       "      <td>2008.0</td>\n",
       "      <td>Racing</td>\n",
       "      <td>15.68</td>\n",
       "      <td>12.76</td>\n",
       "      <td>3.79</td>\n",
       "      <td>3.29</td>\n",
       "      <td>82.0</td>\n",
       "      <td>8.3</td>\n",
       "      <td>E</td>\n",
       "    </tr>\n",
       "    <tr>\n",
       "      <th>3</th>\n",
       "      <td>Wii Sports Resort</td>\n",
       "      <td>Wii</td>\n",
       "      <td>2009.0</td>\n",
       "      <td>Sports</td>\n",
       "      <td>15.61</td>\n",
       "      <td>10.93</td>\n",
       "      <td>3.28</td>\n",
       "      <td>2.95</td>\n",
       "      <td>80.0</td>\n",
       "      <td>8</td>\n",
       "      <td>E</td>\n",
       "    </tr>\n",
       "    <tr>\n",
       "      <th>4</th>\n",
       "      <td>Pokemon Red/Pokemon Blue</td>\n",
       "      <td>GB</td>\n",
       "      <td>1996.0</td>\n",
       "      <td>Role-Playing</td>\n",
       "      <td>11.27</td>\n",
       "      <td>8.89</td>\n",
       "      <td>10.22</td>\n",
       "      <td>1.00</td>\n",
       "      <td>NaN</td>\n",
       "      <td>NaN</td>\n",
       "      <td>NaN</td>\n",
       "    </tr>\n",
       "  </tbody>\n",
       "</table>\n",
       "</div>"
      ],
      "text/plain": [
       "                       name platform  year_of_release         genre  na_sales  \\\n",
       "0                Wii Sports      Wii           2006.0        Sports     41.36   \n",
       "1         Super Mario Bros.      NES           1985.0      Platform     29.08   \n",
       "2            Mario Kart Wii      Wii           2008.0        Racing     15.68   \n",
       "3         Wii Sports Resort      Wii           2009.0        Sports     15.61   \n",
       "4  Pokemon Red/Pokemon Blue       GB           1996.0  Role-Playing     11.27   \n",
       "\n",
       "   eu_sales  jp_sales  other_sales  critic_score user_score rating  \n",
       "0     28.96      3.77         8.45          76.0          8      E  \n",
       "1      3.58      6.81         0.77           NaN        NaN    NaN  \n",
       "2     12.76      3.79         3.29          82.0        8.3      E  \n",
       "3     10.93      3.28         2.95          80.0          8      E  \n",
       "4      8.89     10.22         1.00           NaN        NaN    NaN  "
      ]
     },
     "metadata": {},
     "output_type": "display_data"
    }
   ],
   "source": [
    "df.columns = df.columns.str.lower()\n",
    "display(df.head(5))"
   ]
  },
  {
   "cell_type": "markdown",
   "metadata": {},
   "source": [
    "### Преобразуем данные в нужные типы"
   ]
  },
  {
   "cell_type": "markdown",
   "metadata": {},
   "source": [
    "Преобразуем тип данных в столбце year_of_release в строковый и уберем точку и 0 в конце, так как год не может быть дробным числом, а также математические операции с годом совершать нам не нужно будет. Также удалим строки, в которых год не указан (269 строк или 1,61% от всех данных), так как данные без года выпуска игры неинформативны и составляют небольшую часть всего датафрейма."
   ]
  },
  {
   "cell_type": "code",
   "execution_count": 8,
   "metadata": {},
   "outputs": [],
   "source": [
    "#сначала удалим пропуски\n",
    "df = df.dropna(axis=0, how='all', subset=['year_of_release'])\n",
    "df['year_of_release'] = df['year_of_release'].astype(int) #изменим тип данных на целое число\n",
    "df['year_of_release'] = df['year_of_release'].astype(str) #изменим тип данных на str"
   ]
  },
  {
   "cell_type": "code",
   "execution_count": 9,
   "metadata": {},
   "outputs": [
    {
     "data": {
      "text/plain": [
       "array(['1980', '1981', '1982', '1983', '1984', '1985', '1986', '1987',\n",
       "       '1988', '1989', '1990', '1991', '1992', '1993', '1994', '1995',\n",
       "       '1996', '1997', '1998', '1999', '2000', '2001', '2002', '2003',\n",
       "       '2004', '2005', '2006', '2007', '2008', '2009', '2010', '2011',\n",
       "       '2012', '2013', '2014', '2015', '2016'], dtype=object)"
      ]
     },
     "execution_count": 9,
     "metadata": {},
     "output_type": "execute_result"
    }
   ],
   "source": [
    "df['year_of_release'].sort_values(ascending=True).unique()"
   ]
  },
  {
   "cell_type": "markdown",
   "metadata": {},
   "source": [
    "Теперь перейдем к столбцу user_score и посмотриим, какие данные содержатся в нем."
   ]
  },
  {
   "cell_type": "code",
   "execution_count": 10,
   "metadata": {},
   "outputs": [
    {
     "data": {
      "text/plain": [
       "array(['0', '0.2', '0.3', '0.5', '0.6', '0.7', '0.9', '1', '1.1', '1.2',\n",
       "       '1.3', '1.4', '1.5', '1.6', '1.7', '1.8', '1.9', '2', '2.1', '2.2',\n",
       "       '2.3', '2.4', '2.5', '2.6', '2.7', '2.8', '2.9', '3', '3.1', '3.2',\n",
       "       '3.3', '3.4', '3.5', '3.6', '3.7', '3.8', '3.9', '4', '4.1', '4.2',\n",
       "       '4.3', '4.4', '4.5', '4.6', '4.7', '4.8', '4.9', '5', '5.1', '5.2',\n",
       "       '5.3', '5.4', '5.5', '5.6', '5.7', '5.8', '5.9', '6', '6.1', '6.2',\n",
       "       '6.3', '6.4', '6.5', '6.6', '6.7', '6.8', '6.9', '7', '7.1', '7.2',\n",
       "       '7.3', '7.4', '7.5', '7.6', '7.7', '7.8', '7.9', '8', '8.1', '8.2',\n",
       "       '8.3', '8.4', '8.5', '8.6', '8.7', '8.8', '8.9', '9', '9.1', '9.2',\n",
       "       '9.3', '9.4', '9.5', '9.6', '9.7', 'tbd', nan], dtype=object)"
      ]
     },
     "execution_count": 10,
     "metadata": {},
     "output_type": "execute_result"
    }
   ],
   "source": [
    "df['user_score'].sort_values(ascending=True).unique()"
   ]
  },
  {
   "cell_type": "markdown",
   "metadata": {},
   "source": [
    "Столбец user_score приведем к типу данных float, так как столбец содержит числовые данные, числа дробные. При этом выявлено, что столбец также содержит строковые данные - значения tbd (to be determined), что означает, что рейтинг еще не определен, а также пропуски (nan). Так как tbd и nan по сути означают, что данные неизвестны, то заменим значения tbd на nan."
   ]
  },
  {
   "cell_type": "code",
   "execution_count": 11,
   "metadata": {},
   "outputs": [],
   "source": [
    "df['user_score'] = df['user_score'].replace('tbd', np.nan) #заменяем tbd на nan\n",
    "df['user_score'] = df['user_score'].fillna(0) #заполняем пропуски 0\n",
    "df['user_score'] = df['user_score'].astype(float) #меняем тип данных\n",
    "df['user_score'] = df['user_score'].replace(0, np.nan) #заменяем 0 на nan"
   ]
  },
  {
   "cell_type": "code",
   "execution_count": 12,
   "metadata": {},
   "outputs": [
    {
     "name": "stdout",
     "output_type": "stream",
     "text": [
      "<class 'pandas.core.frame.DataFrame'>\n",
      "Int64Index: 16446 entries, 0 to 16714\n",
      "Data columns (total 11 columns):\n",
      " #   Column           Non-Null Count  Dtype  \n",
      "---  ------           --------------  -----  \n",
      " 0   name             16444 non-null  object \n",
      " 1   platform         16446 non-null  object \n",
      " 2   year_of_release  16446 non-null  object \n",
      " 3   genre            16444 non-null  object \n",
      " 4   na_sales         16446 non-null  float64\n",
      " 5   eu_sales         16446 non-null  float64\n",
      " 6   jp_sales         16446 non-null  float64\n",
      " 7   other_sales      16446 non-null  float64\n",
      " 8   critic_score     7983 non-null   float64\n",
      " 9   user_score       7462 non-null   float64\n",
      " 10  rating           9768 non-null   object \n",
      "dtypes: float64(6), object(5)\n",
      "memory usage: 1.5+ MB\n"
     ]
    }
   ],
   "source": [
    "df.info()"
   ]
  },
  {
   "cell_type": "markdown",
   "metadata": {},
   "source": [
    "Теперь во всех столбцах тип данных соответствует содержащимся в нем данным."
   ]
  },
  {
   "cell_type": "markdown",
   "metadata": {},
   "source": [
    "### Обработаем пропуски"
   ]
  },
  {
   "cell_type": "markdown",
   "metadata": {},
   "source": [
    "У нас есть две строки с пропусками в столбцах название и жанр. Удалим данные строки, так как они не помогут анализу, а их удаление на общие результаты не повлияет."
   ]
  },
  {
   "cell_type": "code",
   "execution_count": 13,
   "metadata": {},
   "outputs": [
    {
     "data": {
      "text/html": [
       "<div>\n",
       "<style scoped>\n",
       "    .dataframe tbody tr th:only-of-type {\n",
       "        vertical-align: middle;\n",
       "    }\n",
       "\n",
       "    .dataframe tbody tr th {\n",
       "        vertical-align: top;\n",
       "    }\n",
       "\n",
       "    .dataframe thead th {\n",
       "        text-align: right;\n",
       "    }\n",
       "</style>\n",
       "<table border=\"1\" class=\"dataframe\">\n",
       "  <thead>\n",
       "    <tr style=\"text-align: right;\">\n",
       "      <th></th>\n",
       "      <th>name</th>\n",
       "      <th>platform</th>\n",
       "      <th>year_of_release</th>\n",
       "      <th>genre</th>\n",
       "      <th>na_sales</th>\n",
       "      <th>eu_sales</th>\n",
       "      <th>jp_sales</th>\n",
       "      <th>other_sales</th>\n",
       "      <th>critic_score</th>\n",
       "      <th>user_score</th>\n",
       "      <th>rating</th>\n",
       "    </tr>\n",
       "  </thead>\n",
       "  <tbody>\n",
       "    <tr>\n",
       "      <th>659</th>\n",
       "      <td>NaN</td>\n",
       "      <td>GEN</td>\n",
       "      <td>1993</td>\n",
       "      <td>NaN</td>\n",
       "      <td>1.78</td>\n",
       "      <td>0.53</td>\n",
       "      <td>0.00</td>\n",
       "      <td>0.08</td>\n",
       "      <td>NaN</td>\n",
       "      <td>NaN</td>\n",
       "      <td>NaN</td>\n",
       "    </tr>\n",
       "    <tr>\n",
       "      <th>14244</th>\n",
       "      <td>NaN</td>\n",
       "      <td>GEN</td>\n",
       "      <td>1993</td>\n",
       "      <td>NaN</td>\n",
       "      <td>0.00</td>\n",
       "      <td>0.00</td>\n",
       "      <td>0.03</td>\n",
       "      <td>0.00</td>\n",
       "      <td>NaN</td>\n",
       "      <td>NaN</td>\n",
       "      <td>NaN</td>\n",
       "    </tr>\n",
       "  </tbody>\n",
       "</table>\n",
       "</div>"
      ],
      "text/plain": [
       "      name platform year_of_release genre  na_sales  eu_sales  jp_sales  \\\n",
       "659    NaN      GEN            1993   NaN      1.78      0.53      0.00   \n",
       "14244  NaN      GEN            1993   NaN      0.00      0.00      0.03   \n",
       "\n",
       "       other_sales  critic_score  user_score rating  \n",
       "659           0.08           NaN         NaN    NaN  \n",
       "14244         0.00           NaN         NaN    NaN  "
      ]
     },
     "metadata": {},
     "output_type": "display_data"
    }
   ],
   "source": [
    "display(df.loc[df['name'].isnull()]) #посмотрим строки с пропусками в названии"
   ]
  },
  {
   "cell_type": "code",
   "execution_count": 14,
   "metadata": {},
   "outputs": [],
   "source": [
    "#удалим строки с пропусками в названии игры\n",
    "df = df.dropna(axis=0, how='all', subset=['name']) "
   ]
  },
  {
   "cell_type": "code",
   "execution_count": 15,
   "metadata": {},
   "outputs": [
    {
     "name": "stdout",
     "output_type": "stream",
     "text": [
      "<class 'pandas.core.frame.DataFrame'>\n",
      "Int64Index: 16444 entries, 0 to 16714\n",
      "Data columns (total 11 columns):\n",
      " #   Column           Non-Null Count  Dtype  \n",
      "---  ------           --------------  -----  \n",
      " 0   name             16444 non-null  object \n",
      " 1   platform         16444 non-null  object \n",
      " 2   year_of_release  16444 non-null  object \n",
      " 3   genre            16444 non-null  object \n",
      " 4   na_sales         16444 non-null  float64\n",
      " 5   eu_sales         16444 non-null  float64\n",
      " 6   jp_sales         16444 non-null  float64\n",
      " 7   other_sales      16444 non-null  float64\n",
      " 8   critic_score     7983 non-null   float64\n",
      " 9   user_score       7462 non-null   float64\n",
      " 10  rating           9768 non-null   object \n",
      "dtypes: float64(6), object(5)\n",
      "memory usage: 1.5+ MB\n"
     ]
    }
   ],
   "source": [
    "df.info()"
   ]
  },
  {
   "cell_type": "markdown",
   "metadata": {},
   "source": [
    "Остались пропуски в 3 столбцах: оценка критиков, оценка пользователей и возрастной рейтинг. Оценку критиков и оценку пользователей без точных данных указать невозможно, пропуски в этих данных не помешают расчетам, поэтому оставим эти пропуски. \n",
    "\n",
    "Пропуски в столбце возрастной рейтинг заменим на значения Unknown. Мы этот рейтинг также не знаем, но пропуски будут заполнены, и тогда с этими данными можно будет работать."
   ]
  },
  {
   "cell_type": "code",
   "execution_count": 16,
   "metadata": {},
   "outputs": [],
   "source": [
    "df['rating'] = df['rating'].fillna('Unknown') #заполняем пропуски значением Unknown"
   ]
  },
  {
   "cell_type": "code",
   "execution_count": 17,
   "metadata": {},
   "outputs": [
    {
     "name": "stdout",
     "output_type": "stream",
     "text": [
      "<class 'pandas.core.frame.DataFrame'>\n",
      "Int64Index: 16444 entries, 0 to 16714\n",
      "Data columns (total 11 columns):\n",
      " #   Column           Non-Null Count  Dtype  \n",
      "---  ------           --------------  -----  \n",
      " 0   name             16444 non-null  object \n",
      " 1   platform         16444 non-null  object \n",
      " 2   year_of_release  16444 non-null  object \n",
      " 3   genre            16444 non-null  object \n",
      " 4   na_sales         16444 non-null  float64\n",
      " 5   eu_sales         16444 non-null  float64\n",
      " 6   jp_sales         16444 non-null  float64\n",
      " 7   other_sales      16444 non-null  float64\n",
      " 8   critic_score     7983 non-null   float64\n",
      " 9   user_score       7462 non-null   float64\n",
      " 10  rating           16444 non-null  object \n",
      "dtypes: float64(6), object(5)\n",
      "memory usage: 1.5+ MB\n"
     ]
    }
   ],
   "source": [
    "df.info()"
   ]
  },
  {
   "cell_type": "markdown",
   "metadata": {},
   "source": [
    "### Посчитаем суммарные продажи во всех регионах и запишем их в отдельный столбец"
   ]
  },
  {
   "cell_type": "code",
   "execution_count": 18,
   "metadata": {},
   "outputs": [],
   "source": [
    "#суммируем продажи всех регионов\n",
    "df['total_sales'] = df[['na_sales','eu_sales','jp_sales', 'other_sales']].sum(axis = 1)"
   ]
  },
  {
   "cell_type": "markdown",
   "metadata": {},
   "source": [
    "## Исследовательский анализ данных"
   ]
  },
  {
   "cell_type": "markdown",
   "metadata": {},
   "source": [
    "### Посмотрим, сколько игр выпускалось в разные годы"
   ]
  },
  {
   "cell_type": "markdown",
   "metadata": {},
   "source": [
    "Сгруппируем данные по году выпуска и посчитаем количество выпущенных игр в каждом году."
   ]
  },
  {
   "cell_type": "code",
   "execution_count": 19,
   "metadata": {},
   "outputs": [
    {
     "data": {
      "text/html": [
       "<div>\n",
       "<style scoped>\n",
       "    .dataframe tbody tr th:only-of-type {\n",
       "        vertical-align: middle;\n",
       "    }\n",
       "\n",
       "    .dataframe tbody tr th {\n",
       "        vertical-align: top;\n",
       "    }\n",
       "\n",
       "    .dataframe thead th {\n",
       "        text-align: right;\n",
       "    }\n",
       "</style>\n",
       "<table border=\"1\" class=\"dataframe\">\n",
       "  <thead>\n",
       "    <tr style=\"text-align: right;\">\n",
       "      <th></th>\n",
       "      <th>name</th>\n",
       "    </tr>\n",
       "    <tr>\n",
       "      <th>year_of_release</th>\n",
       "      <th></th>\n",
       "    </tr>\n",
       "  </thead>\n",
       "  <tbody>\n",
       "    <tr>\n",
       "      <th>1980</th>\n",
       "      <td>9</td>\n",
       "    </tr>\n",
       "    <tr>\n",
       "      <th>1981</th>\n",
       "      <td>46</td>\n",
       "    </tr>\n",
       "    <tr>\n",
       "      <th>1982</th>\n",
       "      <td>36</td>\n",
       "    </tr>\n",
       "    <tr>\n",
       "      <th>1983</th>\n",
       "      <td>17</td>\n",
       "    </tr>\n",
       "    <tr>\n",
       "      <th>1984</th>\n",
       "      <td>14</td>\n",
       "    </tr>\n",
       "    <tr>\n",
       "      <th>1985</th>\n",
       "      <td>14</td>\n",
       "    </tr>\n",
       "    <tr>\n",
       "      <th>1986</th>\n",
       "      <td>21</td>\n",
       "    </tr>\n",
       "    <tr>\n",
       "      <th>1987</th>\n",
       "      <td>16</td>\n",
       "    </tr>\n",
       "    <tr>\n",
       "      <th>1988</th>\n",
       "      <td>15</td>\n",
       "    </tr>\n",
       "    <tr>\n",
       "      <th>1989</th>\n",
       "      <td>17</td>\n",
       "    </tr>\n",
       "    <tr>\n",
       "      <th>1990</th>\n",
       "      <td>16</td>\n",
       "    </tr>\n",
       "    <tr>\n",
       "      <th>1991</th>\n",
       "      <td>41</td>\n",
       "    </tr>\n",
       "    <tr>\n",
       "      <th>1992</th>\n",
       "      <td>43</td>\n",
       "    </tr>\n",
       "    <tr>\n",
       "      <th>1993</th>\n",
       "      <td>60</td>\n",
       "    </tr>\n",
       "    <tr>\n",
       "      <th>1994</th>\n",
       "      <td>121</td>\n",
       "    </tr>\n",
       "    <tr>\n",
       "      <th>1995</th>\n",
       "      <td>219</td>\n",
       "    </tr>\n",
       "    <tr>\n",
       "      <th>1996</th>\n",
       "      <td>263</td>\n",
       "    </tr>\n",
       "    <tr>\n",
       "      <th>1997</th>\n",
       "      <td>289</td>\n",
       "    </tr>\n",
       "    <tr>\n",
       "      <th>1998</th>\n",
       "      <td>379</td>\n",
       "    </tr>\n",
       "    <tr>\n",
       "      <th>1999</th>\n",
       "      <td>338</td>\n",
       "    </tr>\n",
       "    <tr>\n",
       "      <th>2000</th>\n",
       "      <td>350</td>\n",
       "    </tr>\n",
       "    <tr>\n",
       "      <th>2001</th>\n",
       "      <td>482</td>\n",
       "    </tr>\n",
       "    <tr>\n",
       "      <th>2002</th>\n",
       "      <td>829</td>\n",
       "    </tr>\n",
       "    <tr>\n",
       "      <th>2003</th>\n",
       "      <td>775</td>\n",
       "    </tr>\n",
       "    <tr>\n",
       "      <th>2004</th>\n",
       "      <td>762</td>\n",
       "    </tr>\n",
       "    <tr>\n",
       "      <th>2005</th>\n",
       "      <td>939</td>\n",
       "    </tr>\n",
       "    <tr>\n",
       "      <th>2006</th>\n",
       "      <td>1006</td>\n",
       "    </tr>\n",
       "    <tr>\n",
       "      <th>2007</th>\n",
       "      <td>1197</td>\n",
       "    </tr>\n",
       "    <tr>\n",
       "      <th>2008</th>\n",
       "      <td>1427</td>\n",
       "    </tr>\n",
       "    <tr>\n",
       "      <th>2009</th>\n",
       "      <td>1426</td>\n",
       "    </tr>\n",
       "    <tr>\n",
       "      <th>2010</th>\n",
       "      <td>1255</td>\n",
       "    </tr>\n",
       "    <tr>\n",
       "      <th>2011</th>\n",
       "      <td>1136</td>\n",
       "    </tr>\n",
       "    <tr>\n",
       "      <th>2012</th>\n",
       "      <td>653</td>\n",
       "    </tr>\n",
       "    <tr>\n",
       "      <th>2013</th>\n",
       "      <td>544</td>\n",
       "    </tr>\n",
       "    <tr>\n",
       "      <th>2014</th>\n",
       "      <td>581</td>\n",
       "    </tr>\n",
       "    <tr>\n",
       "      <th>2015</th>\n",
       "      <td>606</td>\n",
       "    </tr>\n",
       "    <tr>\n",
       "      <th>2016</th>\n",
       "      <td>502</td>\n",
       "    </tr>\n",
       "  </tbody>\n",
       "</table>\n",
       "</div>"
      ],
      "text/plain": [
       "                 name\n",
       "year_of_release      \n",
       "1980                9\n",
       "1981               46\n",
       "1982               36\n",
       "1983               17\n",
       "1984               14\n",
       "1985               14\n",
       "1986               21\n",
       "1987               16\n",
       "1988               15\n",
       "1989               17\n",
       "1990               16\n",
       "1991               41\n",
       "1992               43\n",
       "1993               60\n",
       "1994              121\n",
       "1995              219\n",
       "1996              263\n",
       "1997              289\n",
       "1998              379\n",
       "1999              338\n",
       "2000              350\n",
       "2001              482\n",
       "2002              829\n",
       "2003              775\n",
       "2004              762\n",
       "2005              939\n",
       "2006             1006\n",
       "2007             1197\n",
       "2008             1427\n",
       "2009             1426\n",
       "2010             1255\n",
       "2011             1136\n",
       "2012              653\n",
       "2013              544\n",
       "2014              581\n",
       "2015              606\n",
       "2016              502"
      ]
     },
     "metadata": {},
     "output_type": "display_data"
    },
    {
     "data": {
      "image/png": "[encoded data removed]",
      "text/plain": [
       "<Figure size 864x864 with 1 Axes>"
      ]
     },
     "metadata": {
      "needs_background": "light"
     },
     "output_type": "display_data"
    }
   ],
   "source": [
    "#сгруппируем данные по году и посчитаем количество названий\n",
    "display(df.groupby(['year_of_release']).agg({'name': 'count'}))\n",
    "\n",
    "df.groupby(['year_of_release']).agg({'name': 'count'}) \\\n",
    ".sort_values(by='year_of_release', ascending=False) \\\n",
    ".plot(kind='bar', figsize=(12,12), legend=False)\n",
    "\n",
    "plt.title('Количество выпущенных игр по годам')\n",
    "plt.xlabel('Года')\n",
    "plt.ylabel('Количество игр')\n",
    "plt.show()"
   ]
  },
  {
   "cell_type": "markdown",
   "metadata": {},
   "source": [
    "Видим, что до 1993 года выпускалось совсем небольшое количество игр. Затем начинается постепенный рост. После 2011 года наблюдаем сильный спад в выпуске компьютерных игр. Судя по этому, данными за период 1980-1993 можно пренебречь. "
   ]
  },
  {
   "cell_type": "markdown",
   "metadata": {},
   "source": [
    "### Посмотрим, как менялись продажи по платформам"
   ]
  },
  {
   "cell_type": "code",
   "execution_count": 20,
   "metadata": {},
   "outputs": [
    {
     "data": {
      "text/html": [
       "<div>\n",
       "<style scoped>\n",
       "    .dataframe tbody tr th:only-of-type {\n",
       "        vertical-align: middle;\n",
       "    }\n",
       "\n",
       "    .dataframe tbody tr th {\n",
       "        vertical-align: top;\n",
       "    }\n",
       "\n",
       "    .dataframe thead th {\n",
       "        text-align: right;\n",
       "    }\n",
       "</style>\n",
       "<table border=\"1\" class=\"dataframe\">\n",
       "  <thead>\n",
       "    <tr style=\"text-align: right;\">\n",
       "      <th></th>\n",
       "      <th>total_sales</th>\n",
       "    </tr>\n",
       "    <tr>\n",
       "      <th>platform</th>\n",
       "      <th></th>\n",
       "    </tr>\n",
       "  </thead>\n",
       "  <tbody>\n",
       "    <tr>\n",
       "      <th>PS2</th>\n",
       "      <td>1233.56</td>\n",
       "    </tr>\n",
       "    <tr>\n",
       "      <th>X360</th>\n",
       "      <td>961.24</td>\n",
       "    </tr>\n",
       "    <tr>\n",
       "      <th>PS3</th>\n",
       "      <td>931.34</td>\n",
       "    </tr>\n",
       "    <tr>\n",
       "      <th>Wii</th>\n",
       "      <td>891.18</td>\n",
       "    </tr>\n",
       "    <tr>\n",
       "      <th>DS</th>\n",
       "      <td>802.78</td>\n",
       "    </tr>\n",
       "    <tr>\n",
       "      <th>PS</th>\n",
       "      <td>727.58</td>\n",
       "    </tr>\n",
       "    <tr>\n",
       "      <th>PS4</th>\n",
       "      <td>314.14</td>\n",
       "    </tr>\n",
       "    <tr>\n",
       "      <th>GBA</th>\n",
       "      <td>312.88</td>\n",
       "    </tr>\n",
       "    <tr>\n",
       "      <th>PSP</th>\n",
       "      <td>289.53</td>\n",
       "    </tr>\n",
       "    <tr>\n",
       "      <th>3DS</th>\n",
       "      <td>257.81</td>\n",
       "    </tr>\n",
       "    <tr>\n",
       "      <th>PC</th>\n",
       "      <td>255.76</td>\n",
       "    </tr>\n",
       "    <tr>\n",
       "      <th>GB</th>\n",
       "      <td>254.43</td>\n",
       "    </tr>\n",
       "    <tr>\n",
       "      <th>XB</th>\n",
       "      <td>251.57</td>\n",
       "    </tr>\n",
       "    <tr>\n",
       "      <th>NES</th>\n",
       "      <td>251.05</td>\n",
       "    </tr>\n",
       "    <tr>\n",
       "      <th>N64</th>\n",
       "      <td>218.01</td>\n",
       "    </tr>\n",
       "    <tr>\n",
       "      <th>SNES</th>\n",
       "      <td>200.04</td>\n",
       "    </tr>\n",
       "    <tr>\n",
       "      <th>GC</th>\n",
       "      <td>196.73</td>\n",
       "    </tr>\n",
       "    <tr>\n",
       "      <th>XOne</th>\n",
       "      <td>159.32</td>\n",
       "    </tr>\n",
       "    <tr>\n",
       "      <th>2600</th>\n",
       "      <td>86.48</td>\n",
       "    </tr>\n",
       "    <tr>\n",
       "      <th>WiiU</th>\n",
       "      <td>82.19</td>\n",
       "    </tr>\n",
       "    <tr>\n",
       "      <th>PSV</th>\n",
       "      <td>53.81</td>\n",
       "    </tr>\n",
       "    <tr>\n",
       "      <th>SAT</th>\n",
       "      <td>33.59</td>\n",
       "    </tr>\n",
       "    <tr>\n",
       "      <th>GEN</th>\n",
       "      <td>28.35</td>\n",
       "    </tr>\n",
       "    <tr>\n",
       "      <th>DC</th>\n",
       "      <td>15.95</td>\n",
       "    </tr>\n",
       "    <tr>\n",
       "      <th>SCD</th>\n",
       "      <td>1.86</td>\n",
       "    </tr>\n",
       "    <tr>\n",
       "      <th>NG</th>\n",
       "      <td>1.44</td>\n",
       "    </tr>\n",
       "    <tr>\n",
       "      <th>WS</th>\n",
       "      <td>1.42</td>\n",
       "    </tr>\n",
       "    <tr>\n",
       "      <th>TG16</th>\n",
       "      <td>0.16</td>\n",
       "    </tr>\n",
       "    <tr>\n",
       "      <th>3DO</th>\n",
       "      <td>0.10</td>\n",
       "    </tr>\n",
       "    <tr>\n",
       "      <th>GG</th>\n",
       "      <td>0.04</td>\n",
       "    </tr>\n",
       "    <tr>\n",
       "      <th>PCFX</th>\n",
       "      <td>0.03</td>\n",
       "    </tr>\n",
       "  </tbody>\n",
       "</table>\n",
       "</div>"
      ],
      "text/plain": [
       "          total_sales\n",
       "platform             \n",
       "PS2           1233.56\n",
       "X360           961.24\n",
       "PS3            931.34\n",
       "Wii            891.18\n",
       "DS             802.78\n",
       "PS             727.58\n",
       "PS4            314.14\n",
       "GBA            312.88\n",
       "PSP            289.53\n",
       "3DS            257.81\n",
       "PC             255.76\n",
       "GB             254.43\n",
       "XB             251.57\n",
       "NES            251.05\n",
       "N64            218.01\n",
       "SNES           200.04\n",
       "GC             196.73\n",
       "XOne           159.32\n",
       "2600            86.48\n",
       "WiiU            82.19\n",
       "PSV             53.81\n",
       "SAT             33.59\n",
       "GEN             28.35\n",
       "DC              15.95\n",
       "SCD              1.86\n",
       "NG               1.44\n",
       "WS               1.42\n",
       "TG16             0.16\n",
       "3DO              0.10\n",
       "GG               0.04\n",
       "PCFX             0.03"
      ]
     },
     "metadata": {},
     "output_type": "display_data"
    },
    {
     "data": {
      "image/png": "[encoded data removed]",
      "text/plain": [
       "<Figure size 864x864 with 1 Axes>"
      ]
     },
     "metadata": {
      "needs_background": "light"
     },
     "output_type": "display_data"
    }
   ],
   "source": [
    "#посмотрим самые продаваемые платформы за все года\n",
    "display(df.groupby(['platform']).agg({'total_sales' : 'sum'}) \\\n",
    ".sort_values('total_sales', ascending=False))\n",
    "\n",
    "df.groupby(['platform']).agg({'total_sales' : 'sum'}) \\\n",
    ".sort_values('total_sales', ascending=False) \\\n",
    ".plot(kind='bar', figsize=(12,12), legend=False)\n",
    "\n",
    "plt.title('Сумма продаж по платформам')\n",
    "plt.xlabel('Сумма продаж')\n",
    "plt.ylabel('Платформа')\n",
    "plt.xticks(rotation=45)\n",
    "plt.show()"
   ]
  },
  {
   "cell_type": "markdown",
   "metadata": {},
   "source": [
    "По данному графику видим, что лидерами по продажам являются 6 платформ: PS2, X360, PS3, Wii, DS и PS. Суммарные продажи игр на этих платформах более чем в 2 раза превышают продажи игр на остальных платформах. При этом в данном графике учтены продажи за весь доступный период. При изучении данных за актуальный период лидеры могут измениться."
   ]
  },
  {
   "cell_type": "markdown",
   "metadata": {},
   "source": [
    "Выберем 6 платформ с наибольшими суммарными продажами и построим распределения по годам."
   ]
  },
  {
   "cell_type": "code",
   "execution_count": 21,
   "metadata": {},
   "outputs": [
    {
     "data": {
      "image/png": "[encoded data removed]",
      "text/plain": [
       "<Figure size 432x288 with 1 Axes>"
      ]
     },
     "metadata": {
      "needs_background": "light"
     },
     "output_type": "display_data"
    },
    {
     "data": {
      "image/png": "[encoded data removed]",
      "text/plain": [
       "<Figure size 432x288 with 1 Axes>"
      ]
     },
     "metadata": {
      "needs_background": "light"
     },
     "output_type": "display_data"
    },
    {
     "data": {
      "image/png": "[encoded data removed]",
      "text/plain": [
       "<Figure size 432x288 with 1 Axes>"
      ]
     },
     "metadata": {
      "needs_background": "light"
     },
     "output_type": "display_data"
    },
    {
     "data": {
      "image/png": "[encoded data removed]",
      "text/plain": [
       "<Figure size 432x288 with 1 Axes>"
      ]
     },
     "metadata": {
      "needs_background": "light"
     },
     "output_type": "display_data"
    },
    {
     "data": {
      "image/png": "[encoded data removed]",
      "text/plain": [
       "<Figure size 432x288 with 1 Axes>"
      ]
     },
     "metadata": {
      "needs_background": "light"
     },
     "output_type": "display_data"
    },
    {
     "data": {
      "image/png": "[encoded data removed]",
      "text/plain": [
       "<Figure size 432x288 with 1 Axes>"
      ]
     },
     "metadata": {
      "needs_background": "light"
     },
     "output_type": "display_data"
    }
   ],
   "source": [
    "#1\n",
    "df.query('platform == \"PS2\"').pivot_table(index='year_of_release', \n",
    "                                          values = 'total_sales', \n",
    "                                          aggfunc = 'sum').plot(kind='bar', legend=False)\n",
    "\n",
    "plt.title('Распределение продаж PS2 по годам')\n",
    "plt.xlabel('Год выпуска')\n",
    "plt.ylabel('Сумма продаж')\n",
    "plt.xticks(rotation=45)\n",
    "plt.show()\n",
    "\n",
    "#2\n",
    "df.query('platform == \"X360\"').pivot_table(index='year_of_release', \n",
    "                                          values = 'total_sales', \n",
    "                                          aggfunc = 'sum').plot(kind='bar', legend=False)\n",
    "\n",
    "plt.title('Распределение продаж X360 по годам')\n",
    "plt.xlabel('Год выпуска')\n",
    "plt.ylabel('Сумма продаж')\n",
    "plt.xticks(rotation=45)\n",
    "plt.show()\n",
    "\n",
    "#3\n",
    "df.query('platform == \"PS3\"').pivot_table(index='year_of_release', \n",
    "                                          values = 'total_sales', \n",
    "                                          aggfunc = 'sum').plot(kind='bar', legend=False)\n",
    "\n",
    "plt.title('Распределение продаж PS3 по годам')\n",
    "plt.xlabel('Год выпуска')\n",
    "plt.ylabel('Сумма продаж')\n",
    "plt.xticks(rotation=45)\n",
    "plt.show()\n",
    "\n",
    "#4\n",
    "df.query('platform == \"Wii\"').pivot_table(index='year_of_release', \n",
    "                                          values = 'total_sales', \n",
    "                                          aggfunc = 'sum').plot(kind='bar', legend=False)\n",
    "\n",
    "plt.title('Распределение продаж Wii по годам')\n",
    "plt.xlabel('Год выпуска')\n",
    "plt.ylabel('Сумма продаж')\n",
    "plt.xticks(rotation=45)\n",
    "plt.show()\n",
    "\n",
    "#5\n",
    "df.query('platform == \"DS\"').pivot_table(index='year_of_release', \n",
    "                                          values = 'total_sales', \n",
    "                                          aggfunc = 'sum').plot(kind='bar', legend=False)\n",
    "\n",
    "plt.title('Распределение продаж DS по годам')\n",
    "plt.xlabel('Год выпуска')\n",
    "plt.ylabel('Сумма продаж')\n",
    "plt.xticks(rotation=45)\n",
    "plt.show()\n",
    "\n",
    "#6\n",
    "df.query('platform == \"PS\"').pivot_table(index='year_of_release', \n",
    "                                          values = 'total_sales', \n",
    "                                          aggfunc = 'sum').plot(kind='bar', legend=False)\n",
    "\n",
    "plt.title('Распределение продаж PS по годам')\n",
    "plt.xlabel('Год выпуска')\n",
    "plt.ylabel('Сумма продаж')\n",
    "plt.xticks(rotation=45)\n",
    "plt.show()"
   ]
  },
  {
   "cell_type": "markdown",
   "metadata": {},
   "source": [
    "По построенным графикам можно сказать, что средний период, за который появляются новые и исчезают старые платформы составляем 10-12 лет. Примерно 5-6 лет занимает появление игры и рост продаж до максимального значения, а затем за 5-6 лет продажи падают и совсем исчезают."
   ]
  },
  {
   "cell_type": "markdown",
   "metadata": {},
   "source": [
    "### Возьмем данные за актуальный период "
   ]
  },
  {
   "cell_type": "markdown",
   "metadata": {},
   "source": [
    "По результатам исследования в предыдущих пунктах за актуальный период примем 3 года. Создадим новый датафрейм с актуальными данными."
   ]
  },
  {
   "cell_type": "code",
   "execution_count": 22,
   "metadata": {},
   "outputs": [],
   "source": [
    "df_actual = df.query('year_of_release > \"2013\"')"
   ]
  },
  {
   "cell_type": "markdown",
   "metadata": {},
   "source": [
    "### Проверим, какие платформы лидируют по продажам, растут или падают? Выберем несколько потенциально прибыльных платформ."
   ]
  },
  {
   "cell_type": "code",
   "execution_count": 23,
   "metadata": {},
   "outputs": [
    {
     "data": {
      "text/html": [
       "<div>\n",
       "<style scoped>\n",
       "    .dataframe tbody tr th:only-of-type {\n",
       "        vertical-align: middle;\n",
       "    }\n",
       "\n",
       "    .dataframe tbody tr th {\n",
       "        vertical-align: top;\n",
       "    }\n",
       "\n",
       "    .dataframe thead th {\n",
       "        text-align: right;\n",
       "    }\n",
       "</style>\n",
       "<table border=\"1\" class=\"dataframe\">\n",
       "  <thead>\n",
       "    <tr style=\"text-align: right;\">\n",
       "      <th></th>\n",
       "      <th>total_sales</th>\n",
       "    </tr>\n",
       "    <tr>\n",
       "      <th>platform</th>\n",
       "      <th></th>\n",
       "    </tr>\n",
       "  </thead>\n",
       "  <tbody>\n",
       "    <tr>\n",
       "      <th>PS4</th>\n",
       "      <td>288.15</td>\n",
       "    </tr>\n",
       "    <tr>\n",
       "      <th>XOne</th>\n",
       "      <td>140.36</td>\n",
       "    </tr>\n",
       "    <tr>\n",
       "      <th>3DS</th>\n",
       "      <td>86.68</td>\n",
       "    </tr>\n",
       "    <tr>\n",
       "      <th>PS3</th>\n",
       "      <td>68.18</td>\n",
       "    </tr>\n",
       "    <tr>\n",
       "      <th>X360</th>\n",
       "      <td>48.22</td>\n",
       "    </tr>\n",
       "    <tr>\n",
       "      <th>WiiU</th>\n",
       "      <td>42.98</td>\n",
       "    </tr>\n",
       "    <tr>\n",
       "      <th>PC</th>\n",
       "      <td>27.05</td>\n",
       "    </tr>\n",
       "    <tr>\n",
       "      <th>PSV</th>\n",
       "      <td>22.40</td>\n",
       "    </tr>\n",
       "    <tr>\n",
       "      <th>Wii</th>\n",
       "      <td>5.07</td>\n",
       "    </tr>\n",
       "    <tr>\n",
       "      <th>PSP</th>\n",
       "      <td>0.36</td>\n",
       "    </tr>\n",
       "  </tbody>\n",
       "</table>\n",
       "</div>"
      ],
      "text/plain": [
       "          total_sales\n",
       "platform             \n",
       "PS4            288.15\n",
       "XOne           140.36\n",
       "3DS             86.68\n",
       "PS3             68.18\n",
       "X360            48.22\n",
       "WiiU            42.98\n",
       "PC              27.05\n",
       "PSV             22.40\n",
       "Wii              5.07\n",
       "PSP              0.36"
      ]
     },
     "execution_count": 23,
     "metadata": {},
     "output_type": "execute_result"
    }
   ],
   "source": [
    "df_actual.groupby(['platform']).agg({'total_sales' : 'sum'}) \\\n",
    ".sort_values('total_sales', ascending=False)"
   ]
  },
  {
   "cell_type": "code",
   "execution_count": 24,
   "metadata": {},
   "outputs": [
    {
     "data": {
      "text/html": [
       "<div>\n",
       "<style scoped>\n",
       "    .dataframe tbody tr th:only-of-type {\n",
       "        vertical-align: middle;\n",
       "    }\n",
       "\n",
       "    .dataframe tbody tr th {\n",
       "        vertical-align: top;\n",
       "    }\n",
       "\n",
       "    .dataframe thead th {\n",
       "        text-align: right;\n",
       "    }\n",
       "</style>\n",
       "<table border=\"1\" class=\"dataframe\">\n",
       "  <thead>\n",
       "    <tr style=\"text-align: right;\">\n",
       "      <th></th>\n",
       "      <th></th>\n",
       "      <th>total_sales</th>\n",
       "    </tr>\n",
       "    <tr>\n",
       "      <th>platform</th>\n",
       "      <th>year_of_release</th>\n",
       "      <th></th>\n",
       "    </tr>\n",
       "  </thead>\n",
       "  <tbody>\n",
       "    <tr>\n",
       "      <th rowspan=\"3\" valign=\"top\">3DS</th>\n",
       "      <th>2014</th>\n",
       "      <td>43.76</td>\n",
       "    </tr>\n",
       "    <tr>\n",
       "      <th>2015</th>\n",
       "      <td>27.78</td>\n",
       "    </tr>\n",
       "    <tr>\n",
       "      <th>2016</th>\n",
       "      <td>15.14</td>\n",
       "    </tr>\n",
       "    <tr>\n",
       "      <th rowspan=\"3\" valign=\"top\">PC</th>\n",
       "      <th>2014</th>\n",
       "      <td>13.28</td>\n",
       "    </tr>\n",
       "    <tr>\n",
       "      <th>2015</th>\n",
       "      <td>8.52</td>\n",
       "    </tr>\n",
       "    <tr>\n",
       "      <th>2016</th>\n",
       "      <td>5.25</td>\n",
       "    </tr>\n",
       "    <tr>\n",
       "      <th rowspan=\"3\" valign=\"top\">PS3</th>\n",
       "      <th>2014</th>\n",
       "      <td>47.76</td>\n",
       "    </tr>\n",
       "    <tr>\n",
       "      <th>2015</th>\n",
       "      <td>16.82</td>\n",
       "    </tr>\n",
       "    <tr>\n",
       "      <th>2016</th>\n",
       "      <td>3.60</td>\n",
       "    </tr>\n",
       "    <tr>\n",
       "      <th rowspan=\"3\" valign=\"top\">PS4</th>\n",
       "      <th>2014</th>\n",
       "      <td>100.00</td>\n",
       "    </tr>\n",
       "    <tr>\n",
       "      <th>2015</th>\n",
       "      <td>118.90</td>\n",
       "    </tr>\n",
       "    <tr>\n",
       "      <th>2016</th>\n",
       "      <td>69.25</td>\n",
       "    </tr>\n",
       "    <tr>\n",
       "      <th rowspan=\"2\" valign=\"top\">PSP</th>\n",
       "      <th>2014</th>\n",
       "      <td>0.24</td>\n",
       "    </tr>\n",
       "    <tr>\n",
       "      <th>2015</th>\n",
       "      <td>0.12</td>\n",
       "    </tr>\n",
       "    <tr>\n",
       "      <th rowspan=\"3\" valign=\"top\">PSV</th>\n",
       "      <th>2014</th>\n",
       "      <td>11.90</td>\n",
       "    </tr>\n",
       "    <tr>\n",
       "      <th>2015</th>\n",
       "      <td>6.25</td>\n",
       "    </tr>\n",
       "    <tr>\n",
       "      <th>2016</th>\n",
       "      <td>4.25</td>\n",
       "    </tr>\n",
       "    <tr>\n",
       "      <th rowspan=\"3\" valign=\"top\">Wii</th>\n",
       "      <th>2014</th>\n",
       "      <td>3.75</td>\n",
       "    </tr>\n",
       "    <tr>\n",
       "      <th>2015</th>\n",
       "      <td>1.14</td>\n",
       "    </tr>\n",
       "    <tr>\n",
       "      <th>2016</th>\n",
       "      <td>0.18</td>\n",
       "    </tr>\n",
       "    <tr>\n",
       "      <th rowspan=\"3\" valign=\"top\">WiiU</th>\n",
       "      <th>2014</th>\n",
       "      <td>22.03</td>\n",
       "    </tr>\n",
       "    <tr>\n",
       "      <th>2015</th>\n",
       "      <td>16.35</td>\n",
       "    </tr>\n",
       "    <tr>\n",
       "      <th>2016</th>\n",
       "      <td>4.60</td>\n",
       "    </tr>\n",
       "    <tr>\n",
       "      <th rowspan=\"3\" valign=\"top\">X360</th>\n",
       "      <th>2014</th>\n",
       "      <td>34.74</td>\n",
       "    </tr>\n",
       "    <tr>\n",
       "      <th>2015</th>\n",
       "      <td>11.96</td>\n",
       "    </tr>\n",
       "    <tr>\n",
       "      <th>2016</th>\n",
       "      <td>1.52</td>\n",
       "    </tr>\n",
       "    <tr>\n",
       "      <th rowspan=\"3\" valign=\"top\">XOne</th>\n",
       "      <th>2014</th>\n",
       "      <td>54.07</td>\n",
       "    </tr>\n",
       "    <tr>\n",
       "      <th>2015</th>\n",
       "      <td>60.14</td>\n",
       "    </tr>\n",
       "    <tr>\n",
       "      <th>2016</th>\n",
       "      <td>26.15</td>\n",
       "    </tr>\n",
       "  </tbody>\n",
       "</table>\n",
       "</div>"
      ],
      "text/plain": [
       "                          total_sales\n",
       "platform year_of_release             \n",
       "3DS      2014                   43.76\n",
       "         2015                   27.78\n",
       "         2016                   15.14\n",
       "PC       2014                   13.28\n",
       "         2015                    8.52\n",
       "         2016                    5.25\n",
       "PS3      2014                   47.76\n",
       "         2015                   16.82\n",
       "         2016                    3.60\n",
       "PS4      2014                  100.00\n",
       "         2015                  118.90\n",
       "         2016                   69.25\n",
       "PSP      2014                    0.24\n",
       "         2015                    0.12\n",
       "PSV      2014                   11.90\n",
       "         2015                    6.25\n",
       "         2016                    4.25\n",
       "Wii      2014                    3.75\n",
       "         2015                    1.14\n",
       "         2016                    0.18\n",
       "WiiU     2014                   22.03\n",
       "         2015                   16.35\n",
       "         2016                    4.60\n",
       "X360     2014                   34.74\n",
       "         2015                   11.96\n",
       "         2016                    1.52\n",
       "XOne     2014                   54.07\n",
       "         2015                   60.14\n",
       "         2016                   26.15"
      ]
     },
     "metadata": {},
     "output_type": "display_data"
    }
   ],
   "source": [
    "df_actual_pivot = df_actual.pivot_table(index=('platform','year_of_release'), \n",
    "                                        values = 'total_sales', aggfunc = 'sum')\n",
    "display(df_actual_pivot)"
   ]
  },
  {
   "cell_type": "markdown",
   "metadata": {},
   "source": [
    "В датафрейме за последние 3 года осталось 10 платформ. 1 платформа в 2016 году уже не продавалась совсем, по всем остальным продажи с каждым годом снижаются. "
   ]
  },
  {
   "cell_type": "code",
   "execution_count": 103,
   "metadata": {},
   "outputs": [
    {
     "data": {
      "text/html": [
       "<div>\n",
       "<style scoped>\n",
       "    .dataframe tbody tr th:only-of-type {\n",
       "        vertical-align: middle;\n",
       "    }\n",
       "\n",
       "    .dataframe tbody tr th {\n",
       "        vertical-align: top;\n",
       "    }\n",
       "\n",
       "    .dataframe thead th {\n",
       "        text-align: right;\n",
       "    }\n",
       "</style>\n",
       "<table border=\"1\" class=\"dataframe\">\n",
       "  <thead>\n",
       "    <tr style=\"text-align: right;\">\n",
       "      <th></th>\n",
       "      <th>total_sales</th>\n",
       "    </tr>\n",
       "    <tr>\n",
       "      <th>platform</th>\n",
       "      <th></th>\n",
       "    </tr>\n",
       "  </thead>\n",
       "  <tbody>\n",
       "    <tr>\n",
       "      <th>PS4</th>\n",
       "      <td>69.25</td>\n",
       "    </tr>\n",
       "    <tr>\n",
       "      <th>XOne</th>\n",
       "      <td>26.15</td>\n",
       "    </tr>\n",
       "    <tr>\n",
       "      <th>3DS</th>\n",
       "      <td>15.14</td>\n",
       "    </tr>\n",
       "    <tr>\n",
       "      <th>PC</th>\n",
       "      <td>5.25</td>\n",
       "    </tr>\n",
       "    <tr>\n",
       "      <th>WiiU</th>\n",
       "      <td>4.60</td>\n",
       "    </tr>\n",
       "    <tr>\n",
       "      <th>PSV</th>\n",
       "      <td>4.25</td>\n",
       "    </tr>\n",
       "    <tr>\n",
       "      <th>PS3</th>\n",
       "      <td>3.60</td>\n",
       "    </tr>\n",
       "    <tr>\n",
       "      <th>X360</th>\n",
       "      <td>1.52</td>\n",
       "    </tr>\n",
       "    <tr>\n",
       "      <th>Wii</th>\n",
       "      <td>0.18</td>\n",
       "    </tr>\n",
       "  </tbody>\n",
       "</table>\n",
       "</div>"
      ],
      "text/plain": [
       "          total_sales\n",
       "platform             \n",
       "PS4             69.25\n",
       "XOne            26.15\n",
       "3DS             15.14\n",
       "PC               5.25\n",
       "WiiU             4.60\n",
       "PSV              4.25\n",
       "PS3              3.60\n",
       "X360             1.52\n",
       "Wii              0.18"
      ]
     },
     "metadata": {},
     "output_type": "display_data"
    }
   ],
   "source": [
    "df_actual_2016 = df_actual.query('year_of_release == \"2016\"') \\\n",
    ".pivot_table(index=('platform'), \\\n",
    "values = 'total_sales', aggfunc = 'sum')\n",
    "\n",
    "display(df_actual_2016.sort_values(by='total_sales', ascending=False))"
   ]
  },
  {
   "cell_type": "markdown",
   "metadata": {},
   "source": [
    "Самые высокие продажи в 2016 году были у платформ PS4 (69.25), XOne (26.15) и 3DS (15.14). В пятерку лидеров вошли также PC (5.25) и WiiU(4.60)."
   ]
  },
  {
   "cell_type": "markdown",
   "metadata": {},
   "source": [
    "### Построим график «ящик с усами» по глобальным продажам игр в разбивке по платформам. "
   ]
  },
  {
   "cell_type": "code",
   "execution_count": 110,
   "metadata": {},
   "outputs": [
    {
     "data": {
      "image/png": "[encoded data removed]",
      "text/plain": [
       "<Figure size 864x1080 with 1 Axes>"
      ]
     },
     "metadata": {
      "needs_background": "light"
     },
     "output_type": "display_data"
    }
   ],
   "source": [
    "plt.figure(figsize=(12,15))\n",
    "\n",
    "sns.boxplot(data=df_actual[df_actual['platform'] \\\n",
    ".isin(['PS4', 'XOne', '3DS', 'PC', 'WiiU', 'PSV', 'PS3'])], \\\n",
    "y='total_sales', x='platform', order=['XOne', 'WiiU', 'PS4', 'PS3', '3DS', 'PC', 'PSV']).set(ylim=(0,2))\n",
    "\n",
    "plt.title('Суммарные продажи игр в разбивке по платформам')\n",
    "plt.xlabel('Платформа')\n",
    "plt.ylabel('Сумма продаж')\n",
    "plt.show()"
   ]
  },
  {
   "cell_type": "markdown",
   "metadata": {},
   "source": [
    "Для визуализации отфильтровали данные по самым перспективным платформам с учетом сводной таблицы выше. \n",
    "\n",
    "Видим, что на всех платформах медианные значения находятся в самом низу, при этом довольно много выбросов. То есть большинство выпускаемых игр приносят небольшую прибыль, но отдельные игры бестселлеры имеют высокие продажи."
   ]
  },
  {
   "cell_type": "markdown",
   "metadata": {},
   "source": [
    "### Посмотрим, как влияют на продажи внутри одной популярной платформы отзывы пользователей и критиков. Построим диаграмму рассеяния и посчитаем корреляцию между отзывами и продажами. "
   ]
  },
  {
   "cell_type": "code",
   "execution_count": 27,
   "metadata": {},
   "outputs": [
    {
     "data": {
      "image/png": "[encoded data removed]",
      "text/plain": [
       "<Figure size 1080x504 with 1 Axes>"
      ]
     },
     "metadata": {
      "needs_background": "light"
     },
     "output_type": "display_data"
    },
    {
     "name": "stdout",
     "output_type": "stream",
     "text": [
      "Корреляция между отзывами критиков и продажами PS4: 0.4\n"
     ]
    }
   ],
   "source": [
    "df_ps4 = df_actual.query('platform == \"PS4\"')\n",
    "\n",
    "df_ps4.plot(x='critic_score', y='total_sales', kind='scatter', grid=True, figsize=(15,7))\n",
    "plt.title('Корреляция между отзывами критиков и продажами PS4')\n",
    "plt.xlabel('Суммарные продажи')\n",
    "plt.ylabel('Оценки критиков')\n",
    "plt.show()\n",
    "\n",
    "print('Корреляция между отзывами критиков и продажами PS4:', \n",
    "      df_ps4['total_sales'].corr(df_ps4['critic_score']).round(2))"
   ]
  },
  {
   "cell_type": "code",
   "execution_count": 28,
   "metadata": {},
   "outputs": [
    {
     "data": {
      "image/png": "[encoded data removed]",
      "text/plain": [
       "<Figure size 1080x504 with 1 Axes>"
      ]
     },
     "metadata": {
      "needs_background": "light"
     },
     "output_type": "display_data"
    },
    {
     "name": "stdout",
     "output_type": "stream",
     "text": [
      "Корреляция между отзывами пользователей и продажами PS4: -0.04\n"
     ]
    }
   ],
   "source": [
    "df_ps4.plot(x='user_score', y='total_sales', kind='scatter', grid=True, figsize=(15,7))\n",
    "plt.title('Корреляция между отзывами пользователей и продажами PS4')\n",
    "plt.xlabel('Суммарные продажи')\n",
    "plt.ylabel('Оценки пользователей')\n",
    "plt.show()\n",
    "\n",
    "print('Корреляция между отзывами пользователей и продажами PS4:', \n",
    "      df_ps4['total_sales'].corr(df_ps4['user_score']).round(2))"
   ]
  },
  {
   "cell_type": "markdown",
   "metadata": {},
   "source": [
    "Видим, что корреляции с продажами нет ни у отзывов критиков, ни у отзывов пользователей. "
   ]
  },
  {
   "cell_type": "markdown",
   "metadata": {},
   "source": [
    "### Соотнесем выводы с продажами игр на других платформах."
   ]
  },
  {
   "cell_type": "code",
   "execution_count": 29,
   "metadata": {},
   "outputs": [
    {
     "data": {
      "image/png": "[encoded data removed]",
      "text/plain": [
       "<Figure size 1080x504 with 1 Axes>"
      ]
     },
     "metadata": {
      "needs_background": "light"
     },
     "output_type": "display_data"
    },
    {
     "name": "stdout",
     "output_type": "stream",
     "text": [
      "Корреляция между отзывами критиков и продажами: 0.33\n"
     ]
    }
   ],
   "source": [
    "df_actual.plot(x='critic_score', y='total_sales', kind='scatter', grid=True, figsize=(15,7))\n",
    "plt.title('Корреляция между отзывами критиков и продажами')\n",
    "plt.xlabel('Суммарные продажи')\n",
    "plt.ylabel('Оценки пользователей')\n",
    "plt.show()\n",
    "\n",
    "print('Корреляция между отзывами критиков и продажами:', \n",
    "      df_actual['total_sales'].corr(df_actual['critic_score']).round(2))"
   ]
  },
  {
   "cell_type": "code",
   "execution_count": 30,
   "metadata": {},
   "outputs": [
    {
     "data": {
      "image/png": "[encoded data removed]",
      "text/plain": [
       "<Figure size 1080x504 with 1 Axes>"
      ]
     },
     "metadata": {
      "needs_background": "light"
     },
     "output_type": "display_data"
    },
    {
     "name": "stdout",
     "output_type": "stream",
     "text": [
      "Корреляция между отзывами пользователей и продажами: -0.01\n"
     ]
    }
   ],
   "source": [
    "df_actual.plot(x='user_score', y='total_sales', kind='scatter', grid=True, figsize=(15,7))\n",
    "plt.title('Корреляция между отзывами пользователей и продажами')\n",
    "plt.xlabel('Суммарные продажи')\n",
    "plt.ylabel('Оценки пользователей')\n",
    "plt.show()\n",
    "\n",
    "print('Корреляция между отзывами пользователей и продажами:', \n",
    "      df_actual['total_sales'].corr(df_actual['user_score']).round(2))"
   ]
  },
  {
   "cell_type": "markdown",
   "metadata": {},
   "source": [
    "При рассмотрении всех платформ сразу результаты получились аналогичные результатам только по платформе PS4. Таким образом, оценки критиков и пользователей не имеют влияния на продажи."
   ]
  },
  {
   "cell_type": "markdown",
   "metadata": {},
   "source": [
    "### Посмотрим на общее распределение игр по жанрам. "
   ]
  },
  {
   "cell_type": "code",
   "execution_count": 31,
   "metadata": {},
   "outputs": [
    {
     "data": {
      "text/html": [
       "<div>\n",
       "<style scoped>\n",
       "    .dataframe tbody tr th:only-of-type {\n",
       "        vertical-align: middle;\n",
       "    }\n",
       "\n",
       "    .dataframe tbody tr th {\n",
       "        vertical-align: top;\n",
       "    }\n",
       "\n",
       "    .dataframe thead th {\n",
       "        text-align: right;\n",
       "    }\n",
       "</style>\n",
       "<table border=\"1\" class=\"dataframe\">\n",
       "  <thead>\n",
       "    <tr style=\"text-align: right;\">\n",
       "      <th></th>\n",
       "      <th>total_sales</th>\n",
       "    </tr>\n",
       "    <tr>\n",
       "      <th>genre</th>\n",
       "      <th></th>\n",
       "    </tr>\n",
       "  </thead>\n",
       "  <tbody>\n",
       "    <tr>\n",
       "      <th>Puzzle</th>\n",
       "      <td>2.21</td>\n",
       "    </tr>\n",
       "    <tr>\n",
       "      <th>Strategy</th>\n",
       "      <td>3.96</td>\n",
       "    </tr>\n",
       "    <tr>\n",
       "      <th>Simulation</th>\n",
       "      <td>13.13</td>\n",
       "    </tr>\n",
       "    <tr>\n",
       "      <th>Adventure</th>\n",
       "      <td>17.55</td>\n",
       "    </tr>\n",
       "    <tr>\n",
       "      <th>Platform</th>\n",
       "      <td>18.09</td>\n",
       "    </tr>\n",
       "    <tr>\n",
       "      <th>Racing</th>\n",
       "      <td>27.52</td>\n",
       "    </tr>\n",
       "    <tr>\n",
       "      <th>Fighting</th>\n",
       "      <td>28.22</td>\n",
       "    </tr>\n",
       "    <tr>\n",
       "      <th>Misc</th>\n",
       "      <td>37.55</td>\n",
       "    </tr>\n",
       "    <tr>\n",
       "      <th>Role-Playing</th>\n",
       "      <td>101.44</td>\n",
       "    </tr>\n",
       "    <tr>\n",
       "      <th>Sports</th>\n",
       "      <td>109.48</td>\n",
       "    </tr>\n",
       "    <tr>\n",
       "      <th>Shooter</th>\n",
       "      <td>170.94</td>\n",
       "    </tr>\n",
       "    <tr>\n",
       "      <th>Action</th>\n",
       "      <td>199.36</td>\n",
       "    </tr>\n",
       "  </tbody>\n",
       "</table>\n",
       "</div>"
      ],
      "text/plain": [
       "              total_sales\n",
       "genre                    \n",
       "Puzzle               2.21\n",
       "Strategy             3.96\n",
       "Simulation          13.13\n",
       "Adventure           17.55\n",
       "Platform            18.09\n",
       "Racing              27.52\n",
       "Fighting            28.22\n",
       "Misc                37.55\n",
       "Role-Playing       101.44\n",
       "Sports             109.48\n",
       "Shooter            170.94\n",
       "Action             199.36"
      ]
     },
     "metadata": {},
     "output_type": "display_data"
    },
    {
     "data": {
      "image/png": "[encoded data removed]",
      "text/plain": [
       "<Figure size 432x288 with 1 Axes>"
      ]
     },
     "metadata": {
      "needs_background": "light"
     },
     "output_type": "display_data"
    }
   ],
   "source": [
    "df_genres = (df_actual.groupby(['genre'])\n",
    "             .agg({'total_sales': 'sum'}).sort_values(by='total_sales', ascending=True))\n",
    "display(df_genres)\n",
    "\n",
    "df_genres.plot(\n",
    "    kind = 'barh',\n",
    "    title = 'Распределение игр по жанрам',\n",
    "    legend = False)\n",
    "plt.xlabel('Суммарные продажи')\n",
    "plt.ylabel('Жанр')\n",
    "plt.show()"
   ]
  },
  {
   "cell_type": "markdown",
   "metadata": {},
   "source": [
    "Значительно выделяются по продажам игры жанров Action, Shooter, Sports и Role-Playing.  В остальных жанрах продажи в 10 и 100 раз меньше. Совсем мало продаж у игр жанров Strategy и Puzzle. \n",
    "\n",
    "Рассмотрим теперь основные статистические характеристики суммарных продаж по жанрам."
   ]
  },
  {
   "cell_type": "code",
   "execution_count": 32,
   "metadata": {},
   "outputs": [
    {
     "data": {
      "text/html": [
       "<div>\n",
       "<style scoped>\n",
       "    .dataframe tbody tr th:only-of-type {\n",
       "        vertical-align: middle;\n",
       "    }\n",
       "\n",
       "    .dataframe tbody tr th {\n",
       "        vertical-align: top;\n",
       "    }\n",
       "\n",
       "    .dataframe thead th {\n",
       "        text-align: right;\n",
       "    }\n",
       "</style>\n",
       "<table border=\"1\" class=\"dataframe\">\n",
       "  <thead>\n",
       "    <tr style=\"text-align: right;\">\n",
       "      <th></th>\n",
       "      <th>count</th>\n",
       "      <th>mean</th>\n",
       "      <th>std</th>\n",
       "      <th>min</th>\n",
       "      <th>25%</th>\n",
       "      <th>50%</th>\n",
       "      <th>75%</th>\n",
       "      <th>max</th>\n",
       "    </tr>\n",
       "    <tr>\n",
       "      <th>genre</th>\n",
       "      <th></th>\n",
       "      <th></th>\n",
       "      <th></th>\n",
       "      <th></th>\n",
       "      <th></th>\n",
       "      <th></th>\n",
       "      <th></th>\n",
       "      <th></th>\n",
       "    </tr>\n",
       "  </thead>\n",
       "  <tbody>\n",
       "    <tr>\n",
       "      <th>Shooter</th>\n",
       "      <td>128.0</td>\n",
       "      <td>1.335469</td>\n",
       "      <td>2.050567</td>\n",
       "      <td>0.01</td>\n",
       "      <td>0.1725</td>\n",
       "      <td>0.515</td>\n",
       "      <td>1.6175</td>\n",
       "      <td>14.63</td>\n",
       "    </tr>\n",
       "    <tr>\n",
       "      <th>Action</th>\n",
       "      <td>619.0</td>\n",
       "      <td>0.322068</td>\n",
       "      <td>0.798181</td>\n",
       "      <td>0.01</td>\n",
       "      <td>0.0300</td>\n",
       "      <td>0.090</td>\n",
       "      <td>0.2800</td>\n",
       "      <td>12.62</td>\n",
       "    </tr>\n",
       "    <tr>\n",
       "      <th>Role-Playing</th>\n",
       "      <td>221.0</td>\n",
       "      <td>0.459005</td>\n",
       "      <td>1.177284</td>\n",
       "      <td>0.01</td>\n",
       "      <td>0.0500</td>\n",
       "      <td>0.110</td>\n",
       "      <td>0.3600</td>\n",
       "      <td>11.68</td>\n",
       "    </tr>\n",
       "    <tr>\n",
       "      <th>Sports</th>\n",
       "      <td>161.0</td>\n",
       "      <td>0.680000</td>\n",
       "      <td>1.239736</td>\n",
       "      <td>0.01</td>\n",
       "      <td>0.0600</td>\n",
       "      <td>0.180</td>\n",
       "      <td>0.6400</td>\n",
       "      <td>8.58</td>\n",
       "    </tr>\n",
       "    <tr>\n",
       "      <th>Fighting</th>\n",
       "      <td>60.0</td>\n",
       "      <td>0.470333</td>\n",
       "      <td>1.188053</td>\n",
       "      <td>0.01</td>\n",
       "      <td>0.0600</td>\n",
       "      <td>0.125</td>\n",
       "      <td>0.3200</td>\n",
       "      <td>7.55</td>\n",
       "    </tr>\n",
       "    <tr>\n",
       "      <th>Racing</th>\n",
       "      <td>69.0</td>\n",
       "      <td>0.398841</td>\n",
       "      <td>0.963716</td>\n",
       "      <td>0.01</td>\n",
       "      <td>0.0300</td>\n",
       "      <td>0.090</td>\n",
       "      <td>0.2500</td>\n",
       "      <td>7.09</td>\n",
       "    </tr>\n",
       "    <tr>\n",
       "      <th>Misc</th>\n",
       "      <td>113.0</td>\n",
       "      <td>0.332301</td>\n",
       "      <td>0.736999</td>\n",
       "      <td>0.01</td>\n",
       "      <td>0.0300</td>\n",
       "      <td>0.090</td>\n",
       "      <td>0.3200</td>\n",
       "      <td>5.27</td>\n",
       "    </tr>\n",
       "    <tr>\n",
       "      <th>Platform</th>\n",
       "      <td>38.0</td>\n",
       "      <td>0.476053</td>\n",
       "      <td>0.722561</td>\n",
       "      <td>0.01</td>\n",
       "      <td>0.0625</td>\n",
       "      <td>0.140</td>\n",
       "      <td>0.4675</td>\n",
       "      <td>3.21</td>\n",
       "    </tr>\n",
       "    <tr>\n",
       "      <th>Simulation</th>\n",
       "      <td>44.0</td>\n",
       "      <td>0.298409</td>\n",
       "      <td>0.646925</td>\n",
       "      <td>0.01</td>\n",
       "      <td>0.0200</td>\n",
       "      <td>0.100</td>\n",
       "      <td>0.3275</td>\n",
       "      <td>3.05</td>\n",
       "    </tr>\n",
       "    <tr>\n",
       "      <th>Adventure</th>\n",
       "      <td>185.0</td>\n",
       "      <td>0.094865</td>\n",
       "      <td>0.203147</td>\n",
       "      <td>0.01</td>\n",
       "      <td>0.0200</td>\n",
       "      <td>0.030</td>\n",
       "      <td>0.0800</td>\n",
       "      <td>1.66</td>\n",
       "    </tr>\n",
       "    <tr>\n",
       "      <th>Puzzle</th>\n",
       "      <td>14.0</td>\n",
       "      <td>0.157857</td>\n",
       "      <td>0.320629</td>\n",
       "      <td>0.01</td>\n",
       "      <td>0.0200</td>\n",
       "      <td>0.045</td>\n",
       "      <td>0.1000</td>\n",
       "      <td>1.19</td>\n",
       "    </tr>\n",
       "    <tr>\n",
       "      <th>Strategy</th>\n",
       "      <td>37.0</td>\n",
       "      <td>0.107027</td>\n",
       "      <td>0.118412</td>\n",
       "      <td>0.01</td>\n",
       "      <td>0.0300</td>\n",
       "      <td>0.060</td>\n",
       "      <td>0.1400</td>\n",
       "      <td>0.52</td>\n",
       "    </tr>\n",
       "  </tbody>\n",
       "</table>\n",
       "</div>"
      ],
      "text/plain": [
       "              count      mean       std   min     25%    50%     75%    max\n",
       "genre                                                                      \n",
       "Shooter       128.0  1.335469  2.050567  0.01  0.1725  0.515  1.6175  14.63\n",
       "Action        619.0  0.322068  0.798181  0.01  0.0300  0.090  0.2800  12.62\n",
       "Role-Playing  221.0  0.459005  1.177284  0.01  0.0500  0.110  0.3600  11.68\n",
       "Sports        161.0  0.680000  1.239736  0.01  0.0600  0.180  0.6400   8.58\n",
       "Fighting       60.0  0.470333  1.188053  0.01  0.0600  0.125  0.3200   7.55\n",
       "Racing         69.0  0.398841  0.963716  0.01  0.0300  0.090  0.2500   7.09\n",
       "Misc          113.0  0.332301  0.736999  0.01  0.0300  0.090  0.3200   5.27\n",
       "Platform       38.0  0.476053  0.722561  0.01  0.0625  0.140  0.4675   3.21\n",
       "Simulation     44.0  0.298409  0.646925  0.01  0.0200  0.100  0.3275   3.05\n",
       "Adventure     185.0  0.094865  0.203147  0.01  0.0200  0.030  0.0800   1.66\n",
       "Puzzle         14.0  0.157857  0.320629  0.01  0.0200  0.045  0.1000   1.19\n",
       "Strategy       37.0  0.107027  0.118412  0.01  0.0300  0.060  0.1400   0.52"
      ]
     },
     "execution_count": 32,
     "metadata": {},
     "output_type": "execute_result"
    }
   ],
   "source": [
    "df_actual.groupby(['genre'], sort=False).total_sales.describe()"
   ]
  },
  {
   "cell_type": "markdown",
   "metadata": {},
   "source": [
    "Видим, что четверка лидеров осталась прежней, но распределение изменилось. \n",
    "\n",
    "Теперь на первом месте жанр Shooter. Хоть выпускаемое количество игр в этом жанре не самое большое, но приносят они самую большую прибыль.\n",
    "\n",
    "На втором месте игры в жанре Action. В этом жанре выпускается в разы больше игр, чем в других жанрах, но средние показатели продаж не очень высокие. Можно сказать, что высокие продажи в этом жанре возникают только из-за большого количества выпускаемых игр и нескольких бестселлеров, так как максимальные продажи также на втором месте.\n",
    "\n",
    "На третьем и четвертом месте игры в жанре Role-Playing и Sports. В этих жанрах выпускается больше игр, чем в жанре Sports. В жанре Role-Playing выпускается больше игр, но они в среднем менее прибыльные, а в жанре Sports выпускается игр меньше, но они в среднем немного дороже."
   ]
  },
  {
   "cell_type": "markdown",
   "metadata": {},
   "source": [
    "## Составим портрет пользователя каждого региона"
   ]
  },
  {
   "cell_type": "markdown",
   "metadata": {},
   "source": [
    "Определим для пользователя каждого региона (NA, EU, JP):\n",
    "- Самые популярные платформы (топ-5). \n",
    "- Самые популярные жанры (топ-5). \n",
    "- Влияет ли рейтинг ESRB на продажи в отдельном регионе?"
   ]
  },
  {
   "cell_type": "code",
   "execution_count": 33,
   "metadata": {},
   "outputs": [
    {
     "data": {
      "image/png": "[encoded data removed]",
      "text/plain": [
       "<Figure size 432x288 with 1 Axes>"
      ]
     },
     "metadata": {},
     "output_type": "display_data"
    },
    {
     "data": {
      "image/png": "[encoded data removed]",
      "text/plain": [
       "<Figure size 432x288 with 1 Axes>"
      ]
     },
     "metadata": {},
     "output_type": "display_data"
    },
    {
     "data": {
      "image/png": "[encoded data removed]",
      "text/plain": [
       "<Figure size 432x288 with 1 Axes>"
      ]
     },
     "metadata": {},
     "output_type": "display_data"
    }
   ],
   "source": [
    "#самые популярные платформы в Северной Америке\n",
    "df_na_platforms = (df_actual.pivot_table(index=('platform'), \n",
    "                                        values = 'na_sales', aggfunc = 'sum')\n",
    "               .sort_values(by= 'na_sales',ascending=False))\n",
    "\n",
    "df_na_platforms.head(5).plot(kind='pie', \n",
    "                         y='na_sales', \n",
    "                         legend=False, \n",
    "                         autopct='%1.0f%%', \n",
    "                         title = 'Топ 5 платформ по продажам в Северной Америке')\n",
    "\n",
    "plt.show()\n",
    "\n",
    "#самые популярные платформы в Европе\n",
    "df_eu_platforms = (df_actual.pivot_table(index=('platform'), \n",
    "                                        values = 'eu_sales', aggfunc = 'sum')\n",
    "               .sort_values(by='eu_sales',ascending=False))\n",
    "\n",
    "df_eu_platforms.head(5).plot(kind='pie', \n",
    "                         y='eu_sales', \n",
    "                         legend=False, \n",
    "                         autopct='%1.0f%%', \n",
    "                         title = 'Топ 5 платформ по продажам в Европе')\n",
    "\n",
    "plt.show()\n",
    "\n",
    "#самые популярные платформы в Японии\n",
    "df_jp_platforms = (df_actual.pivot_table(index=('platform'), \n",
    "                                        values = 'jp_sales', aggfunc = 'sum')\n",
    "               .sort_values(by='jp_sales',ascending=False))\n",
    "\n",
    "df_jp_platforms.head(5).plot(kind='pie', \n",
    "                         y='jp_sales', \n",
    "                         legend=False, \n",
    "                         autopct='%1.0f%%', \n",
    "                         title = 'Топ 5 платформ по продажам в Японии')\n",
    "\n",
    "plt.show()"
   ]
  },
  {
   "cell_type": "markdown",
   "metadata": {},
   "source": [
    "В зависимости от региона популярностью пользуются разные платформы. В Европе и Северной Америке платформа 3DS не очень популярна (7-9%% от общих продаж), а вот в Японии игры на этой платформе покупает почти половина пользователей (48%). \n",
    "\n",
    "В Европе и Северной Америке PS4 является лидером продаж (55 и 39%%). А в Японии PS4 на втором месте, ее выбирают 16% игроков."
   ]
  },
  {
   "cell_type": "code",
   "execution_count": 34,
   "metadata": {},
   "outputs": [
    {
     "data": {
      "image/png": "[encoded data removed]",
      "text/plain": [
       "<Figure size 432x288 with 1 Axes>"
      ]
     },
     "metadata": {},
     "output_type": "display_data"
    },
    {
     "data": {
      "image/png": "[encoded data removed]",
      "text/plain": [
       "<Figure size 432x288 with 1 Axes>"
      ]
     },
     "metadata": {},
     "output_type": "display_data"
    },
    {
     "data": {
      "image/png": "[encoded data removed]",
      "text/plain": [
       "<Figure size 432x288 with 1 Axes>"
      ]
     },
     "metadata": {},
     "output_type": "display_data"
    }
   ],
   "source": [
    "#самые популярные жанры в Северной Америке\n",
    "df_na_genres = (df_actual.pivot_table(index=('genre'), \n",
    "                                        values = 'na_sales', aggfunc = 'sum')\n",
    "               .sort_values(by= 'na_sales',ascending=False))\n",
    "\n",
    "df_na_genres.head(5).plot(kind='pie', \n",
    "                         y='na_sales', \n",
    "                         legend=False, \n",
    "                         autopct='%1.0f%%', \n",
    "                         title = 'Топ 5 жанров игр по продажам в Северной Америке')\n",
    "\n",
    "plt.show()\n",
    "\n",
    "#самые популярные жанры в Европе\n",
    "df_eu_genres = (df_actual.pivot_table(index=('genre'), \n",
    "                                        values = 'eu_sales', aggfunc = 'sum')\n",
    "               .sort_values(by= 'eu_sales',ascending=False))\n",
    "\n",
    "df_eu_genres.head(5).plot(kind='pie', \n",
    "                         y='eu_sales', \n",
    "                         legend=False, \n",
    "                         autopct='%1.0f%%', \n",
    "                         title = 'Топ 5 жанров игр по продажам в Европе')\n",
    "\n",
    "plt.show()\n",
    "\n",
    "#самые популярные жанры в Японии\n",
    "df_jp_genres = (df_actual.pivot_table(index=('genre'), \n",
    "                                        values = 'jp_sales', aggfunc = 'sum')\n",
    "               .sort_values(by='jp_sales',ascending=False))\n",
    "\n",
    "df_jp_genres.head(5).plot(kind='pie', \n",
    "                         y='jp_sales', \n",
    "                         legend=False, \n",
    "                         autopct='%1.0f%%', \n",
    "                         title = 'Топ 5 жанров игр по продажам в Японии')\n",
    "\n",
    "plt.show()"
   ]
  },
  {
   "cell_type": "markdown",
   "metadata": {},
   "source": [
    "Популярные жанры похожи в Северной Америке и Европе, результаты практически одинаковые, наиболее популярны Action, Shooter, Sports, также большую долю составляют игры жанра Role-Playing. \n",
    "\n",
    "А вот Япония тут также выделяется, наибольшую долю продаж (40%) составляют игры жанры Role-Playing, затем по популярности идут игры Action (38%).\n",
    "\n",
    "В целом можно сказать, что игры Action популярны по всех регионах среди рассматриваемых, и в них играет примерно одинаковое количество от общего числа пользователей в каждом регионе (29-38%%)."
   ]
  },
  {
   "cell_type": "code",
   "execution_count": 35,
   "metadata": {},
   "outputs": [
    {
     "data": {
      "text/html": [
       "<div>\n",
       "<style scoped>\n",
       "    .dataframe tbody tr th:only-of-type {\n",
       "        vertical-align: middle;\n",
       "    }\n",
       "\n",
       "    .dataframe tbody tr th {\n",
       "        vertical-align: top;\n",
       "    }\n",
       "\n",
       "    .dataframe thead th {\n",
       "        text-align: right;\n",
       "    }\n",
       "</style>\n",
       "<table border=\"1\" class=\"dataframe\">\n",
       "  <thead>\n",
       "    <tr style=\"text-align: right;\">\n",
       "      <th></th>\n",
       "      <th>rating</th>\n",
       "      <th>na_sales</th>\n",
       "      <th>eu_sales</th>\n",
       "      <th>jp_sales</th>\n",
       "    </tr>\n",
       "  </thead>\n",
       "  <tbody>\n",
       "    <tr>\n",
       "      <th>0</th>\n",
       "      <td>E</td>\n",
       "      <td>50.74</td>\n",
       "      <td>58.06</td>\n",
       "      <td>8.94</td>\n",
       "    </tr>\n",
       "    <tr>\n",
       "      <th>1</th>\n",
       "      <td>E10+</td>\n",
       "      <td>33.23</td>\n",
       "      <td>26.16</td>\n",
       "      <td>4.46</td>\n",
       "    </tr>\n",
       "    <tr>\n",
       "      <th>2</th>\n",
       "      <td>M</td>\n",
       "      <td>96.42</td>\n",
       "      <td>93.44</td>\n",
       "      <td>8.01</td>\n",
       "    </tr>\n",
       "    <tr>\n",
       "      <th>3</th>\n",
       "      <td>T</td>\n",
       "      <td>38.95</td>\n",
       "      <td>34.07</td>\n",
       "      <td>14.78</td>\n",
       "    </tr>\n",
       "    <tr>\n",
       "      <th>4</th>\n",
       "      <td>Unknown</td>\n",
       "      <td>64.72</td>\n",
       "      <td>58.95</td>\n",
       "      <td>56.90</td>\n",
       "    </tr>\n",
       "  </tbody>\n",
       "</table>\n",
       "</div>"
      ],
      "text/plain": [
       "    rating  na_sales  eu_sales  jp_sales\n",
       "0        E     50.74     58.06      8.94\n",
       "1     E10+     33.23     26.16      4.46\n",
       "2        M     96.42     93.44      8.01\n",
       "3        T     38.95     34.07     14.78\n",
       "4  Unknown     64.72     58.95     56.90"
      ]
     },
     "metadata": {},
     "output_type": "display_data"
    }
   ],
   "source": [
    "df_rating = df_actual[['rating', 'na_sales', 'eu_sales', 'jp_sales']] \\\n",
    "    .groupby('rating', as_index=False) \\\n",
    "    .agg({'na_sales': 'sum', 'eu_sales': 'sum', 'jp_sales': 'sum'})\n",
    "\n",
    "display(df_rating)"
   ]
  },
  {
   "cell_type": "markdown",
   "metadata": {},
   "source": [
    "В зависимости от рейтинга ESRB, то есть от возрастного ограничения, продажи различаются. Так, наибольшие продажи с рейтингом M (для взрослых), и наименьшие в категориях для детей старше 10 лет и подростков. Это в основном касается Северной Америки и Европы. \n",
    "\n",
    "В Японии основная доля продаж приходится на игры без рейтинга. Вероятно, это связано с тем, что рейтинг ESRB присваивается играм в США и Канаде. А в Японии игры продаются без указания данного рейтинга, либо локальным играм этот рейтинг не присваивается."
   ]
  },
  {
   "cell_type": "markdown",
   "metadata": {},
   "source": [
    "## Проверим гипотезы"
   ]
  },
  {
   "cell_type": "markdown",
   "metadata": {},
   "source": [
    "Установим уровень значимости alpha. \n",
    "\n",
    "Из открытых источников получила информацию, что есть стандартные уровни значимости 0,1; 0,05; 0,01; 0,001.\n",
    "\n",
    "Условно их можно выбирать так. Если объем выборки небольшой до 100 единиц, то можно вполне отвергнуть нулевую гипотезу при уровне значимости 0,05 или даже 0,1. При объеме выборки, измеряемой сотнями – от 100 до 1000, следует понизить уровень значимости хотя бы до 0,01. А при больших выборках, измеряемых тысячами наблюдений, уверенно отвергать нулевую гипотезу можно только при значимости меньшей 0,001.\n",
    "\n",
    "В нашем случае размер выборок будет примерно в диапазоне от 100 до 1000 (всего пользовательских оценок для всех платформ 7462), поэтому установим alpha = 0.01."
   ]
  },
  {
   "cell_type": "code",
   "execution_count": 36,
   "metadata": {},
   "outputs": [],
   "source": [
    "alpha = 0.01"
   ]
  },
  {
   "cell_type": "markdown",
   "metadata": {},
   "source": [
    "### Проверим гипотезу: Средние пользовательские рейтинги платформ Xbox One и PC одинаковые"
   ]
  },
  {
   "cell_type": "markdown",
   "metadata": {},
   "source": [
    "Выдвигаем гипотезы:\n",
    "\n",
    "**Гипотеза Н0:** Средние пользовательские рейтинги платформ Xbox One и PC одинаковые.   \n",
    "**Гипотеза Н1:** Средние пользовательские рейтинги платформ Xbox One отличается (меньше или больше), чем у PC."
   ]
  },
  {
   "cell_type": "markdown",
   "metadata": {},
   "source": [
    "В Python есть специальный метод для проверки гипотезы о равенстве среднего двух генеральных совокупностей по взятым из них выборкам: scipy.stats.ttest_ind(array1, array2, equal_var, alternative). Применим его."
   ]
  },
  {
   "cell_type": "code",
   "execution_count": 37,
   "metadata": {},
   "outputs": [],
   "source": [
    "#создаем отдельные датафреймы с данными по платформам\n",
    "xone = df_actual.query('platform == \"XOne\"')\n",
    "pc = df_actual.query('platform == \"PC\"')"
   ]
  },
  {
   "cell_type": "code",
   "execution_count": 38,
   "metadata": {},
   "outputs": [
    {
     "name": "stdout",
     "output_type": "stream",
     "text": [
      "0.11601398086668943\n",
      "Не удалось отвергнуть нулевую гипотезу\n"
     ]
    }
   ],
   "source": [
    "results = st.ttest_ind(xone['user_score'], \n",
    "                       pc['user_score'],\n",
    "                       equal_var=False,\n",
    "                       alternative = 'two-sided',\n",
    "                       nan_policy='omit')\n",
    "print(results.pvalue)\n",
    "\n",
    "if results.pvalue < alpha:\n",
    "    print('Отвергаем нулевую гипотезу')\n",
    "else:\n",
    "    print('Не удалось отвергнуть нулевую гипотезу')"
   ]
  },
  {
   "cell_type": "markdown",
   "metadata": {},
   "source": [
    "Нам не удалось отвергнуть нулевую гипотезу. Таким образом, мы можем предположить, что средние пользовательские рейтинги платформ Xbox One и PC примерно одинаковые. Посмотрим фактические средние рейтинги."
   ]
  },
  {
   "cell_type": "code",
   "execution_count": 39,
   "metadata": {},
   "outputs": [
    {
     "data": {
      "text/html": [
       "<div>\n",
       "<style scoped>\n",
       "    .dataframe tbody tr th:only-of-type {\n",
       "        vertical-align: middle;\n",
       "    }\n",
       "\n",
       "    .dataframe tbody tr th {\n",
       "        vertical-align: top;\n",
       "    }\n",
       "\n",
       "    .dataframe thead th {\n",
       "        text-align: right;\n",
       "    }\n",
       "</style>\n",
       "<table border=\"1\" class=\"dataframe\">\n",
       "  <thead>\n",
       "    <tr style=\"text-align: right;\">\n",
       "      <th></th>\n",
       "      <th>user_score</th>\n",
       "    </tr>\n",
       "    <tr>\n",
       "      <th>platform</th>\n",
       "      <th></th>\n",
       "    </tr>\n",
       "  </thead>\n",
       "  <tbody>\n",
       "    <tr>\n",
       "      <th>XOne</th>\n",
       "      <td>6.594545</td>\n",
       "    </tr>\n",
       "    <tr>\n",
       "      <th>PC</th>\n",
       "      <td>6.298361</td>\n",
       "    </tr>\n",
       "  </tbody>\n",
       "</table>\n",
       "</div>"
      ],
      "text/plain": [
       "          user_score\n",
       "platform            \n",
       "XOne        6.594545\n",
       "PC          6.298361"
      ]
     },
     "metadata": {},
     "output_type": "display_data"
    }
   ],
   "source": [
    "display(df_actual.query('platform in [\"XOne\", \"PC\"]') \\\n",
    ".pivot_table(index=('platform'), values = 'user_score', aggfunc = 'mean') \\\n",
    ".sort_values(by= 'user_score',ascending=False))"
   ]
  },
  {
   "cell_type": "markdown",
   "metadata": {},
   "source": [
    "Рейтинги действительно довольно близки по значению."
   ]
  },
  {
   "cell_type": "markdown",
   "metadata": {},
   "source": [
    "### Проверим гипотезу: Средние пользовательские рейтинги жанров Action (англ. «действие», экшен-игры) и Sports (англ. «спортивные соревнования») разные"
   ]
  },
  {
   "cell_type": "markdown",
   "metadata": {},
   "source": [
    "Выдвигаем гипотезы:\n",
    "\n",
    "**Гипотеза Н0:** Средние пользовательские рейтинги жанров Action и Sports одинаковые.   \n",
    "**Гипотеза Н1:** Средние пользовательские рейтинги жанров Action и Sports отличаются."
   ]
  },
  {
   "cell_type": "code",
   "execution_count": 40,
   "metadata": {},
   "outputs": [],
   "source": [
    "action = df_actual.query('genre == \"Action\"')\n",
    "sports = df_actual.query('genre == \"Sports\"')"
   ]
  },
  {
   "cell_type": "code",
   "execution_count": 41,
   "metadata": {},
   "outputs": [
    {
     "name": "stdout",
     "output_type": "stream",
     "text": [
      "1.182555038264477e-14\n",
      "Отвергаем нулевую гипотезу\n"
     ]
    }
   ],
   "source": [
    "results = st.ttest_ind(action['user_score'], \n",
    "                       sports['user_score'],\n",
    "                       equal_var=False,\n",
    "                       alternative = 'two-sided',\n",
    "                       nan_policy='omit')\n",
    "print(results.pvalue)\n",
    "\n",
    "if results.pvalue < alpha:\n",
    "    print('Отвергаем нулевую гипотезу')\n",
    "else:\n",
    "    print('Не удалось отвергнуть нулевую гипотезу')"
   ]
  },
  {
   "cell_type": "markdown",
   "metadata": {},
   "source": [
    "Мы отвергли нулевую гипотезу. Таким образом, мы можем предположить, что средние пользовательские рейтинги жанров Action и Sports различаются. Посмотрим фактические средние рейтинги."
   ]
  },
  {
   "cell_type": "code",
   "execution_count": 42,
   "metadata": {},
   "outputs": [
    {
     "data": {
      "text/html": [
       "<div>\n",
       "<style scoped>\n",
       "    .dataframe tbody tr th:only-of-type {\n",
       "        vertical-align: middle;\n",
       "    }\n",
       "\n",
       "    .dataframe tbody tr th {\n",
       "        vertical-align: top;\n",
       "    }\n",
       "\n",
       "    .dataframe thead th {\n",
       "        text-align: right;\n",
       "    }\n",
       "</style>\n",
       "<table border=\"1\" class=\"dataframe\">\n",
       "  <thead>\n",
       "    <tr style=\"text-align: right;\">\n",
       "      <th></th>\n",
       "      <th>user_score</th>\n",
       "    </tr>\n",
       "    <tr>\n",
       "      <th>genre</th>\n",
       "      <th></th>\n",
       "    </tr>\n",
       "  </thead>\n",
       "  <tbody>\n",
       "    <tr>\n",
       "      <th>Action</th>\n",
       "      <td>6.760606</td>\n",
       "    </tr>\n",
       "    <tr>\n",
       "      <th>Sports</th>\n",
       "      <td>5.225197</td>\n",
       "    </tr>\n",
       "  </tbody>\n",
       "</table>\n",
       "</div>"
      ],
      "text/plain": [
       "        user_score\n",
       "genre             \n",
       "Action    6.760606\n",
       "Sports    5.225197"
      ]
     },
     "metadata": {},
     "output_type": "display_data"
    }
   ],
   "source": [
    "display(df_actual.query('genre in [\"Action\", \"Sports\"]') \\\n",
    ".pivot_table(index=('genre'), values = 'user_score', aggfunc = 'mean') \\\n",
    ".sort_values(by= 'user_score',ascending=False))"
   ]
  },
  {
   "cell_type": "markdown",
   "metadata": {},
   "source": [
    "Средние пользовательские рейтинги игр жанра Action значительно выше игр в жанре Sports."
   ]
  },
  {
   "cell_type": "markdown",
   "metadata": {},
   "source": [
    "## Общий вывод"
   ]
  },
  {
   "cell_type": "markdown",
   "metadata": {},
   "source": [
    "Мы изучили данные о продажах компютерных игр и выявили следующее:\n",
    "\n",
    "- наибольшее количество компьютерных игр выпускалось в период с 2002 по 2011 год (примерно 800-1100 игр в год). Далее начался спад, в год стало выпускаться в 2 раза меньше игр, чем выпускалось на пике.\n",
    "\n",
    "\n",
    "- самыми популярными платформами за последние 3 года являются PS4 (69.25), XOne (26.15) и 3DS (15.14), последняя в основном за счет продаж в Японии.\n",
    "\n",
    "\n",
    "- в целом наблюдается спад с продажах игр, по имеющимся данным продажи на всех платформах падают, нет ни одной платформы, у которой продажи за последние годы росли.\n",
    "\n",
    "\n",
    "- оценки пользователей и критиков значительного влияния на продажи не оказывают.\n",
    "\n",
    "\n",
    "- наиболее популярные жанры Shooter, Action, Role-Playing. При этом прибыль они приносят по-разному. В жанре Shooter выпускается относительно мало игр, но они более дорогие, а в жанре Action выпускается наибольшее количество игр, но каждая из них в среднем приносит небольшую прибыль. В жанре Role-Playing выпускается больше игр, чем в Shooter, но прибыль в среднем выше, чем у жанра Action. \n",
    "\n",
    "\n",
    "- в зависимости от региона продаж предпочтения пользователей различаются. В Северной Америке и Европе большинство игроков предпочитает платформу PS4 и жанры Action и Shooter. Японские игроки предпочитают 3DS и жанры Role-Playing и Action.\n",
    "\n",
    "Также мы проверили две гипотезы, по результатам проверки которых можем сказать, что \n",
    "средние пользовательские рейтинги платформ Xbox One и PC примерно одинаковые, средние пользовательские рейтинги игр жанра Action значительно выше игр в жанре Sports.\n",
    "\n",
    "По результатам произведенного анализа при планировании кампаний по продаже игр на 2017 год рекомендую: \n",
    "- отдавать предпочтение платформам PS4 и 3DS;\n",
    "- отдавать предпочтение жанрам Action и Role-Playing;\n",
    "- учитывать регион для рекламной кампании, для Северной Америки/Европы и Японии следует ориентироваться на разные платформы/жанры."
   ]
  },
  {
   "cell_type": "code",
   "execution_count": null,
   "metadata": {},
   "outputs": [],
   "source": []
  }
 ],
 "metadata": {
  "ExecuteTimeLog": [
   {
    "duration": 387,
    "start_time": "2023-12-18T08:57:03.656Z"
   },
   {
    "duration": 113,
    "start_time": "2023-12-18T08:57:43.023Z"
   },
   {
    "duration": 13,
    "start_time": "2023-12-18T08:58:17.750Z"
   },
   {
    "duration": 58,
    "start_time": "2023-12-18T09:13:28.017Z"
   },
   {
    "duration": 3,
    "start_time": "2023-12-18T09:14:29.726Z"
   },
   {
    "duration": 7,
    "start_time": "2023-12-18T09:14:43.759Z"
   },
   {
    "duration": 13,
    "start_time": "2023-12-18T09:14:47.082Z"
   },
   {
    "duration": 7,
    "start_time": "2023-12-18T09:19:05.069Z"
   },
   {
    "duration": 12,
    "start_time": "2023-12-18T09:19:08.605Z"
   },
   {
    "duration": 5,
    "start_time": "2023-12-18T09:21:32.314Z"
   },
   {
    "duration": 3,
    "start_time": "2023-12-18T09:39:06.298Z"
   },
   {
    "duration": 4,
    "start_time": "2023-12-18T09:39:09.498Z"
   },
   {
    "duration": 4,
    "start_time": "2023-12-18T09:39:44.465Z"
   },
   {
    "duration": 10,
    "start_time": "2023-12-18T09:50:16.456Z"
   },
   {
    "duration": 11,
    "start_time": "2023-12-18T10:26:45.748Z"
   },
   {
    "duration": 434,
    "start_time": "2023-12-18T10:26:57.169Z"
   },
   {
    "duration": 12,
    "start_time": "2023-12-18T10:26:57.604Z"
   },
   {
    "duration": 29,
    "start_time": "2023-12-18T10:26:57.617Z"
   },
   {
    "duration": 32,
    "start_time": "2023-12-18T10:26:57.647Z"
   },
   {
    "duration": 3,
    "start_time": "2023-12-18T10:26:57.681Z"
   },
   {
    "duration": 62,
    "start_time": "2023-12-18T10:26:57.685Z"
   },
   {
    "duration": 11,
    "start_time": "2023-12-18T11:18:38.975Z"
   },
   {
    "duration": 13,
    "start_time": "2023-12-18T11:21:59.355Z"
   },
   {
    "duration": 9,
    "start_time": "2023-12-18T11:22:30.602Z"
   },
   {
    "duration": 6,
    "start_time": "2023-12-18T12:07:55.652Z"
   },
   {
    "duration": 105,
    "start_time": "2023-12-18T12:15:00.394Z"
   },
   {
    "duration": 11,
    "start_time": "2023-12-18T12:15:16.538Z"
   },
   {
    "duration": 6,
    "start_time": "2023-12-18T12:15:26.250Z"
   },
   {
    "duration": 5,
    "start_time": "2023-12-18T12:16:01.772Z"
   },
   {
    "duration": 12,
    "start_time": "2023-12-18T12:18:48.272Z"
   },
   {
    "duration": 445,
    "start_time": "2023-12-18T12:19:01.066Z"
   },
   {
    "duration": 12,
    "start_time": "2023-12-18T12:19:01.513Z"
   },
   {
    "duration": 53,
    "start_time": "2023-12-18T12:19:01.527Z"
   },
   {
    "duration": 58,
    "start_time": "2023-12-18T12:19:01.582Z"
   },
   {
    "duration": 37,
    "start_time": "2023-12-18T12:19:01.642Z"
   },
   {
    "duration": 32,
    "start_time": "2023-12-18T12:19:01.680Z"
   },
   {
    "duration": 36,
    "start_time": "2023-12-18T12:19:01.713Z"
   },
   {
    "duration": 14,
    "start_time": "2023-12-18T12:19:37.528Z"
   },
   {
    "duration": 6,
    "start_time": "2023-12-18T12:20:32.055Z"
   },
   {
    "duration": 12,
    "start_time": "2023-12-18T12:21:06.970Z"
   },
   {
    "duration": 3,
    "start_time": "2023-12-18T12:23:12.189Z"
   },
   {
    "duration": 5,
    "start_time": "2023-12-18T12:24:23.603Z"
   },
   {
    "duration": 65,
    "start_time": "2023-12-18T12:25:22.140Z"
   },
   {
    "duration": 428,
    "start_time": "2023-12-18T12:25:31.395Z"
   },
   {
    "duration": 12,
    "start_time": "2023-12-18T12:25:31.826Z"
   },
   {
    "duration": 31,
    "start_time": "2023-12-18T12:25:31.840Z"
   },
   {
    "duration": 37,
    "start_time": "2023-12-18T12:25:31.872Z"
   },
   {
    "duration": 31,
    "start_time": "2023-12-18T12:25:31.910Z"
   },
   {
    "duration": 28,
    "start_time": "2023-12-18T12:25:31.943Z"
   },
   {
    "duration": 50,
    "start_time": "2023-12-18T12:25:31.972Z"
   },
   {
    "duration": 14,
    "start_time": "2023-12-18T12:26:28.006Z"
   },
   {
    "duration": 14,
    "start_time": "2023-12-18T12:28:33.680Z"
   },
   {
    "duration": 14,
    "start_time": "2023-12-18T12:29:08.015Z"
   },
   {
    "duration": 13,
    "start_time": "2023-12-18T12:29:09.081Z"
   },
   {
    "duration": 474,
    "start_time": "2023-12-18T12:29:18.931Z"
   },
   {
    "duration": 14,
    "start_time": "2023-12-18T12:29:19.407Z"
   },
   {
    "duration": 19,
    "start_time": "2023-12-18T12:29:19.422Z"
   },
   {
    "duration": 21,
    "start_time": "2023-12-18T12:29:19.444Z"
   },
   {
    "duration": 9,
    "start_time": "2023-12-18T12:29:19.466Z"
   },
   {
    "duration": 4,
    "start_time": "2023-12-18T12:29:19.477Z"
   },
   {
    "duration": 21,
    "start_time": "2023-12-18T12:29:19.483Z"
   },
   {
    "duration": 17,
    "start_time": "2023-12-18T12:29:19.506Z"
   },
   {
    "duration": 13,
    "start_time": "2023-12-18T12:29:19.524Z"
   },
   {
    "duration": 20,
    "start_time": "2023-12-18T12:29:19.539Z"
   },
   {
    "duration": 1316,
    "start_time": "2023-12-18T12:31:57.309Z"
   },
   {
    "duration": 5,
    "start_time": "2023-12-18T12:32:09.494Z"
   },
   {
    "duration": 9,
    "start_time": "2023-12-18T12:32:19.329Z"
   },
   {
    "duration": 8,
    "start_time": "2023-12-18T12:35:49.262Z"
   },
   {
    "duration": 8,
    "start_time": "2023-12-18T12:37:27.416Z"
   },
   {
    "duration": 9,
    "start_time": "2023-12-18T12:38:22.810Z"
   },
   {
    "duration": 6,
    "start_time": "2023-12-18T12:39:13.317Z"
   },
   {
    "duration": 4,
    "start_time": "2023-12-18T12:39:31.887Z"
   },
   {
    "duration": 15,
    "start_time": "2023-12-18T12:39:49.610Z"
   },
   {
    "duration": 18,
    "start_time": "2023-12-18T12:40:31.482Z"
   },
   {
    "duration": 489,
    "start_time": "2023-12-18T12:40:37.541Z"
   },
   {
    "duration": 15,
    "start_time": "2023-12-18T12:40:38.032Z"
   },
   {
    "duration": 14,
    "start_time": "2023-12-18T12:40:38.048Z"
   },
   {
    "duration": 13,
    "start_time": "2023-12-18T12:40:38.065Z"
   },
   {
    "duration": 5,
    "start_time": "2023-12-18T12:40:38.080Z"
   },
   {
    "duration": 12,
    "start_time": "2023-12-18T12:40:38.087Z"
   },
   {
    "duration": 21,
    "start_time": "2023-12-18T12:40:38.100Z"
   },
   {
    "duration": 31,
    "start_time": "2023-12-18T12:40:38.123Z"
   },
   {
    "duration": 10,
    "start_time": "2023-12-18T12:40:38.155Z"
   },
   {
    "duration": 8,
    "start_time": "2023-12-18T12:40:38.168Z"
   },
   {
    "duration": 15,
    "start_time": "2023-12-18T12:40:38.177Z"
   },
   {
    "duration": 19,
    "start_time": "2023-12-18T12:40:38.193Z"
   },
   {
    "duration": 20,
    "start_time": "2023-12-18T12:57:10.607Z"
   },
   {
    "duration": 62,
    "start_time": "2023-12-18T12:59:04.432Z"
   },
   {
    "duration": 421,
    "start_time": "2023-12-18T12:59:24.498Z"
   },
   {
    "duration": 12,
    "start_time": "2023-12-18T12:59:24.921Z"
   },
   {
    "duration": 17,
    "start_time": "2023-12-18T12:59:24.934Z"
   },
   {
    "duration": 14,
    "start_time": "2023-12-18T12:59:24.953Z"
   },
   {
    "duration": 9,
    "start_time": "2023-12-18T12:59:24.968Z"
   },
   {
    "duration": 13,
    "start_time": "2023-12-18T12:59:24.979Z"
   },
   {
    "duration": 13,
    "start_time": "2023-12-18T12:59:24.993Z"
   },
   {
    "duration": 42,
    "start_time": "2023-12-18T12:59:25.007Z"
   },
   {
    "duration": 20,
    "start_time": "2023-12-18T12:59:25.051Z"
   },
   {
    "duration": 16,
    "start_time": "2023-12-18T12:59:25.073Z"
   },
   {
    "duration": 18,
    "start_time": "2023-12-18T12:59:25.090Z"
   },
   {
    "duration": 24,
    "start_time": "2023-12-18T12:59:25.110Z"
   },
   {
    "duration": 7,
    "start_time": "2023-12-18T12:59:51.949Z"
   },
   {
    "duration": 62,
    "start_time": "2023-12-18T13:03:14.714Z"
   },
   {
    "duration": 449,
    "start_time": "2023-12-18T13:03:20.486Z"
   },
   {
    "duration": 16,
    "start_time": "2023-12-18T13:03:20.937Z"
   },
   {
    "duration": 26,
    "start_time": "2023-12-18T13:03:20.954Z"
   },
   {
    "duration": 17,
    "start_time": "2023-12-18T13:03:20.982Z"
   },
   {
    "duration": 18,
    "start_time": "2023-12-18T13:03:21.001Z"
   },
   {
    "duration": 28,
    "start_time": "2023-12-18T13:03:21.021Z"
   },
   {
    "duration": 23,
    "start_time": "2023-12-18T13:03:21.050Z"
   },
   {
    "duration": 17,
    "start_time": "2023-12-18T13:03:21.075Z"
   },
   {
    "duration": 33,
    "start_time": "2023-12-18T13:03:21.094Z"
   },
   {
    "duration": 24,
    "start_time": "2023-12-18T13:03:21.130Z"
   },
   {
    "duration": 17,
    "start_time": "2023-12-18T13:03:21.155Z"
   },
   {
    "duration": 8,
    "start_time": "2023-12-18T13:03:21.173Z"
   },
   {
    "duration": 464,
    "start_time": "2023-12-18T13:06:17.500Z"
   },
   {
    "duration": 13,
    "start_time": "2023-12-18T13:06:17.966Z"
   },
   {
    "duration": 9,
    "start_time": "2023-12-18T13:06:17.980Z"
   },
   {
    "duration": 19,
    "start_time": "2023-12-18T13:06:17.990Z"
   },
   {
    "duration": 74,
    "start_time": "2023-12-18T13:06:18.011Z"
   },
   {
    "duration": 0,
    "start_time": "2023-12-18T13:06:18.087Z"
   },
   {
    "duration": 0,
    "start_time": "2023-12-18T13:06:18.088Z"
   },
   {
    "duration": 0,
    "start_time": "2023-12-18T13:06:18.089Z"
   },
   {
    "duration": 0,
    "start_time": "2023-12-18T13:06:18.090Z"
   },
   {
    "duration": 0,
    "start_time": "2023-12-18T13:06:18.091Z"
   },
   {
    "duration": 0,
    "start_time": "2023-12-18T13:06:18.092Z"
   },
   {
    "duration": 0,
    "start_time": "2023-12-18T13:06:18.094Z"
   },
   {
    "duration": 485,
    "start_time": "2023-12-18T13:06:45.631Z"
   },
   {
    "duration": 14,
    "start_time": "2023-12-18T13:06:46.117Z"
   },
   {
    "duration": 8,
    "start_time": "2023-12-18T13:06:46.132Z"
   },
   {
    "duration": 13,
    "start_time": "2023-12-18T13:06:46.142Z"
   },
   {
    "duration": 17,
    "start_time": "2023-12-18T13:06:46.156Z"
   },
   {
    "duration": 8,
    "start_time": "2023-12-18T13:06:46.175Z"
   },
   {
    "duration": 13,
    "start_time": "2023-12-18T13:06:46.185Z"
   },
   {
    "duration": 12,
    "start_time": "2023-12-18T13:06:46.199Z"
   },
   {
    "duration": 7,
    "start_time": "2023-12-18T13:06:46.213Z"
   },
   {
    "duration": 30,
    "start_time": "2023-12-18T13:06:46.222Z"
   },
   {
    "duration": 12,
    "start_time": "2023-12-18T13:06:46.253Z"
   },
   {
    "duration": 16,
    "start_time": "2023-12-18T13:06:46.267Z"
   },
   {
    "duration": 13,
    "start_time": "2023-12-18T13:07:25.248Z"
   },
   {
    "duration": 64,
    "start_time": "2023-12-18T13:07:51.354Z"
   },
   {
    "duration": 487,
    "start_time": "2023-12-18T13:07:58.020Z"
   },
   {
    "duration": 14,
    "start_time": "2023-12-18T13:07:58.509Z"
   },
   {
    "duration": 8,
    "start_time": "2023-12-18T13:07:58.524Z"
   },
   {
    "duration": 41,
    "start_time": "2023-12-18T13:07:58.534Z"
   },
   {
    "duration": 10,
    "start_time": "2023-12-18T13:07:58.577Z"
   },
   {
    "duration": 11,
    "start_time": "2023-12-18T13:07:58.588Z"
   },
   {
    "duration": 29,
    "start_time": "2023-12-18T13:07:58.601Z"
   },
   {
    "duration": 34,
    "start_time": "2023-12-18T13:07:58.632Z"
   },
   {
    "duration": 26,
    "start_time": "2023-12-18T13:07:58.667Z"
   },
   {
    "duration": 20,
    "start_time": "2023-12-18T13:07:58.695Z"
   },
   {
    "duration": 24,
    "start_time": "2023-12-18T13:07:58.717Z"
   },
   {
    "duration": 10,
    "start_time": "2023-12-18T13:07:58.742Z"
   },
   {
    "duration": 6,
    "start_time": "2023-12-18T13:08:30.156Z"
   },
   {
    "duration": 66,
    "start_time": "2023-12-18T13:10:06.026Z"
   },
   {
    "duration": 480,
    "start_time": "2023-12-18T13:10:12.664Z"
   },
   {
    "duration": 16,
    "start_time": "2023-12-18T13:10:13.147Z"
   },
   {
    "duration": 13,
    "start_time": "2023-12-18T13:10:13.165Z"
   },
   {
    "duration": 14,
    "start_time": "2023-12-18T13:10:13.180Z"
   },
   {
    "duration": 11,
    "start_time": "2023-12-18T13:10:13.195Z"
   },
   {
    "duration": 31,
    "start_time": "2023-12-18T13:10:13.207Z"
   },
   {
    "duration": 18,
    "start_time": "2023-12-18T13:10:13.239Z"
   },
   {
    "duration": 34,
    "start_time": "2023-12-18T13:10:13.259Z"
   },
   {
    "duration": 16,
    "start_time": "2023-12-18T13:10:13.295Z"
   },
   {
    "duration": 7,
    "start_time": "2023-12-18T13:10:13.314Z"
   },
   {
    "duration": 21,
    "start_time": "2023-12-18T13:10:13.323Z"
   },
   {
    "duration": 21,
    "start_time": "2023-12-18T13:10:13.346Z"
   },
   {
    "duration": 4,
    "start_time": "2023-12-18T13:10:27.610Z"
   },
   {
    "duration": 482,
    "start_time": "2023-12-18T13:10:42.125Z"
   },
   {
    "duration": 13,
    "start_time": "2023-12-18T13:10:42.609Z"
   },
   {
    "duration": 13,
    "start_time": "2023-12-18T13:10:42.623Z"
   },
   {
    "duration": 16,
    "start_time": "2023-12-18T13:10:42.638Z"
   },
   {
    "duration": 4,
    "start_time": "2023-12-18T13:10:42.655Z"
   },
   {
    "duration": 5,
    "start_time": "2023-12-18T13:10:42.661Z"
   },
   {
    "duration": 18,
    "start_time": "2023-12-18T13:10:42.667Z"
   },
   {
    "duration": 13,
    "start_time": "2023-12-18T13:10:42.686Z"
   },
   {
    "duration": 10,
    "start_time": "2023-12-18T13:10:42.700Z"
   },
   {
    "duration": 7,
    "start_time": "2023-12-18T13:10:42.712Z"
   },
   {
    "duration": 39,
    "start_time": "2023-12-18T13:10:42.720Z"
   },
   {
    "duration": 5,
    "start_time": "2023-12-18T13:10:42.760Z"
   },
   {
    "duration": 5,
    "start_time": "2023-12-18T13:19:43.694Z"
   },
   {
    "duration": 69,
    "start_time": "2023-12-18T13:20:43.322Z"
   },
   {
    "duration": 436,
    "start_time": "2023-12-18T13:20:50.095Z"
   },
   {
    "duration": 13,
    "start_time": "2023-12-18T13:20:50.533Z"
   },
   {
    "duration": 9,
    "start_time": "2023-12-18T13:20:50.547Z"
   },
   {
    "duration": 33,
    "start_time": "2023-12-18T13:20:50.557Z"
   },
   {
    "duration": 7,
    "start_time": "2023-12-18T13:20:50.591Z"
   },
   {
    "duration": 5,
    "start_time": "2023-12-18T13:20:50.599Z"
   },
   {
    "duration": 17,
    "start_time": "2023-12-18T13:20:50.606Z"
   },
   {
    "duration": 12,
    "start_time": "2023-12-18T13:20:50.624Z"
   },
   {
    "duration": 17,
    "start_time": "2023-12-18T13:20:50.638Z"
   },
   {
    "duration": 8,
    "start_time": "2023-12-18T13:20:50.657Z"
   },
   {
    "duration": 14,
    "start_time": "2023-12-18T13:20:50.666Z"
   },
   {
    "duration": 5,
    "start_time": "2023-12-18T13:20:50.681Z"
   },
   {
    "duration": 7,
    "start_time": "2023-12-18T13:21:04.456Z"
   },
   {
    "duration": 441,
    "start_time": "2023-12-18T13:21:21.777Z"
   },
   {
    "duration": 13,
    "start_time": "2023-12-18T13:21:22.219Z"
   },
   {
    "duration": 9,
    "start_time": "2023-12-18T13:21:22.233Z"
   },
   {
    "duration": 11,
    "start_time": "2023-12-18T13:21:22.244Z"
   },
   {
    "duration": 27,
    "start_time": "2023-12-18T13:21:22.257Z"
   },
   {
    "duration": 16,
    "start_time": "2023-12-18T13:21:22.286Z"
   },
   {
    "duration": 23,
    "start_time": "2023-12-18T13:21:22.304Z"
   },
   {
    "duration": 12,
    "start_time": "2023-12-18T13:21:22.329Z"
   },
   {
    "duration": 23,
    "start_time": "2023-12-18T13:21:22.342Z"
   },
   {
    "duration": 7,
    "start_time": "2023-12-18T13:21:22.367Z"
   },
   {
    "duration": 18,
    "start_time": "2023-12-18T13:21:22.375Z"
   },
   {
    "duration": 4,
    "start_time": "2023-12-18T13:21:22.394Z"
   },
   {
    "duration": 16,
    "start_time": "2023-12-18T13:23:38.523Z"
   },
   {
    "duration": 4,
    "start_time": "2023-12-18T13:24:29.763Z"
   },
   {
    "duration": 5,
    "start_time": "2023-12-18T13:25:18.903Z"
   },
   {
    "duration": 70,
    "start_time": "2023-12-18T13:28:30.458Z"
   },
   {
    "duration": 479,
    "start_time": "2023-12-18T13:28:35.612Z"
   },
   {
    "duration": 13,
    "start_time": "2023-12-18T13:28:36.093Z"
   },
   {
    "duration": 11,
    "start_time": "2023-12-18T13:28:36.108Z"
   },
   {
    "duration": 32,
    "start_time": "2023-12-18T13:28:36.121Z"
   },
   {
    "duration": 19,
    "start_time": "2023-12-18T13:28:36.155Z"
   },
   {
    "duration": 5,
    "start_time": "2023-12-18T13:28:36.176Z"
   },
   {
    "duration": 16,
    "start_time": "2023-12-18T13:28:36.182Z"
   },
   {
    "duration": 5,
    "start_time": "2023-12-18T13:28:36.200Z"
   },
   {
    "duration": 98,
    "start_time": "2023-12-18T13:28:36.206Z"
   },
   {
    "duration": 0,
    "start_time": "2023-12-18T13:28:36.306Z"
   },
   {
    "duration": 0,
    "start_time": "2023-12-18T13:28:36.307Z"
   },
   {
    "duration": 0,
    "start_time": "2023-12-18T13:28:36.308Z"
   },
   {
    "duration": 0,
    "start_time": "2023-12-18T13:28:36.309Z"
   },
   {
    "duration": 0,
    "start_time": "2023-12-18T13:28:36.310Z"
   },
   {
    "duration": 446,
    "start_time": "2023-12-18T13:28:58.368Z"
   },
   {
    "duration": 14,
    "start_time": "2023-12-18T13:28:58.816Z"
   },
   {
    "duration": 9,
    "start_time": "2023-12-18T13:28:58.831Z"
   },
   {
    "duration": 29,
    "start_time": "2023-12-18T13:28:58.841Z"
   },
   {
    "duration": 9,
    "start_time": "2023-12-18T13:28:58.872Z"
   },
   {
    "duration": 5,
    "start_time": "2023-12-18T13:28:58.883Z"
   },
   {
    "duration": 11,
    "start_time": "2023-12-18T13:28:58.889Z"
   },
   {
    "duration": 13,
    "start_time": "2023-12-18T13:28:58.901Z"
   },
   {
    "duration": 77,
    "start_time": "2023-12-18T13:28:58.916Z"
   },
   {
    "duration": 0,
    "start_time": "2023-12-18T13:28:58.994Z"
   },
   {
    "duration": 0,
    "start_time": "2023-12-18T13:28:58.996Z"
   },
   {
    "duration": 0,
    "start_time": "2023-12-18T13:28:58.997Z"
   },
   {
    "duration": 0,
    "start_time": "2023-12-18T13:28:58.998Z"
   },
   {
    "duration": 0,
    "start_time": "2023-12-18T13:28:58.999Z"
   },
   {
    "duration": 8,
    "start_time": "2023-12-18T13:29:11.656Z"
   },
   {
    "duration": 14,
    "start_time": "2023-12-18T13:29:14.841Z"
   },
   {
    "duration": 470,
    "start_time": "2023-12-18T13:29:36.444Z"
   },
   {
    "duration": 13,
    "start_time": "2023-12-18T13:29:36.916Z"
   },
   {
    "duration": 10,
    "start_time": "2023-12-18T13:29:36.930Z"
   },
   {
    "duration": 12,
    "start_time": "2023-12-18T13:29:36.942Z"
   },
   {
    "duration": 19,
    "start_time": "2023-12-18T13:29:36.955Z"
   },
   {
    "duration": 5,
    "start_time": "2023-12-18T13:29:36.975Z"
   },
   {
    "duration": 14,
    "start_time": "2023-12-18T13:29:36.981Z"
   },
   {
    "duration": 21,
    "start_time": "2023-12-18T13:29:36.996Z"
   },
   {
    "duration": 19,
    "start_time": "2023-12-18T13:29:37.019Z"
   },
   {
    "duration": 14,
    "start_time": "2023-12-18T13:29:37.040Z"
   },
   {
    "duration": 9,
    "start_time": "2023-12-18T13:29:37.056Z"
   },
   {
    "duration": 7,
    "start_time": "2023-12-18T13:29:37.067Z"
   },
   {
    "duration": 15,
    "start_time": "2023-12-18T13:29:37.075Z"
   },
   {
    "duration": 5,
    "start_time": "2023-12-18T13:29:37.091Z"
   },
   {
    "duration": 65,
    "start_time": "2023-12-18T13:30:05.708Z"
   },
   {
    "duration": 8,
    "start_time": "2023-12-18T13:30:10.154Z"
   },
   {
    "duration": 7,
    "start_time": "2023-12-18T13:30:27.515Z"
   },
   {
    "duration": 466,
    "start_time": "2023-12-18T13:31:35.916Z"
   },
   {
    "duration": 20,
    "start_time": "2023-12-18T13:31:36.384Z"
   },
   {
    "duration": 11,
    "start_time": "2023-12-18T13:31:36.406Z"
   },
   {
    "duration": 22,
    "start_time": "2023-12-18T13:31:36.419Z"
   },
   {
    "duration": 16,
    "start_time": "2023-12-18T13:31:36.442Z"
   },
   {
    "duration": 4,
    "start_time": "2023-12-18T13:31:36.460Z"
   },
   {
    "duration": 13,
    "start_time": "2023-12-18T13:31:36.466Z"
   },
   {
    "duration": 11,
    "start_time": "2023-12-18T13:31:36.480Z"
   },
   {
    "duration": 10,
    "start_time": "2023-12-18T13:31:36.492Z"
   },
   {
    "duration": 13,
    "start_time": "2023-12-18T13:31:36.504Z"
   },
   {
    "duration": 37,
    "start_time": "2023-12-18T13:31:36.518Z"
   },
   {
    "duration": 4,
    "start_time": "2023-12-18T13:31:36.557Z"
   },
   {
    "duration": 7,
    "start_time": "2023-12-18T13:35:01.081Z"
   },
   {
    "duration": 12,
    "start_time": "2023-12-18T13:35:22.006Z"
   },
   {
    "duration": 71,
    "start_time": "2023-12-18T13:35:55.099Z"
   },
   {
    "duration": 90,
    "start_time": "2023-12-18T13:36:13.375Z"
   },
   {
    "duration": 12,
    "start_time": "2023-12-18T13:36:17.296Z"
   },
   {
    "duration": 9,
    "start_time": "2023-12-18T13:37:14.892Z"
   },
   {
    "duration": 4,
    "start_time": "2023-12-18T13:37:21.628Z"
   },
   {
    "duration": 3,
    "start_time": "2023-12-18T13:37:31.796Z"
   },
   {
    "duration": 5,
    "start_time": "2023-12-18T13:39:35.723Z"
   },
   {
    "duration": 4,
    "start_time": "2023-12-18T13:40:04.902Z"
   },
   {
    "duration": 5,
    "start_time": "2023-12-18T13:42:03.898Z"
   },
   {
    "duration": 18,
    "start_time": "2023-12-18T13:42:11.995Z"
   },
   {
    "duration": 20,
    "start_time": "2023-12-18T13:46:17.826Z"
   },
   {
    "duration": 24,
    "start_time": "2023-12-18T13:46:43.124Z"
   },
   {
    "duration": 12,
    "start_time": "2023-12-18T13:48:43.688Z"
   },
   {
    "duration": 10,
    "start_time": "2023-12-18T13:49:21.900Z"
   },
   {
    "duration": 8,
    "start_time": "2023-12-18T13:49:26.642Z"
   },
   {
    "duration": 13,
    "start_time": "2023-12-18T13:50:05.302Z"
   },
   {
    "duration": 25,
    "start_time": "2023-12-18T13:50:50.811Z"
   },
   {
    "duration": 18,
    "start_time": "2023-12-18T13:56:10.645Z"
   },
   {
    "duration": 8,
    "start_time": "2023-12-18T13:58:32.164Z"
   },
   {
    "duration": 8,
    "start_time": "2023-12-18T14:03:53.408Z"
   },
   {
    "duration": 52,
    "start_time": "2023-12-18T14:03:58.282Z"
   },
   {
    "duration": 45,
    "start_time": "2023-12-18T14:04:34.632Z"
   },
   {
    "duration": 47,
    "start_time": "2023-12-19T10:49:43.520Z"
   },
   {
    "duration": 502,
    "start_time": "2023-12-19T10:49:50.891Z"
   },
   {
    "duration": 14,
    "start_time": "2023-12-19T10:49:51.395Z"
   },
   {
    "duration": 32,
    "start_time": "2023-12-19T10:49:51.411Z"
   },
   {
    "duration": 21,
    "start_time": "2023-12-19T10:49:51.445Z"
   },
   {
    "duration": 19,
    "start_time": "2023-12-19T10:49:51.468Z"
   },
   {
    "duration": 28,
    "start_time": "2023-12-19T10:49:51.489Z"
   },
   {
    "duration": 6,
    "start_time": "2023-12-19T10:49:51.518Z"
   },
   {
    "duration": 26,
    "start_time": "2023-12-19T10:49:51.526Z"
   },
   {
    "duration": 32,
    "start_time": "2023-12-19T10:49:51.554Z"
   },
   {
    "duration": 13,
    "start_time": "2023-12-19T10:49:51.588Z"
   },
   {
    "duration": 9,
    "start_time": "2023-12-19T10:49:51.603Z"
   },
   {
    "duration": 27,
    "start_time": "2023-12-19T10:49:51.614Z"
   },
   {
    "duration": 4820,
    "start_time": "2023-12-19T10:49:51.643Z"
   },
   {
    "duration": 4,
    "start_time": "2023-12-19T10:49:56.466Z"
   },
   {
    "duration": 21,
    "start_time": "2023-12-19T10:50:17.544Z"
   },
   {
    "duration": 61,
    "start_time": "2023-12-19T10:52:04.268Z"
   },
   {
    "duration": 10,
    "start_time": "2023-12-19T10:52:18.144Z"
   },
   {
    "duration": 458,
    "start_time": "2023-12-19T10:52:25.596Z"
   },
   {
    "duration": 13,
    "start_time": "2023-12-19T10:52:26.056Z"
   },
   {
    "duration": 10,
    "start_time": "2023-12-19T10:52:26.071Z"
   },
   {
    "duration": 21,
    "start_time": "2023-12-19T10:52:26.083Z"
   },
   {
    "duration": 25,
    "start_time": "2023-12-19T10:52:26.105Z"
   },
   {
    "duration": 23,
    "start_time": "2023-12-19T10:52:26.132Z"
   },
   {
    "duration": 5,
    "start_time": "2023-12-19T10:52:26.157Z"
   },
   {
    "duration": 15,
    "start_time": "2023-12-19T10:52:26.164Z"
   },
   {
    "duration": 15,
    "start_time": "2023-12-19T10:52:26.180Z"
   },
   {
    "duration": 8,
    "start_time": "2023-12-19T10:52:26.198Z"
   },
   {
    "duration": 13,
    "start_time": "2023-12-19T10:52:26.207Z"
   },
   {
    "duration": 18,
    "start_time": "2023-12-19T10:52:26.221Z"
   },
   {
    "duration": 39,
    "start_time": "2023-12-19T10:52:26.240Z"
   },
   {
    "duration": 55,
    "start_time": "2023-12-19T10:52:26.280Z"
   },
   {
    "duration": 10,
    "start_time": "2023-12-19T10:52:26.336Z"
   },
   {
    "duration": 4,
    "start_time": "2023-12-19T10:53:08.453Z"
   },
   {
    "duration": 23,
    "start_time": "2023-12-19T10:53:09.371Z"
   },
   {
    "duration": 4,
    "start_time": "2023-12-19T10:55:12.323Z"
   },
   {
    "duration": 22,
    "start_time": "2023-12-19T10:55:12.844Z"
   },
   {
    "duration": 418,
    "start_time": "2023-12-19T10:55:22.320Z"
   },
   {
    "duration": 14,
    "start_time": "2023-12-19T10:55:22.739Z"
   },
   {
    "duration": 9,
    "start_time": "2023-12-19T10:55:22.754Z"
   },
   {
    "duration": 23,
    "start_time": "2023-12-19T10:55:22.764Z"
   },
   {
    "duration": 11,
    "start_time": "2023-12-19T10:55:22.788Z"
   },
   {
    "duration": 8,
    "start_time": "2023-12-19T10:55:22.801Z"
   },
   {
    "duration": 4,
    "start_time": "2023-12-19T10:55:22.811Z"
   },
   {
    "duration": 14,
    "start_time": "2023-12-19T10:55:22.816Z"
   },
   {
    "duration": 26,
    "start_time": "2023-12-19T10:55:22.831Z"
   },
   {
    "duration": 11,
    "start_time": "2023-12-19T10:55:22.859Z"
   },
   {
    "duration": 7,
    "start_time": "2023-12-19T10:55:22.871Z"
   },
   {
    "duration": 13,
    "start_time": "2023-12-19T10:55:22.879Z"
   },
   {
    "duration": 4,
    "start_time": "2023-12-19T10:55:22.894Z"
   },
   {
    "duration": 21,
    "start_time": "2023-12-19T10:55:22.899Z"
   },
   {
    "duration": 11,
    "start_time": "2023-12-19T10:55:22.921Z"
   },
   {
    "duration": 6,
    "start_time": "2023-12-19T10:55:57.017Z"
   },
   {
    "duration": 3,
    "start_time": "2023-12-19T10:56:07.571Z"
   },
   {
    "duration": 5,
    "start_time": "2023-12-19T10:58:09.913Z"
   },
   {
    "duration": 482,
    "start_time": "2023-12-19T10:58:19.381Z"
   },
   {
    "duration": 13,
    "start_time": "2023-12-19T10:58:19.865Z"
   },
   {
    "duration": 10,
    "start_time": "2023-12-19T10:58:19.879Z"
   },
   {
    "duration": 17,
    "start_time": "2023-12-19T10:58:19.890Z"
   },
   {
    "duration": 8,
    "start_time": "2023-12-19T10:58:19.909Z"
   },
   {
    "duration": 13,
    "start_time": "2023-12-19T10:58:19.919Z"
   },
   {
    "duration": 4,
    "start_time": "2023-12-19T10:58:19.933Z"
   },
   {
    "duration": 37,
    "start_time": "2023-12-19T10:58:19.939Z"
   },
   {
    "duration": 17,
    "start_time": "2023-12-19T10:58:19.977Z"
   },
   {
    "duration": 9,
    "start_time": "2023-12-19T10:58:19.995Z"
   },
   {
    "duration": 23,
    "start_time": "2023-12-19T10:58:20.005Z"
   },
   {
    "duration": 43,
    "start_time": "2023-12-19T10:58:20.030Z"
   },
   {
    "duration": 19,
    "start_time": "2023-12-19T10:58:20.074Z"
   },
   {
    "duration": 41,
    "start_time": "2023-12-19T10:58:20.095Z"
   },
   {
    "duration": 11,
    "start_time": "2023-12-19T10:58:20.138Z"
   },
   {
    "duration": 14,
    "start_time": "2023-12-19T11:00:32.793Z"
   },
   {
    "duration": 11,
    "start_time": "2023-12-19T11:06:28.100Z"
   },
   {
    "duration": 460,
    "start_time": "2023-12-19T11:06:33.780Z"
   },
   {
    "duration": 13,
    "start_time": "2023-12-19T11:06:34.242Z"
   },
   {
    "duration": 11,
    "start_time": "2023-12-19T11:06:34.257Z"
   },
   {
    "duration": 13,
    "start_time": "2023-12-19T11:06:34.269Z"
   },
   {
    "duration": 10,
    "start_time": "2023-12-19T11:06:34.284Z"
   },
   {
    "duration": 16,
    "start_time": "2023-12-19T11:06:34.295Z"
   },
   {
    "duration": 5,
    "start_time": "2023-12-19T11:06:34.313Z"
   },
   {
    "duration": 15,
    "start_time": "2023-12-19T11:06:34.319Z"
   },
   {
    "duration": 29,
    "start_time": "2023-12-19T11:06:34.336Z"
   },
   {
    "duration": 10,
    "start_time": "2023-12-19T11:06:34.367Z"
   },
   {
    "duration": 7,
    "start_time": "2023-12-19T11:06:34.378Z"
   },
   {
    "duration": 12,
    "start_time": "2023-12-19T11:06:34.386Z"
   },
   {
    "duration": 3,
    "start_time": "2023-12-19T11:06:34.399Z"
   },
   {
    "duration": 19,
    "start_time": "2023-12-19T11:06:34.404Z"
   },
   {
    "duration": 3,
    "start_time": "2023-12-19T11:06:34.424Z"
   },
   {
    "duration": 370,
    "start_time": "2023-12-19T11:07:39.415Z"
   },
   {
    "duration": 488,
    "start_time": "2023-12-19T11:07:50.227Z"
   },
   {
    "duration": 14,
    "start_time": "2023-12-19T11:07:50.717Z"
   },
   {
    "duration": 9,
    "start_time": "2023-12-19T11:07:50.732Z"
   },
   {
    "duration": 26,
    "start_time": "2023-12-19T11:07:50.743Z"
   },
   {
    "duration": 14,
    "start_time": "2023-12-19T11:07:50.771Z"
   },
   {
    "duration": 14,
    "start_time": "2023-12-19T11:07:50.787Z"
   },
   {
    "duration": 5,
    "start_time": "2023-12-19T11:07:50.803Z"
   },
   {
    "duration": 19,
    "start_time": "2023-12-19T11:07:50.809Z"
   },
   {
    "duration": 15,
    "start_time": "2023-12-19T11:07:50.829Z"
   },
   {
    "duration": 28,
    "start_time": "2023-12-19T11:07:50.846Z"
   },
   {
    "duration": 7,
    "start_time": "2023-12-19T11:07:50.876Z"
   },
   {
    "duration": 16,
    "start_time": "2023-12-19T11:07:50.885Z"
   },
   {
    "duration": 4,
    "start_time": "2023-12-19T11:07:50.902Z"
   },
   {
    "duration": 13,
    "start_time": "2023-12-19T11:07:50.908Z"
   },
   {
    "duration": 9,
    "start_time": "2023-12-19T11:07:50.923Z"
   },
   {
    "duration": 20,
    "start_time": "2023-12-19T11:08:38.301Z"
   },
   {
    "duration": 20,
    "start_time": "2023-12-19T11:08:56.769Z"
   },
   {
    "duration": 20,
    "start_time": "2023-12-19T11:09:21.709Z"
   },
   {
    "duration": 20,
    "start_time": "2023-12-19T11:09:29.984Z"
   },
   {
    "duration": 80,
    "start_time": "2023-12-19T11:09:41.393Z"
   },
   {
    "duration": 459,
    "start_time": "2023-12-19T11:10:11.172Z"
   },
   {
    "duration": 13,
    "start_time": "2023-12-19T11:10:11.633Z"
   },
   {
    "duration": 16,
    "start_time": "2023-12-19T11:10:11.647Z"
   },
   {
    "duration": 23,
    "start_time": "2023-12-19T11:10:11.665Z"
   },
   {
    "duration": 16,
    "start_time": "2023-12-19T11:10:11.690Z"
   },
   {
    "duration": 85,
    "start_time": "2023-12-19T11:10:11.708Z"
   },
   {
    "duration": 0,
    "start_time": "2023-12-19T11:10:11.794Z"
   },
   {
    "duration": 0,
    "start_time": "2023-12-19T11:10:11.795Z"
   },
   {
    "duration": 0,
    "start_time": "2023-12-19T11:10:11.796Z"
   },
   {
    "duration": 0,
    "start_time": "2023-12-19T11:10:11.797Z"
   },
   {
    "duration": 0,
    "start_time": "2023-12-19T11:10:11.798Z"
   },
   {
    "duration": 0,
    "start_time": "2023-12-19T11:10:11.799Z"
   },
   {
    "duration": 0,
    "start_time": "2023-12-19T11:10:11.801Z"
   },
   {
    "duration": 0,
    "start_time": "2023-12-19T11:10:11.803Z"
   },
   {
    "duration": 0,
    "start_time": "2023-12-19T11:10:11.804Z"
   },
   {
    "duration": 25,
    "start_time": "2023-12-19T11:10:50.310Z"
   },
   {
    "duration": 24,
    "start_time": "2023-12-19T11:11:07.708Z"
   },
   {
    "duration": 18,
    "start_time": "2023-12-19T11:12:21.624Z"
   },
   {
    "duration": 16,
    "start_time": "2023-12-19T11:12:29.480Z"
   },
   {
    "duration": 21,
    "start_time": "2023-12-19T11:12:37.015Z"
   },
   {
    "duration": 309,
    "start_time": "2023-12-19T11:13:38.032Z"
   },
   {
    "duration": 464,
    "start_time": "2023-12-19T11:13:47.085Z"
   },
   {
    "duration": 14,
    "start_time": "2023-12-19T11:13:47.552Z"
   },
   {
    "duration": 8,
    "start_time": "2023-12-19T11:13:47.568Z"
   },
   {
    "duration": 19,
    "start_time": "2023-12-19T11:13:47.577Z"
   },
   {
    "duration": 11,
    "start_time": "2023-12-19T11:13:47.598Z"
   },
   {
    "duration": 20,
    "start_time": "2023-12-19T11:13:47.611Z"
   },
   {
    "duration": 5,
    "start_time": "2023-12-19T11:13:47.632Z"
   },
   {
    "duration": 44,
    "start_time": "2023-12-19T11:13:47.639Z"
   },
   {
    "duration": 18,
    "start_time": "2023-12-19T11:13:47.685Z"
   },
   {
    "duration": 10,
    "start_time": "2023-12-19T11:13:47.705Z"
   },
   {
    "duration": 13,
    "start_time": "2023-12-19T11:13:47.716Z"
   },
   {
    "duration": 34,
    "start_time": "2023-12-19T11:13:47.731Z"
   },
   {
    "duration": 5,
    "start_time": "2023-12-19T11:13:47.766Z"
   },
   {
    "duration": 15,
    "start_time": "2023-12-19T11:13:47.773Z"
   },
   {
    "duration": 4,
    "start_time": "2023-12-19T11:13:47.789Z"
   },
   {
    "duration": 21,
    "start_time": "2023-12-19T11:13:59.357Z"
   },
   {
    "duration": 354,
    "start_time": "2023-12-19T11:18:13.447Z"
   },
   {
    "duration": 496,
    "start_time": "2023-12-19T11:18:23.958Z"
   },
   {
    "duration": 13,
    "start_time": "2023-12-19T11:18:24.456Z"
   },
   {
    "duration": 23,
    "start_time": "2023-12-19T11:18:24.470Z"
   },
   {
    "duration": 22,
    "start_time": "2023-12-19T11:18:24.494Z"
   },
   {
    "duration": 24,
    "start_time": "2023-12-19T11:18:24.518Z"
   },
   {
    "duration": 35,
    "start_time": "2023-12-19T11:18:24.544Z"
   },
   {
    "duration": 8,
    "start_time": "2023-12-19T11:18:24.581Z"
   },
   {
    "duration": 127,
    "start_time": "2023-12-19T11:18:24.591Z"
   },
   {
    "duration": 0,
    "start_time": "2023-12-19T11:18:24.719Z"
   },
   {
    "duration": 0,
    "start_time": "2023-12-19T11:18:24.721Z"
   },
   {
    "duration": 0,
    "start_time": "2023-12-19T11:18:24.722Z"
   },
   {
    "duration": 0,
    "start_time": "2023-12-19T11:18:24.723Z"
   },
   {
    "duration": 0,
    "start_time": "2023-12-19T11:18:24.724Z"
   },
   {
    "duration": 0,
    "start_time": "2023-12-19T11:18:24.727Z"
   },
   {
    "duration": 0,
    "start_time": "2023-12-19T11:18:24.728Z"
   },
   {
    "duration": 347,
    "start_time": "2023-12-19T11:20:43.323Z"
   },
   {
    "duration": 513,
    "start_time": "2023-12-19T11:20:48.633Z"
   },
   {
    "duration": 14,
    "start_time": "2023-12-19T11:20:49.148Z"
   },
   {
    "duration": 22,
    "start_time": "2023-12-19T11:20:49.163Z"
   },
   {
    "duration": 31,
    "start_time": "2023-12-19T11:20:49.186Z"
   },
   {
    "duration": 16,
    "start_time": "2023-12-19T11:20:49.219Z"
   },
   {
    "duration": 22,
    "start_time": "2023-12-19T11:20:49.236Z"
   },
   {
    "duration": 4,
    "start_time": "2023-12-19T11:20:49.260Z"
   },
   {
    "duration": 73,
    "start_time": "2023-12-19T11:20:49.265Z"
   },
   {
    "duration": 0,
    "start_time": "2023-12-19T11:20:49.339Z"
   },
   {
    "duration": 0,
    "start_time": "2023-12-19T11:20:49.340Z"
   },
   {
    "duration": 0,
    "start_time": "2023-12-19T11:20:49.342Z"
   },
   {
    "duration": 0,
    "start_time": "2023-12-19T11:20:49.343Z"
   },
   {
    "duration": 0,
    "start_time": "2023-12-19T11:20:49.345Z"
   },
   {
    "duration": 0,
    "start_time": "2023-12-19T11:20:49.346Z"
   },
   {
    "duration": 0,
    "start_time": "2023-12-19T11:20:49.365Z"
   },
   {
    "duration": 309,
    "start_time": "2023-12-19T11:21:16.999Z"
   },
   {
    "duration": 451,
    "start_time": "2023-12-19T11:21:23.988Z"
   },
   {
    "duration": 14,
    "start_time": "2023-12-19T11:21:24.440Z"
   },
   {
    "duration": 9,
    "start_time": "2023-12-19T11:21:24.458Z"
   },
   {
    "duration": 13,
    "start_time": "2023-12-19T11:21:24.468Z"
   },
   {
    "duration": 10,
    "start_time": "2023-12-19T11:21:24.483Z"
   },
   {
    "duration": 30,
    "start_time": "2023-12-19T11:21:24.495Z"
   },
   {
    "duration": 6,
    "start_time": "2023-12-19T11:21:24.527Z"
   },
   {
    "duration": 108,
    "start_time": "2023-12-19T11:21:24.535Z"
   },
   {
    "duration": 0,
    "start_time": "2023-12-19T11:21:24.645Z"
   },
   {
    "duration": 0,
    "start_time": "2023-12-19T11:21:24.646Z"
   },
   {
    "duration": 0,
    "start_time": "2023-12-19T11:21:24.650Z"
   },
   {
    "duration": 0,
    "start_time": "2023-12-19T11:21:24.651Z"
   },
   {
    "duration": 0,
    "start_time": "2023-12-19T11:21:24.665Z"
   },
   {
    "duration": 0,
    "start_time": "2023-12-19T11:21:24.667Z"
   },
   {
    "duration": 0,
    "start_time": "2023-12-19T11:21:24.668Z"
   },
   {
    "duration": 12,
    "start_time": "2023-12-19T11:21:47.974Z"
   },
   {
    "duration": 340,
    "start_time": "2023-12-19T11:22:13.197Z"
   },
   {
    "duration": 16,
    "start_time": "2023-12-19T11:22:24.899Z"
   },
   {
    "duration": 478,
    "start_time": "2023-12-19T11:22:32.873Z"
   },
   {
    "duration": 14,
    "start_time": "2023-12-19T11:22:33.353Z"
   },
   {
    "duration": 25,
    "start_time": "2023-12-19T11:22:33.369Z"
   },
   {
    "duration": 22,
    "start_time": "2023-12-19T11:22:33.396Z"
   },
   {
    "duration": 21,
    "start_time": "2023-12-19T11:22:33.420Z"
   },
   {
    "duration": 15,
    "start_time": "2023-12-19T11:22:33.443Z"
   },
   {
    "duration": 24,
    "start_time": "2023-12-19T11:22:33.460Z"
   },
   {
    "duration": 24,
    "start_time": "2023-12-19T11:22:33.486Z"
   },
   {
    "duration": 20,
    "start_time": "2023-12-19T11:22:33.512Z"
   },
   {
    "duration": 41,
    "start_time": "2023-12-19T11:22:33.533Z"
   },
   {
    "duration": 11,
    "start_time": "2023-12-19T11:22:33.576Z"
   },
   {
    "duration": 8,
    "start_time": "2023-12-19T11:22:33.589Z"
   },
   {
    "duration": 13,
    "start_time": "2023-12-19T11:22:33.599Z"
   },
   {
    "duration": 5,
    "start_time": "2023-12-19T11:22:33.615Z"
   },
   {
    "duration": 13,
    "start_time": "2023-12-19T11:22:33.622Z"
   },
   {
    "duration": 4,
    "start_time": "2023-12-19T11:22:33.665Z"
   },
   {
    "duration": 59,
    "start_time": "2023-12-19T11:30:38.153Z"
   },
   {
    "duration": 23,
    "start_time": "2023-12-19T11:30:42.280Z"
   },
   {
    "duration": 20,
    "start_time": "2023-12-19T11:30:55.140Z"
   },
   {
    "duration": 35,
    "start_time": "2023-12-19T11:35:54.295Z"
   },
   {
    "duration": 23,
    "start_time": "2023-12-19T11:36:01.755Z"
   },
   {
    "duration": 10,
    "start_time": "2023-12-19T11:37:09.694Z"
   },
   {
    "duration": 7,
    "start_time": "2023-12-19T11:37:35.890Z"
   },
   {
    "duration": 12,
    "start_time": "2023-12-19T11:37:41.166Z"
   },
   {
    "duration": 4,
    "start_time": "2023-12-19T11:42:29.908Z"
   },
   {
    "duration": 11,
    "start_time": "2023-12-19T11:42:44.215Z"
   },
   {
    "duration": 12,
    "start_time": "2023-12-19T11:43:06.087Z"
   },
   {
    "duration": 12,
    "start_time": "2023-12-19T11:43:17.935Z"
   },
   {
    "duration": 11,
    "start_time": "2023-12-19T11:44:50.352Z"
   },
   {
    "duration": 12,
    "start_time": "2023-12-19T11:45:16.446Z"
   },
   {
    "duration": 11,
    "start_time": "2023-12-19T11:45:34.649Z"
   },
   {
    "duration": 52,
    "start_time": "2023-12-19T11:51:11.373Z"
   },
   {
    "duration": 50,
    "start_time": "2023-12-19T11:54:17.840Z"
   },
   {
    "duration": 29,
    "start_time": "2023-12-19T11:55:35.655Z"
   },
   {
    "duration": 12,
    "start_time": "2023-12-19T11:56:13.285Z"
   },
   {
    "duration": 12,
    "start_time": "2023-12-19T11:56:21.025Z"
   },
   {
    "duration": 59,
    "start_time": "2023-12-19T11:58:54.326Z"
   },
   {
    "duration": 14,
    "start_time": "2023-12-19T12:01:12.390Z"
   },
   {
    "duration": 10,
    "start_time": "2023-12-19T12:03:40.447Z"
   },
   {
    "duration": 7,
    "start_time": "2023-12-19T12:04:12.637Z"
   },
   {
    "duration": 86,
    "start_time": "2023-12-19T12:04:52.101Z"
   },
   {
    "duration": 631,
    "start_time": "2023-12-19T12:05:19.092Z"
   },
   {
    "duration": 199,
    "start_time": "2023-12-19T12:07:22.815Z"
   },
   {
    "duration": 193,
    "start_time": "2023-12-19T12:07:53.065Z"
   },
   {
    "duration": 234,
    "start_time": "2023-12-19T12:08:17.144Z"
   },
   {
    "duration": 174,
    "start_time": "2023-12-19T12:08:52.409Z"
   },
   {
    "duration": 178,
    "start_time": "2023-12-19T12:09:54.294Z"
   },
   {
    "duration": 355,
    "start_time": "2023-12-19T12:10:30.454Z"
   },
   {
    "duration": 518,
    "start_time": "2023-12-19T12:10:55.899Z"
   },
   {
    "duration": 728,
    "start_time": "2023-12-19T12:11:23.697Z"
   },
   {
    "duration": 953,
    "start_time": "2023-12-19T12:13:19.895Z"
   },
   {
    "duration": 1020,
    "start_time": "2023-12-19T12:13:37.703Z"
   },
   {
    "duration": 1006,
    "start_time": "2023-12-19T12:14:01.010Z"
   },
   {
    "duration": 354,
    "start_time": "2023-12-19T12:22:23.170Z"
   },
   {
    "duration": 467,
    "start_time": "2023-12-19T12:22:32.997Z"
   },
   {
    "duration": 13,
    "start_time": "2023-12-19T12:22:33.466Z"
   },
   {
    "duration": 9,
    "start_time": "2023-12-19T12:22:33.481Z"
   },
   {
    "duration": 26,
    "start_time": "2023-12-19T12:22:33.491Z"
   },
   {
    "duration": 17,
    "start_time": "2023-12-19T12:22:33.519Z"
   },
   {
    "duration": 15,
    "start_time": "2023-12-19T12:22:33.537Z"
   },
   {
    "duration": 12,
    "start_time": "2023-12-19T12:22:33.554Z"
   },
   {
    "duration": 5,
    "start_time": "2023-12-19T12:22:33.568Z"
   },
   {
    "duration": 22,
    "start_time": "2023-12-19T12:22:33.574Z"
   },
   {
    "duration": 33,
    "start_time": "2023-12-19T12:22:33.599Z"
   },
   {
    "duration": 14,
    "start_time": "2023-12-19T12:22:33.634Z"
   },
   {
    "duration": 30,
    "start_time": "2023-12-19T12:22:33.650Z"
   },
   {
    "duration": 13,
    "start_time": "2023-12-19T12:22:33.682Z"
   },
   {
    "duration": 16,
    "start_time": "2023-12-19T12:22:33.696Z"
   },
   {
    "duration": 23,
    "start_time": "2023-12-19T12:22:33.714Z"
   },
   {
    "duration": 29,
    "start_time": "2023-12-19T12:22:33.740Z"
   },
   {
    "duration": 38,
    "start_time": "2023-12-19T12:22:33.771Z"
   },
   {
    "duration": 25,
    "start_time": "2023-12-19T12:22:33.810Z"
   },
   {
    "duration": 1252,
    "start_time": "2023-12-19T12:22:33.836Z"
   },
   {
    "duration": 67,
    "start_time": "2023-12-19T12:22:35.089Z"
   },
   {
    "duration": 5,
    "start_time": "2023-12-19T12:23:10.313Z"
   },
   {
    "duration": 21,
    "start_time": "2023-12-19T12:23:23.369Z"
   },
   {
    "duration": 5,
    "start_time": "2023-12-19T12:24:19.689Z"
   },
   {
    "duration": 11,
    "start_time": "2023-12-19T12:26:40.466Z"
   },
   {
    "duration": 13,
    "start_time": "2023-12-19T12:27:40.320Z"
   },
   {
    "duration": 95,
    "start_time": "2023-12-19T12:28:16.517Z"
   },
   {
    "duration": 17,
    "start_time": "2023-12-19T12:28:23.110Z"
   },
   {
    "duration": 6,
    "start_time": "2023-12-19T12:33:42.404Z"
   },
   {
    "duration": 12,
    "start_time": "2023-12-19T12:33:43.802Z"
   },
   {
    "duration": 18,
    "start_time": "2023-12-19T12:33:47.462Z"
   },
   {
    "duration": 18,
    "start_time": "2023-12-19T12:35:06.287Z"
   },
   {
    "duration": 6,
    "start_time": "2023-12-19T12:35:24.422Z"
   },
   {
    "duration": 10,
    "start_time": "2023-12-19T12:35:25.909Z"
   },
   {
    "duration": 16,
    "start_time": "2023-12-19T12:35:26.881Z"
   },
   {
    "duration": 6,
    "start_time": "2023-12-19T12:36:07.048Z"
   },
   {
    "duration": 10,
    "start_time": "2023-12-19T12:36:18.588Z"
   },
   {
    "duration": 17,
    "start_time": "2023-12-19T12:36:19.179Z"
   },
   {
    "duration": 5,
    "start_time": "2023-12-19T12:36:27.497Z"
   },
   {
    "duration": 10,
    "start_time": "2023-12-19T12:36:28.301Z"
   },
   {
    "duration": 19,
    "start_time": "2023-12-19T12:36:28.778Z"
   },
   {
    "duration": 6,
    "start_time": "2023-12-19T12:36:49.713Z"
   },
   {
    "duration": 10,
    "start_time": "2023-12-19T12:36:50.564Z"
   },
   {
    "duration": 17,
    "start_time": "2023-12-19T12:36:50.984Z"
   },
   {
    "duration": 151,
    "start_time": "2023-12-19T12:39:36.572Z"
   },
   {
    "duration": 16,
    "start_time": "2023-12-19T12:39:52.851Z"
   },
   {
    "duration": 548,
    "start_time": "2023-12-19T12:40:27.037Z"
   },
   {
    "duration": 17,
    "start_time": "2023-12-19T12:40:50.785Z"
   },
   {
    "duration": 186,
    "start_time": "2023-12-19T12:45:06.338Z"
   },
   {
    "duration": 89,
    "start_time": "2023-12-19T12:48:23.002Z"
   },
   {
    "duration": 184,
    "start_time": "2023-12-19T12:49:08.071Z"
   },
   {
    "duration": 201,
    "start_time": "2023-12-19T12:49:18.886Z"
   },
   {
    "duration": 216,
    "start_time": "2023-12-19T12:59:55.360Z"
   },
   {
    "duration": 293,
    "start_time": "2023-12-19T13:00:56.619Z"
   },
   {
    "duration": 238,
    "start_time": "2023-12-19T13:01:17.290Z"
   },
   {
    "duration": 237,
    "start_time": "2023-12-19T13:01:25.936Z"
   },
   {
    "duration": 256,
    "start_time": "2023-12-19T13:03:10.477Z"
   },
   {
    "duration": 241,
    "start_time": "2023-12-19T13:03:18.025Z"
   },
   {
    "duration": 347,
    "start_time": "2023-12-19T13:04:01.026Z"
   },
   {
    "duration": 51,
    "start_time": "2023-12-20T17:01:36.610Z"
   },
   {
    "duration": 620,
    "start_time": "2023-12-20T17:01:43.054Z"
   },
   {
    "duration": 17,
    "start_time": "2023-12-20T17:01:43.676Z"
   },
   {
    "duration": 20,
    "start_time": "2023-12-20T17:01:43.695Z"
   },
   {
    "duration": 24,
    "start_time": "2023-12-20T17:01:43.717Z"
   },
   {
    "duration": 15,
    "start_time": "2023-12-20T17:01:43.743Z"
   },
   {
    "duration": 17,
    "start_time": "2023-12-20T17:01:43.760Z"
   },
   {
    "duration": 14,
    "start_time": "2023-12-20T17:01:43.779Z"
   },
   {
    "duration": 7,
    "start_time": "2023-12-20T17:01:43.794Z"
   },
   {
    "duration": 18,
    "start_time": "2023-12-20T17:01:43.803Z"
   },
   {
    "duration": 17,
    "start_time": "2023-12-20T17:01:43.830Z"
   },
   {
    "duration": 15,
    "start_time": "2023-12-20T17:01:43.849Z"
   },
   {
    "duration": 16,
    "start_time": "2023-12-20T17:01:43.867Z"
   },
   {
    "duration": 20,
    "start_time": "2023-12-20T17:01:43.885Z"
   },
   {
    "duration": 10,
    "start_time": "2023-12-20T17:01:43.930Z"
   },
   {
    "duration": 26,
    "start_time": "2023-12-20T17:01:43.942Z"
   },
   {
    "duration": 6,
    "start_time": "2023-12-20T17:01:43.970Z"
   },
   {
    "duration": 17,
    "start_time": "2023-12-20T17:01:43.979Z"
   },
   {
    "duration": 32,
    "start_time": "2023-12-20T17:01:43.998Z"
   },
   {
    "duration": 1639,
    "start_time": "2023-12-20T17:01:44.033Z"
   },
   {
    "duration": 6,
    "start_time": "2023-12-20T17:01:45.674Z"
   },
   {
    "duration": 34,
    "start_time": "2023-12-20T17:01:45.682Z"
   },
   {
    "duration": 20,
    "start_time": "2023-12-20T17:01:45.718Z"
   },
   {
    "duration": 291,
    "start_time": "2023-12-20T17:01:45.740Z"
   },
   {
    "duration": 281,
    "start_time": "2023-12-20T17:02:06.416Z"
   },
   {
    "duration": 301,
    "start_time": "2023-12-20T17:02:16.664Z"
   },
   {
    "duration": 4,
    "start_time": "2023-12-20T17:06:08.069Z"
   },
   {
    "duration": 6,
    "start_time": "2023-12-20T17:06:36.114Z"
   },
   {
    "duration": 153,
    "start_time": "2023-12-20T17:09:19.750Z"
   },
   {
    "duration": 169,
    "start_time": "2023-12-20T17:09:44.702Z"
   },
   {
    "duration": 313,
    "start_time": "2023-12-20T17:12:47.038Z"
   },
   {
    "duration": 176,
    "start_time": "2023-12-20T17:13:14.485Z"
   },
   {
    "duration": 187,
    "start_time": "2023-12-20T17:13:44.037Z"
   },
   {
    "duration": 185,
    "start_time": "2023-12-20T17:14:07.455Z"
   },
   {
    "duration": 194,
    "start_time": "2023-12-20T17:14:39.712Z"
   },
   {
    "duration": 63,
    "start_time": "2023-12-20T17:15:52.930Z"
   },
   {
    "duration": 195,
    "start_time": "2023-12-20T17:16:14.160Z"
   },
   {
    "duration": 225,
    "start_time": "2023-12-20T17:17:15.436Z"
   },
   {
    "duration": 213,
    "start_time": "2023-12-20T17:17:47.894Z"
   },
   {
    "duration": 196,
    "start_time": "2023-12-20T17:19:33.760Z"
   },
   {
    "duration": 202,
    "start_time": "2023-12-20T17:20:00.293Z"
   },
   {
    "duration": 210,
    "start_time": "2023-12-20T17:20:12.131Z"
   },
   {
    "duration": 301,
    "start_time": "2023-12-20T17:21:03.472Z"
   },
   {
    "duration": 210,
    "start_time": "2023-12-20T17:31:58.662Z"
   },
   {
    "duration": 230,
    "start_time": "2023-12-20T17:32:06.245Z"
   },
   {
    "duration": 183,
    "start_time": "2023-12-20T17:33:00.131Z"
   },
   {
    "duration": 206,
    "start_time": "2023-12-20T17:33:45.654Z"
   },
   {
    "duration": 202,
    "start_time": "2023-12-20T17:34:01.514Z"
   },
   {
    "duration": 12,
    "start_time": "2023-12-20T17:38:17.219Z"
   },
   {
    "duration": 14,
    "start_time": "2023-12-20T17:39:24.137Z"
   },
   {
    "duration": 7,
    "start_time": "2023-12-20T17:39:37.794Z"
   },
   {
    "duration": 7,
    "start_time": "2023-12-20T17:39:52.258Z"
   },
   {
    "duration": 12,
    "start_time": "2023-12-20T17:40:02.671Z"
   },
   {
    "duration": 13,
    "start_time": "2023-12-20T17:40:16.447Z"
   },
   {
    "duration": 17,
    "start_time": "2023-12-20T17:42:03.020Z"
   },
   {
    "duration": 178,
    "start_time": "2023-12-20T17:42:50.200Z"
   },
   {
    "duration": 166,
    "start_time": "2023-12-20T17:43:26.636Z"
   },
   {
    "duration": 22,
    "start_time": "2023-12-20T17:47:27.546Z"
   },
   {
    "duration": 16,
    "start_time": "2023-12-20T17:47:55.758Z"
   },
   {
    "duration": 16,
    "start_time": "2023-12-20T17:48:16.169Z"
   },
   {
    "duration": 15,
    "start_time": "2023-12-20T17:48:34.002Z"
   },
   {
    "duration": 16,
    "start_time": "2023-12-20T17:48:57.914Z"
   },
   {
    "duration": 16,
    "start_time": "2023-12-20T17:56:09.491Z"
   },
   {
    "duration": 23,
    "start_time": "2023-12-20T17:56:29.139Z"
   },
   {
    "duration": 16,
    "start_time": "2023-12-20T17:56:38.877Z"
   },
   {
    "duration": 15,
    "start_time": "2023-12-20T17:57:03.344Z"
   },
   {
    "duration": 15,
    "start_time": "2023-12-20T17:58:05.577Z"
   },
   {
    "duration": 111,
    "start_time": "2023-12-20T17:58:08.885Z"
   },
   {
    "duration": 117,
    "start_time": "2023-12-20T17:58:56.145Z"
   },
   {
    "duration": 112,
    "start_time": "2023-12-20T17:59:12.687Z"
   },
   {
    "duration": 210,
    "start_time": "2023-12-20T17:59:37.505Z"
   },
   {
    "duration": 126,
    "start_time": "2023-12-20T18:00:18.204Z"
   },
   {
    "duration": 106,
    "start_time": "2023-12-20T18:02:31.709Z"
   },
   {
    "duration": 107,
    "start_time": "2023-12-20T18:02:44.241Z"
   },
   {
    "duration": 118,
    "start_time": "2023-12-20T18:02:54.720Z"
   },
   {
    "duration": 101,
    "start_time": "2023-12-20T18:03:03.094Z"
   },
   {
    "duration": 16,
    "start_time": "2023-12-20T18:03:17.058Z"
   },
   {
    "duration": 118,
    "start_time": "2023-12-20T18:03:40.392Z"
   },
   {
    "duration": 113,
    "start_time": "2023-12-20T18:04:26.281Z"
   },
   {
    "duration": 18,
    "start_time": "2023-12-20T18:04:29.376Z"
   },
   {
    "duration": 114,
    "start_time": "2023-12-20T18:04:42.177Z"
   },
   {
    "duration": 112,
    "start_time": "2023-12-20T18:05:41.844Z"
   },
   {
    "duration": 109,
    "start_time": "2023-12-20T18:09:25.070Z"
   },
   {
    "duration": 446,
    "start_time": "2023-12-20T18:09:47.555Z"
   },
   {
    "duration": 379,
    "start_time": "2023-12-20T18:11:37.534Z"
   },
   {
    "duration": 378,
    "start_time": "2023-12-20T18:13:17.119Z"
   },
   {
    "duration": 179,
    "start_time": "2023-12-20T18:13:44.600Z"
   },
   {
    "duration": 18,
    "start_time": "2023-12-20T18:15:01.391Z"
   },
   {
    "duration": 10,
    "start_time": "2023-12-20T18:15:15.899Z"
   },
   {
    "duration": 17,
    "start_time": "2023-12-20T18:15:25.972Z"
   },
   {
    "duration": 8,
    "start_time": "2023-12-21T19:09:56.197Z"
   },
   {
    "duration": 44,
    "start_time": "2023-12-21T19:21:05.843Z"
   },
   {
    "duration": 652,
    "start_time": "2023-12-21T19:21:11.082Z"
   },
   {
    "duration": 13,
    "start_time": "2023-12-21T19:21:11.735Z"
   },
   {
    "duration": 8,
    "start_time": "2023-12-21T19:21:11.750Z"
   },
   {
    "duration": 13,
    "start_time": "2023-12-21T19:21:11.760Z"
   },
   {
    "duration": 9,
    "start_time": "2023-12-21T19:21:11.775Z"
   },
   {
    "duration": 29,
    "start_time": "2023-12-21T19:21:11.786Z"
   },
   {
    "duration": 5,
    "start_time": "2023-12-21T19:21:11.817Z"
   },
   {
    "duration": 16,
    "start_time": "2023-12-21T19:21:11.823Z"
   },
   {
    "duration": 34,
    "start_time": "2023-12-21T19:21:11.841Z"
   },
   {
    "duration": 23,
    "start_time": "2023-12-21T19:21:11.877Z"
   },
   {
    "duration": 10,
    "start_time": "2023-12-21T19:21:11.901Z"
   },
   {
    "duration": 9,
    "start_time": "2023-12-21T19:21:11.912Z"
   },
   {
    "duration": 26,
    "start_time": "2023-12-21T19:21:11.923Z"
   },
   {
    "duration": 4,
    "start_time": "2023-12-21T19:21:11.952Z"
   },
   {
    "duration": 32,
    "start_time": "2023-12-21T19:21:11.958Z"
   },
   {
    "duration": 5,
    "start_time": "2023-12-21T19:21:11.991Z"
   },
   {
    "duration": 24,
    "start_time": "2023-12-21T19:21:11.997Z"
   },
   {
    "duration": 22,
    "start_time": "2023-12-21T19:21:12.023Z"
   },
   {
    "duration": 1455,
    "start_time": "2023-12-21T19:21:12.047Z"
   },
   {
    "duration": 11,
    "start_time": "2023-12-21T19:21:13.504Z"
   },
   {
    "duration": 19,
    "start_time": "2023-12-21T19:21:13.516Z"
   },
   {
    "duration": 28,
    "start_time": "2023-12-21T19:21:13.537Z"
   },
   {
    "duration": 324,
    "start_time": "2023-12-21T19:21:13.567Z"
   },
   {
    "duration": 202,
    "start_time": "2023-12-21T19:21:13.893Z"
   },
   {
    "duration": 195,
    "start_time": "2023-12-21T19:21:14.097Z"
   },
   {
    "duration": 175,
    "start_time": "2023-12-21T19:21:14.294Z"
   },
   {
    "duration": 167,
    "start_time": "2023-12-21T19:21:14.470Z"
   },
   {
    "duration": 168,
    "start_time": "2023-12-21T19:21:14.638Z"
   },
   {
    "duration": 394,
    "start_time": "2023-12-21T19:21:14.808Z"
   },
   {
    "duration": 323,
    "start_time": "2023-12-21T19:21:15.204Z"
   },
   {
    "duration": 14,
    "start_time": "2023-12-21T19:21:15.528Z"
   },
   {
    "duration": 6,
    "start_time": "2023-12-21T19:21:15.544Z"
   },
   {
    "duration": 82,
    "start_time": "2023-12-21T19:21:15.552Z"
   },
   {
    "duration": 0,
    "start_time": "2023-12-21T19:21:15.635Z"
   },
   {
    "duration": 9,
    "start_time": "2023-12-21T19:21:45.701Z"
   },
   {
    "duration": 8,
    "start_time": "2023-12-21T19:22:29.719Z"
   },
   {
    "duration": 453,
    "start_time": "2023-12-21T19:23:00.287Z"
   },
   {
    "duration": 5,
    "start_time": "2023-12-21T19:25:51.490Z"
   },
   {
    "duration": 45,
    "start_time": "2023-12-23T16:48:14.302Z"
   },
   {
    "duration": 495,
    "start_time": "2023-12-23T16:48:20.432Z"
   },
   {
    "duration": 14,
    "start_time": "2023-12-23T16:48:20.930Z"
   },
   {
    "duration": 9,
    "start_time": "2023-12-23T16:48:20.945Z"
   },
   {
    "duration": 12,
    "start_time": "2023-12-23T16:48:20.956Z"
   },
   {
    "duration": 9,
    "start_time": "2023-12-23T16:48:20.969Z"
   },
   {
    "duration": 4,
    "start_time": "2023-12-23T16:48:20.979Z"
   },
   {
    "duration": 31,
    "start_time": "2023-12-23T16:48:20.985Z"
   },
   {
    "duration": 19,
    "start_time": "2023-12-23T16:48:21.018Z"
   },
   {
    "duration": 15,
    "start_time": "2023-12-23T16:48:21.039Z"
   },
   {
    "duration": 12,
    "start_time": "2023-12-23T16:48:21.057Z"
   },
   {
    "duration": 8,
    "start_time": "2023-12-23T16:48:21.070Z"
   },
   {
    "duration": 10,
    "start_time": "2023-12-23T16:48:21.079Z"
   },
   {
    "duration": 25,
    "start_time": "2023-12-23T16:48:21.091Z"
   },
   {
    "duration": 4,
    "start_time": "2023-12-23T16:48:21.118Z"
   },
   {
    "duration": 17,
    "start_time": "2023-12-23T16:48:21.123Z"
   },
   {
    "duration": 4,
    "start_time": "2023-12-23T16:48:21.141Z"
   },
   {
    "duration": 14,
    "start_time": "2023-12-23T16:48:21.146Z"
   },
   {
    "duration": 11,
    "start_time": "2023-12-23T16:48:21.161Z"
   },
   {
    "duration": 1432,
    "start_time": "2023-12-23T16:48:21.173Z"
   },
   {
    "duration": 11,
    "start_time": "2023-12-23T16:48:22.607Z"
   },
   {
    "duration": 18,
    "start_time": "2023-12-23T16:48:22.619Z"
   },
   {
    "duration": 16,
    "start_time": "2023-12-23T16:48:22.638Z"
   },
   {
    "duration": 310,
    "start_time": "2023-12-23T16:48:22.656Z"
   },
   {
    "duration": 190,
    "start_time": "2023-12-23T16:48:22.968Z"
   },
   {
    "duration": 189,
    "start_time": "2023-12-23T16:48:23.159Z"
   },
   {
    "duration": 168,
    "start_time": "2023-12-23T16:48:23.350Z"
   },
   {
    "duration": 162,
    "start_time": "2023-12-23T16:48:23.519Z"
   },
   {
    "duration": 157,
    "start_time": "2023-12-23T16:48:23.684Z"
   },
   {
    "duration": 352,
    "start_time": "2023-12-23T16:48:23.843Z"
   },
   {
    "duration": 305,
    "start_time": "2023-12-23T16:48:24.197Z"
   },
   {
    "duration": 13,
    "start_time": "2023-12-23T16:48:24.504Z"
   },
   {
    "duration": 9,
    "start_time": "2023-12-23T16:48:24.518Z"
   },
   {
    "duration": 21,
    "start_time": "2023-12-23T16:48:24.528Z"
   },
   {
    "duration": 489,
    "start_time": "2023-12-23T16:48:24.551Z"
   },
   {
    "duration": 11,
    "start_time": "2023-12-23T16:50:46.192Z"
   },
   {
    "duration": 446,
    "start_time": "2023-12-23T16:50:51.359Z"
   },
   {
    "duration": 13,
    "start_time": "2023-12-23T16:50:51.807Z"
   },
   {
    "duration": 9,
    "start_time": "2023-12-23T16:50:51.822Z"
   },
   {
    "duration": 17,
    "start_time": "2023-12-23T16:50:51.832Z"
   },
   {
    "duration": 9,
    "start_time": "2023-12-23T16:50:51.851Z"
   },
   {
    "duration": 8,
    "start_time": "2023-12-23T16:50:51.861Z"
   },
   {
    "duration": 10,
    "start_time": "2023-12-23T16:50:51.870Z"
   },
   {
    "duration": 4,
    "start_time": "2023-12-23T16:50:51.882Z"
   },
   {
    "duration": 37,
    "start_time": "2023-12-23T16:50:51.888Z"
   },
   {
    "duration": 17,
    "start_time": "2023-12-23T16:50:51.927Z"
   },
   {
    "duration": 9,
    "start_time": "2023-12-23T16:50:51.945Z"
   },
   {
    "duration": 8,
    "start_time": "2023-12-23T16:50:51.955Z"
   },
   {
    "duration": 12,
    "start_time": "2023-12-23T16:50:51.965Z"
   },
   {
    "duration": 3,
    "start_time": "2023-12-23T16:50:51.979Z"
   },
   {
    "duration": 40,
    "start_time": "2023-12-23T16:50:51.984Z"
   },
   {
    "duration": 5,
    "start_time": "2023-12-23T16:50:52.025Z"
   },
   {
    "duration": 12,
    "start_time": "2023-12-23T16:50:52.031Z"
   },
   {
    "duration": 13,
    "start_time": "2023-12-23T16:50:52.044Z"
   },
   {
    "duration": 1261,
    "start_time": "2023-12-23T16:50:52.058Z"
   },
   {
    "duration": 6,
    "start_time": "2023-12-23T16:50:53.321Z"
   },
   {
    "duration": 27,
    "start_time": "2023-12-23T16:50:53.328Z"
   },
   {
    "duration": 18,
    "start_time": "2023-12-23T16:50:53.356Z"
   },
   {
    "duration": 310,
    "start_time": "2023-12-23T16:50:53.376Z"
   },
   {
    "duration": 201,
    "start_time": "2023-12-23T16:50:53.688Z"
   },
   {
    "duration": 187,
    "start_time": "2023-12-23T16:50:53.890Z"
   },
   {
    "duration": 176,
    "start_time": "2023-12-23T16:50:54.079Z"
   },
   {
    "duration": 168,
    "start_time": "2023-12-23T16:50:54.258Z"
   },
   {
    "duration": 168,
    "start_time": "2023-12-23T16:50:54.430Z"
   },
   {
    "duration": 390,
    "start_time": "2023-12-23T16:50:54.600Z"
   },
   {
    "duration": 309,
    "start_time": "2023-12-23T16:50:54.992Z"
   },
   {
    "duration": 22,
    "start_time": "2023-12-23T16:50:55.303Z"
   },
   {
    "duration": 2,
    "start_time": "2023-12-23T16:50:55.327Z"
   },
   {
    "duration": 10,
    "start_time": "2023-12-23T16:50:55.330Z"
   },
   {
    "duration": 387,
    "start_time": "2023-12-23T16:50:55.341Z"
   },
   {
    "duration": 7,
    "start_time": "2023-12-23T16:51:23.564Z"
   },
   {
    "duration": 7,
    "start_time": "2023-12-23T16:51:35.848Z"
   },
   {
    "duration": 8,
    "start_time": "2023-12-23T16:53:36.759Z"
   },
   {
    "duration": 7,
    "start_time": "2023-12-23T16:54:03.922Z"
   },
   {
    "duration": 68,
    "start_time": "2023-12-23T16:56:53.306Z"
   },
   {
    "duration": 1348,
    "start_time": "2023-12-23T16:59:36.757Z"
   },
   {
    "duration": 470,
    "start_time": "2023-12-23T17:00:22.026Z"
   },
   {
    "duration": 13,
    "start_time": "2023-12-23T17:00:22.498Z"
   },
   {
    "duration": 10,
    "start_time": "2023-12-23T17:00:22.512Z"
   },
   {
    "duration": 17,
    "start_time": "2023-12-23T17:00:22.523Z"
   },
   {
    "duration": 18,
    "start_time": "2023-12-23T17:00:22.541Z"
   },
   {
    "duration": 16,
    "start_time": "2023-12-23T17:00:22.561Z"
   },
   {
    "duration": 4,
    "start_time": "2023-12-23T17:00:22.579Z"
   },
   {
    "duration": 33,
    "start_time": "2023-12-23T17:00:22.584Z"
   },
   {
    "duration": 14,
    "start_time": "2023-12-23T17:00:22.618Z"
   },
   {
    "duration": 15,
    "start_time": "2023-12-23T17:00:22.636Z"
   },
   {
    "duration": 7,
    "start_time": "2023-12-23T17:00:22.652Z"
   },
   {
    "duration": 13,
    "start_time": "2023-12-23T17:00:22.660Z"
   },
   {
    "duration": 4,
    "start_time": "2023-12-23T17:00:22.674Z"
   },
   {
    "duration": 40,
    "start_time": "2023-12-23T17:00:22.680Z"
   },
   {
    "duration": 4,
    "start_time": "2023-12-23T17:00:22.722Z"
   },
   {
    "duration": 16,
    "start_time": "2023-12-23T17:00:22.727Z"
   },
   {
    "duration": 10,
    "start_time": "2023-12-23T17:00:22.745Z"
   },
   {
    "duration": 1295,
    "start_time": "2023-12-23T17:00:22.756Z"
   },
   {
    "duration": 397,
    "start_time": "2023-12-23T17:00:24.053Z"
   },
   {
    "duration": 0,
    "start_time": "2023-12-23T17:00:24.452Z"
   },
   {
    "duration": 0,
    "start_time": "2023-12-23T17:00:24.453Z"
   },
   {
    "duration": 0,
    "start_time": "2023-12-23T17:00:24.454Z"
   },
   {
    "duration": 0,
    "start_time": "2023-12-23T17:00:24.455Z"
   },
   {
    "duration": 0,
    "start_time": "2023-12-23T17:00:24.456Z"
   },
   {
    "duration": 0,
    "start_time": "2023-12-23T17:00:24.457Z"
   },
   {
    "duration": 0,
    "start_time": "2023-12-23T17:00:24.458Z"
   },
   {
    "duration": 0,
    "start_time": "2023-12-23T17:00:24.459Z"
   },
   {
    "duration": 0,
    "start_time": "2023-12-23T17:00:24.460Z"
   },
   {
    "duration": 0,
    "start_time": "2023-12-23T17:00:24.461Z"
   },
   {
    "duration": 0,
    "start_time": "2023-12-23T17:00:24.462Z"
   },
   {
    "duration": 0,
    "start_time": "2023-12-23T17:00:24.463Z"
   },
   {
    "duration": 0,
    "start_time": "2023-12-23T17:00:24.464Z"
   },
   {
    "duration": 0,
    "start_time": "2023-12-23T17:00:24.465Z"
   },
   {
    "duration": 0,
    "start_time": "2023-12-23T17:00:24.465Z"
   },
   {
    "duration": 0,
    "start_time": "2023-12-23T17:00:24.466Z"
   },
   {
    "duration": 16,
    "start_time": "2023-12-23T17:02:04.840Z"
   },
   {
    "duration": 85,
    "start_time": "2023-12-23T17:02:59.365Z"
   },
   {
    "duration": 6,
    "start_time": "2023-12-23T17:03:02.363Z"
   },
   {
    "duration": 13,
    "start_time": "2023-12-23T17:05:42.032Z"
   },
   {
    "duration": 510,
    "start_time": "2023-12-23T17:05:47.680Z"
   },
   {
    "duration": 14,
    "start_time": "2023-12-23T17:05:48.191Z"
   },
   {
    "duration": 9,
    "start_time": "2023-12-23T17:05:48.206Z"
   },
   {
    "duration": 13,
    "start_time": "2023-12-23T17:05:48.217Z"
   },
   {
    "duration": 20,
    "start_time": "2023-12-23T17:05:48.231Z"
   },
   {
    "duration": 15,
    "start_time": "2023-12-23T17:05:48.252Z"
   },
   {
    "duration": 11,
    "start_time": "2023-12-23T17:05:48.268Z"
   },
   {
    "duration": 13,
    "start_time": "2023-12-23T17:05:48.280Z"
   },
   {
    "duration": 26,
    "start_time": "2023-12-23T17:05:48.295Z"
   },
   {
    "duration": 10,
    "start_time": "2023-12-23T17:05:48.325Z"
   },
   {
    "duration": 7,
    "start_time": "2023-12-23T17:05:48.336Z"
   },
   {
    "duration": 32,
    "start_time": "2023-12-23T17:05:48.345Z"
   },
   {
    "duration": 10,
    "start_time": "2023-12-23T17:05:48.378Z"
   },
   {
    "duration": 21,
    "start_time": "2023-12-23T17:05:48.389Z"
   },
   {
    "duration": 25,
    "start_time": "2023-12-23T17:05:48.411Z"
   },
   {
    "duration": 15,
    "start_time": "2023-12-23T17:05:48.438Z"
   },
   {
    "duration": 13,
    "start_time": "2023-12-23T17:05:48.455Z"
   },
   {
    "duration": 1345,
    "start_time": "2023-12-23T17:05:48.469Z"
   },
   {
    "duration": 426,
    "start_time": "2023-12-23T17:05:49.815Z"
   },
   {
    "duration": 0,
    "start_time": "2023-12-23T17:05:50.243Z"
   },
   {
    "duration": 0,
    "start_time": "2023-12-23T17:05:50.244Z"
   },
   {
    "duration": 0,
    "start_time": "2023-12-23T17:05:50.245Z"
   },
   {
    "duration": 0,
    "start_time": "2023-12-23T17:05:50.246Z"
   },
   {
    "duration": 0,
    "start_time": "2023-12-23T17:05:50.247Z"
   },
   {
    "duration": 0,
    "start_time": "2023-12-23T17:05:50.248Z"
   },
   {
    "duration": 0,
    "start_time": "2023-12-23T17:05:50.249Z"
   },
   {
    "duration": 0,
    "start_time": "2023-12-23T17:05:50.251Z"
   },
   {
    "duration": 0,
    "start_time": "2023-12-23T17:05:50.252Z"
   },
   {
    "duration": 0,
    "start_time": "2023-12-23T17:05:50.253Z"
   },
   {
    "duration": 0,
    "start_time": "2023-12-23T17:05:50.254Z"
   },
   {
    "duration": 0,
    "start_time": "2023-12-23T17:05:50.255Z"
   },
   {
    "duration": 0,
    "start_time": "2023-12-23T17:05:50.256Z"
   },
   {
    "duration": 0,
    "start_time": "2023-12-23T17:05:50.257Z"
   },
   {
    "duration": 0,
    "start_time": "2023-12-23T17:05:50.258Z"
   },
   {
    "duration": 1,
    "start_time": "2023-12-23T17:05:50.258Z"
   },
   {
    "duration": 315,
    "start_time": "2023-12-23T17:17:53.444Z"
   },
   {
    "duration": 492,
    "start_time": "2023-12-23T17:18:11.840Z"
   },
   {
    "duration": 14,
    "start_time": "2023-12-23T17:18:12.333Z"
   },
   {
    "duration": 12,
    "start_time": "2023-12-23T17:18:12.348Z"
   },
   {
    "duration": 13,
    "start_time": "2023-12-23T17:18:12.362Z"
   },
   {
    "duration": 373,
    "start_time": "2023-12-23T17:18:12.377Z"
   },
   {
    "duration": 0,
    "start_time": "2023-12-23T17:18:12.754Z"
   },
   {
    "duration": 0,
    "start_time": "2023-12-23T17:18:12.756Z"
   },
   {
    "duration": 0,
    "start_time": "2023-12-23T17:18:12.756Z"
   },
   {
    "duration": 0,
    "start_time": "2023-12-23T17:18:12.757Z"
   },
   {
    "duration": 0,
    "start_time": "2023-12-23T17:18:12.758Z"
   },
   {
    "duration": 0,
    "start_time": "2023-12-23T17:18:12.760Z"
   },
   {
    "duration": 0,
    "start_time": "2023-12-23T17:18:12.761Z"
   },
   {
    "duration": 0,
    "start_time": "2023-12-23T17:18:12.762Z"
   },
   {
    "duration": 0,
    "start_time": "2023-12-23T17:18:12.763Z"
   },
   {
    "duration": 0,
    "start_time": "2023-12-23T17:18:12.764Z"
   },
   {
    "duration": 0,
    "start_time": "2023-12-23T17:18:12.765Z"
   },
   {
    "duration": 0,
    "start_time": "2023-12-23T17:18:12.766Z"
   },
   {
    "duration": 0,
    "start_time": "2023-12-23T17:18:12.768Z"
   },
   {
    "duration": 0,
    "start_time": "2023-12-23T17:18:12.769Z"
   },
   {
    "duration": 0,
    "start_time": "2023-12-23T17:18:12.770Z"
   },
   {
    "duration": 0,
    "start_time": "2023-12-23T17:18:12.771Z"
   },
   {
    "duration": 0,
    "start_time": "2023-12-23T17:18:12.772Z"
   },
   {
    "duration": 1,
    "start_time": "2023-12-23T17:18:12.773Z"
   },
   {
    "duration": 0,
    "start_time": "2023-12-23T17:18:12.775Z"
   },
   {
    "duration": 0,
    "start_time": "2023-12-23T17:18:12.776Z"
   },
   {
    "duration": 0,
    "start_time": "2023-12-23T17:18:12.777Z"
   },
   {
    "duration": 0,
    "start_time": "2023-12-23T17:18:12.778Z"
   },
   {
    "duration": 0,
    "start_time": "2023-12-23T17:18:12.779Z"
   },
   {
    "duration": 0,
    "start_time": "2023-12-23T17:18:12.780Z"
   },
   {
    "duration": 0,
    "start_time": "2023-12-23T17:18:12.781Z"
   },
   {
    "duration": 0,
    "start_time": "2023-12-23T17:18:12.782Z"
   },
   {
    "duration": 0,
    "start_time": "2023-12-23T17:18:12.783Z"
   },
   {
    "duration": 0,
    "start_time": "2023-12-23T17:18:12.784Z"
   },
   {
    "duration": 0,
    "start_time": "2023-12-23T17:18:12.785Z"
   },
   {
    "duration": 0,
    "start_time": "2023-12-23T17:18:12.786Z"
   },
   {
    "duration": 7,
    "start_time": "2023-12-23T17:20:25.960Z"
   },
   {
    "duration": 11,
    "start_time": "2023-12-23T17:21:01.811Z"
   },
   {
    "duration": 8,
    "start_time": "2023-12-23T17:21:04.066Z"
   },
   {
    "duration": 13,
    "start_time": "2023-12-23T17:21:05.073Z"
   },
   {
    "duration": 7,
    "start_time": "2023-12-23T17:21:29.350Z"
   },
   {
    "duration": 521,
    "start_time": "2023-12-23T17:21:34.912Z"
   },
   {
    "duration": 14,
    "start_time": "2023-12-23T17:21:35.435Z"
   },
   {
    "duration": 14,
    "start_time": "2023-12-23T17:21:35.450Z"
   },
   {
    "duration": 12,
    "start_time": "2023-12-23T17:21:35.467Z"
   },
   {
    "duration": 26,
    "start_time": "2023-12-23T17:21:35.480Z"
   },
   {
    "duration": 32,
    "start_time": "2023-12-23T17:21:35.507Z"
   },
   {
    "duration": 12,
    "start_time": "2023-12-23T17:21:35.541Z"
   },
   {
    "duration": 14,
    "start_time": "2023-12-23T17:21:35.554Z"
   },
   {
    "duration": 13,
    "start_time": "2023-12-23T17:21:35.570Z"
   },
   {
    "duration": 48,
    "start_time": "2023-12-23T17:21:35.585Z"
   },
   {
    "duration": 6,
    "start_time": "2023-12-23T17:21:35.635Z"
   },
   {
    "duration": 32,
    "start_time": "2023-12-23T17:21:35.643Z"
   },
   {
    "duration": 11,
    "start_time": "2023-12-23T17:21:35.676Z"
   },
   {
    "duration": 46,
    "start_time": "2023-12-23T17:21:35.689Z"
   },
   {
    "duration": 4,
    "start_time": "2023-12-23T17:21:35.737Z"
   },
   {
    "duration": 16,
    "start_time": "2023-12-23T17:21:35.743Z"
   },
   {
    "duration": 13,
    "start_time": "2023-12-23T17:21:35.761Z"
   },
   {
    "duration": 1463,
    "start_time": "2023-12-23T17:21:35.776Z"
   },
   {
    "duration": 384,
    "start_time": "2023-12-23T17:21:37.241Z"
   },
   {
    "duration": 0,
    "start_time": "2023-12-23T17:21:37.627Z"
   },
   {
    "duration": 0,
    "start_time": "2023-12-23T17:21:37.629Z"
   },
   {
    "duration": 0,
    "start_time": "2023-12-23T17:21:37.630Z"
   },
   {
    "duration": 0,
    "start_time": "2023-12-23T17:21:37.631Z"
   },
   {
    "duration": 0,
    "start_time": "2023-12-23T17:21:37.631Z"
   },
   {
    "duration": 0,
    "start_time": "2023-12-23T17:21:37.633Z"
   },
   {
    "duration": 0,
    "start_time": "2023-12-23T17:21:37.634Z"
   },
   {
    "duration": 0,
    "start_time": "2023-12-23T17:21:37.635Z"
   },
   {
    "duration": 1,
    "start_time": "2023-12-23T17:21:37.635Z"
   },
   {
    "duration": 0,
    "start_time": "2023-12-23T17:21:37.636Z"
   },
   {
    "duration": 0,
    "start_time": "2023-12-23T17:21:37.637Z"
   },
   {
    "duration": 0,
    "start_time": "2023-12-23T17:21:37.638Z"
   },
   {
    "duration": 0,
    "start_time": "2023-12-23T17:21:37.639Z"
   },
   {
    "duration": 0,
    "start_time": "2023-12-23T17:21:37.640Z"
   },
   {
    "duration": 0,
    "start_time": "2023-12-23T17:21:37.641Z"
   },
   {
    "duration": 0,
    "start_time": "2023-12-23T17:21:37.642Z"
   },
   {
    "duration": 4,
    "start_time": "2023-12-23T17:23:29.951Z"
   },
   {
    "duration": 11,
    "start_time": "2023-12-23T17:24:19.158Z"
   },
   {
    "duration": 310,
    "start_time": "2023-12-23T17:26:10.179Z"
   },
   {
    "duration": 478,
    "start_time": "2023-12-23T17:26:16.638Z"
   },
   {
    "duration": 14,
    "start_time": "2023-12-23T17:26:17.118Z"
   },
   {
    "duration": 9,
    "start_time": "2023-12-23T17:26:17.134Z"
   },
   {
    "duration": 18,
    "start_time": "2023-12-23T17:26:17.144Z"
   },
   {
    "duration": 24,
    "start_time": "2023-12-23T17:26:17.164Z"
   },
   {
    "duration": 31,
    "start_time": "2023-12-23T17:26:17.190Z"
   },
   {
    "duration": 12,
    "start_time": "2023-12-23T17:26:17.223Z"
   },
   {
    "duration": 16,
    "start_time": "2023-12-23T17:26:17.236Z"
   },
   {
    "duration": 28,
    "start_time": "2023-12-23T17:26:17.254Z"
   },
   {
    "duration": 10,
    "start_time": "2023-12-23T17:26:17.284Z"
   },
   {
    "duration": 7,
    "start_time": "2023-12-23T17:26:17.314Z"
   },
   {
    "duration": 16,
    "start_time": "2023-12-23T17:26:17.323Z"
   },
   {
    "duration": 5,
    "start_time": "2023-12-23T17:26:17.340Z"
   },
   {
    "duration": 40,
    "start_time": "2023-12-23T17:26:17.347Z"
   },
   {
    "duration": 13,
    "start_time": "2023-12-23T17:26:17.389Z"
   },
   {
    "duration": 30,
    "start_time": "2023-12-23T17:26:17.404Z"
   },
   {
    "duration": 12,
    "start_time": "2023-12-23T17:26:17.435Z"
   },
   {
    "duration": 1273,
    "start_time": "2023-12-23T17:26:17.449Z"
   },
   {
    "duration": 378,
    "start_time": "2023-12-23T17:26:18.723Z"
   },
   {
    "duration": 0,
    "start_time": "2023-12-23T17:26:19.103Z"
   },
   {
    "duration": 0,
    "start_time": "2023-12-23T17:26:19.105Z"
   },
   {
    "duration": 0,
    "start_time": "2023-12-23T17:26:19.107Z"
   },
   {
    "duration": 0,
    "start_time": "2023-12-23T17:26:19.108Z"
   },
   {
    "duration": 0,
    "start_time": "2023-12-23T17:26:19.109Z"
   },
   {
    "duration": 0,
    "start_time": "2023-12-23T17:26:19.110Z"
   },
   {
    "duration": 0,
    "start_time": "2023-12-23T17:26:19.112Z"
   },
   {
    "duration": 0,
    "start_time": "2023-12-23T17:26:19.114Z"
   },
   {
    "duration": 0,
    "start_time": "2023-12-23T17:26:19.115Z"
   },
   {
    "duration": 0,
    "start_time": "2023-12-23T17:26:19.117Z"
   },
   {
    "duration": 0,
    "start_time": "2023-12-23T17:26:19.118Z"
   },
   {
    "duration": 0,
    "start_time": "2023-12-23T17:26:19.119Z"
   },
   {
    "duration": 0,
    "start_time": "2023-12-23T17:26:19.121Z"
   },
   {
    "duration": 0,
    "start_time": "2023-12-23T17:26:19.123Z"
   },
   {
    "duration": 0,
    "start_time": "2023-12-23T17:26:19.124Z"
   },
   {
    "duration": 0,
    "start_time": "2023-12-23T17:26:19.125Z"
   },
   {
    "duration": 6,
    "start_time": "2023-12-23T17:26:55.748Z"
   },
   {
    "duration": 12,
    "start_time": "2023-12-23T17:27:04.679Z"
   },
   {
    "duration": 23,
    "start_time": "2023-12-23T17:27:16.901Z"
   },
   {
    "duration": 312,
    "start_time": "2023-12-23T17:27:40.611Z"
   },
   {
    "duration": 192,
    "start_time": "2023-12-23T17:30:23.506Z"
   },
   {
    "duration": 200,
    "start_time": "2023-12-23T17:30:27.081Z"
   },
   {
    "duration": 180,
    "start_time": "2023-12-23T17:33:38.030Z"
   },
   {
    "duration": 159,
    "start_time": "2023-12-23T17:33:39.878Z"
   },
   {
    "duration": 154,
    "start_time": "2023-12-23T17:35:39.723Z"
   },
   {
    "duration": 361,
    "start_time": "2023-12-23T17:41:16.023Z"
   },
   {
    "duration": 299,
    "start_time": "2023-12-23T17:48:00.085Z"
   },
   {
    "duration": 15,
    "start_time": "2023-12-23T17:53:34.676Z"
   },
   {
    "duration": 8,
    "start_time": "2023-12-23T18:10:29.551Z"
   },
   {
    "duration": 472,
    "start_time": "2023-12-23T18:10:30.190Z"
   },
   {
    "duration": 2,
    "start_time": "2023-12-23T18:10:35.139Z"
   },
   {
    "duration": 8,
    "start_time": "2023-12-23T18:10:37.184Z"
   },
   {
    "duration": 6,
    "start_time": "2023-12-23T18:10:37.709Z"
   },
   {
    "duration": 8,
    "start_time": "2023-12-23T18:11:36.724Z"
   },
   {
    "duration": 8,
    "start_time": "2023-12-23T18:14:12.346Z"
   },
   {
    "duration": 6,
    "start_time": "2023-12-23T18:14:12.763Z"
   },
   {
    "duration": 432,
    "start_time": "2023-12-23T18:37:10.583Z"
   },
   {
    "duration": 13,
    "start_time": "2023-12-23T18:37:11.017Z"
   },
   {
    "duration": 8,
    "start_time": "2023-12-23T18:37:11.032Z"
   },
   {
    "duration": 16,
    "start_time": "2023-12-23T18:37:11.042Z"
   },
   {
    "duration": 17,
    "start_time": "2023-12-23T18:37:11.060Z"
   },
   {
    "duration": 38,
    "start_time": "2023-12-23T18:37:11.078Z"
   },
   {
    "duration": 11,
    "start_time": "2023-12-23T18:37:11.117Z"
   },
   {
    "duration": 15,
    "start_time": "2023-12-23T18:37:11.130Z"
   },
   {
    "duration": 14,
    "start_time": "2023-12-23T18:37:11.147Z"
   },
   {
    "duration": 13,
    "start_time": "2023-12-23T18:37:11.163Z"
   },
   {
    "duration": 41,
    "start_time": "2023-12-23T18:37:11.178Z"
   },
   {
    "duration": 17,
    "start_time": "2023-12-23T18:37:11.221Z"
   },
   {
    "duration": 5,
    "start_time": "2023-12-23T18:37:11.240Z"
   },
   {
    "duration": 14,
    "start_time": "2023-12-23T18:37:11.248Z"
   },
   {
    "duration": 5,
    "start_time": "2023-12-23T18:37:11.264Z"
   },
   {
    "duration": 46,
    "start_time": "2023-12-23T18:37:11.270Z"
   },
   {
    "duration": 13,
    "start_time": "2023-12-23T18:37:11.318Z"
   },
   {
    "duration": 1338,
    "start_time": "2023-12-23T18:37:11.332Z"
   },
   {
    "duration": 6,
    "start_time": "2023-12-23T18:37:12.672Z"
   },
   {
    "duration": 20,
    "start_time": "2023-12-23T18:37:12.679Z"
   },
   {
    "duration": 32,
    "start_time": "2023-12-23T18:37:12.701Z"
   },
   {
    "duration": 332,
    "start_time": "2023-12-23T18:37:12.735Z"
   },
   {
    "duration": 201,
    "start_time": "2023-12-23T18:37:13.069Z"
   },
   {
    "duration": 201,
    "start_time": "2023-12-23T18:37:13.271Z"
   },
   {
    "duration": 183,
    "start_time": "2023-12-23T18:37:13.474Z"
   },
   {
    "duration": 180,
    "start_time": "2023-12-23T18:37:13.659Z"
   },
   {
    "duration": 166,
    "start_time": "2023-12-23T18:37:13.841Z"
   },
   {
    "duration": 394,
    "start_time": "2023-12-23T18:37:14.008Z"
   },
   {
    "duration": 352,
    "start_time": "2023-12-23T18:37:14.404Z"
   },
   {
    "duration": 14,
    "start_time": "2023-12-23T18:37:14.758Z"
   },
   {
    "duration": 3,
    "start_time": "2023-12-23T18:37:14.773Z"
   },
   {
    "duration": 8,
    "start_time": "2023-12-23T18:37:14.777Z"
   },
   {
    "duration": 460,
    "start_time": "2023-12-23T18:37:14.786Z"
   },
   {
    "duration": 9,
    "start_time": "2023-12-23T18:37:15.248Z"
   },
   {
    "duration": 25,
    "start_time": "2023-12-23T18:37:15.259Z"
   },
   {
    "duration": 47,
    "start_time": "2023-12-24T17:54:24.971Z"
   },
   {
    "duration": 500,
    "start_time": "2023-12-24T17:54:30.067Z"
   },
   {
    "duration": 14,
    "start_time": "2023-12-24T17:54:30.568Z"
   },
   {
    "duration": 28,
    "start_time": "2023-12-24T17:54:30.583Z"
   },
   {
    "duration": 50,
    "start_time": "2023-12-24T17:54:30.613Z"
   },
   {
    "duration": 37,
    "start_time": "2023-12-24T17:54:30.665Z"
   },
   {
    "duration": 34,
    "start_time": "2023-12-24T17:54:30.704Z"
   },
   {
    "duration": 31,
    "start_time": "2023-12-24T17:54:30.739Z"
   },
   {
    "duration": 29,
    "start_time": "2023-12-24T17:54:30.771Z"
   },
   {
    "duration": 60,
    "start_time": "2023-12-24T17:54:30.801Z"
   },
   {
    "duration": 30,
    "start_time": "2023-12-24T17:54:30.863Z"
   },
   {
    "duration": 37,
    "start_time": "2023-12-24T17:54:30.895Z"
   },
   {
    "duration": 75,
    "start_time": "2023-12-24T17:54:30.934Z"
   },
   {
    "duration": 40,
    "start_time": "2023-12-24T17:54:31.010Z"
   },
   {
    "duration": 64,
    "start_time": "2023-12-24T17:54:31.052Z"
   },
   {
    "duration": 55,
    "start_time": "2023-12-24T17:54:31.118Z"
   },
   {
    "duration": 45,
    "start_time": "2023-12-24T17:54:31.175Z"
   },
   {
    "duration": 46,
    "start_time": "2023-12-24T17:54:31.222Z"
   },
   {
    "duration": 1492,
    "start_time": "2023-12-24T17:54:31.269Z"
   },
   {
    "duration": 6,
    "start_time": "2023-12-24T17:54:32.762Z"
   },
   {
    "duration": 13,
    "start_time": "2023-12-24T17:54:32.770Z"
   },
   {
    "duration": 73,
    "start_time": "2023-12-24T17:54:32.784Z"
   },
   {
    "duration": 629,
    "start_time": "2023-12-24T17:54:32.859Z"
   },
   {
    "duration": 403,
    "start_time": "2023-12-24T17:54:33.543Z"
   },
   {
    "duration": 221,
    "start_time": "2023-12-24T17:54:33.948Z"
   },
   {
    "duration": 176,
    "start_time": "2023-12-24T17:54:34.171Z"
   },
   {
    "duration": 178,
    "start_time": "2023-12-24T17:54:34.348Z"
   },
   {
    "duration": 162,
    "start_time": "2023-12-24T17:54:34.528Z"
   },
   {
    "duration": 366,
    "start_time": "2023-12-24T17:54:34.693Z"
   },
   {
    "duration": 311,
    "start_time": "2023-12-24T17:54:35.061Z"
   },
   {
    "duration": 13,
    "start_time": "2023-12-24T17:54:35.374Z"
   },
   {
    "duration": 2,
    "start_time": "2023-12-24T17:54:35.388Z"
   },
   {
    "duration": 30,
    "start_time": "2023-12-24T17:54:35.392Z"
   },
   {
    "duration": 426,
    "start_time": "2023-12-24T17:54:35.423Z"
   },
   {
    "duration": 7,
    "start_time": "2023-12-24T17:54:35.851Z"
   },
   {
    "duration": 7,
    "start_time": "2023-12-24T17:54:35.859Z"
   },
   {
    "duration": 10,
    "start_time": "2023-12-24T17:55:16.468Z"
   },
   {
    "duration": 362,
    "start_time": "2023-12-24T17:55:25.797Z"
   },
   {
    "duration": 76,
    "start_time": "2023-12-24T17:55:26.161Z"
   },
   {
    "duration": 13,
    "start_time": "2023-12-24T17:55:26.238Z"
   },
   {
    "duration": 32,
    "start_time": "2023-12-24T17:55:26.252Z"
   },
   {
    "duration": 39,
    "start_time": "2023-12-24T17:55:26.286Z"
   },
   {
    "duration": 21,
    "start_time": "2023-12-24T17:55:26.326Z"
   },
   {
    "duration": 16,
    "start_time": "2023-12-24T17:55:26.349Z"
   },
   {
    "duration": 25,
    "start_time": "2023-12-24T17:55:26.366Z"
   },
   {
    "duration": 20,
    "start_time": "2023-12-24T17:55:26.393Z"
   },
   {
    "duration": 15,
    "start_time": "2023-12-24T17:55:26.414Z"
   },
   {
    "duration": 20,
    "start_time": "2023-12-24T17:55:26.430Z"
   },
   {
    "duration": 12,
    "start_time": "2023-12-24T17:55:26.451Z"
   },
   {
    "duration": 21,
    "start_time": "2023-12-24T17:55:26.465Z"
   },
   {
    "duration": 8,
    "start_time": "2023-12-24T17:55:26.488Z"
   },
   {
    "duration": 24,
    "start_time": "2023-12-24T17:55:26.497Z"
   },
   {
    "duration": 9,
    "start_time": "2023-12-24T17:55:26.523Z"
   },
   {
    "duration": 45,
    "start_time": "2023-12-24T17:55:26.533Z"
   },
   {
    "duration": 24,
    "start_time": "2023-12-24T17:55:26.579Z"
   },
   {
    "duration": 1212,
    "start_time": "2023-12-24T17:55:26.605Z"
   },
   {
    "duration": 7,
    "start_time": "2023-12-24T17:55:27.818Z"
   },
   {
    "duration": 19,
    "start_time": "2023-12-24T17:55:27.826Z"
   },
   {
    "duration": 30,
    "start_time": "2023-12-24T17:55:27.846Z"
   },
   {
    "duration": 325,
    "start_time": "2023-12-24T17:55:27.878Z"
   },
   {
    "duration": 255,
    "start_time": "2023-12-24T17:55:28.205Z"
   },
   {
    "duration": 209,
    "start_time": "2023-12-24T17:55:28.461Z"
   },
   {
    "duration": 190,
    "start_time": "2023-12-24T17:55:28.671Z"
   },
   {
    "duration": 384,
    "start_time": "2023-12-24T17:55:28.862Z"
   },
   {
    "duration": 315,
    "start_time": "2023-12-24T17:55:29.247Z"
   },
   {
    "duration": 715,
    "start_time": "2023-12-24T17:55:29.564Z"
   },
   {
    "duration": 316,
    "start_time": "2023-12-24T17:55:30.281Z"
   },
   {
    "duration": 13,
    "start_time": "2023-12-24T17:55:30.598Z"
   },
   {
    "duration": 64,
    "start_time": "2023-12-24T17:55:30.612Z"
   },
   {
    "duration": 52,
    "start_time": "2023-12-24T17:55:30.678Z"
   },
   {
    "duration": 540,
    "start_time": "2023-12-24T17:55:30.732Z"
   },
   {
    "duration": 9,
    "start_time": "2023-12-24T17:55:31.274Z"
   },
   {
    "duration": 30,
    "start_time": "2023-12-24T17:55:31.284Z"
   },
   {
    "duration": 3,
    "start_time": "2023-12-24T17:58:54.430Z"
   },
   {
    "duration": 66,
    "start_time": "2023-12-24T17:58:55.668Z"
   },
   {
    "duration": 2,
    "start_time": "2023-12-24T18:00:19.356Z"
   },
   {
    "duration": 66,
    "start_time": "2023-12-24T18:00:22.154Z"
   },
   {
    "duration": 130,
    "start_time": "2023-12-24T18:02:55.638Z"
   },
   {
    "duration": 49,
    "start_time": "2023-12-24T18:03:19.503Z"
   },
   {
    "duration": 11,
    "start_time": "2023-12-24T18:04:47.708Z"
   },
   {
    "duration": 4,
    "start_time": "2023-12-24T18:05:14.422Z"
   },
   {
    "duration": 14,
    "start_time": "2023-12-24T18:05:16.916Z"
   },
   {
    "duration": 11,
    "start_time": "2023-12-24T18:05:41.249Z"
   },
   {
    "duration": 77,
    "start_time": "2023-12-24T18:05:53.189Z"
   },
   {
    "duration": 75,
    "start_time": "2023-12-24T18:05:55.548Z"
   },
   {
    "duration": 77,
    "start_time": "2023-12-24T18:06:04.745Z"
   },
   {
    "duration": 12,
    "start_time": "2023-12-24T18:06:18.783Z"
   },
   {
    "duration": 81,
    "start_time": "2023-12-24T18:07:32.782Z"
   },
   {
    "duration": 11,
    "start_time": "2023-12-24T18:07:36.186Z"
   },
   {
    "duration": 11,
    "start_time": "2023-12-24T18:09:12.693Z"
   },
   {
    "duration": 17,
    "start_time": "2023-12-24T18:10:44.330Z"
   },
   {
    "duration": 16,
    "start_time": "2023-12-24T18:12:50.622Z"
   },
   {
    "duration": 20,
    "start_time": "2023-12-24T18:14:22.930Z"
   },
   {
    "duration": 13,
    "start_time": "2023-12-24T18:14:41.539Z"
   },
   {
    "duration": 1079,
    "start_time": "2023-12-24T18:14:49.426Z"
   },
   {
    "duration": 77,
    "start_time": "2023-12-24T18:14:50.507Z"
   },
   {
    "duration": 14,
    "start_time": "2023-12-24T18:14:50.585Z"
   },
   {
    "duration": 34,
    "start_time": "2023-12-24T18:14:50.601Z"
   },
   {
    "duration": 110,
    "start_time": "2023-12-24T18:14:50.637Z"
   },
   {
    "duration": 0,
    "start_time": "2023-12-24T18:14:50.749Z"
   },
   {
    "duration": 0,
    "start_time": "2023-12-24T18:14:50.750Z"
   },
   {
    "duration": 1,
    "start_time": "2023-12-24T18:14:50.751Z"
   },
   {
    "duration": 0,
    "start_time": "2023-12-24T18:14:50.753Z"
   },
   {
    "duration": 0,
    "start_time": "2023-12-24T18:14:50.754Z"
   },
   {
    "duration": 0,
    "start_time": "2023-12-24T18:14:50.755Z"
   },
   {
    "duration": 0,
    "start_time": "2023-12-24T18:14:50.756Z"
   },
   {
    "duration": 0,
    "start_time": "2023-12-24T18:14:50.757Z"
   },
   {
    "duration": 0,
    "start_time": "2023-12-24T18:14:50.757Z"
   },
   {
    "duration": 0,
    "start_time": "2023-12-24T18:14:50.759Z"
   },
   {
    "duration": 0,
    "start_time": "2023-12-24T18:14:50.760Z"
   },
   {
    "duration": 0,
    "start_time": "2023-12-24T18:14:50.761Z"
   },
   {
    "duration": 0,
    "start_time": "2023-12-24T18:14:50.761Z"
   },
   {
    "duration": 0,
    "start_time": "2023-12-24T18:14:50.762Z"
   },
   {
    "duration": 0,
    "start_time": "2023-12-24T18:14:50.763Z"
   },
   {
    "duration": 0,
    "start_time": "2023-12-24T18:14:50.764Z"
   },
   {
    "duration": 0,
    "start_time": "2023-12-24T18:14:50.765Z"
   },
   {
    "duration": 0,
    "start_time": "2023-12-24T18:14:50.766Z"
   },
   {
    "duration": 0,
    "start_time": "2023-12-24T18:14:50.767Z"
   },
   {
    "duration": 0,
    "start_time": "2023-12-24T18:14:50.768Z"
   },
   {
    "duration": 0,
    "start_time": "2023-12-24T18:14:50.769Z"
   },
   {
    "duration": 0,
    "start_time": "2023-12-24T18:14:50.770Z"
   },
   {
    "duration": 0,
    "start_time": "2023-12-24T18:14:50.771Z"
   },
   {
    "duration": 0,
    "start_time": "2023-12-24T18:14:50.772Z"
   },
   {
    "duration": 0,
    "start_time": "2023-12-24T18:14:50.773Z"
   },
   {
    "duration": 0,
    "start_time": "2023-12-24T18:14:50.774Z"
   },
   {
    "duration": 0,
    "start_time": "2023-12-24T18:14:50.775Z"
   },
   {
    "duration": 0,
    "start_time": "2023-12-24T18:14:50.776Z"
   },
   {
    "duration": 0,
    "start_time": "2023-12-24T18:14:50.777Z"
   },
   {
    "duration": 0,
    "start_time": "2023-12-24T18:14:50.778Z"
   },
   {
    "duration": 0,
    "start_time": "2023-12-24T18:14:50.779Z"
   },
   {
    "duration": 0,
    "start_time": "2023-12-24T18:14:50.780Z"
   },
   {
    "duration": 0,
    "start_time": "2023-12-24T18:14:50.781Z"
   },
   {
    "duration": 13,
    "start_time": "2023-12-24T18:15:05.121Z"
   },
   {
    "duration": 8,
    "start_time": "2023-12-24T18:15:22.121Z"
   },
   {
    "duration": 12,
    "start_time": "2023-12-24T18:15:26.442Z"
   },
   {
    "duration": 13,
    "start_time": "2023-12-24T18:15:41.746Z"
   },
   {
    "duration": 3,
    "start_time": "2023-12-24T18:16:14.603Z"
   },
   {
    "duration": 69,
    "start_time": "2023-12-24T18:16:15.271Z"
   },
   {
    "duration": 12,
    "start_time": "2023-12-24T18:16:16.020Z"
   },
   {
    "duration": 10,
    "start_time": "2023-12-24T18:16:16.953Z"
   },
   {
    "duration": 13,
    "start_time": "2023-12-24T18:16:18.807Z"
   },
   {
    "duration": 12,
    "start_time": "2023-12-24T18:16:33.920Z"
   },
   {
    "duration": 10,
    "start_time": "2023-12-24T18:17:14.038Z"
   },
   {
    "duration": 10,
    "start_time": "2023-12-24T18:17:39.619Z"
   },
   {
    "duration": 17,
    "start_time": "2023-12-24T18:17:58.261Z"
   },
   {
    "duration": 15,
    "start_time": "2023-12-24T18:19:14.915Z"
   },
   {
    "duration": 10,
    "start_time": "2023-12-24T18:22:28.620Z"
   },
   {
    "duration": 10,
    "start_time": "2023-12-24T18:22:34.354Z"
   },
   {
    "duration": 11,
    "start_time": "2023-12-24T18:26:46.595Z"
   },
   {
    "duration": 1144,
    "start_time": "2023-12-24T18:26:59.724Z"
   },
   {
    "duration": 75,
    "start_time": "2023-12-24T18:27:00.870Z"
   },
   {
    "duration": 13,
    "start_time": "2023-12-24T18:27:00.946Z"
   },
   {
    "duration": 34,
    "start_time": "2023-12-24T18:27:00.961Z"
   },
   {
    "duration": 32,
    "start_time": "2023-12-24T18:27:00.997Z"
   },
   {
    "duration": 45,
    "start_time": "2023-12-24T18:27:01.030Z"
   },
   {
    "duration": 30,
    "start_time": "2023-12-24T18:27:01.077Z"
   },
   {
    "duration": 47,
    "start_time": "2023-12-24T18:27:01.109Z"
   },
   {
    "duration": 36,
    "start_time": "2023-12-24T18:27:01.158Z"
   },
   {
    "duration": 26,
    "start_time": "2023-12-24T18:27:01.195Z"
   },
   {
    "duration": 34,
    "start_time": "2023-12-24T18:27:01.222Z"
   },
   {
    "duration": 57,
    "start_time": "2023-12-24T18:27:01.257Z"
   },
   {
    "duration": 36,
    "start_time": "2023-12-24T18:27:01.317Z"
   },
   {
    "duration": 28,
    "start_time": "2023-12-24T18:27:01.356Z"
   },
   {
    "duration": 45,
    "start_time": "2023-12-24T18:27:01.386Z"
   },
   {
    "duration": 22,
    "start_time": "2023-12-24T18:27:01.432Z"
   },
   {
    "duration": 43,
    "start_time": "2023-12-24T18:27:01.455Z"
   },
   {
    "duration": 28,
    "start_time": "2023-12-24T18:27:01.499Z"
   },
   {
    "duration": 33,
    "start_time": "2023-12-24T18:27:01.529Z"
   },
   {
    "duration": 44,
    "start_time": "2023-12-24T18:27:01.563Z"
   },
   {
    "duration": 1035,
    "start_time": "2023-12-24T18:27:01.609Z"
   },
   {
    "duration": 7,
    "start_time": "2023-12-24T18:27:02.646Z"
   },
   {
    "duration": 20,
    "start_time": "2023-12-24T18:27:02.654Z"
   },
   {
    "duration": 20,
    "start_time": "2023-12-24T18:27:02.675Z"
   },
   {
    "duration": 348,
    "start_time": "2023-12-24T18:27:02.696Z"
   },
   {
    "duration": 204,
    "start_time": "2023-12-24T18:27:03.046Z"
   },
   {
    "duration": 250,
    "start_time": "2023-12-24T18:27:03.251Z"
   },
   {
    "duration": 165,
    "start_time": "2023-12-24T18:27:03.502Z"
   },
   {
    "duration": 186,
    "start_time": "2023-12-24T18:27:03.669Z"
   },
   {
    "duration": 194,
    "start_time": "2023-12-24T18:27:03.856Z"
   },
   {
    "duration": 615,
    "start_time": "2023-12-24T18:27:04.051Z"
   },
   {
    "duration": 610,
    "start_time": "2023-12-24T18:27:04.668Z"
   },
   {
    "duration": 68,
    "start_time": "2023-12-24T18:27:05.280Z"
   },
   {
    "duration": 3,
    "start_time": "2023-12-24T18:27:05.349Z"
   },
   {
    "duration": 14,
    "start_time": "2023-12-24T18:27:05.353Z"
   },
   {
    "duration": 10,
    "start_time": "2023-12-24T18:27:05.369Z"
   },
   {
    "duration": 10,
    "start_time": "2023-12-24T18:27:05.381Z"
   },
   {
    "duration": 20,
    "start_time": "2023-12-24T18:27:05.392Z"
   },
   {
    "duration": 1040,
    "start_time": "2023-12-24T18:33:47.454Z"
   },
   {
    "duration": 71,
    "start_time": "2023-12-24T18:33:48.496Z"
   },
   {
    "duration": 16,
    "start_time": "2023-12-24T18:33:48.568Z"
   },
   {
    "duration": 12,
    "start_time": "2023-12-24T18:33:48.586Z"
   },
   {
    "duration": 11,
    "start_time": "2023-12-24T18:33:48.600Z"
   },
   {
    "duration": 37,
    "start_time": "2023-12-24T18:33:48.612Z"
   },
   {
    "duration": 13,
    "start_time": "2023-12-24T18:33:48.651Z"
   },
   {
    "duration": 18,
    "start_time": "2023-12-24T18:33:48.666Z"
   },
   {
    "duration": 15,
    "start_time": "2023-12-24T18:33:48.686Z"
   },
   {
    "duration": 14,
    "start_time": "2023-12-24T18:33:48.704Z"
   },
   {
    "duration": 16,
    "start_time": "2023-12-24T18:33:48.742Z"
   },
   {
    "duration": 14,
    "start_time": "2023-12-24T18:33:48.759Z"
   },
   {
    "duration": 11,
    "start_time": "2023-12-24T18:33:48.774Z"
   },
   {
    "duration": 7,
    "start_time": "2023-12-24T18:33:48.786Z"
   },
   {
    "duration": 24,
    "start_time": "2023-12-24T18:33:48.794Z"
   },
   {
    "duration": 25,
    "start_time": "2023-12-24T18:33:48.820Z"
   },
   {
    "duration": 16,
    "start_time": "2023-12-24T18:33:48.846Z"
   },
   {
    "duration": 4,
    "start_time": "2023-12-24T18:33:48.864Z"
   },
   {
    "duration": 12,
    "start_time": "2023-12-24T18:33:48.869Z"
   },
   {
    "duration": 12,
    "start_time": "2023-12-24T18:33:48.882Z"
   },
   {
    "duration": 996,
    "start_time": "2023-12-24T18:33:48.895Z"
   },
   {
    "duration": 6,
    "start_time": "2023-12-24T18:33:49.892Z"
   },
   {
    "duration": 10,
    "start_time": "2023-12-24T18:33:49.900Z"
   },
   {
    "duration": 34,
    "start_time": "2023-12-24T18:33:49.912Z"
   },
   {
    "duration": 321,
    "start_time": "2023-12-24T18:33:49.948Z"
   },
   {
    "duration": 194,
    "start_time": "2023-12-24T18:33:50.270Z"
   },
   {
    "duration": 253,
    "start_time": "2023-12-24T18:33:50.465Z"
   },
   {
    "duration": 169,
    "start_time": "2023-12-24T18:33:50.721Z"
   },
   {
    "duration": 189,
    "start_time": "2023-12-24T18:33:50.892Z"
   },
   {
    "duration": 172,
    "start_time": "2023-12-24T18:33:51.083Z"
   },
   {
    "duration": 303,
    "start_time": "2023-12-24T18:33:51.256Z"
   },
   {
    "duration": 421,
    "start_time": "2023-12-24T18:33:51.561Z"
   },
   {
    "duration": 63,
    "start_time": "2023-12-24T18:33:51.984Z"
   },
   {
    "duration": 3,
    "start_time": "2023-12-24T18:33:52.049Z"
   },
   {
    "duration": 49,
    "start_time": "2023-12-24T18:33:52.053Z"
   },
   {
    "duration": 50,
    "start_time": "2023-12-24T18:33:52.103Z"
   },
   {
    "duration": 28,
    "start_time": "2023-12-24T18:33:52.155Z"
   },
   {
    "duration": 11,
    "start_time": "2023-12-24T18:33:52.184Z"
   },
   {
    "duration": 3,
    "start_time": "2023-12-24T18:34:53.313Z"
   },
   {
    "duration": 99,
    "start_time": "2023-12-24T18:37:52.210Z"
   },
   {
    "duration": 1095,
    "start_time": "2023-12-24T18:38:13.393Z"
   },
   {
    "duration": 74,
    "start_time": "2023-12-24T18:38:14.490Z"
   },
   {
    "duration": 15,
    "start_time": "2023-12-24T18:38:14.565Z"
   },
   {
    "duration": 25,
    "start_time": "2023-12-24T18:38:14.582Z"
   },
   {
    "duration": 12,
    "start_time": "2023-12-24T18:38:14.609Z"
   },
   {
    "duration": 27,
    "start_time": "2023-12-24T18:38:14.623Z"
   },
   {
    "duration": 13,
    "start_time": "2023-12-24T18:38:14.651Z"
   },
   {
    "duration": 16,
    "start_time": "2023-12-24T18:38:14.666Z"
   },
   {
    "duration": 16,
    "start_time": "2023-12-24T18:38:14.683Z"
   },
   {
    "duration": 10,
    "start_time": "2023-12-24T18:38:14.702Z"
   },
   {
    "duration": 76,
    "start_time": "2023-12-24T18:38:14.714Z"
   },
   {
    "duration": 0,
    "start_time": "2023-12-24T18:38:14.791Z"
   },
   {
    "duration": 0,
    "start_time": "2023-12-24T18:38:14.793Z"
   },
   {
    "duration": 0,
    "start_time": "2023-12-24T18:38:14.793Z"
   },
   {
    "duration": 0,
    "start_time": "2023-12-24T18:38:14.794Z"
   },
   {
    "duration": 0,
    "start_time": "2023-12-24T18:38:14.795Z"
   },
   {
    "duration": 0,
    "start_time": "2023-12-24T18:38:14.796Z"
   },
   {
    "duration": 0,
    "start_time": "2023-12-24T18:38:14.797Z"
   },
   {
    "duration": 0,
    "start_time": "2023-12-24T18:38:14.798Z"
   },
   {
    "duration": 0,
    "start_time": "2023-12-24T18:38:14.799Z"
   },
   {
    "duration": 0,
    "start_time": "2023-12-24T18:38:14.801Z"
   },
   {
    "duration": 0,
    "start_time": "2023-12-24T18:38:14.802Z"
   },
   {
    "duration": 0,
    "start_time": "2023-12-24T18:38:14.803Z"
   },
   {
    "duration": 0,
    "start_time": "2023-12-24T18:38:14.804Z"
   },
   {
    "duration": 0,
    "start_time": "2023-12-24T18:38:14.805Z"
   },
   {
    "duration": 0,
    "start_time": "2023-12-24T18:38:14.806Z"
   },
   {
    "duration": 0,
    "start_time": "2023-12-24T18:38:14.807Z"
   },
   {
    "duration": 0,
    "start_time": "2023-12-24T18:38:14.808Z"
   },
   {
    "duration": 0,
    "start_time": "2023-12-24T18:38:14.809Z"
   },
   {
    "duration": 0,
    "start_time": "2023-12-24T18:38:14.810Z"
   },
   {
    "duration": 0,
    "start_time": "2023-12-24T18:38:14.811Z"
   },
   {
    "duration": 0,
    "start_time": "2023-12-24T18:38:14.812Z"
   },
   {
    "duration": 0,
    "start_time": "2023-12-24T18:38:14.813Z"
   },
   {
    "duration": 0,
    "start_time": "2023-12-24T18:38:14.814Z"
   },
   {
    "duration": 0,
    "start_time": "2023-12-24T18:38:14.815Z"
   },
   {
    "duration": 0,
    "start_time": "2023-12-24T18:38:14.816Z"
   },
   {
    "duration": 0,
    "start_time": "2023-12-24T18:38:14.817Z"
   },
   {
    "duration": 0,
    "start_time": "2023-12-24T18:38:14.818Z"
   },
   {
    "duration": 15,
    "start_time": "2023-12-24T18:38:30.139Z"
   },
   {
    "duration": 16,
    "start_time": "2023-12-24T18:42:34.965Z"
   },
   {
    "duration": 16,
    "start_time": "2023-12-24T18:43:00.652Z"
   },
   {
    "duration": 7,
    "start_time": "2023-12-24T18:43:16.011Z"
   },
   {
    "duration": 17,
    "start_time": "2023-12-24T18:43:18.003Z"
   },
   {
    "duration": 8,
    "start_time": "2023-12-24T18:46:23.731Z"
   },
   {
    "duration": 5,
    "start_time": "2023-12-24T18:47:19.924Z"
   },
   {
    "duration": 4,
    "start_time": "2023-12-24T18:47:22.915Z"
   },
   {
    "duration": 13,
    "start_time": "2023-12-24T18:47:25.823Z"
   },
   {
    "duration": 5,
    "start_time": "2023-12-24T18:47:51.823Z"
   },
   {
    "duration": 12,
    "start_time": "2023-12-24T18:48:45.870Z"
   },
   {
    "duration": 183,
    "start_time": "2023-12-24T18:48:57.963Z"
   },
   {
    "duration": 11,
    "start_time": "2023-12-24T18:49:10.454Z"
   },
   {
    "duration": 115,
    "start_time": "2023-12-24T18:53:12.479Z"
   },
   {
    "duration": 151,
    "start_time": "2023-12-24T18:53:24.612Z"
   },
   {
    "duration": 302,
    "start_time": "2023-12-24T18:53:36.272Z"
   },
   {
    "duration": 321,
    "start_time": "2023-12-24T18:53:51.709Z"
   },
   {
    "duration": 315,
    "start_time": "2023-12-24T18:54:10.510Z"
   },
   {
    "duration": 349,
    "start_time": "2023-12-24T18:54:25.251Z"
   },
   {
    "duration": 310,
    "start_time": "2023-12-24T18:54:31.906Z"
   },
   {
    "duration": 351,
    "start_time": "2023-12-24T18:54:36.114Z"
   },
   {
    "duration": 316,
    "start_time": "2023-12-24T18:54:43.245Z"
   },
   {
    "duration": 14,
    "start_time": "2023-12-24T18:55:00.601Z"
   },
   {
    "duration": 316,
    "start_time": "2023-12-24T18:55:16.569Z"
   },
   {
    "duration": 323,
    "start_time": "2023-12-24T18:55:31.602Z"
   },
   {
    "duration": 398,
    "start_time": "2023-12-24T18:57:04.387Z"
   },
   {
    "duration": 322,
    "start_time": "2023-12-24T18:57:19.577Z"
   },
   {
    "duration": 313,
    "start_time": "2023-12-24T18:58:14.552Z"
   },
   {
    "duration": 5,
    "start_time": "2023-12-24T19:01:45.166Z"
   },
   {
    "duration": 1054,
    "start_time": "2023-12-24T19:01:51.547Z"
   },
   {
    "duration": 74,
    "start_time": "2023-12-24T19:01:52.603Z"
   },
   {
    "duration": 14,
    "start_time": "2023-12-24T19:01:52.678Z"
   },
   {
    "duration": 9,
    "start_time": "2023-12-24T19:01:52.694Z"
   },
   {
    "duration": 11,
    "start_time": "2023-12-24T19:01:52.705Z"
   },
   {
    "duration": 35,
    "start_time": "2023-12-24T19:01:52.718Z"
   },
   {
    "duration": 24,
    "start_time": "2023-12-24T19:01:52.754Z"
   },
   {
    "duration": 29,
    "start_time": "2023-12-24T19:01:52.779Z"
   },
   {
    "duration": 18,
    "start_time": "2023-12-24T19:01:52.809Z"
   },
   {
    "duration": 21,
    "start_time": "2023-12-24T19:01:52.831Z"
   },
   {
    "duration": 14,
    "start_time": "2023-12-24T19:01:52.854Z"
   },
   {
    "duration": 24,
    "start_time": "2023-12-24T19:01:52.870Z"
   },
   {
    "duration": 22,
    "start_time": "2023-12-24T19:01:52.896Z"
   },
   {
    "duration": 28,
    "start_time": "2023-12-24T19:01:52.921Z"
   },
   {
    "duration": 15,
    "start_time": "2023-12-24T19:01:52.951Z"
   },
   {
    "duration": 7,
    "start_time": "2023-12-24T19:01:52.968Z"
   },
   {
    "duration": 26,
    "start_time": "2023-12-24T19:01:52.976Z"
   },
   {
    "duration": 5,
    "start_time": "2023-12-24T19:01:53.004Z"
   },
   {
    "duration": 385,
    "start_time": "2023-12-24T19:01:53.011Z"
   },
   {
    "duration": 12,
    "start_time": "2023-12-24T19:01:53.398Z"
   },
   {
    "duration": 1013,
    "start_time": "2023-12-24T19:01:53.412Z"
   },
   {
    "duration": 16,
    "start_time": "2023-12-24T19:01:54.428Z"
   },
   {
    "duration": 26,
    "start_time": "2023-12-24T19:01:54.445Z"
   },
   {
    "duration": 44,
    "start_time": "2023-12-24T19:01:54.472Z"
   },
   {
    "duration": 386,
    "start_time": "2023-12-24T19:01:54.518Z"
   },
   {
    "duration": 200,
    "start_time": "2023-12-24T19:01:54.905Z"
   },
   {
    "duration": 182,
    "start_time": "2023-12-24T19:01:55.106Z"
   },
   {
    "duration": 170,
    "start_time": "2023-12-24T19:01:55.291Z"
   },
   {
    "duration": 185,
    "start_time": "2023-12-24T19:01:55.463Z"
   },
   {
    "duration": 193,
    "start_time": "2023-12-24T19:01:55.649Z"
   },
   {
    "duration": 300,
    "start_time": "2023-12-24T19:01:55.844Z"
   },
   {
    "duration": 338,
    "start_time": "2023-12-24T19:01:56.146Z"
   },
   {
    "duration": 69,
    "start_time": "2023-12-24T19:01:56.485Z"
   },
   {
    "duration": 7,
    "start_time": "2023-12-24T19:01:56.555Z"
   },
   {
    "duration": 14,
    "start_time": "2023-12-24T19:01:56.564Z"
   },
   {
    "duration": 10,
    "start_time": "2023-12-24T19:01:56.579Z"
   },
   {
    "duration": 56,
    "start_time": "2023-12-24T19:01:56.591Z"
   },
   {
    "duration": 10,
    "start_time": "2023-12-24T19:01:56.649Z"
   },
   {
    "duration": 273,
    "start_time": "2023-12-24T19:11:10.850Z"
   },
   {
    "duration": 313,
    "start_time": "2023-12-24T19:11:28.578Z"
   },
   {
    "duration": 324,
    "start_time": "2023-12-24T19:11:42.676Z"
   },
   {
    "duration": 322,
    "start_time": "2023-12-24T19:12:19.766Z"
   },
   {
    "duration": 325,
    "start_time": "2023-12-24T19:26:34.541Z"
   },
   {
    "duration": 321,
    "start_time": "2023-12-24T19:26:52.015Z"
   },
   {
    "duration": 13,
    "start_time": "2023-12-24T19:28:15.834Z"
   },
   {
    "duration": 376,
    "start_time": "2023-12-24T19:29:28.839Z"
   },
   {
    "duration": 314,
    "start_time": "2023-12-24T19:29:51.847Z"
   },
   {
    "duration": 391,
    "start_time": "2023-12-24T19:30:56.438Z"
   },
   {
    "duration": 333,
    "start_time": "2023-12-24T19:31:13.555Z"
   },
   {
    "duration": 295,
    "start_time": "2023-12-24T19:31:28.576Z"
   },
   {
    "duration": 304,
    "start_time": "2023-12-24T19:31:42.134Z"
   },
   {
    "duration": 381,
    "start_time": "2023-12-24T19:31:58.749Z"
   },
   {
    "duration": 941,
    "start_time": "2023-12-24T19:37:35.128Z"
   },
   {
    "duration": 6,
    "start_time": "2023-12-24T19:38:55.502Z"
   },
   {
    "duration": 11,
    "start_time": "2023-12-24T19:38:59.615Z"
   },
   {
    "duration": 15,
    "start_time": "2023-12-24T19:39:17.346Z"
   },
   {
    "duration": 16,
    "start_time": "2023-12-24T19:44:14.135Z"
   },
   {
    "duration": 290,
    "start_time": "2023-12-24T19:44:55.936Z"
   },
   {
    "duration": 319,
    "start_time": "2023-12-24T19:45:10.103Z"
   },
   {
    "duration": 29,
    "start_time": "2023-12-24T19:46:46.534Z"
   },
   {
    "duration": 17,
    "start_time": "2023-12-24T19:47:08.092Z"
   },
   {
    "duration": 251,
    "start_time": "2023-12-24T19:49:19.138Z"
   },
   {
    "duration": 1125,
    "start_time": "2023-12-24T19:49:35.182Z"
   },
   {
    "duration": 82,
    "start_time": "2023-12-24T19:49:36.309Z"
   },
   {
    "duration": 14,
    "start_time": "2023-12-24T19:49:36.393Z"
   },
   {
    "duration": 14,
    "start_time": "2023-12-24T19:49:36.409Z"
   },
   {
    "duration": 30,
    "start_time": "2023-12-24T19:49:36.425Z"
   },
   {
    "duration": 17,
    "start_time": "2023-12-24T19:49:36.457Z"
   },
   {
    "duration": 17,
    "start_time": "2023-12-24T19:49:36.476Z"
   },
   {
    "duration": 30,
    "start_time": "2023-12-24T19:49:36.494Z"
   },
   {
    "duration": 32,
    "start_time": "2023-12-24T19:49:36.526Z"
   },
   {
    "duration": 13,
    "start_time": "2023-12-24T19:49:36.562Z"
   },
   {
    "duration": 15,
    "start_time": "2023-12-24T19:49:36.577Z"
   },
   {
    "duration": 21,
    "start_time": "2023-12-24T19:49:36.594Z"
   },
   {
    "duration": 41,
    "start_time": "2023-12-24T19:49:36.617Z"
   },
   {
    "duration": 10,
    "start_time": "2023-12-24T19:49:36.660Z"
   },
   {
    "duration": 17,
    "start_time": "2023-12-24T19:49:36.672Z"
   },
   {
    "duration": 5,
    "start_time": "2023-12-24T19:49:36.691Z"
   },
   {
    "duration": 19,
    "start_time": "2023-12-24T19:49:36.697Z"
   },
   {
    "duration": 31,
    "start_time": "2023-12-24T19:49:36.717Z"
   },
   {
    "duration": 408,
    "start_time": "2023-12-24T19:49:36.750Z"
   },
   {
    "duration": 313,
    "start_time": "2023-12-24T19:49:37.160Z"
   },
   {
    "duration": 1109,
    "start_time": "2023-12-24T19:49:37.475Z"
   },
   {
    "duration": 6,
    "start_time": "2023-12-24T19:49:38.586Z"
   },
   {
    "duration": 10,
    "start_time": "2023-12-24T19:49:38.593Z"
   },
   {
    "duration": 15,
    "start_time": "2023-12-24T19:49:38.605Z"
   },
   {
    "duration": 283,
    "start_time": "2023-12-24T19:49:38.622Z"
   },
   {
    "duration": 0,
    "start_time": "2023-12-24T19:49:38.906Z"
   },
   {
    "duration": 0,
    "start_time": "2023-12-24T19:49:38.908Z"
   },
   {
    "duration": 0,
    "start_time": "2023-12-24T19:49:38.908Z"
   },
   {
    "duration": 0,
    "start_time": "2023-12-24T19:49:38.909Z"
   },
   {
    "duration": 0,
    "start_time": "2023-12-24T19:49:38.911Z"
   },
   {
    "duration": 0,
    "start_time": "2023-12-24T19:49:38.911Z"
   },
   {
    "duration": 0,
    "start_time": "2023-12-24T19:49:38.912Z"
   },
   {
    "duration": 0,
    "start_time": "2023-12-24T19:49:38.914Z"
   },
   {
    "duration": 0,
    "start_time": "2023-12-24T19:49:38.915Z"
   },
   {
    "duration": 0,
    "start_time": "2023-12-24T19:49:38.915Z"
   },
   {
    "duration": 0,
    "start_time": "2023-12-24T19:49:38.916Z"
   },
   {
    "duration": 0,
    "start_time": "2023-12-24T19:49:38.917Z"
   },
   {
    "duration": 0,
    "start_time": "2023-12-24T19:49:38.918Z"
   },
   {
    "duration": 30,
    "start_time": "2023-12-24T19:50:52.415Z"
   },
   {
    "duration": 309,
    "start_time": "2023-12-24T19:50:57.531Z"
   },
   {
    "duration": 357,
    "start_time": "2023-12-24T19:51:18.872Z"
   },
   {
    "duration": 318,
    "start_time": "2023-12-24T19:51:25.517Z"
   },
   {
    "duration": 182,
    "start_time": "2023-12-24T19:55:53.269Z"
   },
   {
    "duration": 225,
    "start_time": "2023-12-24T19:56:52.891Z"
   },
   {
    "duration": 236,
    "start_time": "2023-12-24T19:57:53.797Z"
   },
   {
    "duration": 264,
    "start_time": "2023-12-24T19:58:00.249Z"
   },
   {
    "duration": 229,
    "start_time": "2023-12-24T19:58:22.806Z"
   },
   {
    "duration": 77,
    "start_time": "2023-12-24T20:03:26.451Z"
   },
   {
    "duration": 200,
    "start_time": "2023-12-24T20:05:22.545Z"
   },
   {
    "duration": 206,
    "start_time": "2023-12-24T20:05:56.681Z"
   },
   {
    "duration": 221,
    "start_time": "2023-12-24T20:06:41.674Z"
   },
   {
    "duration": 231,
    "start_time": "2023-12-24T20:06:48.927Z"
   },
   {
    "duration": 300,
    "start_time": "2023-12-24T20:06:54.279Z"
   },
   {
    "duration": 215,
    "start_time": "2023-12-24T20:07:10.299Z"
   },
   {
    "duration": 215,
    "start_time": "2023-12-24T20:07:42.346Z"
   },
   {
    "duration": 218,
    "start_time": "2023-12-24T20:07:50.774Z"
   },
   {
    "duration": 13,
    "start_time": "2023-12-24T20:10:03.389Z"
   },
   {
    "duration": 1256,
    "start_time": "2023-12-25T12:26:22.517Z"
   },
   {
    "duration": 217,
    "start_time": "2023-12-25T12:26:23.774Z"
   },
   {
    "duration": 14,
    "start_time": "2023-12-25T12:26:23.992Z"
   },
   {
    "duration": 9,
    "start_time": "2023-12-25T12:26:24.007Z"
   },
   {
    "duration": 11,
    "start_time": "2023-12-25T12:26:24.017Z"
   },
   {
    "duration": 19,
    "start_time": "2023-12-25T12:26:24.030Z"
   },
   {
    "duration": 13,
    "start_time": "2023-12-25T12:26:24.050Z"
   },
   {
    "duration": 38,
    "start_time": "2023-12-25T12:26:24.064Z"
   },
   {
    "duration": 15,
    "start_time": "2023-12-25T12:26:24.103Z"
   },
   {
    "duration": 10,
    "start_time": "2023-12-25T12:26:24.121Z"
   },
   {
    "duration": 9,
    "start_time": "2023-12-25T12:26:24.132Z"
   },
   {
    "duration": 14,
    "start_time": "2023-12-25T12:26:24.142Z"
   },
   {
    "duration": 14,
    "start_time": "2023-12-25T12:26:24.157Z"
   },
   {
    "duration": 33,
    "start_time": "2023-12-25T12:26:24.172Z"
   },
   {
    "duration": 12,
    "start_time": "2023-12-25T12:26:24.207Z"
   },
   {
    "duration": 4,
    "start_time": "2023-12-25T12:26:24.221Z"
   },
   {
    "duration": 13,
    "start_time": "2023-12-25T12:26:24.226Z"
   },
   {
    "duration": 4,
    "start_time": "2023-12-25T12:26:24.241Z"
   },
   {
    "duration": 363,
    "start_time": "2023-12-25T12:26:24.246Z"
   },
   {
    "duration": 284,
    "start_time": "2023-12-25T12:26:24.611Z"
   },
   {
    "duration": 1008,
    "start_time": "2023-12-25T12:26:24.898Z"
   },
   {
    "duration": 6,
    "start_time": "2023-12-25T12:26:25.907Z"
   },
   {
    "duration": 37,
    "start_time": "2023-12-25T12:26:25.914Z"
   },
   {
    "duration": 31,
    "start_time": "2023-12-25T12:26:25.952Z"
   },
   {
    "duration": 104,
    "start_time": "2023-12-25T12:26:25.985Z"
   },
   {
    "duration": 0,
    "start_time": "2023-12-25T12:26:26.090Z"
   },
   {
    "duration": 0,
    "start_time": "2023-12-25T12:26:26.092Z"
   },
   {
    "duration": 0,
    "start_time": "2023-12-25T12:26:26.093Z"
   },
   {
    "duration": 0,
    "start_time": "2023-12-25T12:26:26.099Z"
   },
   {
    "duration": 0,
    "start_time": "2023-12-25T12:26:26.100Z"
   },
   {
    "duration": 0,
    "start_time": "2023-12-25T12:26:26.101Z"
   },
   {
    "duration": 0,
    "start_time": "2023-12-25T12:26:26.101Z"
   },
   {
    "duration": 0,
    "start_time": "2023-12-25T12:26:26.102Z"
   },
   {
    "duration": 0,
    "start_time": "2023-12-25T12:26:26.103Z"
   },
   {
    "duration": 0,
    "start_time": "2023-12-25T12:26:26.104Z"
   },
   {
    "duration": 0,
    "start_time": "2023-12-25T12:26:26.105Z"
   },
   {
    "duration": 0,
    "start_time": "2023-12-25T12:26:26.106Z"
   },
   {
    "duration": 0,
    "start_time": "2023-12-25T12:26:26.107Z"
   },
   {
    "duration": 217,
    "start_time": "2023-12-25T12:26:31.117Z"
   },
   {
    "duration": 288,
    "start_time": "2023-12-25T12:26:47.518Z"
   },
   {
    "duration": 285,
    "start_time": "2023-12-25T12:27:05.724Z"
   },
   {
    "duration": 1275,
    "start_time": "2023-12-27T18:04:22.029Z"
   },
   {
    "duration": 113,
    "start_time": "2023-12-27T18:04:23.306Z"
   },
   {
    "duration": 14,
    "start_time": "2023-12-27T18:04:23.420Z"
   },
   {
    "duration": 10,
    "start_time": "2023-12-27T18:04:23.436Z"
   },
   {
    "duration": 10,
    "start_time": "2023-12-27T18:04:23.448Z"
   },
   {
    "duration": 15,
    "start_time": "2023-12-27T18:04:23.460Z"
   },
   {
    "duration": 37,
    "start_time": "2023-12-27T18:04:23.476Z"
   },
   {
    "duration": 18,
    "start_time": "2023-12-27T18:04:23.515Z"
   },
   {
    "duration": 15,
    "start_time": "2023-12-27T18:04:23.535Z"
   },
   {
    "duration": 17,
    "start_time": "2023-12-27T18:04:23.552Z"
   },
   {
    "duration": 8,
    "start_time": "2023-12-27T18:04:23.571Z"
   },
   {
    "duration": 41,
    "start_time": "2023-12-27T18:04:23.580Z"
   },
   {
    "duration": 15,
    "start_time": "2023-12-27T18:04:23.623Z"
   },
   {
    "duration": 7,
    "start_time": "2023-12-27T18:04:23.640Z"
   },
   {
    "duration": 16,
    "start_time": "2023-12-27T18:04:23.648Z"
   },
   {
    "duration": 4,
    "start_time": "2023-12-27T18:04:23.666Z"
   },
   {
    "duration": 45,
    "start_time": "2023-12-27T18:04:23.671Z"
   },
   {
    "duration": 4,
    "start_time": "2023-12-27T18:04:23.718Z"
   },
   {
    "duration": 344,
    "start_time": "2023-12-27T18:04:23.723Z"
   },
   {
    "duration": 291,
    "start_time": "2023-12-27T18:04:24.068Z"
   },
   {
    "duration": 1000,
    "start_time": "2023-12-27T18:04:24.360Z"
   },
   {
    "duration": 7,
    "start_time": "2023-12-27T18:04:25.362Z"
   },
   {
    "duration": 11,
    "start_time": "2023-12-27T18:04:25.370Z"
   },
   {
    "duration": 36,
    "start_time": "2023-12-27T18:04:25.383Z"
   },
   {
    "duration": 306,
    "start_time": "2023-12-27T18:04:25.421Z"
   },
   {
    "duration": 186,
    "start_time": "2023-12-27T18:04:25.729Z"
   },
   {
    "duration": 172,
    "start_time": "2023-12-27T18:04:25.916Z"
   },
   {
    "duration": 192,
    "start_time": "2023-12-27T18:04:26.091Z"
   },
   {
    "duration": 166,
    "start_time": "2023-12-27T18:04:26.285Z"
   },
   {
    "duration": 173,
    "start_time": "2023-12-27T18:04:26.453Z"
   },
   {
    "duration": 361,
    "start_time": "2023-12-27T18:04:26.627Z"
   },
   {
    "duration": 310,
    "start_time": "2023-12-27T18:04:26.990Z"
   },
   {
    "duration": 19,
    "start_time": "2023-12-27T18:04:27.302Z"
   },
   {
    "duration": 3,
    "start_time": "2023-12-27T18:04:27.325Z"
   },
   {
    "duration": 13,
    "start_time": "2023-12-27T18:04:27.329Z"
   },
   {
    "duration": 23,
    "start_time": "2023-12-27T18:04:27.343Z"
   },
   {
    "duration": 23,
    "start_time": "2023-12-27T18:04:27.367Z"
   },
   {
    "duration": 18,
    "start_time": "2023-12-27T18:04:27.391Z"
   },
   {
    "duration": 1564,
    "start_time": "2023-12-27T18:14:52.309Z"
   },
   {
    "duration": 1285,
    "start_time": "2023-12-27T18:15:05.007Z"
   },
   {
    "duration": 1406,
    "start_time": "2023-12-27T18:15:19.212Z"
   },
   {
    "duration": 83,
    "start_time": "2023-12-27T18:18:12.459Z"
   },
   {
    "duration": 433,
    "start_time": "2023-12-27T18:18:26.264Z"
   },
   {
    "duration": 1005,
    "start_time": "2023-12-27T18:21:01.310Z"
   },
   {
    "duration": 239,
    "start_time": "2023-12-27T18:22:30.556Z"
   },
   {
    "duration": 228,
    "start_time": "2023-12-27T18:23:22.338Z"
   },
   {
    "duration": 182,
    "start_time": "2023-12-27T18:23:33.803Z"
   },
   {
    "duration": 185,
    "start_time": "2023-12-27T18:23:42.105Z"
   },
   {
    "duration": 271,
    "start_time": "2023-12-27T18:23:56.308Z"
   },
   {
    "duration": 222,
    "start_time": "2023-12-27T18:24:05.709Z"
   },
   {
    "duration": 281,
    "start_time": "2023-12-27T18:24:15.256Z"
   },
   {
    "duration": 168,
    "start_time": "2023-12-27T18:24:58.560Z"
   },
   {
    "duration": 9,
    "start_time": "2023-12-27T18:27:12.578Z"
   },
   {
    "duration": 144,
    "start_time": "2023-12-27T18:27:17.773Z"
   },
   {
    "duration": 154,
    "start_time": "2023-12-27T18:27:49.900Z"
   },
   {
    "duration": 151,
    "start_time": "2023-12-27T18:27:58.737Z"
   },
   {
    "duration": 265,
    "start_time": "2023-12-27T18:29:17.076Z"
   },
   {
    "duration": 167,
    "start_time": "2023-12-27T18:29:26.713Z"
   },
   {
    "duration": 182,
    "start_time": "2023-12-27T18:29:34.962Z"
   },
   {
    "duration": 190,
    "start_time": "2023-12-27T18:29:41.287Z"
   },
   {
    "duration": 229,
    "start_time": "2023-12-27T18:29:51.488Z"
   },
   {
    "duration": 292,
    "start_time": "2023-12-27T18:30:09.444Z"
   },
   {
    "duration": 203,
    "start_time": "2023-12-27T18:30:18.952Z"
   },
   {
    "duration": 201,
    "start_time": "2023-12-27T18:31:45.241Z"
   },
   {
    "duration": 162,
    "start_time": "2023-12-27T18:45:05.395Z"
   },
   {
    "duration": 83,
    "start_time": "2023-12-27T18:46:34.475Z"
   },
   {
    "duration": 183,
    "start_time": "2023-12-27T18:46:40.671Z"
   },
   {
    "duration": 18,
    "start_time": "2023-12-27T18:47:30.405Z"
   },
   {
    "duration": 182,
    "start_time": "2023-12-27T18:49:00.088Z"
   },
   {
    "duration": 12,
    "start_time": "2023-12-27T18:49:21.267Z"
   },
   {
    "duration": 34,
    "start_time": "2023-12-27T18:49:33.407Z"
   },
   {
    "duration": 170,
    "start_time": "2023-12-27T18:50:07.948Z"
   },
   {
    "duration": 18,
    "start_time": "2023-12-27T18:52:33.103Z"
   },
   {
    "duration": 8,
    "start_time": "2023-12-27T18:55:58.687Z"
   },
   {
    "duration": 48,
    "start_time": "2023-12-27T18:56:07.575Z"
   },
   {
    "duration": 33,
    "start_time": "2023-12-27T18:58:23.520Z"
   },
   {
    "duration": 169,
    "start_time": "2023-12-27T18:58:44.319Z"
   },
   {
    "duration": 35,
    "start_time": "2023-12-27T19:04:11.120Z"
   },
   {
    "duration": 17,
    "start_time": "2023-12-27T19:04:32.276Z"
   },
   {
    "duration": 35,
    "start_time": "2023-12-27T19:04:36.640Z"
   },
   {
    "duration": 45,
    "start_time": "2023-12-27T19:05:07.877Z"
   },
   {
    "duration": 35,
    "start_time": "2023-12-27T19:05:27.327Z"
   },
   {
    "duration": 169,
    "start_time": "2023-12-27T19:11:13.155Z"
   },
   {
    "duration": 165,
    "start_time": "2023-12-27T19:16:14.215Z"
   },
   {
    "duration": 154,
    "start_time": "2023-12-27T19:16:24.362Z"
   },
   {
    "duration": 7,
    "start_time": "2023-12-27T19:32:19.816Z"
   },
   {
    "duration": 6,
    "start_time": "2023-12-27T19:32:21.225Z"
   },
   {
    "duration": 12,
    "start_time": "2023-12-27T19:32:45.822Z"
   },
   {
    "duration": 6,
    "start_time": "2023-12-27T19:32:59.353Z"
   },
   {
    "duration": 9,
    "start_time": "2023-12-27T19:35:06.100Z"
   },
   {
    "duration": 8,
    "start_time": "2023-12-27T19:35:15.427Z"
   },
   {
    "duration": 11,
    "start_time": "2023-12-27T19:35:31.730Z"
   },
   {
    "duration": 10,
    "start_time": "2023-12-27T19:37:39.320Z"
   },
   {
    "duration": 6,
    "start_time": "2023-12-27T19:37:55.343Z"
   },
   {
    "duration": 5,
    "start_time": "2023-12-27T19:38:36.561Z"
   },
   {
    "duration": 68,
    "start_time": "2023-12-27T19:39:24.795Z"
   },
   {
    "duration": 7,
    "start_time": "2023-12-27T19:39:36.446Z"
   },
   {
    "duration": 7,
    "start_time": "2023-12-27T19:39:42.582Z"
   },
   {
    "duration": 6,
    "start_time": "2023-12-27T19:40:09.549Z"
   },
   {
    "duration": 80,
    "start_time": "2023-12-27T19:41:10.150Z"
   },
   {
    "duration": 4,
    "start_time": "2023-12-27T19:41:18.347Z"
   },
   {
    "duration": 4,
    "start_time": "2023-12-27T19:41:32.828Z"
   },
   {
    "duration": 69,
    "start_time": "2023-12-27T19:45:16.002Z"
   },
   {
    "duration": 111,
    "start_time": "2023-12-27T19:45:33.286Z"
   },
   {
    "duration": 13,
    "start_time": "2023-12-27T19:46:20.679Z"
   },
   {
    "duration": 13,
    "start_time": "2023-12-27T19:46:39.728Z"
   },
   {
    "duration": 14,
    "start_time": "2023-12-27T19:49:48.580Z"
   },
   {
    "duration": 6,
    "start_time": "2023-12-27T19:50:31.272Z"
   },
   {
    "duration": 6,
    "start_time": "2023-12-27T19:51:07.725Z"
   },
   {
    "duration": 6,
    "start_time": "2023-12-27T19:51:24.392Z"
   },
   {
    "duration": 2,
    "start_time": "2023-12-27T19:51:34.075Z"
   },
   {
    "duration": 6,
    "start_time": "2023-12-27T19:51:37.326Z"
   },
   {
    "duration": 2,
    "start_time": "2023-12-27T19:54:46.178Z"
   },
   {
    "duration": 6,
    "start_time": "2023-12-27T19:54:51.818Z"
   },
   {
    "duration": 6,
    "start_time": "2023-12-27T19:55:00.764Z"
   },
   {
    "duration": 3,
    "start_time": "2023-12-27T19:59:47.051Z"
   },
   {
    "duration": 6,
    "start_time": "2023-12-27T19:59:54.531Z"
   },
   {
    "duration": 6,
    "start_time": "2023-12-27T20:00:16.519Z"
   },
   {
    "duration": 1121,
    "start_time": "2023-12-27T20:06:53.310Z"
   },
   {
    "duration": 73,
    "start_time": "2023-12-27T20:06:54.433Z"
   },
   {
    "duration": 14,
    "start_time": "2023-12-27T20:06:54.507Z"
   },
   {
    "duration": 9,
    "start_time": "2023-12-27T20:06:54.524Z"
   },
   {
    "duration": 11,
    "start_time": "2023-12-27T20:06:54.535Z"
   },
   {
    "duration": 17,
    "start_time": "2023-12-27T20:06:54.547Z"
   },
   {
    "duration": 13,
    "start_time": "2023-12-27T20:06:54.565Z"
   },
   {
    "duration": 46,
    "start_time": "2023-12-27T20:06:54.579Z"
   },
   {
    "duration": 17,
    "start_time": "2023-12-27T20:06:54.626Z"
   },
   {
    "duration": 11,
    "start_time": "2023-12-27T20:06:54.646Z"
   },
   {
    "duration": 9,
    "start_time": "2023-12-27T20:06:54.659Z"
   },
   {
    "duration": 43,
    "start_time": "2023-12-27T20:06:54.669Z"
   },
   {
    "duration": 15,
    "start_time": "2023-12-27T20:06:54.713Z"
   },
   {
    "duration": 6,
    "start_time": "2023-12-27T20:06:54.730Z"
   },
   {
    "duration": 12,
    "start_time": "2023-12-27T20:06:54.737Z"
   },
   {
    "duration": 3,
    "start_time": "2023-12-27T20:06:54.751Z"
   },
   {
    "duration": 13,
    "start_time": "2023-12-27T20:06:54.756Z"
   },
   {
    "duration": 4,
    "start_time": "2023-12-27T20:06:54.771Z"
   },
   {
    "duration": 372,
    "start_time": "2023-12-27T20:06:54.776Z"
   },
   {
    "duration": 298,
    "start_time": "2023-12-27T20:06:55.149Z"
   },
   {
    "duration": 983,
    "start_time": "2023-12-27T20:06:55.449Z"
   },
   {
    "duration": 6,
    "start_time": "2023-12-27T20:06:56.434Z"
   },
   {
    "duration": 11,
    "start_time": "2023-12-27T20:06:56.442Z"
   },
   {
    "duration": 16,
    "start_time": "2023-12-27T20:06:56.454Z"
   },
   {
    "duration": 229,
    "start_time": "2023-12-27T20:06:56.471Z"
   },
   {
    "duration": 177,
    "start_time": "2023-12-27T20:06:56.701Z"
   },
   {
    "duration": 174,
    "start_time": "2023-12-27T20:06:56.880Z"
   },
   {
    "duration": 184,
    "start_time": "2023-12-27T20:06:57.057Z"
   },
   {
    "duration": 169,
    "start_time": "2023-12-27T20:06:57.243Z"
   },
   {
    "duration": 164,
    "start_time": "2023-12-27T20:06:57.413Z"
   },
   {
    "duration": 53,
    "start_time": "2023-12-27T20:06:57.578Z"
   },
   {
    "duration": 304,
    "start_time": "2023-12-27T20:06:57.633Z"
   },
   {
    "duration": 376,
    "start_time": "2023-12-27T20:06:57.939Z"
   },
   {
    "duration": 14,
    "start_time": "2023-12-27T20:06:58.316Z"
   },
   {
    "duration": 2,
    "start_time": "2023-12-27T20:06:58.331Z"
   },
   {
    "duration": 6,
    "start_time": "2023-12-27T20:06:58.335Z"
   },
   {
    "duration": 33,
    "start_time": "2023-12-27T20:06:58.343Z"
   },
   {
    "duration": 20,
    "start_time": "2023-12-27T20:06:58.377Z"
   },
   {
    "duration": 7,
    "start_time": "2023-12-27T20:06:58.398Z"
   },
   {
    "duration": 6,
    "start_time": "2023-12-27T20:06:58.406Z"
   },
   {
    "duration": 12,
    "start_time": "2023-12-27T20:06:58.413Z"
   },
   {
    "duration": 24,
    "start_time": "2023-12-27T20:08:54.973Z"
   },
   {
    "duration": 28,
    "start_time": "2023-12-27T20:09:09.344Z"
   },
   {
    "duration": 16,
    "start_time": "2023-12-27T20:10:26.975Z"
   },
   {
    "duration": 94,
    "start_time": "2023-12-27T20:11:14.047Z"
   },
   {
    "duration": 19,
    "start_time": "2023-12-27T20:11:49.230Z"
   },
   {
    "duration": 18,
    "start_time": "2023-12-27T20:11:56.341Z"
   },
   {
    "duration": 19,
    "start_time": "2023-12-27T20:11:59.794Z"
   },
   {
    "duration": 16,
    "start_time": "2023-12-27T20:12:23.296Z"
   },
   {
    "duration": 18,
    "start_time": "2023-12-27T20:12:36.749Z"
   },
   {
    "duration": 17,
    "start_time": "2023-12-27T20:12:47.290Z"
   },
   {
    "duration": 196,
    "start_time": "2023-12-27T20:15:06.918Z"
   },
   {
    "duration": 16,
    "start_time": "2023-12-27T20:15:56.841Z"
   },
   {
    "duration": 22,
    "start_time": "2023-12-27T20:26:18.387Z"
   },
   {
    "duration": 173,
    "start_time": "2023-12-27T20:27:03.329Z"
   },
   {
    "duration": 1240,
    "start_time": "2023-12-27T20:56:02.417Z"
   },
   {
    "duration": 76,
    "start_time": "2023-12-27T20:56:03.658Z"
   },
   {
    "duration": 16,
    "start_time": "2023-12-27T20:56:03.735Z"
   },
   {
    "duration": 10,
    "start_time": "2023-12-27T20:56:03.754Z"
   },
   {
    "duration": 22,
    "start_time": "2023-12-27T20:56:03.766Z"
   },
   {
    "duration": 19,
    "start_time": "2023-12-27T20:56:03.811Z"
   },
   {
    "duration": 17,
    "start_time": "2023-12-27T20:56:03.831Z"
   },
   {
    "duration": 45,
    "start_time": "2023-12-27T20:56:03.850Z"
   },
   {
    "duration": 52,
    "start_time": "2023-12-27T20:56:03.897Z"
   },
   {
    "duration": 12,
    "start_time": "2023-12-27T20:56:03.952Z"
   },
   {
    "duration": 12,
    "start_time": "2023-12-27T20:56:03.965Z"
   },
   {
    "duration": 23,
    "start_time": "2023-12-27T20:56:03.979Z"
   },
   {
    "duration": 25,
    "start_time": "2023-12-27T20:56:04.004Z"
   },
   {
    "duration": 10,
    "start_time": "2023-12-27T20:56:04.031Z"
   },
   {
    "duration": 13,
    "start_time": "2023-12-27T20:56:04.043Z"
   },
   {
    "duration": 5,
    "start_time": "2023-12-27T20:56:04.058Z"
   },
   {
    "duration": 14,
    "start_time": "2023-12-27T20:56:04.064Z"
   },
   {
    "duration": 37,
    "start_time": "2023-12-27T20:56:04.079Z"
   },
   {
    "duration": 375,
    "start_time": "2023-12-27T20:56:04.117Z"
   },
   {
    "duration": 309,
    "start_time": "2023-12-27T20:56:04.494Z"
   },
   {
    "duration": 1095,
    "start_time": "2023-12-27T20:56:04.804Z"
   },
   {
    "duration": 13,
    "start_time": "2023-12-27T20:56:05.900Z"
   },
   {
    "duration": 18,
    "start_time": "2023-12-27T20:56:05.915Z"
   },
   {
    "duration": 24,
    "start_time": "2023-12-27T20:56:05.935Z"
   },
   {
    "duration": 21,
    "start_time": "2023-12-27T20:56:05.960Z"
   },
   {
    "duration": 290,
    "start_time": "2023-12-27T20:56:05.983Z"
   },
   {
    "duration": 218,
    "start_time": "2023-12-27T20:56:06.274Z"
   },
   {
    "duration": 208,
    "start_time": "2023-12-27T20:56:06.496Z"
   },
   {
    "duration": 235,
    "start_time": "2023-12-27T20:56:06.706Z"
   },
   {
    "duration": 202,
    "start_time": "2023-12-27T20:56:06.943Z"
   },
   {
    "duration": 210,
    "start_time": "2023-12-27T20:56:07.147Z"
   },
   {
    "duration": 35,
    "start_time": "2023-12-27T20:56:07.359Z"
   },
   {
    "duration": 353,
    "start_time": "2023-12-27T20:56:07.396Z"
   },
   {
    "duration": 425,
    "start_time": "2023-12-27T20:56:07.751Z"
   },
   {
    "duration": 14,
    "start_time": "2023-12-27T20:56:08.177Z"
   },
   {
    "duration": 19,
    "start_time": "2023-12-27T20:56:08.193Z"
   },
   {
    "duration": 10,
    "start_time": "2023-12-27T20:56:08.214Z"
   },
   {
    "duration": 20,
    "start_time": "2023-12-27T20:56:08.226Z"
   },
   {
    "duration": 14,
    "start_time": "2023-12-27T20:56:08.248Z"
   },
   {
    "duration": 7,
    "start_time": "2023-12-27T20:56:08.264Z"
   },
   {
    "duration": 13,
    "start_time": "2023-12-27T20:56:08.273Z"
   },
   {
    "duration": 37,
    "start_time": "2023-12-27T20:56:08.287Z"
   },
   {
    "duration": 109,
    "start_time": "2023-12-27T21:01:40.940Z"
   },
   {
    "duration": 21,
    "start_time": "2023-12-27T21:02:02.013Z"
   },
   {
    "duration": 13,
    "start_time": "2023-12-27T21:02:15.773Z"
   },
   {
    "duration": 13,
    "start_time": "2023-12-27T21:02:21.878Z"
   },
   {
    "duration": 13,
    "start_time": "2023-12-27T21:02:24.666Z"
   },
   {
    "duration": 34,
    "start_time": "2023-12-27T21:03:27.200Z"
   },
   {
    "duration": 10,
    "start_time": "2023-12-27T21:03:33.784Z"
   },
   {
    "duration": 10,
    "start_time": "2023-12-27T21:03:47.846Z"
   },
   {
    "duration": 7,
    "start_time": "2023-12-27T21:03:58.343Z"
   },
   {
    "duration": 49,
    "start_time": "2023-12-28T17:48:29.115Z"
   },
   {
    "duration": 1424,
    "start_time": "2023-12-28T17:48:34.807Z"
   },
   {
    "duration": 227,
    "start_time": "2023-12-28T17:48:36.233Z"
   },
   {
    "duration": 15,
    "start_time": "2023-12-28T17:48:36.461Z"
   },
   {
    "duration": 10,
    "start_time": "2023-12-28T17:48:36.478Z"
   },
   {
    "duration": 54,
    "start_time": "2023-12-28T17:48:36.489Z"
   },
   {
    "duration": 48,
    "start_time": "2023-12-28T17:48:36.545Z"
   },
   {
    "duration": 19,
    "start_time": "2023-12-28T17:48:36.595Z"
   },
   {
    "duration": 20,
    "start_time": "2023-12-28T17:48:36.616Z"
   },
   {
    "duration": 18,
    "start_time": "2023-12-28T17:48:36.638Z"
   },
   {
    "duration": 12,
    "start_time": "2023-12-28T17:48:36.659Z"
   },
   {
    "duration": 10,
    "start_time": "2023-12-28T17:48:36.673Z"
   },
   {
    "duration": 46,
    "start_time": "2023-12-28T17:48:36.685Z"
   },
   {
    "duration": 25,
    "start_time": "2023-12-28T17:48:36.733Z"
   },
   {
    "duration": 7,
    "start_time": "2023-12-28T17:48:36.760Z"
   },
   {
    "duration": 31,
    "start_time": "2023-12-28T17:48:36.769Z"
   },
   {
    "duration": 5,
    "start_time": "2023-12-28T17:48:36.801Z"
   },
   {
    "duration": 26,
    "start_time": "2023-12-28T17:48:36.807Z"
   },
   {
    "duration": 4,
    "start_time": "2023-12-28T17:48:36.835Z"
   },
   {
    "duration": 378,
    "start_time": "2023-12-28T17:48:36.841Z"
   },
   {
    "duration": 311,
    "start_time": "2023-12-28T17:48:37.221Z"
   },
   {
    "duration": 1118,
    "start_time": "2023-12-28T17:48:37.534Z"
   },
   {
    "duration": 7,
    "start_time": "2023-12-28T17:48:38.653Z"
   },
   {
    "duration": 42,
    "start_time": "2023-12-28T17:48:38.662Z"
   },
   {
    "duration": 33,
    "start_time": "2023-12-28T17:48:38.705Z"
   },
   {
    "duration": 17,
    "start_time": "2023-12-28T17:48:38.740Z"
   },
   {
    "duration": 261,
    "start_time": "2023-12-28T17:48:38.760Z"
   },
   {
    "duration": 192,
    "start_time": "2023-12-28T17:48:39.023Z"
   },
   {
    "duration": 183,
    "start_time": "2023-12-28T17:48:39.218Z"
   },
   {
    "duration": 211,
    "start_time": "2023-12-28T17:48:39.403Z"
   },
   {
    "duration": 175,
    "start_time": "2023-12-28T17:48:39.615Z"
   },
   {
    "duration": 210,
    "start_time": "2023-12-28T17:48:39.792Z"
   },
   {
    "duration": 65,
    "start_time": "2023-12-28T17:48:40.004Z"
   },
   {
    "duration": 436,
    "start_time": "2023-12-28T17:48:40.072Z"
   },
   {
    "duration": 386,
    "start_time": "2023-12-28T17:48:40.510Z"
   },
   {
    "duration": 15,
    "start_time": "2023-12-28T17:48:40.899Z"
   },
   {
    "duration": 15,
    "start_time": "2023-12-28T17:48:40.916Z"
   },
   {
    "duration": 34,
    "start_time": "2023-12-28T17:48:40.933Z"
   },
   {
    "duration": 52,
    "start_time": "2023-12-28T17:48:40.969Z"
   },
   {
    "duration": 47,
    "start_time": "2023-12-28T17:48:41.023Z"
   },
   {
    "duration": 41,
    "start_time": "2023-12-28T17:48:41.072Z"
   },
   {
    "duration": 31,
    "start_time": "2023-12-28T17:48:41.116Z"
   },
   {
    "duration": 20,
    "start_time": "2023-12-28T17:48:41.149Z"
   },
   {
    "duration": 110,
    "start_time": "2023-12-28T17:52:32.816Z"
   },
   {
    "duration": 15,
    "start_time": "2023-12-28T17:53:12.143Z"
   },
   {
    "duration": 40,
    "start_time": "2023-12-28T17:55:02.891Z"
   },
   {
    "duration": 255,
    "start_time": "2023-12-28T17:55:55.235Z"
   },
   {
    "duration": 195,
    "start_time": "2023-12-28T18:01:39.532Z"
   },
   {
    "duration": 164,
    "start_time": "2023-12-28T18:03:52.143Z"
   },
   {
    "duration": 43,
    "start_time": "2023-12-28T18:08:10.988Z"
   },
   {
    "duration": 58,
    "start_time": "2023-12-28T18:08:24.943Z"
   },
   {
    "duration": 51,
    "start_time": "2023-12-28T18:08:34.356Z"
   },
   {
    "duration": 49,
    "start_time": "2023-12-28T18:09:08.545Z"
   },
   {
    "duration": 54,
    "start_time": "2023-12-28T18:09:50.486Z"
   },
   {
    "duration": 46,
    "start_time": "2023-12-28T18:09:58.112Z"
   },
   {
    "duration": 53,
    "start_time": "2023-12-28T18:10:06.236Z"
   },
   {
    "duration": 50,
    "start_time": "2023-12-28T18:10:14.387Z"
   },
   {
    "duration": 44,
    "start_time": "2023-12-28T18:10:20.290Z"
   },
   {
    "duration": 259,
    "start_time": "2023-12-28T18:10:36.433Z"
   },
   {
    "duration": 58,
    "start_time": "2023-12-28T18:10:50.790Z"
   },
   {
    "duration": 312,
    "start_time": "2023-12-28T18:11:01.585Z"
   },
   {
    "duration": 286,
    "start_time": "2023-12-28T18:15:40.534Z"
   },
   {
    "duration": 263,
    "start_time": "2023-12-28T18:16:24.687Z"
   },
   {
    "duration": 799,
    "start_time": "2023-12-28T18:21:54.728Z"
   },
   {
    "duration": 7,
    "start_time": "2023-12-28T18:22:39.248Z"
   },
   {
    "duration": 23,
    "start_time": "2023-12-28T18:22:46.775Z"
   },
   {
    "duration": 47,
    "start_time": "2023-12-28T18:23:08.751Z"
   },
   {
    "duration": 10,
    "start_time": "2023-12-28T18:27:14.170Z"
   },
   {
    "duration": 11,
    "start_time": "2023-12-28T18:27:42.620Z"
   },
   {
    "duration": 9,
    "start_time": "2023-12-28T18:27:49.118Z"
   },
   {
    "duration": 50,
    "start_time": "2023-12-28T18:31:19.650Z"
   },
   {
    "duration": 100,
    "start_time": "2023-12-28T18:31:30.053Z"
   },
   {
    "duration": 15,
    "start_time": "2023-12-28T18:31:43.377Z"
   },
   {
    "duration": 53,
    "start_time": "2023-12-28T18:31:54.452Z"
   },
   {
    "duration": 54,
    "start_time": "2023-12-28T18:33:20.834Z"
   },
   {
    "duration": 14,
    "start_time": "2023-12-28T18:34:21.629Z"
   },
   {
    "duration": 7,
    "start_time": "2023-12-28T18:35:14.319Z"
   },
   {
    "duration": 21,
    "start_time": "2023-12-28T18:36:00.713Z"
   },
   {
    "duration": 16,
    "start_time": "2023-12-28T18:36:10.155Z"
   },
   {
    "duration": 22,
    "start_time": "2023-12-28T18:36:52.737Z"
   },
   {
    "duration": 20,
    "start_time": "2023-12-28T18:42:57.824Z"
   },
   {
    "duration": 16,
    "start_time": "2023-12-28T18:45:13.389Z"
   },
   {
    "duration": 24,
    "start_time": "2023-12-28T18:45:41.431Z"
   },
   {
    "duration": 10,
    "start_time": "2023-12-28T18:52:19.122Z"
   },
   {
    "duration": 16,
    "start_time": "2023-12-28T18:53:13.493Z"
   },
   {
    "duration": 11,
    "start_time": "2023-12-28T18:53:32.463Z"
   },
   {
    "duration": 25,
    "start_time": "2023-12-28T18:53:46.234Z"
   },
   {
    "duration": 256,
    "start_time": "2023-12-28T18:56:00.375Z"
   },
   {
    "duration": 450,
    "start_time": "2023-12-28T19:00:16.872Z"
   },
   {
    "duration": 255,
    "start_time": "2023-12-28T19:01:14.375Z"
   },
   {
    "duration": 270,
    "start_time": "2023-12-28T19:01:22.701Z"
   },
   {
    "duration": 259,
    "start_time": "2023-12-28T19:12:19.305Z"
   },
   {
    "duration": 50,
    "start_time": "2023-12-28T19:12:35.039Z"
   },
   {
    "duration": 43,
    "start_time": "2023-12-28T19:15:06.614Z"
   },
   {
    "duration": 392,
    "start_time": "2023-12-28T19:15:33.287Z"
   },
   {
    "duration": 200,
    "start_time": "2023-12-28T19:16:30.689Z"
   },
   {
    "duration": 234,
    "start_time": "2023-12-28T19:16:41.625Z"
   },
   {
    "duration": 27,
    "start_time": "2023-12-28T19:16:49.237Z"
   },
   {
    "duration": 207,
    "start_time": "2023-12-28T19:16:54.613Z"
   },
   {
    "duration": 265,
    "start_time": "2023-12-28T19:18:12.627Z"
   },
   {
    "duration": 16,
    "start_time": "2023-12-28T19:20:24.705Z"
   },
   {
    "duration": 17,
    "start_time": "2023-12-28T19:21:30.395Z"
   },
   {
    "duration": 17,
    "start_time": "2023-12-28T19:26:49.385Z"
   },
   {
    "duration": 13,
    "start_time": "2023-12-28T19:28:47.723Z"
   },
   {
    "duration": 15,
    "start_time": "2023-12-28T19:41:17.833Z"
   },
   {
    "duration": 258,
    "start_time": "2023-12-28T19:41:23.110Z"
   },
   {
    "duration": 266,
    "start_time": "2023-12-28T19:41:30.104Z"
   },
   {
    "duration": 301,
    "start_time": "2023-12-28T19:47:47.674Z"
   },
   {
    "duration": 255,
    "start_time": "2023-12-28T19:48:24.098Z"
   }
  ],
  "kernelspec": {
   "display_name": "Python 3 (ipykernel)",
   "language": "python",
   "name": "python3"
  },
  "language_info": {
   "codemirror_mode": {
    "name": "ipython",
    "version": 3
   },
   "file_extension": ".py",
   "mimetype": "text/x-python",
   "name": "python",
   "nbconvert_exporter": "python",
   "pygments_lexer": "ipython3",
   "version": "3.11.7"
  },
  "toc": {
   "base_numbering": 1,
   "nav_menu": {},
   "number_sections": true,
   "sideBar": true,
   "skip_h1_title": true,
   "title_cell": "Table of Contents",
   "title_sidebar": "Contents",
   "toc_cell": false,
   "toc_position": {
    "height": "calc(100% - 180px)",
    "left": "10px",
    "top": "150px",
    "width": "239.796875px"
   },
   "toc_section_display": true,
   "toc_window_display": true
  }
 },
 "nbformat": 4,
 "nbformat_minor": 4
}
