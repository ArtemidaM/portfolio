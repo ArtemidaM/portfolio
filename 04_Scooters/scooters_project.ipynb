{
 "cells": [
  {
   "cell_type": "markdown",
   "id": "0d2992b1",
   "metadata": {},
   "source": [
    "# Анализ сервиса аренды самокатов GoFast"
   ]
  },
  {
   "cell_type": "markdown",
   "id": "b6709521",
   "metadata": {},
   "source": [
    "У нас есть данные о некоторых пользователях сервиса аренды самокатов GoFast из нескольких городов, а также об их поездках. Проанализируем эти данные и проверим некоторые гипотезы, которые могут помочь бизнесу вырасти.\n",
    "\n",
    "Чтобы совершать поездки по городу, пользователи сервиса GoFast пользуются мобильным приложением. Сервисом можно пользоваться:\n",
    "\n",
    "без подписки  \n",
    "абонентская плата отсутствует;  \n",
    "стоимость одной минуты поездки — 8 рублей;  \n",
    "стоимость старта (начала поездки) — 50 рублей;  \n",
    "\n",
    "с подпиской Ultra  \n",
    "абонентская плата — 199 рублей в месяц;  \n",
    "стоимость одной минуты поездки — 6 рублей;  \n",
    "стоимость старта — бесплатно.  \n",
    "\n",
    "**Описание данных** \n",
    "\n",
    "В основных данных есть информация о пользователях, их поездках и подписках.\n",
    "\n",
    "Пользователи — users_go.csv:  \n",
    "- user_id\tуникальный идентификатор пользователя  \n",
    "- name\tимя пользователя  \n",
    "- age\tвозраст  \n",
    "- city\tгород  \n",
    "- subscription_type\tтип подписки (free, ultra)\n",
    "\n",
    "Поездки — rides_go.csv:\n",
    "- user_id\tуникальный идентификатор пользователя\n",
    "- distance\tрасстояние, которое пользователь проехал в текущей сессии (в метрах)\n",
    "- duration\tпродолжительность сессии (в минутах) — время с того момента, как пользователь нажал кнопку «Начать поездку» до момента, как он нажал кнопку «Завершить поездку»\n",
    "- date\tдата совершения поездки\n",
    "\n",
    "Подписки — subscriptions_go.csv:\n",
    "- subscription_type\tтип подписки\n",
    "- minute_price\tстоимость одной минуты поездки по данной подписке\n",
    "- start_ride_price\tстоимость начала поездки\n",
    "- subscription_fee\tстоимость ежемесячного платежа\n",
    "\n",
    "**План работы**\n",
    "\n",
    "- загрузим и изучим имеющиеся данные;\n",
    "- проведем предобработку данных;\n",
    "- опишем и визуализируем общую информацию о поездках;\n",
    "- изучим и визуализируем данные по категориям пользователей с подпиской и без;\n",
    "- посчитаем выручку по месяцам для пользователй с подпиской и без;\n",
    "- проверим несколько гипотез для принятия решения о развитии бизнеса.\n"
   ]
  },
  {
   "cell_type": "markdown",
   "id": "c42cbe00",
   "metadata": {},
   "source": [
    "### Шаг 1. Загрузка данных"
   ]
  },
  {
   "cell_type": "markdown",
   "id": "bc889266",
   "metadata": {},
   "source": [
    "#### Считаем CSV-файлы с данными с помощью библиотеки pandas и сохраним их в датафреймы."
   ]
  },
  {
   "cell_type": "code",
   "execution_count": 1,
   "id": "72576667",
   "metadata": {},
   "outputs": [],
   "source": [
    "import pandas as pd"
   ]
  },
  {
   "cell_type": "code",
   "execution_count": 2,
   "id": "eff9f206",
   "metadata": {},
   "outputs": [],
   "source": [
    "users_go = pd.read_csv('/datasets/users_go.csv')\n",
    "rides_go = pd.read_csv('/datasets/rides_go.csv')\n",
    "subscriptions_go = pd.read_csv('/datasets/subscriptions_go.csv')"
   ]
  },
  {
   "cell_type": "markdown",
   "id": "33311e26",
   "metadata": {},
   "source": [
    "#### Выведем первые строки каждого набора данных. Изучим общую информацию о каждом датафрейме."
   ]
  },
  {
   "cell_type": "code",
   "execution_count": 3,
   "id": "517b797b",
   "metadata": {},
   "outputs": [
    {
     "data": {
      "text/html": [
       "<div>\n",
       "<style scoped>\n",
       "    .dataframe tbody tr th:only-of-type {\n",
       "        vertical-align: middle;\n",
       "    }\n",
       "\n",
       "    .dataframe tbody tr th {\n",
       "        vertical-align: top;\n",
       "    }\n",
       "\n",
       "    .dataframe thead th {\n",
       "        text-align: right;\n",
       "    }\n",
       "</style>\n",
       "<table border=\"1\" class=\"dataframe\">\n",
       "  <thead>\n",
       "    <tr style=\"text-align: right;\">\n",
       "      <th></th>\n",
       "      <th>user_id</th>\n",
       "      <th>name</th>\n",
       "      <th>age</th>\n",
       "      <th>city</th>\n",
       "      <th>subscription_type</th>\n",
       "    </tr>\n",
       "  </thead>\n",
       "  <tbody>\n",
       "    <tr>\n",
       "      <th>0</th>\n",
       "      <td>1</td>\n",
       "      <td>Кира</td>\n",
       "      <td>22</td>\n",
       "      <td>Тюмень</td>\n",
       "      <td>ultra</td>\n",
       "    </tr>\n",
       "    <tr>\n",
       "      <th>1</th>\n",
       "      <td>2</td>\n",
       "      <td>Станислав</td>\n",
       "      <td>31</td>\n",
       "      <td>Омск</td>\n",
       "      <td>ultra</td>\n",
       "    </tr>\n",
       "    <tr>\n",
       "      <th>2</th>\n",
       "      <td>3</td>\n",
       "      <td>Алексей</td>\n",
       "      <td>20</td>\n",
       "      <td>Москва</td>\n",
       "      <td>ultra</td>\n",
       "    </tr>\n",
       "    <tr>\n",
       "      <th>3</th>\n",
       "      <td>4</td>\n",
       "      <td>Константин</td>\n",
       "      <td>26</td>\n",
       "      <td>Ростов-на-Дону</td>\n",
       "      <td>ultra</td>\n",
       "    </tr>\n",
       "    <tr>\n",
       "      <th>4</th>\n",
       "      <td>5</td>\n",
       "      <td>Адель</td>\n",
       "      <td>28</td>\n",
       "      <td>Омск</td>\n",
       "      <td>ultra</td>\n",
       "    </tr>\n",
       "    <tr>\n",
       "      <th>...</th>\n",
       "      <td>...</td>\n",
       "      <td>...</td>\n",
       "      <td>...</td>\n",
       "      <td>...</td>\n",
       "      <td>...</td>\n",
       "    </tr>\n",
       "    <tr>\n",
       "      <th>1560</th>\n",
       "      <td>829</td>\n",
       "      <td>Федор</td>\n",
       "      <td>29</td>\n",
       "      <td>Пятигорск</td>\n",
       "      <td>free</td>\n",
       "    </tr>\n",
       "    <tr>\n",
       "      <th>1561</th>\n",
       "      <td>809</td>\n",
       "      <td>Юрий</td>\n",
       "      <td>26</td>\n",
       "      <td>Сочи</td>\n",
       "      <td>free</td>\n",
       "    </tr>\n",
       "    <tr>\n",
       "      <th>1562</th>\n",
       "      <td>307</td>\n",
       "      <td>Ясмина</td>\n",
       "      <td>19</td>\n",
       "      <td>Краснодар</td>\n",
       "      <td>ultra</td>\n",
       "    </tr>\n",
       "    <tr>\n",
       "      <th>1563</th>\n",
       "      <td>47</td>\n",
       "      <td>Юрий</td>\n",
       "      <td>28</td>\n",
       "      <td>Тюмень</td>\n",
       "      <td>ultra</td>\n",
       "    </tr>\n",
       "    <tr>\n",
       "      <th>1564</th>\n",
       "      <td>1045</td>\n",
       "      <td>Артемий</td>\n",
       "      <td>28</td>\n",
       "      <td>Ростов-на-Дону</td>\n",
       "      <td>free</td>\n",
       "    </tr>\n",
       "  </tbody>\n",
       "</table>\n",
       "<p>1565 rows × 5 columns</p>\n",
       "</div>"
      ],
      "text/plain": [
       "      user_id        name  age            city subscription_type\n",
       "0           1        Кира   22          Тюмень             ultra\n",
       "1           2   Станислав   31            Омск             ultra\n",
       "2           3     Алексей   20          Москва             ultra\n",
       "3           4  Константин   26  Ростов-на-Дону             ultra\n",
       "4           5       Адель   28            Омск             ultra\n",
       "...       ...         ...  ...             ...               ...\n",
       "1560      829       Федор   29       Пятигорск              free\n",
       "1561      809        Юрий   26            Сочи              free\n",
       "1562      307      Ясмина   19       Краснодар             ultra\n",
       "1563       47        Юрий   28          Тюмень             ultra\n",
       "1564     1045     Артемий   28  Ростов-на-Дону              free\n",
       "\n",
       "[1565 rows x 5 columns]"
      ]
     },
     "metadata": {},
     "output_type": "display_data"
    },
    {
     "name": "stdout",
     "output_type": "stream",
     "text": [
      "<class 'pandas.core.frame.DataFrame'>\n",
      "RangeIndex: 1565 entries, 0 to 1564\n",
      "Data columns (total 5 columns):\n",
      " #   Column             Non-Null Count  Dtype \n",
      "---  ------             --------------  ----- \n",
      " 0   user_id            1565 non-null   int64 \n",
      " 1   name               1565 non-null   object\n",
      " 2   age                1565 non-null   int64 \n",
      " 3   city               1565 non-null   object\n",
      " 4   subscription_type  1565 non-null   object\n",
      "dtypes: int64(2), object(3)\n",
      "memory usage: 61.3+ KB\n"
     ]
    }
   ],
   "source": [
    "display(users_go)\n",
    "users_go.info()"
   ]
  },
  {
   "cell_type": "markdown",
   "id": "bacd52b5",
   "metadata": {},
   "source": [
    "В таблице users_go содержатся:\n",
    "- user_id\tуникальный идентификатор пользователя\n",
    "- name\tимя пользователя\n",
    "- age\tвозраст\n",
    "- city\tгород\n",
    "- subscription_type\tтип подписки (free, ultra)\n",
    "\n",
    "Количество заполненных строк в столбцах совпадает, значит пропуски отсутствуют."
   ]
  },
  {
   "cell_type": "code",
   "execution_count": 4,
   "id": "280d5c0b",
   "metadata": {},
   "outputs": [
    {
     "data": {
      "text/html": [
       "<div>\n",
       "<style scoped>\n",
       "    .dataframe tbody tr th:only-of-type {\n",
       "        vertical-align: middle;\n",
       "    }\n",
       "\n",
       "    .dataframe tbody tr th {\n",
       "        vertical-align: top;\n",
       "    }\n",
       "\n",
       "    .dataframe thead th {\n",
       "        text-align: right;\n",
       "    }\n",
       "</style>\n",
       "<table border=\"1\" class=\"dataframe\">\n",
       "  <thead>\n",
       "    <tr style=\"text-align: right;\">\n",
       "      <th></th>\n",
       "      <th>user_id</th>\n",
       "      <th>distance</th>\n",
       "      <th>duration</th>\n",
       "      <th>date</th>\n",
       "    </tr>\n",
       "  </thead>\n",
       "  <tbody>\n",
       "    <tr>\n",
       "      <th>0</th>\n",
       "      <td>1</td>\n",
       "      <td>4409.919140</td>\n",
       "      <td>25.599769</td>\n",
       "      <td>2021-01-01</td>\n",
       "    </tr>\n",
       "    <tr>\n",
       "      <th>1</th>\n",
       "      <td>1</td>\n",
       "      <td>2617.592153</td>\n",
       "      <td>15.816871</td>\n",
       "      <td>2021-01-18</td>\n",
       "    </tr>\n",
       "    <tr>\n",
       "      <th>2</th>\n",
       "      <td>1</td>\n",
       "      <td>754.159807</td>\n",
       "      <td>6.232113</td>\n",
       "      <td>2021-04-20</td>\n",
       "    </tr>\n",
       "    <tr>\n",
       "      <th>3</th>\n",
       "      <td>1</td>\n",
       "      <td>2694.783254</td>\n",
       "      <td>18.511000</td>\n",
       "      <td>2021-08-11</td>\n",
       "    </tr>\n",
       "    <tr>\n",
       "      <th>4</th>\n",
       "      <td>1</td>\n",
       "      <td>4028.687306</td>\n",
       "      <td>26.265803</td>\n",
       "      <td>2021-08-28</td>\n",
       "    </tr>\n",
       "    <tr>\n",
       "      <th>...</th>\n",
       "      <td>...</td>\n",
       "      <td>...</td>\n",
       "      <td>...</td>\n",
       "      <td>...</td>\n",
       "    </tr>\n",
       "    <tr>\n",
       "      <th>18063</th>\n",
       "      <td>1534</td>\n",
       "      <td>3781.098080</td>\n",
       "      <td>19.822962</td>\n",
       "      <td>2021-11-04</td>\n",
       "    </tr>\n",
       "    <tr>\n",
       "      <th>18064</th>\n",
       "      <td>1534</td>\n",
       "      <td>2840.423057</td>\n",
       "      <td>21.409799</td>\n",
       "      <td>2021-11-16</td>\n",
       "    </tr>\n",
       "    <tr>\n",
       "      <th>18065</th>\n",
       "      <td>1534</td>\n",
       "      <td>3826.185507</td>\n",
       "      <td>18.435051</td>\n",
       "      <td>2021-11-18</td>\n",
       "    </tr>\n",
       "    <tr>\n",
       "      <th>18066</th>\n",
       "      <td>1534</td>\n",
       "      <td>2902.308661</td>\n",
       "      <td>16.674362</td>\n",
       "      <td>2021-11-27</td>\n",
       "    </tr>\n",
       "    <tr>\n",
       "      <th>18067</th>\n",
       "      <td>1534</td>\n",
       "      <td>2371.711192</td>\n",
       "      <td>15.893917</td>\n",
       "      <td>2021-12-29</td>\n",
       "    </tr>\n",
       "  </tbody>\n",
       "</table>\n",
       "<p>18068 rows × 4 columns</p>\n",
       "</div>"
      ],
      "text/plain": [
       "       user_id     distance   duration        date\n",
       "0            1  4409.919140  25.599769  2021-01-01\n",
       "1            1  2617.592153  15.816871  2021-01-18\n",
       "2            1   754.159807   6.232113  2021-04-20\n",
       "3            1  2694.783254  18.511000  2021-08-11\n",
       "4            1  4028.687306  26.265803  2021-08-28\n",
       "...        ...          ...        ...         ...\n",
       "18063     1534  3781.098080  19.822962  2021-11-04\n",
       "18064     1534  2840.423057  21.409799  2021-11-16\n",
       "18065     1534  3826.185507  18.435051  2021-11-18\n",
       "18066     1534  2902.308661  16.674362  2021-11-27\n",
       "18067     1534  2371.711192  15.893917  2021-12-29\n",
       "\n",
       "[18068 rows x 4 columns]"
      ]
     },
     "metadata": {},
     "output_type": "display_data"
    },
    {
     "name": "stdout",
     "output_type": "stream",
     "text": [
      "<class 'pandas.core.frame.DataFrame'>\n",
      "RangeIndex: 18068 entries, 0 to 18067\n",
      "Data columns (total 4 columns):\n",
      " #   Column    Non-Null Count  Dtype  \n",
      "---  ------    --------------  -----  \n",
      " 0   user_id   18068 non-null  int64  \n",
      " 1   distance  18068 non-null  float64\n",
      " 2   duration  18068 non-null  float64\n",
      " 3   date      18068 non-null  object \n",
      "dtypes: float64(2), int64(1), object(1)\n",
      "memory usage: 564.8+ KB\n"
     ]
    }
   ],
   "source": [
    "display(rides_go)\n",
    "rides_go.info()"
   ]
  },
  {
   "cell_type": "markdown",
   "id": "f15308f7",
   "metadata": {},
   "source": [
    "В таблице rides_go содержатся:\n",
    "- user_id\tуникальный идентификатор пользователя\n",
    "- distance\tрасстояние, которое пользователь проехал в текущей сессии (в метрах)\n",
    "- duration\tпродолжительность сессии (в минутах) — время с того момента, как пользователь нажал кнопку «Начать поездку» до момента, как он нажал кнопку «Завершить поездку»\n",
    "- date\tдата совершения поездки\n",
    "\n",
    "Пропуски в данных также отсутствуют.\n",
    "\n",
    "У столбца date тип данных object. Изменим его позднее на тип данных datetime."
   ]
  },
  {
   "cell_type": "code",
   "execution_count": 5,
   "id": "1126ce1c",
   "metadata": {},
   "outputs": [
    {
     "data": {
      "text/html": [
       "<div>\n",
       "<style scoped>\n",
       "    .dataframe tbody tr th:only-of-type {\n",
       "        vertical-align: middle;\n",
       "    }\n",
       "\n",
       "    .dataframe tbody tr th {\n",
       "        vertical-align: top;\n",
       "    }\n",
       "\n",
       "    .dataframe thead th {\n",
       "        text-align: right;\n",
       "    }\n",
       "</style>\n",
       "<table border=\"1\" class=\"dataframe\">\n",
       "  <thead>\n",
       "    <tr style=\"text-align: right;\">\n",
       "      <th></th>\n",
       "      <th>subscription_type</th>\n",
       "      <th>minute_price</th>\n",
       "      <th>start_ride_price</th>\n",
       "      <th>subscription_fee</th>\n",
       "    </tr>\n",
       "  </thead>\n",
       "  <tbody>\n",
       "    <tr>\n",
       "      <th>0</th>\n",
       "      <td>free</td>\n",
       "      <td>8</td>\n",
       "      <td>50</td>\n",
       "      <td>0</td>\n",
       "    </tr>\n",
       "    <tr>\n",
       "      <th>1</th>\n",
       "      <td>ultra</td>\n",
       "      <td>6</td>\n",
       "      <td>0</td>\n",
       "      <td>199</td>\n",
       "    </tr>\n",
       "  </tbody>\n",
       "</table>\n",
       "</div>"
      ],
      "text/plain": [
       "  subscription_type  minute_price  start_ride_price  subscription_fee\n",
       "0              free             8                50                 0\n",
       "1             ultra             6                 0               199"
      ]
     },
     "metadata": {},
     "output_type": "display_data"
    },
    {
     "name": "stdout",
     "output_type": "stream",
     "text": [
      "<class 'pandas.core.frame.DataFrame'>\n",
      "RangeIndex: 2 entries, 0 to 1\n",
      "Data columns (total 4 columns):\n",
      " #   Column             Non-Null Count  Dtype \n",
      "---  ------             --------------  ----- \n",
      " 0   subscription_type  2 non-null      object\n",
      " 1   minute_price       2 non-null      int64 \n",
      " 2   start_ride_price   2 non-null      int64 \n",
      " 3   subscription_fee   2 non-null      int64 \n",
      "dtypes: int64(3), object(1)\n",
      "memory usage: 192.0+ bytes\n"
     ]
    }
   ],
   "source": [
    "display(subscriptions_go)\n",
    "subscriptions_go.info()"
   ]
  },
  {
   "cell_type": "markdown",
   "id": "40d29c5e",
   "metadata": {},
   "source": [
    "В таблице subscriptions_go содержатся:\n",
    "- subscription_type\tтип подписки\n",
    "- minute_price\tстоимость одной минуты поездки по данной подписке\n",
    "- start_ride_price\tстоимость начала поездки\n",
    "- subscription_fee\tстоимость ежемесячного платежа\n",
    "\n",
    "В таблице всего 2 строки. Пропуски в данных отсутствуют."
   ]
  },
  {
   "cell_type": "markdown",
   "id": "e95ebca7",
   "metadata": {},
   "source": [
    "### Шаг 2. Предобработка данных"
   ]
  },
  {
   "cell_type": "markdown",
   "id": "f6ae7d73",
   "metadata": {},
   "source": [
    "#### Приведем столбец date к типу даты pandas."
   ]
  },
  {
   "cell_type": "code",
   "execution_count": 6,
   "id": "89f037d9",
   "metadata": {},
   "outputs": [
    {
     "name": "stdout",
     "output_type": "stream",
     "text": [
      "<class 'pandas.core.frame.DataFrame'>\n",
      "RangeIndex: 18068 entries, 0 to 18067\n",
      "Data columns (total 4 columns):\n",
      " #   Column    Non-Null Count  Dtype         \n",
      "---  ------    --------------  -----         \n",
      " 0   user_id   18068 non-null  int64         \n",
      " 1   distance  18068 non-null  float64       \n",
      " 2   duration  18068 non-null  float64       \n",
      " 3   date      18068 non-null  datetime64[ns]\n",
      "dtypes: datetime64[ns](1), float64(2), int64(1)\n",
      "memory usage: 564.8 KB\n"
     ]
    }
   ],
   "source": [
    "rides_go['date'] = pd.to_datetime(rides_go['date'])\n",
    "rides_go.info()"
   ]
  },
  {
   "cell_type": "markdown",
   "id": "577744dd",
   "metadata": {},
   "source": [
    "#### Создадим новый столбец с номером месяца на основе столбца date."
   ]
  },
  {
   "cell_type": "markdown",
   "id": "fde1e3ee",
   "metadata": {},
   "source": [
    "Сначала проверим данные за сколько лет мы имеем. Если данные представлены за несколько лет, то отдельная цифра месяца не будет корректно отображать в каком периоде была совершена поездка."
   ]
  },
  {
   "cell_type": "code",
   "execution_count": 7,
   "id": "9c20caf1",
   "metadata": {},
   "outputs": [
    {
     "name": "stdout",
     "output_type": "stream",
     "text": [
      "[2021]\n"
     ]
    }
   ],
   "source": [
    "print(rides_go['date'].dt.year.unique())"
   ]
  },
  {
   "cell_type": "markdown",
   "id": "262b780c",
   "metadata": {},
   "source": [
    "Данные предоставлены только за один год, значит можно выделять отдельно месяц для дальнейшей работы с данными."
   ]
  },
  {
   "cell_type": "code",
   "execution_count": 8,
   "id": "e3a4274c",
   "metadata": {},
   "outputs": [
    {
     "data": {
      "text/html": [
       "<div>\n",
       "<style scoped>\n",
       "    .dataframe tbody tr th:only-of-type {\n",
       "        vertical-align: middle;\n",
       "    }\n",
       "\n",
       "    .dataframe tbody tr th {\n",
       "        vertical-align: top;\n",
       "    }\n",
       "\n",
       "    .dataframe thead th {\n",
       "        text-align: right;\n",
       "    }\n",
       "</style>\n",
       "<table border=\"1\" class=\"dataframe\">\n",
       "  <thead>\n",
       "    <tr style=\"text-align: right;\">\n",
       "      <th></th>\n",
       "      <th>user_id</th>\n",
       "      <th>distance</th>\n",
       "      <th>duration</th>\n",
       "      <th>date</th>\n",
       "      <th>month</th>\n",
       "    </tr>\n",
       "  </thead>\n",
       "  <tbody>\n",
       "    <tr>\n",
       "      <th>0</th>\n",
       "      <td>1</td>\n",
       "      <td>4409.919140</td>\n",
       "      <td>25.599769</td>\n",
       "      <td>2021-01-01</td>\n",
       "      <td>1</td>\n",
       "    </tr>\n",
       "    <tr>\n",
       "      <th>1</th>\n",
       "      <td>1</td>\n",
       "      <td>2617.592153</td>\n",
       "      <td>15.816871</td>\n",
       "      <td>2021-01-18</td>\n",
       "      <td>1</td>\n",
       "    </tr>\n",
       "    <tr>\n",
       "      <th>2</th>\n",
       "      <td>1</td>\n",
       "      <td>754.159807</td>\n",
       "      <td>6.232113</td>\n",
       "      <td>2021-04-20</td>\n",
       "      <td>4</td>\n",
       "    </tr>\n",
       "    <tr>\n",
       "      <th>3</th>\n",
       "      <td>1</td>\n",
       "      <td>2694.783254</td>\n",
       "      <td>18.511000</td>\n",
       "      <td>2021-08-11</td>\n",
       "      <td>8</td>\n",
       "    </tr>\n",
       "    <tr>\n",
       "      <th>4</th>\n",
       "      <td>1</td>\n",
       "      <td>4028.687306</td>\n",
       "      <td>26.265803</td>\n",
       "      <td>2021-08-28</td>\n",
       "      <td>8</td>\n",
       "    </tr>\n",
       "    <tr>\n",
       "      <th>...</th>\n",
       "      <td>...</td>\n",
       "      <td>...</td>\n",
       "      <td>...</td>\n",
       "      <td>...</td>\n",
       "      <td>...</td>\n",
       "    </tr>\n",
       "    <tr>\n",
       "      <th>18063</th>\n",
       "      <td>1534</td>\n",
       "      <td>3781.098080</td>\n",
       "      <td>19.822962</td>\n",
       "      <td>2021-11-04</td>\n",
       "      <td>11</td>\n",
       "    </tr>\n",
       "    <tr>\n",
       "      <th>18064</th>\n",
       "      <td>1534</td>\n",
       "      <td>2840.423057</td>\n",
       "      <td>21.409799</td>\n",
       "      <td>2021-11-16</td>\n",
       "      <td>11</td>\n",
       "    </tr>\n",
       "    <tr>\n",
       "      <th>18065</th>\n",
       "      <td>1534</td>\n",
       "      <td>3826.185507</td>\n",
       "      <td>18.435051</td>\n",
       "      <td>2021-11-18</td>\n",
       "      <td>11</td>\n",
       "    </tr>\n",
       "    <tr>\n",
       "      <th>18066</th>\n",
       "      <td>1534</td>\n",
       "      <td>2902.308661</td>\n",
       "      <td>16.674362</td>\n",
       "      <td>2021-11-27</td>\n",
       "      <td>11</td>\n",
       "    </tr>\n",
       "    <tr>\n",
       "      <th>18067</th>\n",
       "      <td>1534</td>\n",
       "      <td>2371.711192</td>\n",
       "      <td>15.893917</td>\n",
       "      <td>2021-12-29</td>\n",
       "      <td>12</td>\n",
       "    </tr>\n",
       "  </tbody>\n",
       "</table>\n",
       "<p>18068 rows × 5 columns</p>\n",
       "</div>"
      ],
      "text/plain": [
       "       user_id     distance   duration       date  month\n",
       "0            1  4409.919140  25.599769 2021-01-01      1\n",
       "1            1  2617.592153  15.816871 2021-01-18      1\n",
       "2            1   754.159807   6.232113 2021-04-20      4\n",
       "3            1  2694.783254  18.511000 2021-08-11      8\n",
       "4            1  4028.687306  26.265803 2021-08-28      8\n",
       "...        ...          ...        ...        ...    ...\n",
       "18063     1534  3781.098080  19.822962 2021-11-04     11\n",
       "18064     1534  2840.423057  21.409799 2021-11-16     11\n",
       "18065     1534  3826.185507  18.435051 2021-11-18     11\n",
       "18066     1534  2902.308661  16.674362 2021-11-27     11\n",
       "18067     1534  2371.711192  15.893917 2021-12-29     12\n",
       "\n",
       "[18068 rows x 5 columns]"
      ]
     },
     "metadata": {},
     "output_type": "display_data"
    }
   ],
   "source": [
    "rides_go['month'] = rides_go['date'].dt.month\n",
    "display(rides_go)"
   ]
  },
  {
   "cell_type": "markdown",
   "id": "e601691d",
   "metadata": {},
   "source": [
    "#### Проверим наличие пропущенных значений и дубликатов в датафреймах. "
   ]
  },
  {
   "cell_type": "markdown",
   "id": "b1b82431",
   "metadata": {},
   "source": [
    "При загрузке и изучении данных мы выявили, что пропуски отсутствуют. Поэтому перейдем сразу к проверке на наличие дубликатов."
   ]
  },
  {
   "cell_type": "code",
   "execution_count": 9,
   "id": "316bd503",
   "metadata": {},
   "outputs": [
    {
     "name": "stdout",
     "output_type": "stream",
     "text": [
      "31\n",
      "0\n",
      "0\n"
     ]
    }
   ],
   "source": [
    "print(users_go.duplicated().sum())\n",
    "print(rides_go.duplicated().sum())\n",
    "print(subscriptions_go.duplicated().sum())"
   ]
  },
  {
   "cell_type": "markdown",
   "id": "778ed340",
   "metadata": {},
   "source": [
    "В таблице users_go найден 31 явный дубликат. Удалим эти строки."
   ]
  },
  {
   "cell_type": "code",
   "execution_count": 10,
   "id": "a266ffb3",
   "metadata": {},
   "outputs": [],
   "source": [
    "users_go = users_go.drop_duplicates()"
   ]
  },
  {
   "cell_type": "markdown",
   "id": "d6103d19",
   "metadata": {},
   "source": [
    "В таблице subscriptions_go дубликатов однозначно нет. В таблице rides_go все данные числовые и загружаются автоматически, а не вводятся вручную, в связи с этим неявные дубликаты, вероятно, также отсутствуют.\n",
    "\n",
    "Проверим дополнительно столбцы name и city таблицы users_go на наличие дубликатов."
   ]
  },
  {
   "cell_type": "code",
   "execution_count": 11,
   "id": "ce0baf71",
   "metadata": {},
   "outputs": [
    {
     "data": {
      "text/plain": [
       "array(['Агата', 'Аделина', 'Адель', 'Айдар', 'Александр', 'Александра',\n",
       "       'Алексей', 'Алина', 'Алиса', 'Алия', 'Алла', 'Альберт', 'Альбина',\n",
       "       'Алёна', 'Амалия', 'Амина', 'Амир', 'Анастасия', 'Анатолий',\n",
       "       'Ангелина', 'Андрей', 'Анжелика', 'Анна', 'Антон', 'Антонина',\n",
       "       'Ариана', 'Арина', 'Арсен', 'Арсений', 'Артемий', 'Артур', 'Артём',\n",
       "       'Богдан', 'Борис', 'Вадим', 'Валентина', 'Валерий', 'Валерия',\n",
       "       'Варвара', 'Василий', 'Василина', 'Василиса', 'Вера', 'Вероника',\n",
       "       'Виктор', 'Виктория', 'Виолетта', 'Виталий', 'Виталина', 'Влад',\n",
       "       'Влада', 'Владимир', 'Владислав', 'Владислава', 'Всеволод',\n",
       "       'Вячеслав', 'Галина', 'Георгий', 'Герман', 'Глеб', 'Гордей',\n",
       "       'Григорий', 'Давид', 'Дамир', 'Даниил', 'Данил', 'Данила',\n",
       "       'Даниэль', 'Дарина', 'Дарья', 'Демид', 'Денис', 'Диана', 'Дмитрий',\n",
       "       'Ева', 'Евгений', 'Евгения', 'Егор', 'Екатерина', 'Елена',\n",
       "       'Елизавета', 'Елисей', 'Есения', 'Жанна', 'Зарина', 'Захар',\n",
       "       'Злата', 'Иван', 'Игнат', 'Игорь', 'Ильдар', 'Илья', 'Инна',\n",
       "       'Ирина', 'Камилла', 'Карина', 'Каролина', 'Кира', 'Кирилл',\n",
       "       'Константин', 'Кристина', 'Ксения', 'Лариса', 'Лев', 'Леонид',\n",
       "       'Лиана', 'Лидия', 'Лилия', 'Любовь', 'Людмила', 'Мадина', 'Майя',\n",
       "       'Макар', 'Максим', 'Марат', 'Маргарита', 'Марина', 'Мария', 'Марк',\n",
       "       'Марсель', 'Матвей', 'Мелания', 'Милана', 'Милена', 'Мирон',\n",
       "       'Мирослав', 'Мирослава', 'Михаил', 'Назар', 'Наталия', 'Наталья',\n",
       "       'Наташа', 'Нелли', 'Ника', 'Никита', 'Николай', 'Нина', 'Одиссей',\n",
       "       'Оксана', 'Олег', 'Олеся', 'Ольга', 'Павел', 'Петр', 'Платон',\n",
       "       'Полина', 'Радмир', 'Рамиль', 'Регина', 'Роберт', 'Родион',\n",
       "       'Роман', 'Ростислав', 'Руслан', 'Рустам', 'Савелий', 'Самир',\n",
       "       'Самира', 'Светлана', 'Святогор', 'Святослав', 'Семен', 'Сергей',\n",
       "       'Снежана', 'София', 'Софья', 'Станислав', 'Степан', 'Стефания',\n",
       "       'Таисия', 'Тамара', 'Тамерлан', 'Татьяна', 'Тимофей', 'Тимур',\n",
       "       'Тихон', 'Ульяна', 'Федор', 'Эвелина', 'Эдуард', 'Элина',\n",
       "       'Эльвира', 'Эльмира', 'Эмилия', 'Эмиль', 'Юлиана', 'Юлия', 'Юрий',\n",
       "       'Ян', 'Яна', 'Яромир', 'Ярослав', 'Ярослава', 'Ясмина'],\n",
       "      dtype=object)"
      ]
     },
     "execution_count": 11,
     "metadata": {},
     "output_type": "execute_result"
    }
   ],
   "source": [
    "names = users_go['name'].unique()\n",
    "names.sort()\n",
    "names"
   ]
  },
  {
   "cell_type": "code",
   "execution_count": 12,
   "id": "fc1b10e6",
   "metadata": {},
   "outputs": [
    {
     "data": {
      "text/plain": [
       "array(['Екатеринбург', 'Краснодар', 'Москва', 'Омск', 'Пятигорск',\n",
       "       'Ростов-на-Дону', 'Сочи', 'Тюмень'], dtype=object)"
      ]
     },
     "execution_count": 12,
     "metadata": {},
     "output_type": "execute_result"
    }
   ],
   "source": [
    "cities = users_go['city'].unique()\n",
    "cities.sort()\n",
    "cities"
   ]
  },
  {
   "cell_type": "markdown",
   "id": "47879e86",
   "metadata": {},
   "source": [
    "Больше дубликатов не выявлено."
   ]
  },
  {
   "cell_type": "markdown",
   "id": "212593c7",
   "metadata": {},
   "source": [
    "### Шаг 3. Исследовательский анализ данных"
   ]
  },
  {
   "cell_type": "markdown",
   "id": "a86889a3",
   "metadata": {},
   "source": [
    "Опишем и визуализируем общую информацию о пользователях и поездках:"
   ]
  },
  {
   "cell_type": "code",
   "execution_count": 13,
   "id": "eec7c944",
   "metadata": {},
   "outputs": [],
   "source": [
    "import matplotlib.pyplot as plt #импортируем библиотеку matplotlib для визуализаций"
   ]
  },
  {
   "cell_type": "markdown",
   "id": "3e16aee3",
   "metadata": {},
   "source": [
    "#### частота встречаемости городов;"
   ]
  },
  {
   "cell_type": "code",
   "execution_count": 67,
   "id": "8224dea6",
   "metadata": {},
   "outputs": [
    {
     "data": {
      "text/plain": [
       "Пятигорск         219\n",
       "Екатеринбург      204\n",
       "Ростов-на-Дону    198\n",
       "Краснодар         193\n",
       "Сочи              189\n",
       "Омск              183\n",
       "Тюмень            180\n",
       "Москва            168\n",
       "Name: city, dtype: int64"
      ]
     },
     "execution_count": 67,
     "metadata": {},
     "output_type": "execute_result"
    }
   ],
   "source": [
    "#выделим города в отдельную переменную\n",
    "users_by_city = users_go['city'].value_counts()\n",
    "users_by_city"
   ]
  },
  {
   "cell_type": "code",
   "execution_count": 68,
   "id": "3362e586",
   "metadata": {},
   "outputs": [
    {
     "data": {
      "text/plain": [
       "Пятигорск         14.0\n",
       "Екатеринбург      13.0\n",
       "Ростов-на-Дону    13.0\n",
       "Краснодар         13.0\n",
       "Сочи              12.0\n",
       "Омск              12.0\n",
       "Тюмень            12.0\n",
       "Москва            11.0\n",
       "Name: city, dtype: float64"
      ]
     },
     "execution_count": 68,
     "metadata": {},
     "output_type": "execute_result"
    }
   ],
   "source": [
    "#посчитаем процент пользователей в каждом городе от общего числа пользователей\n",
    "users_by_city['percent'] = round(users_go['city'].value_counts() / \n",
    "                                 users_by_city.sum(), 2) * 100\n",
    "users_by_city['percent']"
   ]
  },
  {
   "cell_type": "code",
   "execution_count": 78,
   "id": "8a12593c",
   "metadata": {},
   "outputs": [
    {
     "data": {
      "image/png": "[encoded data removed]",
      "text/plain": [
       "<Figure size 432x288 with 1 Axes>"
      ]
     },
     "metadata": {
      "needs_background": "light"
     },
     "output_type": "display_data"
    },
    {
     "data": {
      "image/png": "[encoded data removed]",
      "text/plain": [
       "<Figure size 432x288 with 1 Axes>"
      ]
     },
     "metadata": {
      "needs_background": "light"
     },
     "output_type": "display_data"
    }
   ],
   "source": [
    "users_go['city'].value_counts().sort_values().plot(\n",
    "    kind = 'barh',\n",
    "    title = 'Распределение пользователей по городам (чел)')\n",
    "plt.xlabel('Число пользователей')\n",
    "plt.ylabel('Города')\n",
    "plt.show()\n",
    "\n",
    "users_by_city['percent'].sort_values().plot(\n",
    "    kind = 'barh',\n",
    "    title = 'Распределение пользователей по городам (%)')\n",
    "plt.xlabel('Проценты')\n",
    "plt.ylabel('Города')\n",
    "plt.show()"
   ]
  },
  {
   "cell_type": "markdown",
   "id": "38f1b2e9",
   "metadata": {},
   "source": [
    "Видим, что во всех представленных городах самокатами пользуется примерно одинаковое количество людей. Разброс относительно небольшой 11-14% от общего количества пользователей. Но на удивление в Москве (самом крупном городе) меньше всего пользователей. А больше всего пользователей в Пятигорске, довольно маленьком городе. Возможно, это связано с тем, что в более крупных городах представлено больше сервисов самокатов, поэтому на каждый сервис приходится меньше пользователей. А в маленьких городах происходит наоборот: сервисов меньше и на каждый сервис больше пользователей."
   ]
  },
  {
   "cell_type": "markdown",
   "id": "4af88267",
   "metadata": {},
   "source": [
    "#### соотношение пользователей с подпиской и без подписки;"
   ]
  },
  {
   "cell_type": "code",
   "execution_count": 16,
   "id": "8d8306c9",
   "metadata": {},
   "outputs": [
    {
     "data": {
      "text/plain": [
       "free     835\n",
       "ultra    699\n",
       "Name: subscription_type, dtype: int64"
      ]
     },
     "execution_count": 16,
     "metadata": {},
     "output_type": "execute_result"
    }
   ],
   "source": [
    "users_go['subscription_type'].value_counts()"
   ]
  },
  {
   "cell_type": "code",
   "execution_count": 82,
   "id": "02c5212a",
   "metadata": {},
   "outputs": [
    {
     "data": {
      "image/png": "[encoded data removed]",
      "text/plain": [
       "<Figure size 432x288 with 1 Axes>"
      ]
     },
     "metadata": {},
     "output_type": "display_data"
    }
   ],
   "source": [
    "users_go.groupby(['subscription_type']).count().plot(kind='pie', y='user_id', legend=False, autopct='%1.0f%%', title = 'Соотношение пользователей с подпиской и без')\n",
    "\n",
    "plt.show()"
   ]
  },
  {
   "cell_type": "markdown",
   "id": "06ad3d71",
   "metadata": {},
   "source": [
    "Видим, что сервисом без подписки пользуются немного чаще, чем с подпиской. Это в целом логично, так как многие пользуются самокатами не на регулярной основе, и подписка им не актуальна. При этом, на мой взгляд, процент пользователей с подпиской довольно высок, почти половина всех пользователей."
   ]
  },
  {
   "cell_type": "markdown",
   "id": "28d3b5bb",
   "metadata": {},
   "source": [
    "#### возраст пользователей;"
   ]
  },
  {
   "cell_type": "code",
   "execution_count": 84,
   "id": "06472953",
   "metadata": {},
   "outputs": [
    {
     "data": {
      "image/png": "[encoded data removed]",
      "text/plain": [
       "<Figure size 432x288 with 1 Axes>"
      ]
     },
     "metadata": {
      "needs_background": "light"
     },
     "output_type": "display_data"
    }
   ],
   "source": [
    "users_go['age'].hist()\n",
    "plt.title('Распределение пользователей по возрасту')\n",
    "plt.xlabel('Возраст')\n",
    "plt.ylabel('Количество пользователей')\n",
    "plt.show()"
   ]
  },
  {
   "cell_type": "markdown",
   "id": "1e3072d3",
   "metadata": {},
   "source": [
    "Чаще всего сервисом пользуются молодые люди в возрасте от 18 до 33 лет, при этом наибольшее количество пользователей в возрасте от 22 до 27 лет. \n",
    "\n",
    "До 18 лет пользователей немного. До совершеннолетия могут не использовать сервис по запрету родителей или использовать аккаунты родителей.\n",
    "\n",
    "После 30 лет количество пользователей резко снижается, что может быть связано как с возникающими с возрастом ограничениями по здоровью, так и с тем, что данный вид транспорта может не соответствовать по статусу/должности."
   ]
  },
  {
   "cell_type": "markdown",
   "id": "24ae2754",
   "metadata": {},
   "source": [
    "#### расстояние, которое пользователь преодолел за одну поездку;"
   ]
  },
  {
   "cell_type": "code",
   "execution_count": 86,
   "id": "0dcec174",
   "metadata": {},
   "outputs": [
    {
     "name": "stdout",
     "output_type": "stream",
     "text": [
      "Минимальное расстояние одной поездки: 0.86 м\n",
      "Максимальное расстояние одной поездки: 7211.01 м\n",
      "Среднее расстояние одной поездки: 3070.66 м\n"
     ]
    },
    {
     "data": {
      "image/png": "[encoded data removed]",
      "text/plain": [
       "<Figure size 432x288 with 1 Axes>"
      ]
     },
     "metadata": {
      "needs_background": "light"
     },
     "output_type": "display_data"
    }
   ],
   "source": [
    "print('Минимальное расстояние одной поездки:', round(rides_go['distance'].min(), 2), 'м')\n",
    "print('Максимальное расстояние одной поездки:', round(rides_go['distance'].max(), 2), 'м')\n",
    "print('Среднее расстояние одной поездки:', round(rides_go['distance'].mean(), 2), 'м')\n",
    "rides_go['distance'].hist()\n",
    "plt.title('Распределение поездок по расстоянию')\n",
    "plt.xlabel('Расстояние (м)')\n",
    "plt.ylabel('Количество поездок')\n",
    "plt.show()"
   ]
  },
  {
   "cell_type": "code",
   "execution_count": 20,
   "id": "6e5e173e",
   "metadata": {},
   "outputs": [
    {
     "data": {
      "text/html": [
       "<div>\n",
       "<style scoped>\n",
       "    .dataframe tbody tr th:only-of-type {\n",
       "        vertical-align: middle;\n",
       "    }\n",
       "\n",
       "    .dataframe tbody tr th {\n",
       "        vertical-align: top;\n",
       "    }\n",
       "\n",
       "    .dataframe thead th {\n",
       "        text-align: right;\n",
       "    }\n",
       "</style>\n",
       "<table border=\"1\" class=\"dataframe\">\n",
       "  <thead>\n",
       "    <tr style=\"text-align: right;\">\n",
       "      <th></th>\n",
       "      <th>user_id</th>\n",
       "      <th>distance</th>\n",
       "      <th>duration</th>\n",
       "      <th>date</th>\n",
       "      <th>month</th>\n",
       "    </tr>\n",
       "  </thead>\n",
       "  <tbody>\n",
       "    <tr>\n",
       "      <th>11555</th>\n",
       "      <td>1069</td>\n",
       "      <td>0.855683</td>\n",
       "      <td>10.001902</td>\n",
       "      <td>2021-01-31</td>\n",
       "      <td>1</td>\n",
       "    </tr>\n",
       "    <tr>\n",
       "      <th>9541</th>\n",
       "      <td>925</td>\n",
       "      <td>2.570787</td>\n",
       "      <td>3.011018</td>\n",
       "      <td>2021-10-19</td>\n",
       "      <td>10</td>\n",
       "    </tr>\n",
       "    <tr>\n",
       "      <th>13690</th>\n",
       "      <td>1223</td>\n",
       "      <td>4.329506</td>\n",
       "      <td>4.008958</td>\n",
       "      <td>2021-05-22</td>\n",
       "      <td>5</td>\n",
       "    </tr>\n",
       "    <tr>\n",
       "      <th>8658</th>\n",
       "      <td>861</td>\n",
       "      <td>6.784447</td>\n",
       "      <td>6.015656</td>\n",
       "      <td>2021-07-21</td>\n",
       "      <td>7</td>\n",
       "    </tr>\n",
       "    <tr>\n",
       "      <th>7841</th>\n",
       "      <td>796</td>\n",
       "      <td>7.097072</td>\n",
       "      <td>10.026614</td>\n",
       "      <td>2021-11-26</td>\n",
       "      <td>11</td>\n",
       "    </tr>\n",
       "    <tr>\n",
       "      <th>8906</th>\n",
       "      <td>880</td>\n",
       "      <td>11.283615</td>\n",
       "      <td>2.035632</td>\n",
       "      <td>2021-03-28</td>\n",
       "      <td>3</td>\n",
       "    </tr>\n",
       "    <tr>\n",
       "      <th>8324</th>\n",
       "      <td>835</td>\n",
       "      <td>12.233115</td>\n",
       "      <td>4.034952</td>\n",
       "      <td>2021-09-19</td>\n",
       "      <td>9</td>\n",
       "    </tr>\n",
       "    <tr>\n",
       "      <th>13940</th>\n",
       "      <td>1240</td>\n",
       "      <td>15.000606</td>\n",
       "      <td>10.045002</td>\n",
       "      <td>2021-08-20</td>\n",
       "      <td>8</td>\n",
       "    </tr>\n",
       "    <tr>\n",
       "      <th>15626</th>\n",
       "      <td>1364</td>\n",
       "      <td>15.366168</td>\n",
       "      <td>6.057623</td>\n",
       "      <td>2021-08-22</td>\n",
       "      <td>8</td>\n",
       "    </tr>\n",
       "    <tr>\n",
       "      <th>11862</th>\n",
       "      <td>1091</td>\n",
       "      <td>15.630873</td>\n",
       "      <td>13.044660</td>\n",
       "      <td>2021-03-29</td>\n",
       "      <td>3</td>\n",
       "    </tr>\n",
       "    <tr>\n",
       "      <th>17414</th>\n",
       "      <td>1489</td>\n",
       "      <td>22.314412</td>\n",
       "      <td>6.074381</td>\n",
       "      <td>2021-10-06</td>\n",
       "      <td>10</td>\n",
       "    </tr>\n",
       "    <tr>\n",
       "      <th>15104</th>\n",
       "      <td>1323</td>\n",
       "      <td>22.393227</td>\n",
       "      <td>7.061072</td>\n",
       "      <td>2021-10-25</td>\n",
       "      <td>10</td>\n",
       "    </tr>\n",
       "    <tr>\n",
       "      <th>6691</th>\n",
       "      <td>712</td>\n",
       "      <td>23.963062</td>\n",
       "      <td>2.053251</td>\n",
       "      <td>2021-11-22</td>\n",
       "      <td>11</td>\n",
       "    </tr>\n",
       "    <tr>\n",
       "      <th>9784</th>\n",
       "      <td>943</td>\n",
       "      <td>26.784378</td>\n",
       "      <td>5.053569</td>\n",
       "      <td>2021-12-29</td>\n",
       "      <td>12</td>\n",
       "    </tr>\n",
       "    <tr>\n",
       "      <th>17173</th>\n",
       "      <td>1471</td>\n",
       "      <td>27.965145</td>\n",
       "      <td>3.093217</td>\n",
       "      <td>2021-10-06</td>\n",
       "      <td>10</td>\n",
       "    </tr>\n",
       "  </tbody>\n",
       "</table>\n",
       "</div>"
      ],
      "text/plain": [
       "       user_id   distance   duration       date  month\n",
       "11555     1069   0.855683  10.001902 2021-01-31      1\n",
       "9541       925   2.570787   3.011018 2021-10-19     10\n",
       "13690     1223   4.329506   4.008958 2021-05-22      5\n",
       "8658       861   6.784447   6.015656 2021-07-21      7\n",
       "7841       796   7.097072  10.026614 2021-11-26     11\n",
       "8906       880  11.283615   2.035632 2021-03-28      3\n",
       "8324       835  12.233115   4.034952 2021-09-19      9\n",
       "13940     1240  15.000606  10.045002 2021-08-20      8\n",
       "15626     1364  15.366168   6.057623 2021-08-22      8\n",
       "11862     1091  15.630873  13.044660 2021-03-29      3\n",
       "17414     1489  22.314412   6.074381 2021-10-06     10\n",
       "15104     1323  22.393227   7.061072 2021-10-25     10\n",
       "6691       712  23.963062   2.053251 2021-11-22     11\n",
       "9784       943  26.784378   5.053569 2021-12-29     12\n",
       "17173     1471  27.965145   3.093217 2021-10-06     10"
      ]
     },
     "execution_count": 20,
     "metadata": {},
     "output_type": "execute_result"
    }
   ],
   "source": [
    "rides_go.sort_values(by='distance').head(15)"
   ]
  },
  {
   "cell_type": "markdown",
   "id": "b467ddf8",
   "metadata": {},
   "source": [
    "Как мы видим, в среднем за одну поездку на самокате пользователи преодолевают расстояние в 3 км. В основном самокаты используют для поездок на расстояния от 2 до 4 км. Но есть и совсем короткие поездки до 10 метров, вероятно, пробные, и длинные поездки до 7 км."
   ]
  },
  {
   "cell_type": "markdown",
   "id": "2fceed12",
   "metadata": {},
   "source": [
    "#### продолжительность поездок."
   ]
  },
  {
   "cell_type": "code",
   "execution_count": 89,
   "id": "41560a1d",
   "metadata": {},
   "outputs": [
    {
     "name": "stdout",
     "output_type": "stream",
     "text": [
      "Минимальная продолжительность одной поездки: 0.5 мин\n",
      "Максимальная продолжительность одной поездки: 40.82 мин\n",
      "Средняя продолжительность одной поездки: 17.81 мин\n"
     ]
    },
    {
     "data": {
      "image/png": "[encoded data removed]",
      "text/plain": [
       "<Figure size 432x288 with 1 Axes>"
      ]
     },
     "metadata": {
      "needs_background": "light"
     },
     "output_type": "display_data"
    }
   ],
   "source": [
    "print('Минимальная продолжительность одной поездки:', round(rides_go['duration'].min(), 2), 'мин')\n",
    "print('Максимальная продолжительность одной поездки:', round(rides_go['duration'].max(), 2), 'мин')\n",
    "print('Средняя продолжительность одной поездки:', round(rides_go['duration'].mean(), 2), 'мин')\n",
    "rides_go['duration'].hist()\n",
    "plt.title('Распределение поездок по продолжительности')\n",
    "plt.xlabel('Продолжительность поездок (мин)')\n",
    "plt.ylabel('Количество поездок')\n",
    "plt.show()"
   ]
  },
  {
   "cell_type": "markdown",
   "id": "31a65d3f",
   "metadata": {},
   "source": [
    "Средняя продолжительность одной поездки составляет примерно 18 минут. В основном самокат используют для поездок на 8-25 минут. Довольно много поездок до 8 минут, которые, вероятно, являются пробными. Количество поездок длительностью более 25 минут резко снижается."
   ]
  },
  {
   "cell_type": "markdown",
   "id": "4ef51331",
   "metadata": {},
   "source": [
    "### Шаг 4. Объединение данных"
   ]
  },
  {
   "cell_type": "markdown",
   "id": "4d806c44",
   "metadata": {},
   "source": [
    "#### Объединим данные о пользователях, поездках и подписках в один датафрейм. "
   ]
  },
  {
   "cell_type": "code",
   "execution_count": 22,
   "id": "17c04691",
   "metadata": {},
   "outputs": [
    {
     "data": {
      "text/html": [
       "<div>\n",
       "<style scoped>\n",
       "    .dataframe tbody tr th:only-of-type {\n",
       "        vertical-align: middle;\n",
       "    }\n",
       "\n",
       "    .dataframe tbody tr th {\n",
       "        vertical-align: top;\n",
       "    }\n",
       "\n",
       "    .dataframe thead th {\n",
       "        text-align: right;\n",
       "    }\n",
       "</style>\n",
       "<table border=\"1\" class=\"dataframe\">\n",
       "  <thead>\n",
       "    <tr style=\"text-align: right;\">\n",
       "      <th></th>\n",
       "      <th>user_id</th>\n",
       "      <th>name</th>\n",
       "      <th>age</th>\n",
       "      <th>city</th>\n",
       "      <th>subscription_type</th>\n",
       "      <th>distance</th>\n",
       "      <th>duration</th>\n",
       "      <th>date</th>\n",
       "      <th>month</th>\n",
       "      <th>minute_price</th>\n",
       "      <th>start_ride_price</th>\n",
       "      <th>subscription_fee</th>\n",
       "    </tr>\n",
       "  </thead>\n",
       "  <tbody>\n",
       "    <tr>\n",
       "      <th>0</th>\n",
       "      <td>1</td>\n",
       "      <td>Кира</td>\n",
       "      <td>22</td>\n",
       "      <td>Тюмень</td>\n",
       "      <td>ultra</td>\n",
       "      <td>4409.919140</td>\n",
       "      <td>25.599769</td>\n",
       "      <td>2021-01-01</td>\n",
       "      <td>1</td>\n",
       "      <td>6</td>\n",
       "      <td>0</td>\n",
       "      <td>199</td>\n",
       "    </tr>\n",
       "    <tr>\n",
       "      <th>1</th>\n",
       "      <td>1</td>\n",
       "      <td>Кира</td>\n",
       "      <td>22</td>\n",
       "      <td>Тюмень</td>\n",
       "      <td>ultra</td>\n",
       "      <td>2617.592153</td>\n",
       "      <td>15.816871</td>\n",
       "      <td>2021-01-18</td>\n",
       "      <td>1</td>\n",
       "      <td>6</td>\n",
       "      <td>0</td>\n",
       "      <td>199</td>\n",
       "    </tr>\n",
       "    <tr>\n",
       "      <th>2</th>\n",
       "      <td>1</td>\n",
       "      <td>Кира</td>\n",
       "      <td>22</td>\n",
       "      <td>Тюмень</td>\n",
       "      <td>ultra</td>\n",
       "      <td>754.159807</td>\n",
       "      <td>6.232113</td>\n",
       "      <td>2021-04-20</td>\n",
       "      <td>4</td>\n",
       "      <td>6</td>\n",
       "      <td>0</td>\n",
       "      <td>199</td>\n",
       "    </tr>\n",
       "    <tr>\n",
       "      <th>3</th>\n",
       "      <td>1</td>\n",
       "      <td>Кира</td>\n",
       "      <td>22</td>\n",
       "      <td>Тюмень</td>\n",
       "      <td>ultra</td>\n",
       "      <td>2694.783254</td>\n",
       "      <td>18.511000</td>\n",
       "      <td>2021-08-11</td>\n",
       "      <td>8</td>\n",
       "      <td>6</td>\n",
       "      <td>0</td>\n",
       "      <td>199</td>\n",
       "    </tr>\n",
       "    <tr>\n",
       "      <th>4</th>\n",
       "      <td>1</td>\n",
       "      <td>Кира</td>\n",
       "      <td>22</td>\n",
       "      <td>Тюмень</td>\n",
       "      <td>ultra</td>\n",
       "      <td>4028.687306</td>\n",
       "      <td>26.265803</td>\n",
       "      <td>2021-08-28</td>\n",
       "      <td>8</td>\n",
       "      <td>6</td>\n",
       "      <td>0</td>\n",
       "      <td>199</td>\n",
       "    </tr>\n",
       "    <tr>\n",
       "      <th>...</th>\n",
       "      <td>...</td>\n",
       "      <td>...</td>\n",
       "      <td>...</td>\n",
       "      <td>...</td>\n",
       "      <td>...</td>\n",
       "      <td>...</td>\n",
       "      <td>...</td>\n",
       "      <td>...</td>\n",
       "      <td>...</td>\n",
       "      <td>...</td>\n",
       "      <td>...</td>\n",
       "      <td>...</td>\n",
       "    </tr>\n",
       "    <tr>\n",
       "      <th>18063</th>\n",
       "      <td>1534</td>\n",
       "      <td>Альберт</td>\n",
       "      <td>25</td>\n",
       "      <td>Краснодар</td>\n",
       "      <td>free</td>\n",
       "      <td>3781.098080</td>\n",
       "      <td>19.822962</td>\n",
       "      <td>2021-11-04</td>\n",
       "      <td>11</td>\n",
       "      <td>8</td>\n",
       "      <td>50</td>\n",
       "      <td>0</td>\n",
       "    </tr>\n",
       "    <tr>\n",
       "      <th>18064</th>\n",
       "      <td>1534</td>\n",
       "      <td>Альберт</td>\n",
       "      <td>25</td>\n",
       "      <td>Краснодар</td>\n",
       "      <td>free</td>\n",
       "      <td>2840.423057</td>\n",
       "      <td>21.409799</td>\n",
       "      <td>2021-11-16</td>\n",
       "      <td>11</td>\n",
       "      <td>8</td>\n",
       "      <td>50</td>\n",
       "      <td>0</td>\n",
       "    </tr>\n",
       "    <tr>\n",
       "      <th>18065</th>\n",
       "      <td>1534</td>\n",
       "      <td>Альберт</td>\n",
       "      <td>25</td>\n",
       "      <td>Краснодар</td>\n",
       "      <td>free</td>\n",
       "      <td>3826.185507</td>\n",
       "      <td>18.435051</td>\n",
       "      <td>2021-11-18</td>\n",
       "      <td>11</td>\n",
       "      <td>8</td>\n",
       "      <td>50</td>\n",
       "      <td>0</td>\n",
       "    </tr>\n",
       "    <tr>\n",
       "      <th>18066</th>\n",
       "      <td>1534</td>\n",
       "      <td>Альберт</td>\n",
       "      <td>25</td>\n",
       "      <td>Краснодар</td>\n",
       "      <td>free</td>\n",
       "      <td>2902.308661</td>\n",
       "      <td>16.674362</td>\n",
       "      <td>2021-11-27</td>\n",
       "      <td>11</td>\n",
       "      <td>8</td>\n",
       "      <td>50</td>\n",
       "      <td>0</td>\n",
       "    </tr>\n",
       "    <tr>\n",
       "      <th>18067</th>\n",
       "      <td>1534</td>\n",
       "      <td>Альберт</td>\n",
       "      <td>25</td>\n",
       "      <td>Краснодар</td>\n",
       "      <td>free</td>\n",
       "      <td>2371.711192</td>\n",
       "      <td>15.893917</td>\n",
       "      <td>2021-12-29</td>\n",
       "      <td>12</td>\n",
       "      <td>8</td>\n",
       "      <td>50</td>\n",
       "      <td>0</td>\n",
       "    </tr>\n",
       "  </tbody>\n",
       "</table>\n",
       "<p>18068 rows × 12 columns</p>\n",
       "</div>"
      ],
      "text/plain": [
       "       user_id     name  age       city subscription_type     distance  \\\n",
       "0            1     Кира   22     Тюмень             ultra  4409.919140   \n",
       "1            1     Кира   22     Тюмень             ultra  2617.592153   \n",
       "2            1     Кира   22     Тюмень             ultra   754.159807   \n",
       "3            1     Кира   22     Тюмень             ultra  2694.783254   \n",
       "4            1     Кира   22     Тюмень             ultra  4028.687306   \n",
       "...        ...      ...  ...        ...               ...          ...   \n",
       "18063     1534  Альберт   25  Краснодар              free  3781.098080   \n",
       "18064     1534  Альберт   25  Краснодар              free  2840.423057   \n",
       "18065     1534  Альберт   25  Краснодар              free  3826.185507   \n",
       "18066     1534  Альберт   25  Краснодар              free  2902.308661   \n",
       "18067     1534  Альберт   25  Краснодар              free  2371.711192   \n",
       "\n",
       "        duration       date  month  minute_price  start_ride_price  \\\n",
       "0      25.599769 2021-01-01      1             6                 0   \n",
       "1      15.816871 2021-01-18      1             6                 0   \n",
       "2       6.232113 2021-04-20      4             6                 0   \n",
       "3      18.511000 2021-08-11      8             6                 0   \n",
       "4      26.265803 2021-08-28      8             6                 0   \n",
       "...          ...        ...    ...           ...               ...   \n",
       "18063  19.822962 2021-11-04     11             8                50   \n",
       "18064  21.409799 2021-11-16     11             8                50   \n",
       "18065  18.435051 2021-11-18     11             8                50   \n",
       "18066  16.674362 2021-11-27     11             8                50   \n",
       "18067  15.893917 2021-12-29     12             8                50   \n",
       "\n",
       "       subscription_fee  \n",
       "0                   199  \n",
       "1                   199  \n",
       "2                   199  \n",
       "3                   199  \n",
       "4                   199  \n",
       "...                 ...  \n",
       "18063                 0  \n",
       "18064                 0  \n",
       "18065                 0  \n",
       "18066                 0  \n",
       "18067                 0  \n",
       "\n",
       "[18068 rows x 12 columns]"
      ]
     },
     "metadata": {},
     "output_type": "display_data"
    }
   ],
   "source": [
    "total_go = users_go.merge(rides_go).merge(subscriptions_go)\n",
    "display(total_go)"
   ]
  },
  {
   "cell_type": "markdown",
   "id": "c743a36e",
   "metadata": {},
   "source": [
    "Проверим корректность объединения таблиц. "
   ]
  },
  {
   "cell_type": "code",
   "execution_count": 92,
   "id": "4b8a63ce",
   "metadata": {},
   "outputs": [
    {
     "name": "stdout",
     "output_type": "stream",
     "text": [
      "<class 'pandas.core.frame.DataFrame'>\n",
      "Int64Index: 18068 entries, 0 to 18067\n",
      "Data columns (total 12 columns):\n",
      " #   Column             Non-Null Count  Dtype         \n",
      "---  ------             --------------  -----         \n",
      " 0   user_id            18068 non-null  int64         \n",
      " 1   name               18068 non-null  object        \n",
      " 2   age                18068 non-null  int64         \n",
      " 3   city               18068 non-null  object        \n",
      " 4   subscription_type  18068 non-null  object        \n",
      " 5   distance           18068 non-null  float64       \n",
      " 6   duration           18068 non-null  float64       \n",
      " 7   date               18068 non-null  datetime64[ns]\n",
      " 8   month              18068 non-null  int64         \n",
      " 9   minute_price       18068 non-null  int64         \n",
      " 10  start_ride_price   18068 non-null  int64         \n",
      " 11  subscription_fee   18068 non-null  int64         \n",
      "dtypes: datetime64[ns](1), float64(2), int64(6), object(3)\n",
      "memory usage: 2.3+ MB\n"
     ]
    }
   ],
   "source": [
    "total_go.info()"
   ]
  },
  {
   "cell_type": "markdown",
   "id": "231dc9a1",
   "metadata": {},
   "source": [
    "Количество строк в объединенной таблице соответствует количеству строк в таблице rides_go, пропуски в строках отсутствуют. Значит, объединение таблиц проведено корректно, данные не потеряны."
   ]
  },
  {
   "cell_type": "markdown",
   "id": "25c51196",
   "metadata": {},
   "source": [
    "#### Создим два новых датафрейма из объединенного датафрейма:\n",
    "- c данными о пользователях без подписки;\n",
    "- с данными о пользователях с подпиской."
   ]
  },
  {
   "cell_type": "code",
   "execution_count": 23,
   "id": "b00c660d",
   "metadata": {},
   "outputs": [
    {
     "data": {
      "text/html": [
       "<div>\n",
       "<style scoped>\n",
       "    .dataframe tbody tr th:only-of-type {\n",
       "        vertical-align: middle;\n",
       "    }\n",
       "\n",
       "    .dataframe tbody tr th {\n",
       "        vertical-align: top;\n",
       "    }\n",
       "\n",
       "    .dataframe thead th {\n",
       "        text-align: right;\n",
       "    }\n",
       "</style>\n",
       "<table border=\"1\" class=\"dataframe\">\n",
       "  <thead>\n",
       "    <tr style=\"text-align: right;\">\n",
       "      <th></th>\n",
       "      <th>user_id</th>\n",
       "      <th>name</th>\n",
       "      <th>age</th>\n",
       "      <th>city</th>\n",
       "      <th>subscription_type</th>\n",
       "      <th>distance</th>\n",
       "      <th>duration</th>\n",
       "      <th>date</th>\n",
       "      <th>month</th>\n",
       "      <th>minute_price</th>\n",
       "      <th>start_ride_price</th>\n",
       "      <th>subscription_fee</th>\n",
       "    </tr>\n",
       "  </thead>\n",
       "  <tbody>\n",
       "    <tr>\n",
       "      <th>6500</th>\n",
       "      <td>700</td>\n",
       "      <td>Айдар</td>\n",
       "      <td>22</td>\n",
       "      <td>Омск</td>\n",
       "      <td>free</td>\n",
       "      <td>2515.690719</td>\n",
       "      <td>14.944286</td>\n",
       "      <td>2021-01-02</td>\n",
       "      <td>1</td>\n",
       "      <td>8</td>\n",
       "      <td>50</td>\n",
       "      <td>0</td>\n",
       "    </tr>\n",
       "    <tr>\n",
       "      <th>6501</th>\n",
       "      <td>700</td>\n",
       "      <td>Айдар</td>\n",
       "      <td>22</td>\n",
       "      <td>Омск</td>\n",
       "      <td>free</td>\n",
       "      <td>846.932642</td>\n",
       "      <td>16.234663</td>\n",
       "      <td>2021-02-01</td>\n",
       "      <td>2</td>\n",
       "      <td>8</td>\n",
       "      <td>50</td>\n",
       "      <td>0</td>\n",
       "    </tr>\n",
       "    <tr>\n",
       "      <th>6502</th>\n",
       "      <td>700</td>\n",
       "      <td>Айдар</td>\n",
       "      <td>22</td>\n",
       "      <td>Омск</td>\n",
       "      <td>free</td>\n",
       "      <td>4004.434142</td>\n",
       "      <td>20.016628</td>\n",
       "      <td>2021-02-04</td>\n",
       "      <td>2</td>\n",
       "      <td>8</td>\n",
       "      <td>50</td>\n",
       "      <td>0</td>\n",
       "    </tr>\n",
       "    <tr>\n",
       "      <th>6503</th>\n",
       "      <td>700</td>\n",
       "      <td>Айдар</td>\n",
       "      <td>22</td>\n",
       "      <td>Омск</td>\n",
       "      <td>free</td>\n",
       "      <td>1205.911290</td>\n",
       "      <td>9.782872</td>\n",
       "      <td>2021-02-10</td>\n",
       "      <td>2</td>\n",
       "      <td>8</td>\n",
       "      <td>50</td>\n",
       "      <td>0</td>\n",
       "    </tr>\n",
       "    <tr>\n",
       "      <th>6504</th>\n",
       "      <td>700</td>\n",
       "      <td>Айдар</td>\n",
       "      <td>22</td>\n",
       "      <td>Омск</td>\n",
       "      <td>free</td>\n",
       "      <td>3047.379435</td>\n",
       "      <td>17.427673</td>\n",
       "      <td>2021-02-14</td>\n",
       "      <td>2</td>\n",
       "      <td>8</td>\n",
       "      <td>50</td>\n",
       "      <td>0</td>\n",
       "    </tr>\n",
       "    <tr>\n",
       "      <th>...</th>\n",
       "      <td>...</td>\n",
       "      <td>...</td>\n",
       "      <td>...</td>\n",
       "      <td>...</td>\n",
       "      <td>...</td>\n",
       "      <td>...</td>\n",
       "      <td>...</td>\n",
       "      <td>...</td>\n",
       "      <td>...</td>\n",
       "      <td>...</td>\n",
       "      <td>...</td>\n",
       "      <td>...</td>\n",
       "    </tr>\n",
       "    <tr>\n",
       "      <th>18063</th>\n",
       "      <td>1534</td>\n",
       "      <td>Альберт</td>\n",
       "      <td>25</td>\n",
       "      <td>Краснодар</td>\n",
       "      <td>free</td>\n",
       "      <td>3781.098080</td>\n",
       "      <td>19.822962</td>\n",
       "      <td>2021-11-04</td>\n",
       "      <td>11</td>\n",
       "      <td>8</td>\n",
       "      <td>50</td>\n",
       "      <td>0</td>\n",
       "    </tr>\n",
       "    <tr>\n",
       "      <th>18064</th>\n",
       "      <td>1534</td>\n",
       "      <td>Альберт</td>\n",
       "      <td>25</td>\n",
       "      <td>Краснодар</td>\n",
       "      <td>free</td>\n",
       "      <td>2840.423057</td>\n",
       "      <td>21.409799</td>\n",
       "      <td>2021-11-16</td>\n",
       "      <td>11</td>\n",
       "      <td>8</td>\n",
       "      <td>50</td>\n",
       "      <td>0</td>\n",
       "    </tr>\n",
       "    <tr>\n",
       "      <th>18065</th>\n",
       "      <td>1534</td>\n",
       "      <td>Альберт</td>\n",
       "      <td>25</td>\n",
       "      <td>Краснодар</td>\n",
       "      <td>free</td>\n",
       "      <td>3826.185507</td>\n",
       "      <td>18.435051</td>\n",
       "      <td>2021-11-18</td>\n",
       "      <td>11</td>\n",
       "      <td>8</td>\n",
       "      <td>50</td>\n",
       "      <td>0</td>\n",
       "    </tr>\n",
       "    <tr>\n",
       "      <th>18066</th>\n",
       "      <td>1534</td>\n",
       "      <td>Альберт</td>\n",
       "      <td>25</td>\n",
       "      <td>Краснодар</td>\n",
       "      <td>free</td>\n",
       "      <td>2902.308661</td>\n",
       "      <td>16.674362</td>\n",
       "      <td>2021-11-27</td>\n",
       "      <td>11</td>\n",
       "      <td>8</td>\n",
       "      <td>50</td>\n",
       "      <td>0</td>\n",
       "    </tr>\n",
       "    <tr>\n",
       "      <th>18067</th>\n",
       "      <td>1534</td>\n",
       "      <td>Альберт</td>\n",
       "      <td>25</td>\n",
       "      <td>Краснодар</td>\n",
       "      <td>free</td>\n",
       "      <td>2371.711192</td>\n",
       "      <td>15.893917</td>\n",
       "      <td>2021-12-29</td>\n",
       "      <td>12</td>\n",
       "      <td>8</td>\n",
       "      <td>50</td>\n",
       "      <td>0</td>\n",
       "    </tr>\n",
       "  </tbody>\n",
       "</table>\n",
       "<p>11568 rows × 12 columns</p>\n",
       "</div>"
      ],
      "text/plain": [
       "       user_id     name  age       city subscription_type     distance  \\\n",
       "6500       700    Айдар   22       Омск              free  2515.690719   \n",
       "6501       700    Айдар   22       Омск              free   846.932642   \n",
       "6502       700    Айдар   22       Омск              free  4004.434142   \n",
       "6503       700    Айдар   22       Омск              free  1205.911290   \n",
       "6504       700    Айдар   22       Омск              free  3047.379435   \n",
       "...        ...      ...  ...        ...               ...          ...   \n",
       "18063     1534  Альберт   25  Краснодар              free  3781.098080   \n",
       "18064     1534  Альберт   25  Краснодар              free  2840.423057   \n",
       "18065     1534  Альберт   25  Краснодар              free  3826.185507   \n",
       "18066     1534  Альберт   25  Краснодар              free  2902.308661   \n",
       "18067     1534  Альберт   25  Краснодар              free  2371.711192   \n",
       "\n",
       "        duration       date  month  minute_price  start_ride_price  \\\n",
       "6500   14.944286 2021-01-02      1             8                50   \n",
       "6501   16.234663 2021-02-01      2             8                50   \n",
       "6502   20.016628 2021-02-04      2             8                50   \n",
       "6503    9.782872 2021-02-10      2             8                50   \n",
       "6504   17.427673 2021-02-14      2             8                50   \n",
       "...          ...        ...    ...           ...               ...   \n",
       "18063  19.822962 2021-11-04     11             8                50   \n",
       "18064  21.409799 2021-11-16     11             8                50   \n",
       "18065  18.435051 2021-11-18     11             8                50   \n",
       "18066  16.674362 2021-11-27     11             8                50   \n",
       "18067  15.893917 2021-12-29     12             8                50   \n",
       "\n",
       "       subscription_fee  \n",
       "6500                  0  \n",
       "6501                  0  \n",
       "6502                  0  \n",
       "6503                  0  \n",
       "6504                  0  \n",
       "...                 ...  \n",
       "18063                 0  \n",
       "18064                 0  \n",
       "18065                 0  \n",
       "18066                 0  \n",
       "18067                 0  \n",
       "\n",
       "[11568 rows x 12 columns]"
      ]
     },
     "metadata": {},
     "output_type": "display_data"
    },
    {
     "data": {
      "text/html": [
       "<div>\n",
       "<style scoped>\n",
       "    .dataframe tbody tr th:only-of-type {\n",
       "        vertical-align: middle;\n",
       "    }\n",
       "\n",
       "    .dataframe tbody tr th {\n",
       "        vertical-align: top;\n",
       "    }\n",
       "\n",
       "    .dataframe thead th {\n",
       "        text-align: right;\n",
       "    }\n",
       "</style>\n",
       "<table border=\"1\" class=\"dataframe\">\n",
       "  <thead>\n",
       "    <tr style=\"text-align: right;\">\n",
       "      <th></th>\n",
       "      <th>user_id</th>\n",
       "      <th>name</th>\n",
       "      <th>age</th>\n",
       "      <th>city</th>\n",
       "      <th>subscription_type</th>\n",
       "      <th>distance</th>\n",
       "      <th>duration</th>\n",
       "      <th>date</th>\n",
       "      <th>month</th>\n",
       "      <th>minute_price</th>\n",
       "      <th>start_ride_price</th>\n",
       "      <th>subscription_fee</th>\n",
       "    </tr>\n",
       "  </thead>\n",
       "  <tbody>\n",
       "    <tr>\n",
       "      <th>0</th>\n",
       "      <td>1</td>\n",
       "      <td>Кира</td>\n",
       "      <td>22</td>\n",
       "      <td>Тюмень</td>\n",
       "      <td>ultra</td>\n",
       "      <td>4409.919140</td>\n",
       "      <td>25.599769</td>\n",
       "      <td>2021-01-01</td>\n",
       "      <td>1</td>\n",
       "      <td>6</td>\n",
       "      <td>0</td>\n",
       "      <td>199</td>\n",
       "    </tr>\n",
       "    <tr>\n",
       "      <th>1</th>\n",
       "      <td>1</td>\n",
       "      <td>Кира</td>\n",
       "      <td>22</td>\n",
       "      <td>Тюмень</td>\n",
       "      <td>ultra</td>\n",
       "      <td>2617.592153</td>\n",
       "      <td>15.816871</td>\n",
       "      <td>2021-01-18</td>\n",
       "      <td>1</td>\n",
       "      <td>6</td>\n",
       "      <td>0</td>\n",
       "      <td>199</td>\n",
       "    </tr>\n",
       "    <tr>\n",
       "      <th>2</th>\n",
       "      <td>1</td>\n",
       "      <td>Кира</td>\n",
       "      <td>22</td>\n",
       "      <td>Тюмень</td>\n",
       "      <td>ultra</td>\n",
       "      <td>754.159807</td>\n",
       "      <td>6.232113</td>\n",
       "      <td>2021-04-20</td>\n",
       "      <td>4</td>\n",
       "      <td>6</td>\n",
       "      <td>0</td>\n",
       "      <td>199</td>\n",
       "    </tr>\n",
       "    <tr>\n",
       "      <th>3</th>\n",
       "      <td>1</td>\n",
       "      <td>Кира</td>\n",
       "      <td>22</td>\n",
       "      <td>Тюмень</td>\n",
       "      <td>ultra</td>\n",
       "      <td>2694.783254</td>\n",
       "      <td>18.511000</td>\n",
       "      <td>2021-08-11</td>\n",
       "      <td>8</td>\n",
       "      <td>6</td>\n",
       "      <td>0</td>\n",
       "      <td>199</td>\n",
       "    </tr>\n",
       "    <tr>\n",
       "      <th>4</th>\n",
       "      <td>1</td>\n",
       "      <td>Кира</td>\n",
       "      <td>22</td>\n",
       "      <td>Тюмень</td>\n",
       "      <td>ultra</td>\n",
       "      <td>4028.687306</td>\n",
       "      <td>26.265803</td>\n",
       "      <td>2021-08-28</td>\n",
       "      <td>8</td>\n",
       "      <td>6</td>\n",
       "      <td>0</td>\n",
       "      <td>199</td>\n",
       "    </tr>\n",
       "    <tr>\n",
       "      <th>...</th>\n",
       "      <td>...</td>\n",
       "      <td>...</td>\n",
       "      <td>...</td>\n",
       "      <td>...</td>\n",
       "      <td>...</td>\n",
       "      <td>...</td>\n",
       "      <td>...</td>\n",
       "      <td>...</td>\n",
       "      <td>...</td>\n",
       "      <td>...</td>\n",
       "      <td>...</td>\n",
       "      <td>...</td>\n",
       "    </tr>\n",
       "    <tr>\n",
       "      <th>6495</th>\n",
       "      <td>699</td>\n",
       "      <td>Оксана</td>\n",
       "      <td>22</td>\n",
       "      <td>Москва</td>\n",
       "      <td>ultra</td>\n",
       "      <td>3973.046497</td>\n",
       "      <td>24.671163</td>\n",
       "      <td>2021-08-29</td>\n",
       "      <td>8</td>\n",
       "      <td>6</td>\n",
       "      <td>0</td>\n",
       "      <td>199</td>\n",
       "    </tr>\n",
       "    <tr>\n",
       "      <th>6496</th>\n",
       "      <td>699</td>\n",
       "      <td>Оксана</td>\n",
       "      <td>22</td>\n",
       "      <td>Москва</td>\n",
       "      <td>ultra</td>\n",
       "      <td>3288.702563</td>\n",
       "      <td>15.892886</td>\n",
       "      <td>2021-09-12</td>\n",
       "      <td>9</td>\n",
       "      <td>6</td>\n",
       "      <td>0</td>\n",
       "      <td>199</td>\n",
       "    </tr>\n",
       "    <tr>\n",
       "      <th>6497</th>\n",
       "      <td>699</td>\n",
       "      <td>Оксана</td>\n",
       "      <td>22</td>\n",
       "      <td>Москва</td>\n",
       "      <td>ultra</td>\n",
       "      <td>3076.159348</td>\n",
       "      <td>14.389525</td>\n",
       "      <td>2021-09-26</td>\n",
       "      <td>9</td>\n",
       "      <td>6</td>\n",
       "      <td>0</td>\n",
       "      <td>199</td>\n",
       "    </tr>\n",
       "    <tr>\n",
       "      <th>6498</th>\n",
       "      <td>699</td>\n",
       "      <td>Оксана</td>\n",
       "      <td>22</td>\n",
       "      <td>Москва</td>\n",
       "      <td>ultra</td>\n",
       "      <td>4707.845501</td>\n",
       "      <td>15.839579</td>\n",
       "      <td>2021-10-17</td>\n",
       "      <td>10</td>\n",
       "      <td>6</td>\n",
       "      <td>0</td>\n",
       "      <td>199</td>\n",
       "    </tr>\n",
       "    <tr>\n",
       "      <th>6499</th>\n",
       "      <td>699</td>\n",
       "      <td>Оксана</td>\n",
       "      <td>22</td>\n",
       "      <td>Москва</td>\n",
       "      <td>ultra</td>\n",
       "      <td>3202.890770</td>\n",
       "      <td>25.217345</td>\n",
       "      <td>2021-12-03</td>\n",
       "      <td>12</td>\n",
       "      <td>6</td>\n",
       "      <td>0</td>\n",
       "      <td>199</td>\n",
       "    </tr>\n",
       "  </tbody>\n",
       "</table>\n",
       "<p>6500 rows × 12 columns</p>\n",
       "</div>"
      ],
      "text/plain": [
       "      user_id    name  age    city subscription_type     distance   duration  \\\n",
       "0           1    Кира   22  Тюмень             ultra  4409.919140  25.599769   \n",
       "1           1    Кира   22  Тюмень             ultra  2617.592153  15.816871   \n",
       "2           1    Кира   22  Тюмень             ultra   754.159807   6.232113   \n",
       "3           1    Кира   22  Тюмень             ultra  2694.783254  18.511000   \n",
       "4           1    Кира   22  Тюмень             ultra  4028.687306  26.265803   \n",
       "...       ...     ...  ...     ...               ...          ...        ...   \n",
       "6495      699  Оксана   22  Москва             ultra  3973.046497  24.671163   \n",
       "6496      699  Оксана   22  Москва             ultra  3288.702563  15.892886   \n",
       "6497      699  Оксана   22  Москва             ultra  3076.159348  14.389525   \n",
       "6498      699  Оксана   22  Москва             ultra  4707.845501  15.839579   \n",
       "6499      699  Оксана   22  Москва             ultra  3202.890770  25.217345   \n",
       "\n",
       "           date  month  minute_price  start_ride_price  subscription_fee  \n",
       "0    2021-01-01      1             6                 0               199  \n",
       "1    2021-01-18      1             6                 0               199  \n",
       "2    2021-04-20      4             6                 0               199  \n",
       "3    2021-08-11      8             6                 0               199  \n",
       "4    2021-08-28      8             6                 0               199  \n",
       "...         ...    ...           ...               ...               ...  \n",
       "6495 2021-08-29      8             6                 0               199  \n",
       "6496 2021-09-12      9             6                 0               199  \n",
       "6497 2021-09-26      9             6                 0               199  \n",
       "6498 2021-10-17     10             6                 0               199  \n",
       "6499 2021-12-03     12             6                 0               199  \n",
       "\n",
       "[6500 rows x 12 columns]"
      ]
     },
     "metadata": {},
     "output_type": "display_data"
    }
   ],
   "source": [
    "#subscription free\n",
    "free_go = total_go.loc[total_go['subscription_type'] == 'free']\n",
    "display(free_go)\n",
    "\n",
    "#subscription ultra\n",
    "ultra_go = total_go.loc[total_go['subscription_type'] == 'ultra']\n",
    "display(ultra_go)"
   ]
  },
  {
   "cell_type": "markdown",
   "id": "066b47f1",
   "metadata": {},
   "source": [
    "#### Визуализируем информацию о расстоянии и времени поездок для пользователей обеих категорий."
   ]
  },
  {
   "cell_type": "code",
   "execution_count": 24,
   "id": "9ed63881",
   "metadata": {},
   "outputs": [
    {
     "name": "stdout",
     "output_type": "stream",
     "text": [
      "Расстояния одной поездки Без подписки\n",
      "Минимальное расстояние: 0.86 м\n",
      "Максимальное расстояние: 7211.01 м\n",
      "Среднее расстояние: 3045.5 м\n",
      "\n",
      "Расстояния одной поездки С подпиской\n",
      "Минимальное расстояние: 244.21 м\n",
      "Максимальное расстояние: 5699.77 м\n",
      "Среднее расстояние: 3115.45 м\n"
     ]
    },
    {
     "data": {
      "image/png": "[encoded data removed]",
      "text/plain": [
       "<Figure size 432x288 with 1 Axes>"
      ]
     },
     "metadata": {
      "needs_background": "light"
     },
     "output_type": "display_data"
    }
   ],
   "source": [
    "#subscription free\n",
    "print('Расстояния одной поездки Без подписки')\n",
    "print('Минимальное расстояние:', round(free_go['distance'].min(), 2), 'м')\n",
    "print('Максимальное расстояние:', round(free_go['distance'].max(), 2), 'м')\n",
    "print('Среднее расстояние:', round(free_go['distance'].mean(), 2), 'м')\n",
    "\n",
    "print()\n",
    "\n",
    "#subscription ultra\n",
    "print('Расстояния одной поездки С подпиской')\n",
    "print('Минимальное расстояние:', round(ultra_go['distance'].min(), 2), 'м')\n",
    "print('Максимальное расстояние:', round(ultra_go['distance'].max(), 2), 'м')\n",
    "print('Среднее расстояние:', round(ultra_go['distance'].mean(), 2), 'м')\n",
    "\n",
    "plt.hist(free_go['distance'], label='Без подписки')\n",
    "plt.hist(ultra_go['distance'], label='С подпиской')\n",
    "plt.legend(loc='upper right')\n",
    "plt.title('Расстояние одной поездки')\n",
    "plt.show()"
   ]
  },
  {
   "cell_type": "code",
   "execution_count": 94,
   "id": "558eb502",
   "metadata": {},
   "outputs": [
    {
     "name": "stdout",
     "output_type": "stream",
     "text": [
      "Продолжительность одной поездки Без подписки\n",
      "Минимальная продолжительность: 0.5 мин\n",
      "Максимальная продолжительность: 34.95 мин\n",
      "Средняя продолжительность: 17.39 мин\n",
      "\n",
      "Продолжительность одной поездки С подпиской\n",
      "Минимальная продолжительность: 3.76 мин\n",
      "Максимальная продолжительность: 40.82 мин\n",
      "Средняя продолжительность: 18.54 мин\n"
     ]
    },
    {
     "data": {
      "image/png": "[encoded data removed]",
      "text/plain": [
       "<Figure size 432x288 with 1 Axes>"
      ]
     },
     "metadata": {
      "needs_background": "light"
     },
     "output_type": "display_data"
    }
   ],
   "source": [
    "#subscription free\n",
    "print('Продолжительность одной поездки Без подписки')\n",
    "print('Минимальная продолжительность:', round(free_go['duration'].min(), 2), 'мин')\n",
    "print('Максимальная продолжительность:', round(free_go['duration'].max(), 2), 'мин')\n",
    "print('Средняя продолжительность:', round(free_go['duration'].mean(), 2), 'мин')\n",
    "\n",
    "print()\n",
    "\n",
    "#subscription ultra\n",
    "print('Продолжительность одной поездки С подпиской')\n",
    "print('Минимальная продолжительность:', round(ultra_go['duration'].min(), 2), 'мин')\n",
    "print('Максимальная продолжительность:', round(ultra_go['duration'].max(), 2), 'мин')\n",
    "print('Средняя продолжительность:', round(ultra_go['duration'].mean(), 2), 'мин')\n",
    "\n",
    "plt.hist(free_go['duration'], label='Без подписки')\n",
    "plt.hist(ultra_go['duration'], label='С подпиской')\n",
    "plt.legend(loc='upper right')\n",
    "plt.title('Продолжительность одной поездки')\n",
    "plt.xlabel('Продолжительность (мин)')\n",
    "plt.ylabel('Количество поездок')\n",
    "plt.show()"
   ]
  },
  {
   "cell_type": "markdown",
   "id": "85a64dbb",
   "metadata": {},
   "source": [
    "В целом пользователи с подпиской и без ведут себя примерно одинаково: \n",
    "\n",
    "среднее расстояние одной поездки составляет примерно 3 км. Но у пользователей с подпиской наиболее часто встречаются поездки 3-3,5 км, а у пользователей без подписки 2,1-3 км.  У пользователей с подпиской меньше очень коротких поездок, так как пробные поездки им уже не нужны. Поездки свыше 4 км распределены в обеих группах примерно одинаково, но самые длинные поездки осуществлялись без подписки;\n",
    "\n",
    "средняя продолжительность одной поездки составляет примерно 18 мин. Но у пользователей с подпиской наиболее часто встречаются поездки 15-18 мин, а у пользователей без подписки 18-21 мин. У пользователей с подпиской также меньше очень коротких поездок, так как пробные поездки им уже не нужны. Поездки дольше 25 минут распределены в обеих группах примерно одинаково, но более продолжительные поездки осуществлялись с подпиской."
   ]
  },
  {
   "cell_type": "markdown",
   "id": "402d620f",
   "metadata": {},
   "source": [
    "### Шаг 5. Подсчёт выручки"
   ]
  },
  {
   "cell_type": "markdown",
   "id": "88794b8b",
   "metadata": {},
   "source": [
    "#### Создадим датафрейм с агрегированными данными о поездках на основе датафрейма с объединёнными данными: найдем суммарное расстояние, количество поездок и суммарное время для каждого пользователя за каждый месяц. Продолжительность каждой поездки в каждой строке исходного датафрейма для подсчёта стоимости будем округлять до следующего целого числа."
   ]
  },
  {
   "cell_type": "code",
   "execution_count": 26,
   "id": "43b58619",
   "metadata": {},
   "outputs": [],
   "source": [
    "#округлим продолжительность каждой поездки с помощью метода «потолок» библиотеки numpy — np.ceil()\n",
    "import numpy as np\n",
    "\n",
    "total_go['duration'] = np.ceil(total_go['duration']) "
   ]
  },
  {
   "cell_type": "code",
   "execution_count": 27,
   "id": "f76c2d01",
   "metadata": {},
   "outputs": [
    {
     "data": {
      "text/html": [
       "<div>\n",
       "<style scoped>\n",
       "    .dataframe tbody tr th:only-of-type {\n",
       "        vertical-align: middle;\n",
       "    }\n",
       "\n",
       "    .dataframe tbody tr th {\n",
       "        vertical-align: top;\n",
       "    }\n",
       "\n",
       "    .dataframe thead th {\n",
       "        text-align: right;\n",
       "    }\n",
       "</style>\n",
       "<table border=\"1\" class=\"dataframe\">\n",
       "  <thead>\n",
       "    <tr style=\"text-align: right;\">\n",
       "      <th></th>\n",
       "      <th></th>\n",
       "      <th>sum_distance</th>\n",
       "      <th>rides_count</th>\n",
       "      <th>sum_duration</th>\n",
       "      <th>start_ride_price</th>\n",
       "      <th>minute_price</th>\n",
       "      <th>subscription_fee</th>\n",
       "    </tr>\n",
       "    <tr>\n",
       "      <th>user_id</th>\n",
       "      <th>month</th>\n",
       "      <th></th>\n",
       "      <th></th>\n",
       "      <th></th>\n",
       "      <th></th>\n",
       "      <th></th>\n",
       "      <th></th>\n",
       "    </tr>\n",
       "  </thead>\n",
       "  <tbody>\n",
       "    <tr>\n",
       "      <th rowspan=\"6\" valign=\"top\">1</th>\n",
       "      <th>1</th>\n",
       "      <td>7027.511294</td>\n",
       "      <td>2</td>\n",
       "      <td>42.0</td>\n",
       "      <td>0</td>\n",
       "      <td>6</td>\n",
       "      <td>199</td>\n",
       "    </tr>\n",
       "    <tr>\n",
       "      <th>4</th>\n",
       "      <td>754.159807</td>\n",
       "      <td>1</td>\n",
       "      <td>7.0</td>\n",
       "      <td>0</td>\n",
       "      <td>6</td>\n",
       "      <td>199</td>\n",
       "    </tr>\n",
       "    <tr>\n",
       "      <th>8</th>\n",
       "      <td>6723.470560</td>\n",
       "      <td>2</td>\n",
       "      <td>46.0</td>\n",
       "      <td>0</td>\n",
       "      <td>6</td>\n",
       "      <td>199</td>\n",
       "    </tr>\n",
       "    <tr>\n",
       "      <th>10</th>\n",
       "      <td>5809.911100</td>\n",
       "      <td>2</td>\n",
       "      <td>32.0</td>\n",
       "      <td>0</td>\n",
       "      <td>6</td>\n",
       "      <td>199</td>\n",
       "    </tr>\n",
       "    <tr>\n",
       "      <th>11</th>\n",
       "      <td>7003.499363</td>\n",
       "      <td>3</td>\n",
       "      <td>56.0</td>\n",
       "      <td>0</td>\n",
       "      <td>6</td>\n",
       "      <td>199</td>\n",
       "    </tr>\n",
       "    <tr>\n",
       "      <th>12</th>\n",
       "      <td>6751.629942</td>\n",
       "      <td>2</td>\n",
       "      <td>28.0</td>\n",
       "      <td>0</td>\n",
       "      <td>6</td>\n",
       "      <td>199</td>\n",
       "    </tr>\n",
       "    <tr>\n",
       "      <th rowspan=\"6\" valign=\"top\">2</th>\n",
       "      <th>3</th>\n",
       "      <td>10187.723006</td>\n",
       "      <td>3</td>\n",
       "      <td>63.0</td>\n",
       "      <td>0</td>\n",
       "      <td>6</td>\n",
       "      <td>199</td>\n",
       "    </tr>\n",
       "    <tr>\n",
       "      <th>4</th>\n",
       "      <td>6164.381824</td>\n",
       "      <td>2</td>\n",
       "      <td>40.0</td>\n",
       "      <td>0</td>\n",
       "      <td>6</td>\n",
       "      <td>199</td>\n",
       "    </tr>\n",
       "    <tr>\n",
       "      <th>6</th>\n",
       "      <td>3255.338202</td>\n",
       "      <td>1</td>\n",
       "      <td>14.0</td>\n",
       "      <td>0</td>\n",
       "      <td>6</td>\n",
       "      <td>199</td>\n",
       "    </tr>\n",
       "    <tr>\n",
       "      <th>7</th>\n",
       "      <td>6780.722964</td>\n",
       "      <td>2</td>\n",
       "      <td>48.0</td>\n",
       "      <td>0</td>\n",
       "      <td>6</td>\n",
       "      <td>199</td>\n",
       "    </tr>\n",
       "    <tr>\n",
       "      <th>8</th>\n",
       "      <td>923.007439</td>\n",
       "      <td>1</td>\n",
       "      <td>7.0</td>\n",
       "      <td>0</td>\n",
       "      <td>6</td>\n",
       "      <td>199</td>\n",
       "    </tr>\n",
       "    <tr>\n",
       "      <th>10</th>\n",
       "      <td>2824.636598</td>\n",
       "      <td>1</td>\n",
       "      <td>19.0</td>\n",
       "      <td>0</td>\n",
       "      <td>6</td>\n",
       "      <td>199</td>\n",
       "    </tr>\n",
       "  </tbody>\n",
       "</table>\n",
       "</div>"
      ],
      "text/plain": [
       "               sum_distance  rides_count  sum_duration  start_ride_price  \\\n",
       "user_id month                                                              \n",
       "1       1       7027.511294            2          42.0                 0   \n",
       "        4        754.159807            1           7.0                 0   \n",
       "        8       6723.470560            2          46.0                 0   \n",
       "        10      5809.911100            2          32.0                 0   \n",
       "        11      7003.499363            3          56.0                 0   \n",
       "        12      6751.629942            2          28.0                 0   \n",
       "2       3      10187.723006            3          63.0                 0   \n",
       "        4       6164.381824            2          40.0                 0   \n",
       "        6       3255.338202            1          14.0                 0   \n",
       "        7       6780.722964            2          48.0                 0   \n",
       "        8        923.007439            1           7.0                 0   \n",
       "        10      2824.636598            1          19.0                 0   \n",
       "\n",
       "               minute_price  subscription_fee  \n",
       "user_id month                                  \n",
       "1       1                 6               199  \n",
       "        4                 6               199  \n",
       "        8                 6               199  \n",
       "        10                6               199  \n",
       "        11                6               199  \n",
       "        12                6               199  \n",
       "2       3                 6               199  \n",
       "        4                 6               199  \n",
       "        6                 6               199  \n",
       "        7                 6               199  \n",
       "        8                 6               199  \n",
       "        10                6               199  "
      ]
     },
     "metadata": {},
     "output_type": "display_data"
    }
   ],
   "source": [
    "total_go_agg = total_go.groupby(['user_id', 'month']).agg({'distance':'sum',\n",
    "                                                           'duration':['count', 'sum'],\n",
    "                                                           'start_ride_price':'first',\n",
    "                                                           'minute_price':'first',\n",
    "                                                           'subscription_fee':'first'})\n",
    "total_go_agg.columns = ['sum_distance', 'rides_count', 'sum_duration', 'start_ride_price', 'minute_price', 'subscription_fee']\n",
    "display(total_go_agg.head(12))"
   ]
  },
  {
   "cell_type": "markdown",
   "id": "0692f3d0",
   "metadata": {},
   "source": [
    "#### Добавим в новый датафрейм столбец с помесячной выручкой, которую принёс каждый пользователь. "
   ]
  },
  {
   "cell_type": "code",
   "execution_count": 28,
   "id": "7c5ecb71",
   "metadata": {},
   "outputs": [
    {
     "data": {
      "text/html": [
       "<div>\n",
       "<style scoped>\n",
       "    .dataframe tbody tr th:only-of-type {\n",
       "        vertical-align: middle;\n",
       "    }\n",
       "\n",
       "    .dataframe tbody tr th {\n",
       "        vertical-align: top;\n",
       "    }\n",
       "\n",
       "    .dataframe thead th {\n",
       "        text-align: right;\n",
       "    }\n",
       "</style>\n",
       "<table border=\"1\" class=\"dataframe\">\n",
       "  <thead>\n",
       "    <tr style=\"text-align: right;\">\n",
       "      <th></th>\n",
       "      <th></th>\n",
       "      <th>sum_distance</th>\n",
       "      <th>rides_count</th>\n",
       "      <th>sum_duration</th>\n",
       "      <th>start_ride_price</th>\n",
       "      <th>minute_price</th>\n",
       "      <th>subscription_fee</th>\n",
       "      <th>month_revenue</th>\n",
       "    </tr>\n",
       "    <tr>\n",
       "      <th>user_id</th>\n",
       "      <th>month</th>\n",
       "      <th></th>\n",
       "      <th></th>\n",
       "      <th></th>\n",
       "      <th></th>\n",
       "      <th></th>\n",
       "      <th></th>\n",
       "      <th></th>\n",
       "    </tr>\n",
       "  </thead>\n",
       "  <tbody>\n",
       "    <tr>\n",
       "      <th rowspan=\"5\" valign=\"top\">1</th>\n",
       "      <th>1</th>\n",
       "      <td>7027.511294</td>\n",
       "      <td>2</td>\n",
       "      <td>42.0</td>\n",
       "      <td>0</td>\n",
       "      <td>6</td>\n",
       "      <td>199</td>\n",
       "      <td>451.0</td>\n",
       "    </tr>\n",
       "    <tr>\n",
       "      <th>4</th>\n",
       "      <td>754.159807</td>\n",
       "      <td>1</td>\n",
       "      <td>7.0</td>\n",
       "      <td>0</td>\n",
       "      <td>6</td>\n",
       "      <td>199</td>\n",
       "      <td>241.0</td>\n",
       "    </tr>\n",
       "    <tr>\n",
       "      <th>8</th>\n",
       "      <td>6723.470560</td>\n",
       "      <td>2</td>\n",
       "      <td>46.0</td>\n",
       "      <td>0</td>\n",
       "      <td>6</td>\n",
       "      <td>199</td>\n",
       "      <td>475.0</td>\n",
       "    </tr>\n",
       "    <tr>\n",
       "      <th>10</th>\n",
       "      <td>5809.911100</td>\n",
       "      <td>2</td>\n",
       "      <td>32.0</td>\n",
       "      <td>0</td>\n",
       "      <td>6</td>\n",
       "      <td>199</td>\n",
       "      <td>391.0</td>\n",
       "    </tr>\n",
       "    <tr>\n",
       "      <th>11</th>\n",
       "      <td>7003.499363</td>\n",
       "      <td>3</td>\n",
       "      <td>56.0</td>\n",
       "      <td>0</td>\n",
       "      <td>6</td>\n",
       "      <td>199</td>\n",
       "      <td>535.0</td>\n",
       "    </tr>\n",
       "    <tr>\n",
       "      <th>...</th>\n",
       "      <th>...</th>\n",
       "      <td>...</td>\n",
       "      <td>...</td>\n",
       "      <td>...</td>\n",
       "      <td>...</td>\n",
       "      <td>...</td>\n",
       "      <td>...</td>\n",
       "      <td>...</td>\n",
       "    </tr>\n",
       "    <tr>\n",
       "      <th rowspan=\"5\" valign=\"top\">1534</th>\n",
       "      <th>6</th>\n",
       "      <td>3409.468534</td>\n",
       "      <td>2</td>\n",
       "      <td>26.0</td>\n",
       "      <td>50</td>\n",
       "      <td>8</td>\n",
       "      <td>0</td>\n",
       "      <td>308.0</td>\n",
       "    </tr>\n",
       "    <tr>\n",
       "      <th>8</th>\n",
       "      <td>7622.453034</td>\n",
       "      <td>2</td>\n",
       "      <td>48.0</td>\n",
       "      <td>50</td>\n",
       "      <td>8</td>\n",
       "      <td>0</td>\n",
       "      <td>484.0</td>\n",
       "    </tr>\n",
       "    <tr>\n",
       "      <th>9</th>\n",
       "      <td>4928.173852</td>\n",
       "      <td>1</td>\n",
       "      <td>23.0</td>\n",
       "      <td>50</td>\n",
       "      <td>8</td>\n",
       "      <td>0</td>\n",
       "      <td>234.0</td>\n",
       "    </tr>\n",
       "    <tr>\n",
       "      <th>11</th>\n",
       "      <td>13350.015305</td>\n",
       "      <td>4</td>\n",
       "      <td>78.0</td>\n",
       "      <td>50</td>\n",
       "      <td>8</td>\n",
       "      <td>0</td>\n",
       "      <td>824.0</td>\n",
       "    </tr>\n",
       "    <tr>\n",
       "      <th>12</th>\n",
       "      <td>2371.711192</td>\n",
       "      <td>1</td>\n",
       "      <td>16.0</td>\n",
       "      <td>50</td>\n",
       "      <td>8</td>\n",
       "      <td>0</td>\n",
       "      <td>178.0</td>\n",
       "    </tr>\n",
       "  </tbody>\n",
       "</table>\n",
       "<p>11331 rows × 7 columns</p>\n",
       "</div>"
      ],
      "text/plain": [
       "               sum_distance  rides_count  sum_duration  start_ride_price  \\\n",
       "user_id month                                                              \n",
       "1       1       7027.511294            2          42.0                 0   \n",
       "        4        754.159807            1           7.0                 0   \n",
       "        8       6723.470560            2          46.0                 0   \n",
       "        10      5809.911100            2          32.0                 0   \n",
       "        11      7003.499363            3          56.0                 0   \n",
       "...                     ...          ...           ...               ...   \n",
       "1534    6       3409.468534            2          26.0                50   \n",
       "        8       7622.453034            2          48.0                50   \n",
       "        9       4928.173852            1          23.0                50   \n",
       "        11     13350.015305            4          78.0                50   \n",
       "        12      2371.711192            1          16.0                50   \n",
       "\n",
       "               minute_price  subscription_fee  month_revenue  \n",
       "user_id month                                                 \n",
       "1       1                 6               199          451.0  \n",
       "        4                 6               199          241.0  \n",
       "        8                 6               199          475.0  \n",
       "        10                6               199          391.0  \n",
       "        11                6               199          535.0  \n",
       "...                     ...               ...            ...  \n",
       "1534    6                 8                 0          308.0  \n",
       "        8                 8                 0          484.0  \n",
       "        9                 8                 0          234.0  \n",
       "        11                8                 0          824.0  \n",
       "        12                8                 0          178.0  \n",
       "\n",
       "[11331 rows x 7 columns]"
      ]
     },
     "metadata": {},
     "output_type": "display_data"
    }
   ],
   "source": [
    "#Помесячная выручка считается по формуле: стоимость старта поездки ×  количество поездок \n",
    "#+ стоимость одной минуты поездки \n",
    "#× общая продолжительность всех поездок в минутах + стоимость подписки.\n",
    "total_go_agg['month_revenue'] = (total_go_agg['start_ride_price'] * total_go_agg['rides_count'] \n",
    "                                 + total_go_agg['minute_price'] * total_go_agg['sum_duration'] \n",
    "                                 + total_go_agg['subscription_fee']\n",
    "                                )\n",
    "display(total_go_agg)"
   ]
  },
  {
   "cell_type": "markdown",
   "id": "41545ac0",
   "metadata": {},
   "source": [
    "### Шаг 6. Проверка гипотез"
   ]
  },
  {
   "cell_type": "markdown",
   "id": "8d2dcb46",
   "metadata": {},
   "source": [
    "Продакт-менеджеры сервиса хотят увеличить количество пользователей с подпиской. Для этого они будут проводить различные акции, но сначала нужно выяснить несколько важных моментов."
   ]
  },
  {
   "cell_type": "code",
   "execution_count": 99,
   "id": "7ecd52aa",
   "metadata": {},
   "outputs": [],
   "source": [
    "#импортируем scipy для проверки гипотез\n",
    "from scipy import stats as st\n",
    "\n",
    "#импортируем warnings для исключения предупреждений\n",
    "import warnings\n",
    "warnings.filterwarnings(\"ignore\")"
   ]
  },
  {
   "cell_type": "markdown",
   "id": "e41f3a11",
   "metadata": {},
   "source": [
    "#### Важно понять, тратят ли пользователи с подпиской больше времени на поездки? Если да, то пользователи с подпиской могут быть «выгоднее» для компании. "
   ]
  },
  {
   "cell_type": "markdown",
   "id": "48e7ac68",
   "metadata": {},
   "source": [
    "Выдвигаем гипотезы:\n",
    "\n",
    "**Гипотеза Н0:** Средняя продолжительность поездок с подпиской и без подписки равна.  \n",
    "**Гипотеза Н1:** Средняя продолжительность поездок с подпиской больше, чем без подписки."
   ]
  },
  {
   "cell_type": "code",
   "execution_count": 96,
   "id": "8dd33c54",
   "metadata": {},
   "outputs": [
    {
     "name": "stdout",
     "output_type": "stream",
     "text": [
      "1.2804098316645618e-34\n",
      "Отвергаем нулевую гипотезу\n"
     ]
    }
   ],
   "source": [
    "results_1 = st.ttest_ind(ultra_go['duration'], free_go['duration'], alternative='greater')\n",
    "print(results_1.pvalue)\n",
    "if results_1.pvalue < 0.05:\n",
    "    print('Отвергаем нулевую гипотезу')\n",
    "else:\n",
    "    print('Не удалось отвергнуть нулевую гипотезу')"
   ]
  },
  {
   "cell_type": "markdown",
   "id": "cedde167",
   "metadata": {},
   "source": [
    "В ходе проверки мы отвергли нулевую гипотезу. Можно полагать, что средняя продожительность поездок с подпиской больше, чем без подписки."
   ]
  },
  {
   "cell_type": "markdown",
   "id": "7e047bcf",
   "metadata": {},
   "source": [
    "#### Расстояние одной поездки в 3130 метров — оптимальное с точки зрения износа самоката. Можно ли сказать, что среднее расстояние, которое проезжают пользователи с подпиской за одну поездку, не превышает 3130 метров? "
   ]
  },
  {
   "cell_type": "markdown",
   "id": "c03017e9",
   "metadata": {},
   "source": [
    "Выдвигаем гипотезы:\n",
    "\n",
    "**Гипотеза Н0:** Среднее расстояние, которое проезжают пользователи с подпиской за одну поездку, не превышает (меньше или равно) 3130 метров.  \n",
    "**Гипотеза Н1:** Среднее расстояние, которое проезжают пользователи с подпиской за одну поездку, больше 3130 метров."
   ]
  },
  {
   "cell_type": "code",
   "execution_count": 97,
   "id": "afd86db6",
   "metadata": {},
   "outputs": [
    {
     "name": "stdout",
     "output_type": "stream",
     "text": [
      "0.9195368847849785\n",
      "Не удалось отвергнуть нулевую гипотезу\n"
     ]
    }
   ],
   "source": [
    "results_2 = st.ttest_1samp(ultra_go['distance'], 3130, alternative='greater')\n",
    "print(results_2.pvalue)\n",
    "if results_2.pvalue < 0.05:\n",
    "    print('Отвергаем нулевую гипотезу')\n",
    "else:\n",
    "    print('Не удалось отвергнуть нулевую гипотезу')"
   ]
  },
  {
   "cell_type": "markdown",
   "id": "d22770c4",
   "metadata": {},
   "source": [
    "В ходе проверки нулевую гипотезу отвергнуть не удалось. Можно полагать, что среднее расстояние, которое проезжают пользователи с подпиской за одну поездку, не превышает 3130 метров."
   ]
  },
  {
   "cell_type": "markdown",
   "id": "46951b4b",
   "metadata": {},
   "source": [
    "#### Проверим гипотезу о том, будет ли помесячная выручка от пользователей с подпиской по месяцам выше, чем выручка от пользователей без подписки. "
   ]
  },
  {
   "cell_type": "markdown",
   "id": "35e16289",
   "metadata": {},
   "source": [
    "Выдвигаем гипотезы:\n",
    "\n",
    "**Гипотеза Н0:** Ежемесячная выручка от пользователей с подпиской по месяцам равна ежемесячной выручке от пользователей без подписки.  \n",
    "**Гипотеза Н1:** Ежемесячная выручка от пользователей с подпиской по месяцам больше ежемесячной выручке от пользователей без подписки."
   ]
  },
  {
   "cell_type": "code",
   "execution_count": 98,
   "id": "ddc2779e",
   "metadata": {},
   "outputs": [
    {
     "name": "stdout",
     "output_type": "stream",
     "text": [
      "0.0\n",
      "Отвергаем нулевую гипотезу\n"
     ]
    }
   ],
   "source": [
    "results_3 = st.ttest_ind(total_go_agg.loc[total_go_agg['subscription_fee'] > 0, 'subscription_fee'], \n",
    "                       total_go_agg.loc[total_go_agg['subscription_fee'] == 0, 'subscription_fee'],\n",
    "                       alternative = 'greater')\n",
    "print(results_3.pvalue)\n",
    "\n",
    "if results_3.pvalue < 0.05:\n",
    "    print('Отвергаем нулевую гипотезу')\n",
    "else:\n",
    "    print('Не удалось отвергнуть нулевую гипотезу')"
   ]
  },
  {
   "cell_type": "markdown",
   "id": "0ac37585",
   "metadata": {},
   "source": [
    "В ходе проверки мы отвергли нулевую гипотезу. Можно полагать, что ежемесячная выручка от пользователей с подпиской по месяцам равна ежемесячной выручке от пользователей без подписки."
   ]
  },
  {
   "cell_type": "markdown",
   "id": "6d281447",
   "metadata": {},
   "source": [
    "#### Представьте такую ситуацию: техническая команда сервиса обновила сервера, с которыми взаимодействует мобильное приложение. Она надеется, что из-за этого количество обращений в техподдержку значимо снизилось. Некоторый файл содержит для каждого пользователя данные о количестве обращений до обновления и после него. Какой тест вам понадобился бы для проверки этой гипотезы?"
   ]
  },
  {
   "cell_type": "markdown",
   "id": "fe95f5d8",
   "metadata": {},
   "source": [
    "Чтобы проверить гипотезу о равенстве среднего генеральной совокупности для зависимых (парных) выборок в Python, применим метод scipy.stats.ttest_rel()."
   ]
  },
  {
   "cell_type": "markdown",
   "id": "e7ede1c2",
   "metadata": {},
   "source": [
    "### Общий вывод"
   ]
  },
  {
   "cell_type": "markdown",
   "id": "08810b85",
   "metadata": {},
   "source": [
    "Мы изучили данные о использовании сервиса аренды самокатов GoFast и выявили, что:\n",
    "- во всех городах, в которых представлен сервис, примерно одинковое количество пользователей. Меньше всего (168) пользователей в Москве, больше всего (219) - в Пятигорске;\n",
    "- пользователи с подпиской и без распределены практически пополам (54% без подписки и 46% с подпиской);\n",
    "- в основном сервисом пользуются люди в возрасте от 22 до 27 лет;\n",
    "- среднее расстояние одной поездки составляет 3 км и средняя продолжительность одной поездки составляет 18 минут.\n",
    "\n",
    "Также мы сравнили данные по пользователям с подпиской и без и проверили несколько гипотез. \n",
    "По полученной информации можно сделать вывод, что пользователи с подпиской и без подписки используют сервис примерно одинаково. Поездки пользователей с подпиской несколько дольше поездок пользователей без подписки, что вероятно связано с меньшей стоимостью одной минуты и отсутствием стоимости начала поездки. То есть пользователи с подпиской просто не спешат. Но и те, и другие приносят примерно одинаковую выручку в месяц. Поэтому увеличение количества пользователей с подпиской не поможет бизнесу значительно вырасти. \n",
    "\n",
    "Исходя из полученных данных, можно рекомендовать продакт-менеджерам сервиса для расширения бизнеса акцентировать внимание не на пользователях с подпиской, а в целом на увеличении количества пользователей. При этом для удержания клиентов может быть выгодно увеличивать процент пользователей с подпиской. При проведении акций можно будет указывать, что траты не увеличатся, но с подпиской сервисом будет пользоваться удобней."
   ]
  },
  {
   "cell_type": "code",
   "execution_count": null,
   "id": "48486ec1",
   "metadata": {},
   "outputs": [],
   "source": []
  }
 ],
 "metadata": {
  "ExecuteTimeLog": [
   {
    "duration": 425,
    "start_time": "2023-12-07T17:43:07.117Z"
   },
   {
    "duration": 192,
    "start_time": "2023-12-07T17:46:03.459Z"
   },
   {
    "duration": 27,
    "start_time": "2023-12-07T17:47:49.255Z"
   },
   {
    "duration": 23,
    "start_time": "2023-12-07T17:48:49.841Z"
   },
   {
    "duration": 63,
    "start_time": "2023-12-07T17:50:40.739Z"
   },
   {
    "duration": 8,
    "start_time": "2023-12-07T17:51:54.466Z"
   },
   {
    "duration": 19,
    "start_time": "2023-12-07T17:52:10.474Z"
   },
   {
    "duration": 8,
    "start_time": "2023-12-07T17:53:31.303Z"
   },
   {
    "duration": 23,
    "start_time": "2023-12-07T17:53:34.786Z"
   },
   {
    "duration": 20,
    "start_time": "2023-12-07T17:53:37.057Z"
   },
   {
    "duration": 10,
    "start_time": "2023-12-07T17:53:41.483Z"
   },
   {
    "duration": 57,
    "start_time": "2023-12-07T17:55:59.318Z"
   },
   {
    "duration": 12,
    "start_time": "2023-12-07T17:56:35.152Z"
   },
   {
    "duration": 7,
    "start_time": "2023-12-07T17:57:24.944Z"
   },
   {
    "duration": 18,
    "start_time": "2023-12-07T17:57:33.310Z"
   },
   {
    "duration": 37,
    "start_time": "2023-12-07T17:58:17.174Z"
   },
   {
    "duration": 16,
    "start_time": "2023-12-07T17:58:57.407Z"
   },
   {
    "duration": 15,
    "start_time": "2023-12-07T17:59:01.441Z"
   },
   {
    "duration": 17,
    "start_time": "2023-12-07T17:59:03.195Z"
   },
   {
    "duration": 66,
    "start_time": "2023-12-07T18:00:16.237Z"
   },
   {
    "duration": 12,
    "start_time": "2023-12-07T18:03:42.864Z"
   },
   {
    "duration": 14,
    "start_time": "2023-12-07T18:06:05.085Z"
   },
   {
    "duration": 13,
    "start_time": "2023-12-07T18:06:19.860Z"
   },
   {
    "duration": 395,
    "start_time": "2023-12-07T18:06:27.360Z"
   },
   {
    "duration": 75,
    "start_time": "2023-12-07T18:06:27.757Z"
   },
   {
    "duration": 25,
    "start_time": "2023-12-07T18:06:27.834Z"
   },
   {
    "duration": 17,
    "start_time": "2023-12-07T18:06:27.861Z"
   },
   {
    "duration": 14,
    "start_time": "2023-12-07T18:06:27.880Z"
   },
   {
    "duration": 12,
    "start_time": "2023-12-07T18:06:27.896Z"
   },
   {
    "duration": 40,
    "start_time": "2023-12-07T18:06:27.909Z"
   },
   {
    "duration": 8,
    "start_time": "2023-12-07T18:11:51.862Z"
   },
   {
    "duration": 5,
    "start_time": "2023-12-07T18:21:26.727Z"
   },
   {
    "duration": 5,
    "start_time": "2023-12-07T18:21:41.290Z"
   },
   {
    "duration": 1194,
    "start_time": "2023-12-07T18:24:32.703Z"
   },
   {
    "duration": 6,
    "start_time": "2023-12-07T18:24:41.942Z"
   },
   {
    "duration": 6,
    "start_time": "2023-12-07T18:25:30.711Z"
   },
   {
    "duration": 5,
    "start_time": "2023-12-07T18:29:28.225Z"
   },
   {
    "duration": 6,
    "start_time": "2023-12-07T18:29:37.517Z"
   },
   {
    "duration": 4,
    "start_time": "2023-12-07T18:29:51.728Z"
   },
   {
    "duration": 5,
    "start_time": "2023-12-07T18:30:03.351Z"
   },
   {
    "duration": 6,
    "start_time": "2023-12-07T18:30:44.764Z"
   },
   {
    "duration": 552,
    "start_time": "2023-12-07T18:31:08.720Z"
   },
   {
    "duration": 127,
    "start_time": "2023-12-07T18:31:37.548Z"
   },
   {
    "duration": 142,
    "start_time": "2023-12-07T18:31:45.851Z"
   },
   {
    "duration": 153,
    "start_time": "2023-12-07T18:31:51.132Z"
   },
   {
    "duration": 180,
    "start_time": "2023-12-07T18:33:15.954Z"
   },
   {
    "duration": 2,
    "start_time": "2023-12-07T18:33:36.258Z"
   },
   {
    "duration": 5,
    "start_time": "2023-12-07T18:33:39.410Z"
   },
   {
    "duration": 5,
    "start_time": "2023-12-07T18:33:40.547Z"
   },
   {
    "duration": 5,
    "start_time": "2023-12-07T18:33:41.819Z"
   },
   {
    "duration": 131,
    "start_time": "2023-12-07T18:33:43.034Z"
   },
   {
    "duration": 123,
    "start_time": "2023-12-07T18:33:47.573Z"
   },
   {
    "duration": 129,
    "start_time": "2023-12-07T18:33:56.922Z"
   },
   {
    "duration": 74,
    "start_time": "2023-12-07T18:40:36.288Z"
   },
   {
    "duration": 115,
    "start_time": "2023-12-07T18:40:43.431Z"
   },
   {
    "duration": 77,
    "start_time": "2023-12-07T18:40:55.426Z"
   },
   {
    "duration": 70,
    "start_time": "2023-12-07T18:41:09.560Z"
   },
   {
    "duration": 70,
    "start_time": "2023-12-07T18:41:14.507Z"
   },
   {
    "duration": 439,
    "start_time": "2023-12-07T18:41:20.806Z"
   },
   {
    "duration": 65,
    "start_time": "2023-12-07T18:41:21.247Z"
   },
   {
    "duration": 24,
    "start_time": "2023-12-07T18:41:21.314Z"
   },
   {
    "duration": 17,
    "start_time": "2023-12-07T18:41:21.340Z"
   },
   {
    "duration": 14,
    "start_time": "2023-12-07T18:41:21.359Z"
   },
   {
    "duration": 13,
    "start_time": "2023-12-07T18:41:21.374Z"
   },
   {
    "duration": 27,
    "start_time": "2023-12-07T18:41:21.389Z"
   },
   {
    "duration": 27,
    "start_time": "2023-12-07T18:41:21.418Z"
   },
   {
    "duration": 221,
    "start_time": "2023-12-07T18:41:21.447Z"
   },
   {
    "duration": 5,
    "start_time": "2023-12-07T18:41:21.671Z"
   },
   {
    "duration": 21,
    "start_time": "2023-12-07T18:41:21.677Z"
   },
   {
    "duration": 66,
    "start_time": "2023-12-07T18:41:21.700Z"
   },
   {
    "duration": 0,
    "start_time": "2023-12-07T18:41:21.768Z"
   },
   {
    "duration": 0,
    "start_time": "2023-12-07T18:41:21.769Z"
   },
   {
    "duration": 0,
    "start_time": "2023-12-07T18:41:21.770Z"
   },
   {
    "duration": 67,
    "start_time": "2023-12-07T18:41:38.770Z"
   },
   {
    "duration": 45,
    "start_time": "2023-12-10T06:25:53.933Z"
   },
   {
    "duration": 416,
    "start_time": "2023-12-10T06:26:00.297Z"
   },
   {
    "duration": 186,
    "start_time": "2023-12-10T06:26:00.792Z"
   },
   {
    "duration": 30,
    "start_time": "2023-12-10T06:26:02.507Z"
   },
   {
    "duration": 19,
    "start_time": "2023-12-10T06:26:03.132Z"
   },
   {
    "duration": 12,
    "start_time": "2023-12-10T06:26:04.945Z"
   },
   {
    "duration": 18,
    "start_time": "2023-12-10T06:30:07.453Z"
   },
   {
    "duration": 19,
    "start_time": "2023-12-10T06:30:49.107Z"
   },
   {
    "duration": 64,
    "start_time": "2023-12-10T06:32:15.612Z"
   },
   {
    "duration": 17,
    "start_time": "2023-12-10T06:32:24.000Z"
   },
   {
    "duration": 18,
    "start_time": "2023-12-10T06:32:40.923Z"
   },
   {
    "duration": 14,
    "start_time": "2023-12-10T06:33:53.851Z"
   },
   {
    "duration": 15,
    "start_time": "2023-12-10T06:39:37.531Z"
   },
   {
    "duration": 14,
    "start_time": "2023-12-10T06:40:00.464Z"
   },
   {
    "duration": 11,
    "start_time": "2023-12-10T06:46:29.170Z"
   },
   {
    "duration": 4,
    "start_time": "2023-12-10T06:47:43.628Z"
   },
   {
    "duration": 5,
    "start_time": "2023-12-10T06:53:35.999Z"
   },
   {
    "duration": 3,
    "start_time": "2023-12-10T06:55:00.546Z"
   },
   {
    "duration": 3,
    "start_time": "2023-12-10T06:55:10.193Z"
   },
   {
    "duration": 4,
    "start_time": "2023-12-10T06:55:29.361Z"
   },
   {
    "duration": 4,
    "start_time": "2023-12-10T06:56:48.431Z"
   },
   {
    "duration": 627,
    "start_time": "2023-12-10T07:01:57.058Z"
   },
   {
    "duration": 6,
    "start_time": "2023-12-10T07:02:09.123Z"
   },
   {
    "duration": 136,
    "start_time": "2023-12-10T07:02:14.895Z"
   },
   {
    "duration": 2,
    "start_time": "2023-12-10T07:02:19.029Z"
   },
   {
    "duration": 5,
    "start_time": "2023-12-10T07:02:20.089Z"
   },
   {
    "duration": 118,
    "start_time": "2023-12-10T07:02:20.579Z"
   },
   {
    "duration": 2,
    "start_time": "2023-12-10T07:03:29.595Z"
   },
   {
    "duration": 6,
    "start_time": "2023-12-10T07:08:38.992Z"
   },
   {
    "duration": 82,
    "start_time": "2023-12-10T07:08:43.736Z"
   },
   {
    "duration": 16,
    "start_time": "2023-12-10T07:09:35.883Z"
   },
   {
    "duration": 48,
    "start_time": "2023-12-10T07:10:34.204Z"
   },
   {
    "duration": 12,
    "start_time": "2023-12-10T07:16:36.186Z"
   },
   {
    "duration": 305,
    "start_time": "2023-12-10T07:16:56.901Z"
   },
   {
    "duration": 211,
    "start_time": "2023-12-10T07:17:07.902Z"
   },
   {
    "duration": 144,
    "start_time": "2023-12-10T07:17:35.848Z"
   },
   {
    "duration": 80,
    "start_time": "2023-12-10T07:17:56.940Z"
   },
   {
    "duration": 1153,
    "start_time": "2023-12-10T07:18:01.916Z"
   },
   {
    "duration": 107,
    "start_time": "2023-12-10T07:18:40.805Z"
   },
   {
    "duration": 129,
    "start_time": "2023-12-10T07:19:47.369Z"
   },
   {
    "duration": 108,
    "start_time": "2023-12-10T07:19:53.001Z"
   },
   {
    "duration": 145,
    "start_time": "2023-12-10T07:19:56.949Z"
   },
   {
    "duration": 111,
    "start_time": "2023-12-10T07:20:10.266Z"
   },
   {
    "duration": 109,
    "start_time": "2023-12-10T07:20:15.462Z"
   },
   {
    "duration": 6,
    "start_time": "2023-12-10T07:24:33.364Z"
   },
   {
    "duration": 125,
    "start_time": "2023-12-10T07:24:55.867Z"
   },
   {
    "duration": 114,
    "start_time": "2023-12-10T07:25:08.627Z"
   },
   {
    "duration": 184,
    "start_time": "2023-12-10T07:25:18.717Z"
   },
   {
    "duration": 117,
    "start_time": "2023-12-10T07:38:09.866Z"
   },
   {
    "duration": 134,
    "start_time": "2023-12-10T07:39:13.862Z"
   },
   {
    "duration": 115,
    "start_time": "2023-12-10T07:40:33.693Z"
   },
   {
    "duration": 8,
    "start_time": "2023-12-10T07:41:39.020Z"
   },
   {
    "duration": 7,
    "start_time": "2023-12-10T07:42:32.196Z"
   },
   {
    "duration": 8,
    "start_time": "2023-12-10T07:43:30.152Z"
   },
   {
    "duration": 12,
    "start_time": "2023-12-10T07:43:43.067Z"
   },
   {
    "duration": 13,
    "start_time": "2023-12-10T07:44:32.603Z"
   },
   {
    "duration": 12,
    "start_time": "2023-12-10T07:44:55.524Z"
   },
   {
    "duration": 140,
    "start_time": "2023-12-10T07:49:57.014Z"
   },
   {
    "duration": 112,
    "start_time": "2023-12-10T07:51:25.479Z"
   },
   {
    "duration": 161,
    "start_time": "2023-12-10T07:53:04.206Z"
   },
   {
    "duration": 118,
    "start_time": "2023-12-10T07:53:14.996Z"
   },
   {
    "duration": 120,
    "start_time": "2023-12-10T07:53:25.670Z"
   },
   {
    "duration": 122,
    "start_time": "2023-12-10T07:54:11.783Z"
   },
   {
    "duration": 221,
    "start_time": "2023-12-10T07:55:17.315Z"
   },
   {
    "duration": 128,
    "start_time": "2023-12-10T07:59:59.716Z"
   },
   {
    "duration": 116,
    "start_time": "2023-12-10T08:00:27.746Z"
   },
   {
    "duration": 12,
    "start_time": "2023-12-10T08:03:21.108Z"
   },
   {
    "duration": 13,
    "start_time": "2023-12-10T08:03:32.165Z"
   },
   {
    "duration": 111,
    "start_time": "2023-12-10T08:06:25.205Z"
   },
   {
    "duration": 130,
    "start_time": "2023-12-10T08:07:57.675Z"
   },
   {
    "duration": 117,
    "start_time": "2023-12-10T08:08:15.184Z"
   },
   {
    "duration": 2,
    "start_time": "2023-12-10T08:14:26.899Z"
   },
   {
    "duration": 10,
    "start_time": "2023-12-10T08:18:15.581Z"
   },
   {
    "duration": 15,
    "start_time": "2023-12-10T08:18:22.667Z"
   },
   {
    "duration": 21,
    "start_time": "2023-12-10T08:18:44.805Z"
   },
   {
    "duration": 29,
    "start_time": "2023-12-10T08:19:29.263Z"
   },
   {
    "duration": 30,
    "start_time": "2023-12-10T08:23:58.990Z"
   },
   {
    "duration": 20,
    "start_time": "2023-12-10T08:25:41.558Z"
   },
   {
    "duration": 31,
    "start_time": "2023-12-10T08:26:41.150Z"
   },
   {
    "duration": 121,
    "start_time": "2023-12-10T08:28:45.561Z"
   },
   {
    "duration": 109,
    "start_time": "2023-12-10T08:29:27.873Z"
   },
   {
    "duration": 106,
    "start_time": "2023-12-10T08:35:20.296Z"
   },
   {
    "duration": 142,
    "start_time": "2023-12-10T08:35:56.481Z"
   },
   {
    "duration": 120,
    "start_time": "2023-12-10T08:37:31.622Z"
   },
   {
    "duration": 112,
    "start_time": "2023-12-10T08:38:42.656Z"
   },
   {
    "duration": 187,
    "start_time": "2023-12-10T08:39:30.149Z"
   },
   {
    "duration": 135,
    "start_time": "2023-12-10T08:39:37.053Z"
   },
   {
    "duration": 124,
    "start_time": "2023-12-10T08:40:10.119Z"
   },
   {
    "duration": 127,
    "start_time": "2023-12-10T08:40:26.059Z"
   },
   {
    "duration": 75,
    "start_time": "2023-12-10T08:40:32.267Z"
   },
   {
    "duration": 128,
    "start_time": "2023-12-10T08:40:35.622Z"
   },
   {
    "duration": 121,
    "start_time": "2023-12-10T08:45:01.174Z"
   },
   {
    "duration": 113,
    "start_time": "2023-12-10T08:45:42.494Z"
   },
   {
    "duration": 128,
    "start_time": "2023-12-10T08:46:14.413Z"
   },
   {
    "duration": 113,
    "start_time": "2023-12-10T08:46:52.224Z"
   },
   {
    "duration": 126,
    "start_time": "2023-12-10T08:47:27.304Z"
   },
   {
    "duration": 122,
    "start_time": "2023-12-10T08:47:36.042Z"
   },
   {
    "duration": 285,
    "start_time": "2023-12-10T08:57:40.962Z"
   },
   {
    "duration": 7,
    "start_time": "2023-12-10T09:00:43.804Z"
   },
   {
    "duration": 135,
    "start_time": "2023-12-10T09:00:52.629Z"
   },
   {
    "duration": 123,
    "start_time": "2023-12-10T09:02:02.662Z"
   },
   {
    "duration": 126,
    "start_time": "2023-12-10T09:02:09.834Z"
   },
   {
    "duration": 146,
    "start_time": "2023-12-10T09:02:24.125Z"
   },
   {
    "duration": 131,
    "start_time": "2023-12-10T09:04:29.242Z"
   },
   {
    "duration": 223,
    "start_time": "2023-12-10T09:04:59.449Z"
   },
   {
    "duration": 387,
    "start_time": "2023-12-10T10:27:00.554Z"
   },
   {
    "duration": 295,
    "start_time": "2023-12-10T10:27:00.943Z"
   },
   {
    "duration": 28,
    "start_time": "2023-12-10T10:27:01.240Z"
   },
   {
    "duration": 19,
    "start_time": "2023-12-10T10:27:01.270Z"
   },
   {
    "duration": 33,
    "start_time": "2023-12-10T10:27:01.291Z"
   },
   {
    "duration": 28,
    "start_time": "2023-12-10T10:27:01.325Z"
   },
   {
    "duration": 20,
    "start_time": "2023-12-10T10:27:01.355Z"
   },
   {
    "duration": 18,
    "start_time": "2023-12-10T10:27:01.377Z"
   },
   {
    "duration": 6,
    "start_time": "2023-12-10T10:27:01.397Z"
   },
   {
    "duration": 6,
    "start_time": "2023-12-10T10:27:01.416Z"
   },
   {
    "duration": 30,
    "start_time": "2023-12-10T10:27:01.423Z"
   },
   {
    "duration": 432,
    "start_time": "2023-12-10T10:27:01.454Z"
   },
   {
    "duration": 7,
    "start_time": "2023-12-10T10:27:01.888Z"
   },
   {
    "duration": 166,
    "start_time": "2023-12-10T10:27:01.897Z"
   },
   {
    "duration": 6,
    "start_time": "2023-12-10T10:27:02.064Z"
   },
   {
    "duration": 85,
    "start_time": "2023-12-10T10:27:02.072Z"
   },
   {
    "duration": 153,
    "start_time": "2023-12-10T10:27:02.158Z"
   },
   {
    "duration": 194,
    "start_time": "2023-12-10T10:27:02.312Z"
   },
   {
    "duration": 18,
    "start_time": "2023-12-10T10:27:02.508Z"
   },
   {
    "duration": 142,
    "start_time": "2023-12-10T10:27:02.528Z"
   },
   {
    "duration": 31,
    "start_time": "2023-12-10T10:27:02.671Z"
   },
   {
    "duration": 38,
    "start_time": "2023-12-10T10:27:02.715Z"
   },
   {
    "duration": 270,
    "start_time": "2023-12-10T10:27:02.754Z"
   },
   {
    "duration": 166,
    "start_time": "2023-12-10T10:27:03.025Z"
   },
   {
    "duration": 132,
    "start_time": "2023-12-10T10:27:03.193Z"
   },
   {
    "duration": 140,
    "start_time": "2023-12-10T10:27:03.327Z"
   },
   {
    "duration": 198,
    "start_time": "2023-12-10T10:27:03.469Z"
   },
   {
    "duration": 160,
    "start_time": "2023-12-10T10:27:31.424Z"
   },
   {
    "duration": 198,
    "start_time": "2023-12-10T10:28:01.734Z"
   },
   {
    "duration": 196,
    "start_time": "2023-12-10T10:28:14.488Z"
   },
   {
    "duration": 240,
    "start_time": "2023-12-10T10:28:40.488Z"
   },
   {
    "duration": 142,
    "start_time": "2023-12-10T10:28:53.565Z"
   },
   {
    "duration": 142,
    "start_time": "2023-12-10T10:29:13.387Z"
   },
   {
    "duration": 141,
    "start_time": "2023-12-10T10:29:36.520Z"
   },
   {
    "duration": 161,
    "start_time": "2023-12-10T10:29:54.783Z"
   },
   {
    "duration": 167,
    "start_time": "2023-12-10T10:30:16.887Z"
   },
   {
    "duration": 161,
    "start_time": "2023-12-10T10:30:41.722Z"
   },
   {
    "duration": 156,
    "start_time": "2023-12-10T10:30:51.306Z"
   },
   {
    "duration": 185,
    "start_time": "2023-12-10T10:32:42.946Z"
   },
   {
    "duration": 140,
    "start_time": "2023-12-10T10:35:06.573Z"
   },
   {
    "duration": 183,
    "start_time": "2023-12-10T10:35:25.086Z"
   },
   {
    "duration": 256,
    "start_time": "2023-12-10T10:35:54.048Z"
   },
   {
    "duration": 42,
    "start_time": "2023-12-10T10:42:28.631Z"
   },
   {
    "duration": 56,
    "start_time": "2023-12-10T10:42:46.937Z"
   },
   {
    "duration": 50,
    "start_time": "2023-12-10T10:48:03.531Z"
   },
   {
    "duration": 33,
    "start_time": "2023-12-10T10:48:15.390Z"
   },
   {
    "duration": 19,
    "start_time": "2023-12-10T10:53:25.019Z"
   },
   {
    "duration": 21,
    "start_time": "2023-12-10T10:54:19.168Z"
   },
   {
    "duration": 20,
    "start_time": "2023-12-10T10:54:37.677Z"
   },
   {
    "duration": 19,
    "start_time": "2023-12-10T10:55:03.105Z"
   },
   {
    "duration": 380,
    "start_time": "2023-12-10T10:55:09.752Z"
   },
   {
    "duration": 71,
    "start_time": "2023-12-10T10:55:10.133Z"
   },
   {
    "duration": 26,
    "start_time": "2023-12-10T10:55:10.206Z"
   },
   {
    "duration": 20,
    "start_time": "2023-12-10T10:55:10.234Z"
   },
   {
    "duration": 16,
    "start_time": "2023-12-10T10:55:10.256Z"
   },
   {
    "duration": 48,
    "start_time": "2023-12-10T10:55:10.274Z"
   },
   {
    "duration": 18,
    "start_time": "2023-12-10T10:55:10.324Z"
   },
   {
    "duration": 11,
    "start_time": "2023-12-10T10:55:10.343Z"
   },
   {
    "duration": 4,
    "start_time": "2023-12-10T10:55:10.356Z"
   },
   {
    "duration": 6,
    "start_time": "2023-12-10T10:55:10.363Z"
   },
   {
    "duration": 6,
    "start_time": "2023-12-10T10:55:10.370Z"
   },
   {
    "duration": 263,
    "start_time": "2023-12-10T10:55:10.377Z"
   },
   {
    "duration": 6,
    "start_time": "2023-12-10T10:55:10.642Z"
   },
   {
    "duration": 159,
    "start_time": "2023-12-10T10:55:10.650Z"
   },
   {
    "duration": 7,
    "start_time": "2023-12-10T10:55:10.811Z"
   },
   {
    "duration": 74,
    "start_time": "2023-12-10T10:55:10.819Z"
   },
   {
    "duration": 154,
    "start_time": "2023-12-10T10:55:10.895Z"
   },
   {
    "duration": 149,
    "start_time": "2023-12-10T10:55:11.051Z"
   },
   {
    "duration": 21,
    "start_time": "2023-12-10T10:55:11.201Z"
   },
   {
    "duration": 187,
    "start_time": "2023-12-10T10:55:11.223Z"
   },
   {
    "duration": 32,
    "start_time": "2023-12-10T10:55:11.414Z"
   },
   {
    "duration": 44,
    "start_time": "2023-12-10T10:55:11.447Z"
   },
   {
    "duration": 183,
    "start_time": "2023-12-10T10:55:11.492Z"
   },
   {
    "duration": 177,
    "start_time": "2023-12-10T10:55:11.676Z"
   },
   {
    "duration": 90,
    "start_time": "2023-12-10T10:55:11.854Z"
   },
   {
    "duration": 8,
    "start_time": "2023-12-10T10:58:08.244Z"
   },
   {
    "duration": 10,
    "start_time": "2023-12-10T10:58:15.310Z"
   },
   {
    "duration": 27,
    "start_time": "2023-12-10T10:58:27.373Z"
   },
   {
    "duration": 29,
    "start_time": "2023-12-10T10:59:34.956Z"
   },
   {
    "duration": 8,
    "start_time": "2023-12-10T11:03:53.626Z"
   },
   {
    "duration": 21,
    "start_time": "2023-12-10T11:10:27.096Z"
   },
   {
    "duration": 4,
    "start_time": "2023-12-10T11:15:53.760Z"
   },
   {
    "duration": 36,
    "start_time": "2023-12-10T11:18:42.455Z"
   },
   {
    "duration": 9,
    "start_time": "2023-12-10T11:21:25.784Z"
   },
   {
    "duration": 8,
    "start_time": "2023-12-10T11:21:31.786Z"
   },
   {
    "duration": 8,
    "start_time": "2023-12-10T11:21:36.883Z"
   },
   {
    "duration": 32,
    "start_time": "2023-12-10T11:21:43.216Z"
   },
   {
    "duration": 29,
    "start_time": "2023-12-10T11:21:59.273Z"
   },
   {
    "duration": 9,
    "start_time": "2023-12-10T11:24:14.271Z"
   },
   {
    "duration": 9,
    "start_time": "2023-12-10T11:24:19.288Z"
   },
   {
    "duration": 8,
    "start_time": "2023-12-10T11:26:38.729Z"
   },
   {
    "duration": 22,
    "start_time": "2023-12-10T11:31:26.160Z"
   },
   {
    "duration": 50,
    "start_time": "2023-12-10T11:31:54.252Z"
   },
   {
    "duration": 63,
    "start_time": "2023-12-10T11:32:02.656Z"
   },
   {
    "duration": 20,
    "start_time": "2023-12-10T11:32:06.763Z"
   },
   {
    "duration": 21,
    "start_time": "2023-12-10T11:34:01.485Z"
   },
   {
    "duration": 22,
    "start_time": "2023-12-10T11:34:15.011Z"
   },
   {
    "duration": 21,
    "start_time": "2023-12-10T11:34:21.680Z"
   },
   {
    "duration": 57,
    "start_time": "2023-12-10T11:37:40.490Z"
   },
   {
    "duration": 76,
    "start_time": "2023-12-10T11:38:30.930Z"
   },
   {
    "duration": 222,
    "start_time": "2023-12-10T11:38:49.956Z"
   },
   {
    "duration": 216,
    "start_time": "2023-12-10T11:39:15.667Z"
   },
   {
    "duration": 19,
    "start_time": "2023-12-10T11:39:28.968Z"
   },
   {
    "duration": 24,
    "start_time": "2023-12-10T11:43:38.514Z"
   },
   {
    "duration": 22,
    "start_time": "2023-12-10T11:44:38.733Z"
   },
   {
    "duration": 22,
    "start_time": "2023-12-10T11:46:32.735Z"
   },
   {
    "duration": 23,
    "start_time": "2023-12-10T11:46:44.927Z"
   },
   {
    "duration": 23,
    "start_time": "2023-12-10T11:46:56.836Z"
   },
   {
    "duration": 221,
    "start_time": "2023-12-10T11:49:10.004Z"
   },
   {
    "duration": 22,
    "start_time": "2023-12-10T11:49:21.992Z"
   },
   {
    "duration": 20,
    "start_time": "2023-12-10T12:06:15.685Z"
   },
   {
    "duration": 53,
    "start_time": "2023-12-10T12:23:17.066Z"
   },
   {
    "duration": 17,
    "start_time": "2023-12-10T12:24:45.464Z"
   },
   {
    "duration": 18,
    "start_time": "2023-12-10T12:25:30.343Z"
   },
   {
    "duration": 51,
    "start_time": "2023-12-10T12:25:46.006Z"
   },
   {
    "duration": 17,
    "start_time": "2023-12-10T12:26:03.432Z"
   },
   {
    "duration": 4,
    "start_time": "2023-12-10T12:30:42.191Z"
   },
   {
    "duration": 2,
    "start_time": "2023-12-10T12:30:43.899Z"
   },
   {
    "duration": 9,
    "start_time": "2023-12-10T12:31:57.263Z"
   },
   {
    "duration": 9,
    "start_time": "2023-12-10T12:34:57.562Z"
   },
   {
    "duration": 51,
    "start_time": "2023-12-10T12:35:48.559Z"
   },
   {
    "duration": 18,
    "start_time": "2023-12-10T12:38:30.092Z"
   },
   {
    "duration": 17,
    "start_time": "2023-12-10T12:38:37.736Z"
   },
   {
    "duration": 2,
    "start_time": "2023-12-10T12:42:57.233Z"
   },
   {
    "duration": 30,
    "start_time": "2023-12-10T12:46:05.872Z"
   },
   {
    "duration": 27,
    "start_time": "2023-12-10T12:47:28.965Z"
   },
   {
    "duration": 29,
    "start_time": "2023-12-10T12:47:44.561Z"
   },
   {
    "duration": 27,
    "start_time": "2023-12-10T12:48:12.259Z"
   },
   {
    "duration": 22,
    "start_time": "2023-12-10T12:49:41.198Z"
   },
   {
    "duration": 27,
    "start_time": "2023-12-10T12:49:53.894Z"
   },
   {
    "duration": 18,
    "start_time": "2023-12-10T12:49:59.071Z"
   },
   {
    "duration": 55,
    "start_time": "2023-12-10T12:58:47.371Z"
   },
   {
    "duration": 55,
    "start_time": "2023-12-10T12:59:10.007Z"
   },
   {
    "duration": 35,
    "start_time": "2023-12-10T12:59:48.737Z"
   },
   {
    "duration": 21,
    "start_time": "2023-12-10T13:03:10.954Z"
   },
   {
    "duration": 20,
    "start_time": "2023-12-10T13:03:44.861Z"
   },
   {
    "duration": 10,
    "start_time": "2023-12-10T13:32:56.305Z"
   },
   {
    "duration": 413,
    "start_time": "2023-12-10T13:33:02.416Z"
   },
   {
    "duration": 38,
    "start_time": "2023-12-10T13:33:04.402Z"
   },
   {
    "duration": 6,
    "start_time": "2023-12-10T13:33:16.067Z"
   },
   {
    "duration": 5,
    "start_time": "2023-12-10T13:33:32.738Z"
   },
   {
    "duration": 5,
    "start_time": "2023-12-10T13:37:00.941Z"
   },
   {
    "duration": 6,
    "start_time": "2023-12-10T13:37:33.034Z"
   },
   {
    "duration": 6,
    "start_time": "2023-12-10T13:40:10.041Z"
   },
   {
    "duration": 5,
    "start_time": "2023-12-10T13:43:43.477Z"
   },
   {
    "duration": 5,
    "start_time": "2023-12-10T13:43:48.881Z"
   },
   {
    "duration": 5,
    "start_time": "2023-12-10T13:43:58.672Z"
   },
   {
    "duration": 5,
    "start_time": "2023-12-10T13:44:05.237Z"
   },
   {
    "duration": 6,
    "start_time": "2023-12-10T13:44:11.623Z"
   },
   {
    "duration": 5,
    "start_time": "2023-12-10T13:44:15.416Z"
   },
   {
    "duration": 6,
    "start_time": "2023-12-10T13:53:28.135Z"
   },
   {
    "duration": 6,
    "start_time": "2023-12-10T13:53:51.273Z"
   },
   {
    "duration": 5,
    "start_time": "2023-12-10T13:54:09.058Z"
   },
   {
    "duration": 10,
    "start_time": "2023-12-10T14:14:54.124Z"
   },
   {
    "duration": 9,
    "start_time": "2023-12-10T14:15:10.480Z"
   },
   {
    "duration": 386,
    "start_time": "2023-12-10T15:22:21.081Z"
   },
   {
    "duration": 193,
    "start_time": "2023-12-10T15:22:21.470Z"
   },
   {
    "duration": 34,
    "start_time": "2023-12-10T15:22:21.665Z"
   },
   {
    "duration": 26,
    "start_time": "2023-12-10T15:22:21.700Z"
   },
   {
    "duration": 21,
    "start_time": "2023-12-10T15:22:21.729Z"
   },
   {
    "duration": 18,
    "start_time": "2023-12-10T15:22:21.752Z"
   },
   {
    "duration": 18,
    "start_time": "2023-12-10T15:22:21.772Z"
   },
   {
    "duration": 10,
    "start_time": "2023-12-10T15:22:21.791Z"
   },
   {
    "duration": 5,
    "start_time": "2023-12-10T15:22:21.803Z"
   },
   {
    "duration": 36,
    "start_time": "2023-12-10T15:22:21.809Z"
   },
   {
    "duration": 5,
    "start_time": "2023-12-10T15:22:21.846Z"
   },
   {
    "duration": 410,
    "start_time": "2023-12-10T15:22:21.852Z"
   },
   {
    "duration": 8,
    "start_time": "2023-12-10T15:22:22.264Z"
   },
   {
    "duration": 153,
    "start_time": "2023-12-10T15:22:22.275Z"
   },
   {
    "duration": 5,
    "start_time": "2023-12-10T15:22:22.429Z"
   },
   {
    "duration": 74,
    "start_time": "2023-12-10T15:22:22.435Z"
   },
   {
    "duration": 151,
    "start_time": "2023-12-10T15:22:22.510Z"
   },
   {
    "duration": 193,
    "start_time": "2023-12-10T15:22:22.663Z"
   },
   {
    "duration": 12,
    "start_time": "2023-12-10T15:22:22.857Z"
   },
   {
    "duration": 158,
    "start_time": "2023-12-10T15:22:22.871Z"
   },
   {
    "duration": 36,
    "start_time": "2023-12-10T15:22:23.031Z"
   },
   {
    "duration": 36,
    "start_time": "2023-12-10T15:22:23.068Z"
   },
   {
    "duration": 184,
    "start_time": "2023-12-10T15:22:23.106Z"
   },
   {
    "duration": 169,
    "start_time": "2023-12-10T15:22:23.291Z"
   },
   {
    "duration": 3,
    "start_time": "2023-12-10T15:22:23.462Z"
   },
   {
    "duration": 29,
    "start_time": "2023-12-10T15:22:23.467Z"
   },
   {
    "duration": 20,
    "start_time": "2023-12-10T15:22:23.498Z"
   },
   {
    "duration": 447,
    "start_time": "2023-12-10T15:22:23.543Z"
   },
   {
    "duration": 6,
    "start_time": "2023-12-10T15:22:23.991Z"
   },
   {
    "duration": 13,
    "start_time": "2023-12-10T15:22:23.999Z"
   },
   {
    "duration": 22,
    "start_time": "2023-12-10T15:22:24.014Z"
   },
   {
    "duration": 385,
    "start_time": "2023-12-11T16:19:09.185Z"
   },
   {
    "duration": 186,
    "start_time": "2023-12-11T16:19:12.507Z"
   },
   {
    "duration": 24,
    "start_time": "2023-12-11T16:19:14.364Z"
   },
   {
    "duration": 17,
    "start_time": "2023-12-11T16:19:15.978Z"
   },
   {
    "duration": 59,
    "start_time": "2023-12-11T16:24:11.310Z"
   },
   {
    "duration": 11,
    "start_time": "2023-12-11T16:24:15.308Z"
   },
   {
    "duration": 395,
    "start_time": "2023-12-11T16:24:36.893Z"
   },
   {
    "duration": 69,
    "start_time": "2023-12-11T16:24:37.289Z"
   },
   {
    "duration": 28,
    "start_time": "2023-12-11T16:24:37.359Z"
   },
   {
    "duration": 20,
    "start_time": "2023-12-11T16:24:37.390Z"
   },
   {
    "duration": 14,
    "start_time": "2023-12-11T16:24:37.413Z"
   },
   {
    "duration": 17,
    "start_time": "2023-12-11T16:24:37.429Z"
   },
   {
    "duration": 33,
    "start_time": "2023-12-11T16:24:37.448Z"
   },
   {
    "duration": 15,
    "start_time": "2023-12-11T16:24:37.483Z"
   },
   {
    "duration": 10,
    "start_time": "2023-12-11T16:24:37.499Z"
   },
   {
    "duration": 9,
    "start_time": "2023-12-11T16:24:37.511Z"
   },
   {
    "duration": 13,
    "start_time": "2023-12-11T16:24:37.521Z"
   },
   {
    "duration": 14,
    "start_time": "2023-12-11T16:24:37.535Z"
   },
   {
    "duration": 441,
    "start_time": "2023-12-11T16:24:37.551Z"
   },
   {
    "duration": 7,
    "start_time": "2023-12-11T16:24:37.994Z"
   },
   {
    "duration": 161,
    "start_time": "2023-12-11T16:24:38.002Z"
   },
   {
    "duration": 7,
    "start_time": "2023-12-11T16:24:38.165Z"
   },
   {
    "duration": 72,
    "start_time": "2023-12-11T16:24:38.182Z"
   },
   {
    "duration": 148,
    "start_time": "2023-12-11T16:24:38.255Z"
   },
   {
    "duration": 187,
    "start_time": "2023-12-11T16:24:38.404Z"
   },
   {
    "duration": 14,
    "start_time": "2023-12-11T16:24:38.592Z"
   },
   {
    "duration": 138,
    "start_time": "2023-12-11T16:24:38.607Z"
   },
   {
    "duration": 42,
    "start_time": "2023-12-11T16:24:38.747Z"
   },
   {
    "duration": 35,
    "start_time": "2023-12-11T16:24:38.791Z"
   },
   {
    "duration": 182,
    "start_time": "2023-12-11T16:24:38.828Z"
   },
   {
    "duration": 184,
    "start_time": "2023-12-11T16:24:39.011Z"
   },
   {
    "duration": 4,
    "start_time": "2023-12-11T16:24:39.197Z"
   },
   {
    "duration": 38,
    "start_time": "2023-12-11T16:24:39.202Z"
   },
   {
    "duration": 24,
    "start_time": "2023-12-11T16:24:39.244Z"
   },
   {
    "duration": 425,
    "start_time": "2023-12-11T16:24:39.269Z"
   },
   {
    "duration": 5,
    "start_time": "2023-12-11T16:24:39.696Z"
   },
   {
    "duration": 11,
    "start_time": "2023-12-11T16:24:39.702Z"
   },
   {
    "duration": 15,
    "start_time": "2023-12-11T16:24:39.714Z"
   },
   {
    "duration": 216,
    "start_time": "2023-12-11T16:28:54.527Z"
   },
   {
    "duration": 183,
    "start_time": "2023-12-11T16:29:16.677Z"
   },
   {
    "duration": 152,
    "start_time": "2023-12-11T16:29:37.027Z"
   },
   {
    "duration": 123,
    "start_time": "2023-12-11T16:29:51.624Z"
   },
   {
    "duration": 285,
    "start_time": "2023-12-11T16:30:23.682Z"
   },
   {
    "duration": 9,
    "start_time": "2023-12-11T16:33:51.186Z"
   },
   {
    "duration": 133,
    "start_time": "2023-12-11T16:34:12.791Z"
   },
   {
    "duration": 140,
    "start_time": "2023-12-11T16:34:24.288Z"
   },
   {
    "duration": 5,
    "start_time": "2023-12-11T16:35:42.139Z"
   },
   {
    "duration": 8,
    "start_time": "2023-12-11T16:37:05.446Z"
   },
   {
    "duration": 10,
    "start_time": "2023-12-11T16:37:16.241Z"
   },
   {
    "duration": 74,
    "start_time": "2023-12-11T16:37:26.296Z"
   },
   {
    "duration": 7,
    "start_time": "2023-12-11T16:37:38.960Z"
   },
   {
    "duration": 6,
    "start_time": "2023-12-11T16:37:54.648Z"
   },
   {
    "duration": 138,
    "start_time": "2023-12-11T16:38:22.744Z"
   },
   {
    "duration": 151,
    "start_time": "2023-12-11T16:41:50.697Z"
   },
   {
    "duration": 149,
    "start_time": "2023-12-11T16:42:07.800Z"
   },
   {
    "duration": 139,
    "start_time": "2023-12-11T16:42:16.162Z"
   },
   {
    "duration": 236,
    "start_time": "2023-12-11T16:42:35.136Z"
   },
   {
    "duration": 122,
    "start_time": "2023-12-11T16:44:57.489Z"
   },
   {
    "duration": 157,
    "start_time": "2023-12-11T16:45:37.104Z"
   },
   {
    "duration": 134,
    "start_time": "2023-12-11T16:47:49.113Z"
   },
   {
    "duration": 140,
    "start_time": "2023-12-11T16:48:05.336Z"
   },
   {
    "duration": 128,
    "start_time": "2023-12-11T16:48:19.190Z"
   },
   {
    "duration": 141,
    "start_time": "2023-12-11T16:48:38.712Z"
   },
   {
    "duration": 66,
    "start_time": "2023-12-11T16:49:01.101Z"
   },
   {
    "duration": 147,
    "start_time": "2023-12-11T16:52:00.924Z"
   },
   {
    "duration": 115,
    "start_time": "2023-12-11T16:52:52.008Z"
   },
   {
    "duration": 130,
    "start_time": "2023-12-11T16:53:04.722Z"
   },
   {
    "duration": 189,
    "start_time": "2023-12-11T16:55:24.133Z"
   },
   {
    "duration": 144,
    "start_time": "2023-12-11T16:56:37.402Z"
   },
   {
    "duration": 11,
    "start_time": "2023-12-11T16:58:47.477Z"
   },
   {
    "duration": 10,
    "start_time": "2023-12-11T16:58:55.500Z"
   },
   {
    "duration": 136,
    "start_time": "2023-12-11T16:59:23.336Z"
   },
   {
    "duration": 6,
    "start_time": "2023-12-11T17:01:36.919Z"
   },
   {
    "duration": 8,
    "start_time": "2023-12-11T17:01:37.698Z"
   },
   {
    "duration": 141,
    "start_time": "2023-12-11T17:01:39.614Z"
   },
   {
    "duration": 172,
    "start_time": "2023-12-11T17:11:40.325Z"
   },
   {
    "duration": 242,
    "start_time": "2023-12-11T17:12:18.361Z"
   },
   {
    "duration": 261,
    "start_time": "2023-12-11T17:12:51.672Z"
   },
   {
    "duration": 241,
    "start_time": "2023-12-11T17:13:03.299Z"
   },
   {
    "duration": 315,
    "start_time": "2023-12-11T17:13:15.905Z"
   },
   {
    "duration": 240,
    "start_time": "2023-12-11T17:15:29.387Z"
   },
   {
    "duration": 245,
    "start_time": "2023-12-11T17:15:48.794Z"
   },
   {
    "duration": 248,
    "start_time": "2023-12-11T17:16:08.795Z"
   },
   {
    "duration": 283,
    "start_time": "2023-12-11T17:16:39.472Z"
   },
   {
    "duration": 83,
    "start_time": "2023-12-11T17:17:40.522Z"
   },
   {
    "duration": 150,
    "start_time": "2023-12-11T17:17:46.282Z"
   },
   {
    "duration": 131,
    "start_time": "2023-12-11T17:18:00.652Z"
   },
   {
    "duration": 88,
    "start_time": "2023-12-11T17:18:09.027Z"
   },
   {
    "duration": 139,
    "start_time": "2023-12-11T17:19:38.755Z"
   },
   {
    "duration": 139,
    "start_time": "2023-12-11T17:20:14.289Z"
   },
   {
    "duration": 147,
    "start_time": "2023-12-11T17:21:40.043Z"
   },
   {
    "duration": 135,
    "start_time": "2023-12-11T17:22:04.042Z"
   },
   {
    "duration": 133,
    "start_time": "2023-12-11T17:22:34.805Z"
   },
   {
    "duration": 130,
    "start_time": "2023-12-11T17:22:48.587Z"
   },
   {
    "duration": 139,
    "start_time": "2023-12-11T17:23:04.980Z"
   },
   {
    "duration": 13,
    "start_time": "2023-12-11T17:26:41.560Z"
   },
   {
    "duration": 14,
    "start_time": "2023-12-11T17:29:44.173Z"
   },
   {
    "duration": 12,
    "start_time": "2023-12-11T17:29:53.636Z"
   },
   {
    "duration": 166,
    "start_time": "2023-12-11T17:33:29.757Z"
   },
   {
    "duration": 231,
    "start_time": "2023-12-11T17:34:02.172Z"
   },
   {
    "duration": 3,
    "start_time": "2023-12-11T17:35:06.702Z"
   },
   {
    "duration": 5,
    "start_time": "2023-12-11T17:35:09.173Z"
   },
   {
    "duration": 5,
    "start_time": "2023-12-11T17:35:14.571Z"
   },
   {
    "duration": 9,
    "start_time": "2023-12-11T17:35:19.679Z"
   },
   {
    "duration": 2,
    "start_time": "2023-12-11T17:36:24.471Z"
   }
  ],
  "kernelspec": {
   "display_name": "Python 3 (ipykernel)",
   "language": "python",
   "name": "python3"
  },
  "language_info": {
   "codemirror_mode": {
    "name": "ipython",
    "version": 3
   },
   "file_extension": ".py",
   "mimetype": "text/x-python",
   "name": "python",
   "nbconvert_exporter": "python",
   "pygments_lexer": "ipython3",
   "version": "3.11.7"
  },
  "toc": {
   "base_numbering": 1,
   "nav_menu": {},
   "number_sections": true,
   "sideBar": true,
   "skip_h1_title": true,
   "title_cell": "Table of Contents",
   "title_sidebar": "Contents",
   "toc_cell": false,
   "toc_position": {
    "height": "calc(100% - 180px)",
    "left": "10px",
    "top": "150px",
    "width": "251.796875px"
   },
   "toc_section_display": true,
   "toc_window_display": true
  }
 },
 "nbformat": 4,
 "nbformat_minor": 5
}
