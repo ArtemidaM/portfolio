{
 "cells": [
  {
   "cell_type": "markdown",
   "id": "11a16279-67bf-4f6c-b2a5-db9df89e5829",
   "metadata": {},
   "source": [
    "# Проект Анализ сервиса вопросов и ответов по программированию"
   ]
  },
  {
   "cell_type": "markdown",
   "id": "b9b558e4-9f49-4e98-b48f-f0420d7472f4",
   "metadata": {},
   "source": [
    "**Цель проекта:**  \n",
    "С помощью SQL посчитать и визуализировать ключевые метрики сервис-системы вопросов и ответов о программировании."
   ]
  },
  {
   "cell_type": "markdown",
   "id": "f7c2af7b-3fff-4a10-b279-5e4c91acd614",
   "metadata": {},
   "source": [
    "**Описание проекта:**  \n",
    "Написаны все сложные SQL-запросы для подсчёта требуемых значений и метрик."
   ]
  },
  {
   "cell_type": "markdown",
   "id": "51c1f008-9a57-437e-b0ed-467e463fa571",
   "metadata": {},
   "source": [
    "# Часть 1"
   ]
  },
  {
   "cell_type": "markdown",
   "id": "fa8577a9-ed75-4f59-bfc9-43f07b5ef6ee",
   "metadata": {},
   "source": [
    "## Задание 1\n",
    "Найдите количество вопросов, которые набрали больше 300 очков или как минимум 100 раз были добавлены в «Закладки»."
   ]
  },
  {
   "cell_type": "code",
   "execution_count": null,
   "id": "7eacda48-3850-4375-831c-7a45e7959037",
   "metadata": {},
   "outputs": [],
   "source": [
    "SELECT COUNT(id)\n",
    "FROM stackoverflow.posts\n",
    "WHERE post_type_id = (\n",
    "            SELECT id\n",
    "            FROM stackoverflow.post_types\n",
    "            WHERE type = 'Question'\n",
    "            )\n",
    "AND (favorites_count >= 100\n",
    "OR score > 300)"
   ]
  },
  {
   "cell_type": "markdown",
   "id": "2016f122-4107-4fff-85be-bc2e2146ea25",
   "metadata": {},
   "source": [
    "## Задание 2\n",
    "Сколько в среднем в день задавали вопросов с 1 по 18 ноября 2008 включительно? Результат округлите до целого числа."
   ]
  },
  {
   "cell_type": "code",
   "execution_count": null,
   "id": "d68dc56d-7fc8-4515-884b-ea281fd6cb3d",
   "metadata": {},
   "outputs": [],
   "source": [
    "WITH a AS(\n",
    "SELECT DATE_TRUNC('day', creation_date)::date AS date,\n",
    "       COUNT(id) AS q_count\n",
    "FROM stackoverflow.posts\n",
    "WHERE post_type_id = (\n",
    "            SELECT id\n",
    "            FROM stackoverflow.post_types\n",
    "            WHERE type = 'Question'\n",
    "            )\n",
    "AND creation_date BETWEEN '2008-11-01' AND '2008-11-19' \n",
    "GROUP BY DATE_TRUNC('day', creation_date)::date\n",
    ")\n",
    "\n",
    "SELECT ROUND(SUM(q_count) / COUNT(date))\n",
    "FROM a"
   ]
  },
  {
   "cell_type": "markdown",
   "id": "c2b14775-fda0-4e6f-82c4-8e31b16f2b84",
   "metadata": {},
   "source": [
    "## Задание 3\n",
    "Сколько пользователей получили значки сразу в день регистрации? Выведите количество уникальных пользователей."
   ]
  },
  {
   "cell_type": "code",
   "execution_count": null,
   "id": "443492e8-a1c7-4e65-b26b-f0b14bcc80d6",
   "metadata": {},
   "outputs": [],
   "source": [
    "SELECT COUNT(DISTINCT u.id)\n",
    "FROM stackoverflow.users AS u\n",
    "JOIN stackoverflow.badges AS b ON u.id = b.user_id\n",
    "WHERE DATE_TRUNC('day', u.creation_date)::date = DATE_TRUNC('day', b.creation_date)::date"
   ]
  },
  {
   "cell_type": "markdown",
   "id": "26386c18-707c-443c-821e-65d87db50b14",
   "metadata": {},
   "source": [
    "## Задание 4\n",
    "Сколько уникальных постов пользователя с именем Joel Coehoorn получили хотя бы один голос?"
   ]
  },
  {
   "cell_type": "code",
   "execution_count": null,
   "id": "354fe1cf-366a-4caa-a9a9-6dfbd3dfda31",
   "metadata": {},
   "outputs": [],
   "source": [
    "SELECT COUNT(DISTINCT post_id)\n",
    "FROM stackoverflow.votes\n",
    "WHERE post_id IN(\n",
    "SELECT DISTINCT id\n",
    "FROM stackoverflow.posts\n",
    "WHERE user_id = (\n",
    "SELECT id\n",
    "FROM stackoverflow.users\n",
    "WHERE display_name = 'Joel Coehoorn'\n",
    ")\n",
    ")"
   ]
  },
  {
   "cell_type": "markdown",
   "id": "c1f09420-5724-4a3a-bc0a-b02aea650264",
   "metadata": {},
   "source": [
    "## Задание 5\n",
    "Выгрузите все поля таблицы vote_types. Добавьте к таблице поле rank, в которое войдут номера записей в обратном порядке. Таблица должна быть отсортирована по полю id."
   ]
  },
  {
   "cell_type": "code",
   "execution_count": null,
   "id": "469aa9a4-66f8-4e4b-b66c-e97027e94bd8",
   "metadata": {},
   "outputs": [],
   "source": [
    "SELECT *,\n",
    "      RANK() OVER (ORDER BY id DESC)\n",
    "FROM stackoverflow.vote_types\n",
    "ORDER BY id"
   ]
  },
  {
   "cell_type": "markdown",
   "id": "0cc0d058-8ebf-4819-b76e-2a45046a45cb",
   "metadata": {},
   "source": [
    "## Задание 6\n",
    "Отберите 10 пользователей, которые поставили больше всего голосов типа Close. Отобразите таблицу из двух полей: идентификатором пользователя и количеством голосов. Отсортируйте данные сначала по убыванию количества голосов, потом по убыванию значения идентификатора пользователя."
   ]
  },
  {
   "cell_type": "code",
   "execution_count": null,
   "id": "d1f60821-ccf9-407d-b5c0-0c90dea136b7",
   "metadata": {},
   "outputs": [],
   "source": [
    "SELECT user_id,\n",
    "       COUNT(id)\n",
    "FROM stackoverflow.votes\n",
    "WHERE vote_type_id =\n",
    "(SELECT id\n",
    "FROM stackoverflow.vote_types\n",
    "WHERE name = 'Close')\n",
    "GROUP BY user_id\n",
    "ORDER BY COUNT(id) DESC, user_id DESC\n",
    "LIMIT 10"
   ]
  },
  {
   "cell_type": "markdown",
   "id": "09efe7ad-8baf-4aad-a616-516278a17b64",
   "metadata": {},
   "source": [
    "## Задание 7\n",
    "Отберите 10 пользователей по количеству значков, полученных в период с 15 ноября по 15 декабря 2008 года включительно.\n",
    "Отобразите несколько полей:\n",
    "- идентификатор пользователя;\n",
    "- число значков;\n",
    "- место в рейтинге — чем больше значков, тем выше рейтинг.\n",
    "\n",
    "Пользователям, которые набрали одинаковое количество значков, присвойте одно и то же место в рейтинге.\n",
    "\n",
    "Отсортируйте записи по количеству значков по убыванию, а затем по возрастанию значения идентификатора пользователя."
   ]
  },
  {
   "cell_type": "code",
   "execution_count": null,
   "id": "591a2677-f97f-4093-8521-caae826a9445",
   "metadata": {},
   "outputs": [],
   "source": [
    "SELECT user_id,\n",
    "       COUNT(id),\n",
    "       DENSE_RANK() OVER (ORDER BY COUNT(id) DESC)\n",
    "FROM stackoverflow.badges\n",
    "WHERE DATE_TRUNC('day', creation_date)::date BETWEEN '2008-11-15' AND '2008-12-15'\n",
    "GROUP BY user_id\n",
    "ORDER BY COUNT(id) DESC, user_id\n",
    "LIMIT 10"
   ]
  },
  {
   "cell_type": "markdown",
   "id": "6d22d6e0-4890-4037-80e9-5e2bcf2c363d",
   "metadata": {},
   "source": [
    "## Задание 8\n",
    "Сколько в среднем очков получает пост каждого пользователя?  \n",
    "Сформируйте таблицу из следующих полей:\n",
    "- заголовок поста;\n",
    "- идентификатор пользователя;\n",
    "- число очков поста;\n",
    "- среднее число очков пользователя за пост, округлённое до целого числа.\n",
    "\n",
    "Не учитывайте посты без заголовка, а также те, что набрали ноль очков."
   ]
  },
  {
   "cell_type": "code",
   "execution_count": null,
   "id": "0676ae65-0271-442f-aad6-0ba868e7b511",
   "metadata": {},
   "outputs": [],
   "source": [
    "SELECT title,\n",
    "       user_id,\n",
    "       score,\n",
    "       ROUND(AVG(score) OVER (PARTITION BY user_id)) AS avg_score\n",
    "FROM stackoverflow.posts\n",
    "WHERE score != 0\n",
    "  AND title IS NOT NULL "
   ]
  },
  {
   "cell_type": "markdown",
   "id": "b90126ba-5899-4f9e-b552-2391e9a1d5c3",
   "metadata": {},
   "source": [
    "## Задание 9\n",
    "Отобразите заголовки постов, которые были написаны пользователями, получившими более 1000 значков. Посты без заголовков не должны попасть в список."
   ]
  },
  {
   "cell_type": "code",
   "execution_count": null,
   "id": "ed3f933e-cec4-4819-b5ab-4dedf9285d9e",
   "metadata": {},
   "outputs": [],
   "source": [
    "SELECT title\n",
    "FROM stackoverflow.posts\n",
    "WHERE user_id IN(\n",
    "SELECT user_id\n",
    "FROM stackoverflow.badges\n",
    "GROUP BY user_id\n",
    "HAVING COUNT(id) > 1000\n",
    ")\n",
    "AND title IS NOT NULL"
   ]
  },
  {
   "cell_type": "markdown",
   "id": "757b2b41-fd65-4aed-8007-134593b75fb5",
   "metadata": {},
   "source": [
    "## Задание 10\n",
    "Напишите запрос, который выгрузит данные о пользователях из Канады (англ. Canada). \n",
    "Разделите пользователей на три группы в зависимости от количества просмотров их профилей:\n",
    "- пользователям с числом просмотров больше либо равным 350 присвойте группу 1;\n",
    "- пользователям с числом просмотров меньше 350, но больше либо равно 100 — группу 2;\n",
    "- пользователям с числом просмотров меньше 100 — группу 3.\n",
    "\n",
    "Отобразите в итоговой таблице идентификатор пользователя, количество просмотров профиля и группу. \n",
    "\n",
    "Пользователи с количеством просмотров меньше либо равным нулю не должны войти в итоговую таблицу."
   ]
  },
  {
   "cell_type": "code",
   "execution_count": null,
   "id": "871235ac-de77-4c00-9b51-40d975ef1eb8",
   "metadata": {},
   "outputs": [],
   "source": [
    "WITH a AS(\n",
    "       SELECT *,\n",
    "       CASE\n",
    "       WHEN views >= 350 THEN 1\n",
    "       WHEN views <350 AND views >=100 THEN 2\n",
    "       ELSE 3\n",
    "       END AS group_t\n",
    "FROM stackoverflow.users\n",
    "WHERE location LIKE '%Canada%'\n",
    ")\n",
    "\n",
    "SELECT id,\n",
    "       views,\n",
    "       group_t\n",
    "FROM a \n",
    "WHERE views >0"
   ]
  },
  {
   "cell_type": "markdown",
   "id": "c45e93d9-7fdd-442c-befb-580dcaaf7034",
   "metadata": {},
   "source": [
    "## Задание 11\n",
    "Дополните предыдущий запрос. Отобразите лидеров каждой группы — пользователей, которые набрали максимальное число просмотров в своей группе. Выведите поля с идентификатором пользователя, группой и количеством просмотров. Отсортируйте таблицу по убыванию просмотров, а затем по возрастанию значения идентификатора."
   ]
  },
  {
   "cell_type": "code",
   "execution_count": null,
   "id": "76295a06-cdc6-4c29-9f80-da171b9b7164",
   "metadata": {},
   "outputs": [],
   "source": [
    "WITH a AS(\n",
    "       SELECT id, views,\n",
    "       CASE\n",
    "       WHEN views >= 350 THEN 1\n",
    "       WHEN views <350 AND views >=100 THEN 2\n",
    "       ELSE 3\n",
    "       END AS group_t\n",
    "FROM stackoverflow.users\n",
    "WHERE location LIKE '%Canada%'\n",
    "  AND views != 0  \n",
    "),\n",
    "\n",
    "b AS(\n",
    "SELECT *,\n",
    "       MAX(views) OVER (PARTITION BY group_t) AS max_views\n",
    "FROM a \n",
    ")\n",
    "\n",
    "SELECT id, group_t, views\n",
    "FROM b\n",
    "WHERE views = max_views\n",
    "ORDER BY views DESC, id"
   ]
  },
  {
   "cell_type": "markdown",
   "id": "c4c5ceda-17e8-4e4d-8c81-5a1589cefa7f",
   "metadata": {},
   "source": [
    "## Задание 12\n",
    "Посчитайте ежедневный прирост новых пользователей в ноябре 2008 года. \n",
    "Сформируйте таблицу с полями:\n",
    "- номер дня;\n",
    "- число пользователей, зарегистрированных в этот день;\n",
    "- сумму пользователей с накоплением."
   ]
  },
  {
   "cell_type": "code",
   "execution_count": null,
   "id": "a2f80f3e-07b0-4266-ae38-e1ff442cad4d",
   "metadata": {},
   "outputs": [],
   "source": [
    "WITH a AS(\n",
    "SELECT EXTRACT(DAY FROM creation_date) AS day,\n",
    "       COUNT(id) AS new_users\n",
    "FROM stackoverflow.users\n",
    "WHERE DATE_TRUNC('month', creation_date)::date = '2008-11-01'\n",
    "GROUP BY EXTRACT(DAY FROM creation_date)\n",
    ")\n",
    "\n",
    "SELECT *,\n",
    "       SUM(new_users) OVER (ORDER BY day)\n",
    "FROM a"
   ]
  },
  {
   "cell_type": "markdown",
   "id": "ea439967-9159-49b0-b590-be4bf0be50fa",
   "metadata": {},
   "source": [
    "## Задание 13\n",
    "Для каждого пользователя, который написал хотя бы один пост, найдите интервал между регистрацией и временем создания первого поста. \n",
    "Отобразите:\n",
    "- идентификатор пользователя;\n",
    "- разницу во времени между регистрацией и первым постом."
   ]
  },
  {
   "cell_type": "code",
   "execution_count": null,
   "id": "05aaa5af-56a8-4f39-bb8c-0c7a03b41f30",
   "metadata": {},
   "outputs": [],
   "source": [
    "SELECT DISTINCT u.id,\n",
    "       MIN(p.creation_date) OVER(PARTITION BY u.id) - u.creation_date\n",
    "FROM stackoverflow.users AS u \n",
    "JOIN stackoverflow.posts AS p ON u.id=p.user_id"
   ]
  },
  {
   "cell_type": "markdown",
   "id": "56a2b51c-23f2-471b-a46e-6bc7e57e3727",
   "metadata": {},
   "source": [
    "# Часть 1"
   ]
  },
  {
   "cell_type": "markdown",
   "id": "6624a180-55f7-4a2b-be42-7823e4f339cf",
   "metadata": {},
   "source": [
    "## Задание 1\n",
    "Выведите общую сумму просмотров у постов, опубликованных в каждый месяц 2008 года. Если данных за какой-либо месяц в базе нет, такой месяц можно пропустить. Результат отсортируйте по убыванию общего количества просмотров."
   ]
  },
  {
   "cell_type": "code",
   "execution_count": null,
   "id": "a3eb483c-9442-4340-985e-f40f57f380e6",
   "metadata": {},
   "outputs": [],
   "source": [
    "SELECT DISTINCT DATE_TRUNC('month', creation_date)::date AS month,\n",
    "       SUM(views_count) OVER(PARTITION BY DATE_TRUNC('month', creation_date)) AS sum_views\n",
    "FROM stackoverflow.posts\n",
    "WHERE EXTRACT(YEAR FROM creation_date)=2008\n",
    "ORDER BY sum_views DESC"
   ]
  },
  {
   "cell_type": "markdown",
   "id": "82970413-0553-4ed2-9c03-114e663113a8",
   "metadata": {},
   "source": [
    "## Задание 2\n",
    "Выведите имена самых активных пользователей, которые в первый месяц после регистрации (включая день регистрации) дали больше 100 ответов. Вопросы, которые задавали пользователи, не учитывайте. Для каждого имени пользователя выведите количество уникальных значений user_id. Отсортируйте результат по полю с именами в лексикографическом порядке."
   ]
  },
  {
   "cell_type": "code",
   "execution_count": null,
   "id": "58b858d3-7e06-44ee-82c7-04c57640c347",
   "metadata": {},
   "outputs": [],
   "source": [
    "SELECT u.display_name,\n",
    "       COUNT(DISTINCT user_id)\n",
    "FROM stackoverflow.posts p\n",
    "JOIN stackoverflow.post_types pt ON p.post_type_id = pt.id\n",
    "JOIN stackoverflow.users u ON u.id = p.user_id\n",
    "WHERE DATE_TRUNC('day', p.creation_date) >= DATE_TRUNC('day', u.creation_date)\n",
    "  AND DATE_TRUNC('day', p.creation_date) <= DATE_TRUNC('day', u.creation_date) + INTERVAL '1 month'\n",
    "  AND pt.type = 'Answer'\n",
    "GROUP BY u.display_name\n",
    "HAVING COUNT(*) > 100\n",
    "ORDER BY display_name;"
   ]
  },
  {
   "cell_type": "markdown",
   "id": "1bdabcf6-527b-4dc3-b31c-3bcb00ffae8e",
   "metadata": {},
   "source": [
    "## Задание 3\n",
    "Выведите количество постов за 2008 год по месяцам. Отберите посты от пользователей, которые зарегистрировались в сентябре 2008 года и сделали хотя бы один пост в декабре того же года. Отсортируйте таблицу по значению месяца по убыванию."
   ]
  },
  {
   "cell_type": "code",
   "execution_count": null,
   "id": "f6cd3d64-2804-438b-b21f-f8805e6e68cd",
   "metadata": {},
   "outputs": [],
   "source": [
    "SELECT DATE_TRUNC('month', creation_date)::date AS month,\n",
    "       COUNT(id)\n",
    "FROM stackoverflow.posts\n",
    "WHERE user_id IN(\n",
    "SELECT user_id\n",
    "FROM stackoverflow.posts\n",
    "WHERE DATE_TRUNC('month', creation_date)::date = '2008-12-01'\n",
    "  AND user_id IN(\n",
    "  SELECT id\n",
    "FROM stackoverflow.users\n",
    "WHERE DATE_TRUNC('month', creation_date)::date = '2008-09-01'\n",
    ")\n",
    ")\n",
    "GROUP BY DATE_TRUNC('month', creation_date)::date\n",
    "ORDER BY DATE_TRUNC('month', creation_date)::date DESC"
   ]
  },
  {
   "cell_type": "markdown",
   "id": "f714b127-73ae-4422-9d92-a1706f75ca96",
   "metadata": {},
   "source": [
    "## Задание 4\n",
    "Используя данные о постах, выведите несколько полей:\n",
    "- идентификатор пользователя, который написал пост;\n",
    "- дата создания поста;\n",
    "- количество просмотров у текущего поста;\n",
    "- сумма просмотров постов автора с накоплением.\n",
    "\n",
    "Данные в таблице должны быть отсортированы по возрастанию идентификаторов пользователей, а данные об одном и том же пользователе — по возрастанию даты создания поста."
   ]
  },
  {
   "cell_type": "code",
   "execution_count": null,
   "id": "c3825e2d-4b25-4209-b533-0c52cd0e3f21",
   "metadata": {},
   "outputs": [],
   "source": [
    "SELECT user_id,\n",
    "       creation_date,\n",
    "       views_count,\n",
    "       SUM(views_count) OVER(PARTITION BY user_id ORDER BY user_id, creation_date)\n",
    "FROM stackoverflow.posts\n",
    "ORDER BY user_id, creation_date"
   ]
  },
  {
   "cell_type": "markdown",
   "id": "e4af3b6c-31c3-495e-b208-14702d6f7f6a",
   "metadata": {},
   "source": [
    "## Задание 5\n",
    "Сколько в среднем дней в период с 1 по 7 декабря 2008 года включительно пользователи взаимодействовали с платформой? Для каждого пользователя отберите дни, в которые он или она опубликовали хотя бы один пост. Нужно получить одно целое число — не забудьте округлить результат."
   ]
  },
  {
   "cell_type": "code",
   "execution_count": null,
   "id": "db4e6838-786d-43e6-90fe-6f9b40834db3",
   "metadata": {},
   "outputs": [],
   "source": [
    "WITH a AS(\n",
    "SELECT user_id,\n",
    "       COUNT(DISTINCT DATE_TRUNC('day', creation_date)::date) AS active_days\n",
    "FROM stackoverflow.posts\n",
    "WHERE DATE_TRUNC('day', creation_date)::date BETWEEN '2008-12-01' AND '2008-12-07'\n",
    "GROUP BY user_id\n",
    ")\n",
    "\n",
    "SELECT ROUND(AVG(active_days))\n",
    "FROM a"
   ]
  },
  {
   "cell_type": "markdown",
   "id": "d0e3abad-1a65-4801-ab64-2dc4ac79d4fc",
   "metadata": {},
   "source": [
    "## Задание 6\n",
    "На сколько процентов менялось количество постов ежемесячно с 1 сентября по 31 декабря 2008 года? \n",
    "\n",
    "Отобразите таблицу со следующими полями:\n",
    "- Номер месяца.\n",
    "- Количество постов за месяц.\n",
    "- Процент, который показывает, насколько изменилось количество постов в текущем месяце по сравнению с предыдущим.\n",
    "\n",
    "Если постов стало меньше, значение процента должно быть отрицательным, если больше — положительным. Округлите значение процента до двух знаков после запятой."
   ]
  },
  {
   "cell_type": "code",
   "execution_count": null,
   "id": "aeeaffa4-544b-4994-93ab-8122a74199b2",
   "metadata": {},
   "outputs": [],
   "source": [
    "WITH a AS(\n",
    "SELECT EXTRACT(MONTH FROM creation_date) AS month,\n",
    "       COUNT(id) AS posts_per_month,\n",
    "       LAG(COUNT(id)) OVER(ORDER BY EXTRACT(MONTH FROM creation_date)) posts_last_month\n",
    "FROM stackoverflow.posts\n",
    "WHERE DATE_TRUNC('day', creation_date)::date BETWEEN '2008-09-01' AND '2008-12-31'\n",
    "GROUP BY EXTRACT(MONTH FROM creation_date)\n",
    ")\n",
    "\n",
    "SELECT month, \n",
    "       posts_per_month,\n",
    "       ROUND((posts_per_month/posts_last_month::numeric*100)-100, 2) AS diff_perc\n",
    "FROM a "
   ]
  },
  {
   "cell_type": "markdown",
   "id": "6affe25b-5f6b-454a-942a-a2b9532cd49f",
   "metadata": {},
   "source": [
    "## Задание 7\n",
    "Найдите пользователя, который опубликовал больше всего постов за всё время с момента регистрации. \n",
    "\n",
    "Выведите данные его активности за октябрь 2008 года в таком виде:\n",
    "- номер недели;\n",
    "- дата и время последнего поста, опубликованного на этой неделе."
   ]
  },
  {
   "cell_type": "code",
   "execution_count": null,
   "id": "f044f03c-6454-4dbf-8a3a-961cbfc11376",
   "metadata": {},
   "outputs": [],
   "source": [
    "SELECT DISTINCT EXTRACT(WEEK FROM creation_date) AS week,\n",
    "       MAX(creation_date) OVER(ORDER BY EXTRACT(WEEK FROM creation_date))\n",
    "FROM stackoverflow.posts\n",
    "WHERE user_id =(\n",
    "SELECT user_id\n",
    "FROM stackoverflow.posts\n",
    "GROUP BY user_id\n",
    "ORDER BY COUNT(id) DESC\n",
    "LIMIT 1\n",
    ")\n",
    "AND DATE_TRUNC('month', creation_date) = '2008-10-01'"
   ]
  }
 ],
 "metadata": {
  "kernelspec": {
   "display_name": "Python 3 (ipykernel)",
   "language": "python",
   "name": "python3"
  },
  "language_info": {
   "codemirror_mode": {
    "name": "ipython",
    "version": 3
   },
   "file_extension": ".py",
   "mimetype": "text/x-python",
   "name": "python",
   "nbconvert_exporter": "python",
   "pygments_lexer": "ipython3",
   "version": "3.11.7"
  }
 },
 "nbformat": 4,
 "nbformat_minor": 5
}
