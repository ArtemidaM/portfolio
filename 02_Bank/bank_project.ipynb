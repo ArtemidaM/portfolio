{
 "cells": [
  {
   "cell_type": "markdown",
   "id": "386f2ae7",
   "metadata": {
    "deletable": false,
    "editable": false,
    "id": "386f2ae7"
   },
   "source": [
    "# Исследование надежности заемщиков\n"
   ]
  },
  {
   "cell_type": "markdown",
   "id": "abff5eba-57c7-4c71-ad72-ac60f5981e24",
   "metadata": {},
   "source": [
    "**Описание проекта**\n",
    "\n",
    "Заказчик — кредитный отдел банка. Нужно разобраться, влияет ли семейное положение и количество детей клиента на факт погашения кредита в срок. Входные данные от банка — статистика о платёжеспособности клиентов.\n",
    "\n",
    "Результаты исследования будут учтены при построении модели кредитного скоринга — специальной системы, которая оценивает способность потенциального заёмщика вернуть кредит банку."
   ]
  },
  {
   "cell_type": "markdown",
   "id": "26613308",
   "metadata": {
    "deletable": false,
    "editable": false,
    "id": "26613308"
   },
   "source": [
    "## Откройте таблицу и изучите общую информацию о данных"
   ]
  },
  {
   "cell_type": "markdown",
   "id": "3c9f838e",
   "metadata": {
    "deletable": false,
    "editable": false,
    "id": "3c9f838e"
   },
   "source": [
    "**Задание 1. Импортируйте библиотеку pandas. Считайте данные из csv-файла в датафрейм и сохраните в переменную `data`. Путь к файлу:**\n",
    "\n",
    "`/datasets/data.csv`"
   ]
  },
  {
   "cell_type": "code",
   "execution_count": 1,
   "id": "77a68a90",
   "metadata": {
    "deletable": false,
    "id": "77a68a90"
   },
   "outputs": [],
   "source": [
    "import pandas as pd\n",
    "\n",
    "try:\n",
    "    data = pd.read_csv('/datasets/data.csv')\n",
    "except:\n",
    "    data = pd.read_csv('/Users/maria_myachina/Downloads/Аналитик данных (Яндекс Практикум)/Проекты/02_Bank/data.csv')"
   ]
  },
  {
   "cell_type": "markdown",
   "id": "45365635",
   "metadata": {
    "deletable": false,
    "editable": false,
    "id": "45365635"
   },
   "source": [
    "**Задание 2. Выведите первые 20 строчек датафрейма `data` на экран.**"
   ]
  },
  {
   "cell_type": "code",
   "execution_count": 2,
   "id": "b0451a9a",
   "metadata": {
    "deletable": false,
    "id": "b0451a9a",
    "outputId": "1a8f3ef2-d323-4ec2-ddf7-89670b5944c4"
   },
   "outputs": [
    {
     "data": {
      "text/html": [
       "<div>\n",
       "<style scoped>\n",
       "    .dataframe tbody tr th:only-of-type {\n",
       "        vertical-align: middle;\n",
       "    }\n",
       "\n",
       "    .dataframe tbody tr th {\n",
       "        vertical-align: top;\n",
       "    }\n",
       "\n",
       "    .dataframe thead th {\n",
       "        text-align: right;\n",
       "    }\n",
       "</style>\n",
       "<table border=\"1\" class=\"dataframe\">\n",
       "  <thead>\n",
       "    <tr style=\"text-align: right;\">\n",
       "      <th></th>\n",
       "      <th>children</th>\n",
       "      <th>days_employed</th>\n",
       "      <th>dob_years</th>\n",
       "      <th>education</th>\n",
       "      <th>education_id</th>\n",
       "      <th>family_status</th>\n",
       "      <th>family_status_id</th>\n",
       "      <th>gender</th>\n",
       "      <th>income_type</th>\n",
       "      <th>debt</th>\n",
       "      <th>total_income</th>\n",
       "      <th>purpose</th>\n",
       "    </tr>\n",
       "  </thead>\n",
       "  <tbody>\n",
       "    <tr>\n",
       "      <th>0</th>\n",
       "      <td>1</td>\n",
       "      <td>-8437.673028</td>\n",
       "      <td>42</td>\n",
       "      <td>высшее</td>\n",
       "      <td>0</td>\n",
       "      <td>женат / замужем</td>\n",
       "      <td>0</td>\n",
       "      <td>F</td>\n",
       "      <td>сотрудник</td>\n",
       "      <td>0</td>\n",
       "      <td>253875.639453</td>\n",
       "      <td>покупка жилья</td>\n",
       "    </tr>\n",
       "    <tr>\n",
       "      <th>1</th>\n",
       "      <td>1</td>\n",
       "      <td>-4024.803754</td>\n",
       "      <td>36</td>\n",
       "      <td>среднее</td>\n",
       "      <td>1</td>\n",
       "      <td>женат / замужем</td>\n",
       "      <td>0</td>\n",
       "      <td>F</td>\n",
       "      <td>сотрудник</td>\n",
       "      <td>0</td>\n",
       "      <td>112080.014102</td>\n",
       "      <td>приобретение автомобиля</td>\n",
       "    </tr>\n",
       "    <tr>\n",
       "      <th>2</th>\n",
       "      <td>0</td>\n",
       "      <td>-5623.422610</td>\n",
       "      <td>33</td>\n",
       "      <td>Среднее</td>\n",
       "      <td>1</td>\n",
       "      <td>женат / замужем</td>\n",
       "      <td>0</td>\n",
       "      <td>M</td>\n",
       "      <td>сотрудник</td>\n",
       "      <td>0</td>\n",
       "      <td>145885.952297</td>\n",
       "      <td>покупка жилья</td>\n",
       "    </tr>\n",
       "    <tr>\n",
       "      <th>3</th>\n",
       "      <td>3</td>\n",
       "      <td>-4124.747207</td>\n",
       "      <td>32</td>\n",
       "      <td>среднее</td>\n",
       "      <td>1</td>\n",
       "      <td>женат / замужем</td>\n",
       "      <td>0</td>\n",
       "      <td>M</td>\n",
       "      <td>сотрудник</td>\n",
       "      <td>0</td>\n",
       "      <td>267628.550329</td>\n",
       "      <td>дополнительное образование</td>\n",
       "    </tr>\n",
       "    <tr>\n",
       "      <th>4</th>\n",
       "      <td>0</td>\n",
       "      <td>340266.072047</td>\n",
       "      <td>53</td>\n",
       "      <td>среднее</td>\n",
       "      <td>1</td>\n",
       "      <td>гражданский брак</td>\n",
       "      <td>1</td>\n",
       "      <td>F</td>\n",
       "      <td>пенсионер</td>\n",
       "      <td>0</td>\n",
       "      <td>158616.077870</td>\n",
       "      <td>сыграть свадьбу</td>\n",
       "    </tr>\n",
       "    <tr>\n",
       "      <th>5</th>\n",
       "      <td>0</td>\n",
       "      <td>-926.185831</td>\n",
       "      <td>27</td>\n",
       "      <td>высшее</td>\n",
       "      <td>0</td>\n",
       "      <td>гражданский брак</td>\n",
       "      <td>1</td>\n",
       "      <td>M</td>\n",
       "      <td>компаньон</td>\n",
       "      <td>0</td>\n",
       "      <td>255763.565419</td>\n",
       "      <td>покупка жилья</td>\n",
       "    </tr>\n",
       "    <tr>\n",
       "      <th>6</th>\n",
       "      <td>0</td>\n",
       "      <td>-2879.202052</td>\n",
       "      <td>43</td>\n",
       "      <td>высшее</td>\n",
       "      <td>0</td>\n",
       "      <td>женат / замужем</td>\n",
       "      <td>0</td>\n",
       "      <td>F</td>\n",
       "      <td>компаньон</td>\n",
       "      <td>0</td>\n",
       "      <td>240525.971920</td>\n",
       "      <td>операции с жильем</td>\n",
       "    </tr>\n",
       "    <tr>\n",
       "      <th>7</th>\n",
       "      <td>0</td>\n",
       "      <td>-152.779569</td>\n",
       "      <td>50</td>\n",
       "      <td>СРЕДНЕЕ</td>\n",
       "      <td>1</td>\n",
       "      <td>женат / замужем</td>\n",
       "      <td>0</td>\n",
       "      <td>M</td>\n",
       "      <td>сотрудник</td>\n",
       "      <td>0</td>\n",
       "      <td>135823.934197</td>\n",
       "      <td>образование</td>\n",
       "    </tr>\n",
       "    <tr>\n",
       "      <th>8</th>\n",
       "      <td>2</td>\n",
       "      <td>-6929.865299</td>\n",
       "      <td>35</td>\n",
       "      <td>ВЫСШЕЕ</td>\n",
       "      <td>0</td>\n",
       "      <td>гражданский брак</td>\n",
       "      <td>1</td>\n",
       "      <td>F</td>\n",
       "      <td>сотрудник</td>\n",
       "      <td>0</td>\n",
       "      <td>95856.832424</td>\n",
       "      <td>на проведение свадьбы</td>\n",
       "    </tr>\n",
       "    <tr>\n",
       "      <th>9</th>\n",
       "      <td>0</td>\n",
       "      <td>-2188.756445</td>\n",
       "      <td>41</td>\n",
       "      <td>среднее</td>\n",
       "      <td>1</td>\n",
       "      <td>женат / замужем</td>\n",
       "      <td>0</td>\n",
       "      <td>M</td>\n",
       "      <td>сотрудник</td>\n",
       "      <td>0</td>\n",
       "      <td>144425.938277</td>\n",
       "      <td>покупка жилья для семьи</td>\n",
       "    </tr>\n",
       "    <tr>\n",
       "      <th>10</th>\n",
       "      <td>2</td>\n",
       "      <td>-4171.483647</td>\n",
       "      <td>36</td>\n",
       "      <td>высшее</td>\n",
       "      <td>0</td>\n",
       "      <td>женат / замужем</td>\n",
       "      <td>0</td>\n",
       "      <td>M</td>\n",
       "      <td>компаньон</td>\n",
       "      <td>0</td>\n",
       "      <td>113943.491460</td>\n",
       "      <td>покупка недвижимости</td>\n",
       "    </tr>\n",
       "    <tr>\n",
       "      <th>11</th>\n",
       "      <td>0</td>\n",
       "      <td>-792.701887</td>\n",
       "      <td>40</td>\n",
       "      <td>среднее</td>\n",
       "      <td>1</td>\n",
       "      <td>женат / замужем</td>\n",
       "      <td>0</td>\n",
       "      <td>F</td>\n",
       "      <td>сотрудник</td>\n",
       "      <td>0</td>\n",
       "      <td>77069.234271</td>\n",
       "      <td>покупка коммерческой недвижимости</td>\n",
       "    </tr>\n",
       "    <tr>\n",
       "      <th>12</th>\n",
       "      <td>0</td>\n",
       "      <td>NaN</td>\n",
       "      <td>65</td>\n",
       "      <td>среднее</td>\n",
       "      <td>1</td>\n",
       "      <td>гражданский брак</td>\n",
       "      <td>1</td>\n",
       "      <td>M</td>\n",
       "      <td>пенсионер</td>\n",
       "      <td>0</td>\n",
       "      <td>NaN</td>\n",
       "      <td>сыграть свадьбу</td>\n",
       "    </tr>\n",
       "    <tr>\n",
       "      <th>13</th>\n",
       "      <td>0</td>\n",
       "      <td>-1846.641941</td>\n",
       "      <td>54</td>\n",
       "      <td>неоконченное высшее</td>\n",
       "      <td>2</td>\n",
       "      <td>женат / замужем</td>\n",
       "      <td>0</td>\n",
       "      <td>F</td>\n",
       "      <td>сотрудник</td>\n",
       "      <td>0</td>\n",
       "      <td>130458.228857</td>\n",
       "      <td>приобретение автомобиля</td>\n",
       "    </tr>\n",
       "    <tr>\n",
       "      <th>14</th>\n",
       "      <td>0</td>\n",
       "      <td>-1844.956182</td>\n",
       "      <td>56</td>\n",
       "      <td>высшее</td>\n",
       "      <td>0</td>\n",
       "      <td>гражданский брак</td>\n",
       "      <td>1</td>\n",
       "      <td>F</td>\n",
       "      <td>компаньон</td>\n",
       "      <td>1</td>\n",
       "      <td>165127.911772</td>\n",
       "      <td>покупка жилой недвижимости</td>\n",
       "    </tr>\n",
       "    <tr>\n",
       "      <th>15</th>\n",
       "      <td>1</td>\n",
       "      <td>-972.364419</td>\n",
       "      <td>26</td>\n",
       "      <td>среднее</td>\n",
       "      <td>1</td>\n",
       "      <td>женат / замужем</td>\n",
       "      <td>0</td>\n",
       "      <td>F</td>\n",
       "      <td>сотрудник</td>\n",
       "      <td>0</td>\n",
       "      <td>116820.904450</td>\n",
       "      <td>строительство собственной недвижимости</td>\n",
       "    </tr>\n",
       "    <tr>\n",
       "      <th>16</th>\n",
       "      <td>0</td>\n",
       "      <td>-1719.934226</td>\n",
       "      <td>35</td>\n",
       "      <td>среднее</td>\n",
       "      <td>1</td>\n",
       "      <td>женат / замужем</td>\n",
       "      <td>0</td>\n",
       "      <td>F</td>\n",
       "      <td>сотрудник</td>\n",
       "      <td>0</td>\n",
       "      <td>289202.704229</td>\n",
       "      <td>недвижимость</td>\n",
       "    </tr>\n",
       "    <tr>\n",
       "      <th>17</th>\n",
       "      <td>0</td>\n",
       "      <td>-2369.999720</td>\n",
       "      <td>33</td>\n",
       "      <td>высшее</td>\n",
       "      <td>0</td>\n",
       "      <td>гражданский брак</td>\n",
       "      <td>1</td>\n",
       "      <td>M</td>\n",
       "      <td>сотрудник</td>\n",
       "      <td>0</td>\n",
       "      <td>90410.586745</td>\n",
       "      <td>строительство недвижимости</td>\n",
       "    </tr>\n",
       "    <tr>\n",
       "      <th>18</th>\n",
       "      <td>0</td>\n",
       "      <td>400281.136913</td>\n",
       "      <td>53</td>\n",
       "      <td>среднее</td>\n",
       "      <td>1</td>\n",
       "      <td>вдовец / вдова</td>\n",
       "      <td>2</td>\n",
       "      <td>F</td>\n",
       "      <td>пенсионер</td>\n",
       "      <td>0</td>\n",
       "      <td>56823.777243</td>\n",
       "      <td>на покупку подержанного автомобиля</td>\n",
       "    </tr>\n",
       "    <tr>\n",
       "      <th>19</th>\n",
       "      <td>0</td>\n",
       "      <td>-10038.818549</td>\n",
       "      <td>48</td>\n",
       "      <td>СРЕДНЕЕ</td>\n",
       "      <td>1</td>\n",
       "      <td>в разводе</td>\n",
       "      <td>3</td>\n",
       "      <td>F</td>\n",
       "      <td>сотрудник</td>\n",
       "      <td>0</td>\n",
       "      <td>242831.107982</td>\n",
       "      <td>на покупку своего автомобиля</td>\n",
       "    </tr>\n",
       "  </tbody>\n",
       "</table>\n",
       "</div>"
      ],
      "text/plain": [
       "    children  days_employed  dob_years            education  education_id  \\\n",
       "0          1   -8437.673028         42               высшее             0   \n",
       "1          1   -4024.803754         36              среднее             1   \n",
       "2          0   -5623.422610         33              Среднее             1   \n",
       "3          3   -4124.747207         32              среднее             1   \n",
       "4          0  340266.072047         53              среднее             1   \n",
       "5          0    -926.185831         27               высшее             0   \n",
       "6          0   -2879.202052         43               высшее             0   \n",
       "7          0    -152.779569         50              СРЕДНЕЕ             1   \n",
       "8          2   -6929.865299         35               ВЫСШЕЕ             0   \n",
       "9          0   -2188.756445         41              среднее             1   \n",
       "10         2   -4171.483647         36               высшее             0   \n",
       "11         0    -792.701887         40              среднее             1   \n",
       "12         0            NaN         65              среднее             1   \n",
       "13         0   -1846.641941         54  неоконченное высшее             2   \n",
       "14         0   -1844.956182         56               высшее             0   \n",
       "15         1    -972.364419         26              среднее             1   \n",
       "16         0   -1719.934226         35              среднее             1   \n",
       "17         0   -2369.999720         33               высшее             0   \n",
       "18         0  400281.136913         53              среднее             1   \n",
       "19         0  -10038.818549         48              СРЕДНЕЕ             1   \n",
       "\n",
       "       family_status  family_status_id gender income_type  debt  \\\n",
       "0    женат / замужем                 0      F   сотрудник     0   \n",
       "1    женат / замужем                 0      F   сотрудник     0   \n",
       "2    женат / замужем                 0      M   сотрудник     0   \n",
       "3    женат / замужем                 0      M   сотрудник     0   \n",
       "4   гражданский брак                 1      F   пенсионер     0   \n",
       "5   гражданский брак                 1      M   компаньон     0   \n",
       "6    женат / замужем                 0      F   компаньон     0   \n",
       "7    женат / замужем                 0      M   сотрудник     0   \n",
       "8   гражданский брак                 1      F   сотрудник     0   \n",
       "9    женат / замужем                 0      M   сотрудник     0   \n",
       "10   женат / замужем                 0      M   компаньон     0   \n",
       "11   женат / замужем                 0      F   сотрудник     0   \n",
       "12  гражданский брак                 1      M   пенсионер     0   \n",
       "13   женат / замужем                 0      F   сотрудник     0   \n",
       "14  гражданский брак                 1      F   компаньон     1   \n",
       "15   женат / замужем                 0      F   сотрудник     0   \n",
       "16   женат / замужем                 0      F   сотрудник     0   \n",
       "17  гражданский брак                 1      M   сотрудник     0   \n",
       "18    вдовец / вдова                 2      F   пенсионер     0   \n",
       "19         в разводе                 3      F   сотрудник     0   \n",
       "\n",
       "     total_income                                 purpose  \n",
       "0   253875.639453                           покупка жилья  \n",
       "1   112080.014102                 приобретение автомобиля  \n",
       "2   145885.952297                           покупка жилья  \n",
       "3   267628.550329              дополнительное образование  \n",
       "4   158616.077870                         сыграть свадьбу  \n",
       "5   255763.565419                           покупка жилья  \n",
       "6   240525.971920                       операции с жильем  \n",
       "7   135823.934197                             образование  \n",
       "8    95856.832424                   на проведение свадьбы  \n",
       "9   144425.938277                 покупка жилья для семьи  \n",
       "10  113943.491460                    покупка недвижимости  \n",
       "11   77069.234271       покупка коммерческой недвижимости  \n",
       "12            NaN                         сыграть свадьбу  \n",
       "13  130458.228857                 приобретение автомобиля  \n",
       "14  165127.911772              покупка жилой недвижимости  \n",
       "15  116820.904450  строительство собственной недвижимости  \n",
       "16  289202.704229                            недвижимость  \n",
       "17   90410.586745              строительство недвижимости  \n",
       "18   56823.777243      на покупку подержанного автомобиля  \n",
       "19  242831.107982            на покупку своего автомобиля  "
      ]
     },
     "execution_count": 2,
     "metadata": {},
     "output_type": "execute_result"
    }
   ],
   "source": [
    "data.head(20)"
   ]
  },
  {
   "cell_type": "markdown",
   "id": "0ed8f27f",
   "metadata": {
    "deletable": false,
    "editable": false,
    "id": "0ed8f27f"
   },
   "source": [
    "**Задание 3. Выведите основную информацию о датафрейме с помощью метода `info()`.**"
   ]
  },
  {
   "cell_type": "code",
   "execution_count": 3,
   "id": "ab3f863b",
   "metadata": {
    "deletable": false,
    "id": "ab3f863b",
    "outputId": "15376089-8dad-46c9-b520-c05248d43158"
   },
   "outputs": [
    {
     "name": "stdout",
     "output_type": "stream",
     "text": [
      "<class 'pandas.core.frame.DataFrame'>\n",
      "RangeIndex: 21525 entries, 0 to 21524\n",
      "Data columns (total 12 columns):\n",
      " #   Column            Non-Null Count  Dtype  \n",
      "---  ------            --------------  -----  \n",
      " 0   children          21525 non-null  int64  \n",
      " 1   days_employed     19351 non-null  float64\n",
      " 2   dob_years         21525 non-null  int64  \n",
      " 3   education         21525 non-null  object \n",
      " 4   education_id      21525 non-null  int64  \n",
      " 5   family_status     21525 non-null  object \n",
      " 6   family_status_id  21525 non-null  int64  \n",
      " 7   gender            21525 non-null  object \n",
      " 8   income_type       21525 non-null  object \n",
      " 9   debt              21525 non-null  int64  \n",
      " 10  total_income      19351 non-null  float64\n",
      " 11  purpose           21525 non-null  object \n",
      "dtypes: float64(2), int64(5), object(5)\n",
      "memory usage: 2.0+ MB\n"
     ]
    }
   ],
   "source": [
    "data.info()"
   ]
  },
  {
   "cell_type": "markdown",
   "id": "60e3e22d",
   "metadata": {
    "deletable": false,
    "editable": false,
    "id": "60e3e22d"
   },
   "source": [
    "## Предобработка данных"
   ]
  },
  {
   "cell_type": "markdown",
   "id": "03dc170c",
   "metadata": {
    "deletable": false,
    "editable": false,
    "id": "03dc170c"
   },
   "source": [
    "### Удаление пропусков"
   ]
  },
  {
   "cell_type": "markdown",
   "id": "a4f54eef",
   "metadata": {
    "deletable": false,
    "editable": false,
    "id": "a4f54eef"
   },
   "source": [
    "**Задание 4. Выведите количество пропущенных значений для каждого столбца. Используйте комбинацию двух методов.**"
   ]
  },
  {
   "cell_type": "code",
   "execution_count": 4,
   "id": "2dc372b2",
   "metadata": {
    "deletable": false,
    "id": "2dc372b2",
    "outputId": "81f4d817-781c-465c-ed15-91ce4446810d"
   },
   "outputs": [
    {
     "data": {
      "text/plain": [
       "children               0\n",
       "days_employed       2174\n",
       "dob_years              0\n",
       "education              0\n",
       "education_id           0\n",
       "family_status          0\n",
       "family_status_id       0\n",
       "gender                 0\n",
       "income_type            0\n",
       "debt                   0\n",
       "total_income        2174\n",
       "purpose                0\n",
       "dtype: int64"
      ]
     },
     "execution_count": 4,
     "metadata": {},
     "output_type": "execute_result"
    }
   ],
   "source": [
    "data.isna().sum()"
   ]
  },
  {
   "cell_type": "markdown",
   "id": "14f011b1",
   "metadata": {
    "deletable": false,
    "editable": false,
    "id": "14f011b1"
   },
   "source": [
    "**Задание 5. В двух столбцах есть пропущенные значения. Один из них — `days_employed`. Пропуски в этом столбце вы обработаете на следующем этапе. Другой столбец с пропущенными значениями — `total_income` — хранит данные о доходах. На сумму дохода сильнее всего влияет тип занятости, поэтому заполнить пропуски в этом столбце нужно медианным значением по каждому типу из столбца `income_type`. Например, у человека с типом занятости `сотрудник` пропуск в столбце `total_income` должен быть заполнен медианным доходом среди всех записей с тем же типом.**"
   ]
  },
  {
   "cell_type": "code",
   "execution_count": 5,
   "id": "bdabfb6e",
   "metadata": {
    "deletable": false,
    "id": "bdabfb6e"
   },
   "outputs": [],
   "source": [
    "for t in data['income_type'].unique():\n",
    "    data.loc[(data['income_type'] == t) & (data['total_income'].isna()), 'total_income'] = \\\n",
    "    data.loc[(data['income_type'] == t), 'total_income'].median()"
   ]
  },
  {
   "cell_type": "markdown",
   "id": "5be34059",
   "metadata": {
    "deletable": false,
    "editable": false,
    "id": "5be34059"
   },
   "source": [
    "### Обработка аномальных значений"
   ]
  },
  {
   "cell_type": "markdown",
   "id": "a87606cb",
   "metadata": {
    "deletable": false,
    "editable": false,
    "id": "a87606cb"
   },
   "source": [
    "**Задание 6. В данных могут встречаться артефакты (аномалии) — значения, которые не отражают действительность и появились по какой-то ошибке. таким артефактом будет отрицательное количество дней трудового стажа в столбце `days_employed`. Для реальных данных это нормально. Обработайте значения в этом столбце: замените все отрицательные значения положительными с помощью метода `abs()`.**"
   ]
  },
  {
   "cell_type": "code",
   "execution_count": 6,
   "id": "020c46cc",
   "metadata": {
    "deletable": false,
    "id": "020c46cc"
   },
   "outputs": [],
   "source": [
    "data['days_employed'] = data['days_employed'].abs()"
   ]
  },
  {
   "cell_type": "markdown",
   "id": "45538a3a",
   "metadata": {
    "deletable": false,
    "editable": false,
    "id": "45538a3a"
   },
   "source": [
    "**Задание 7. Для каждого типа занятости выведите медианное значение трудового стажа `days_employed` в днях.**"
   ]
  },
  {
   "cell_type": "code",
   "execution_count": 7,
   "id": "cd3e6328",
   "metadata": {
    "deletable": false,
    "id": "cd3e6328",
    "outputId": "801ef80e-522b-4668-f34e-565af7432bcf"
   },
   "outputs": [
    {
     "data": {
      "text/plain": [
       "income_type\n",
       "безработный        366413.652744\n",
       "в декрете            3296.759962\n",
       "госслужащий          2689.368353\n",
       "компаньон            1547.382223\n",
       "пенсионер          365213.306266\n",
       "предприниматель       520.848083\n",
       "сотрудник            1574.202821\n",
       "студент               578.751554\n",
       "Name: days_employed, dtype: float64"
      ]
     },
     "execution_count": 7,
     "metadata": {},
     "output_type": "execute_result"
    }
   ],
   "source": [
    "data.groupby('income_type')['days_employed'].agg('median')"
   ]
  },
  {
   "cell_type": "markdown",
   "id": "90c5f058",
   "metadata": {
    "deletable": false,
    "editable": false,
    "id": "90c5f058"
   },
   "source": [
    "У двух типов (безработные и пенсионеры) получатся аномально большие значения. Исправить такие значения сложно, поэтому оставьте их как есть."
   ]
  },
  {
   "cell_type": "markdown",
   "id": "9652e50d",
   "metadata": {
    "deletable": false,
    "editable": false,
    "id": "9652e50d"
   },
   "source": [
    "**Задание 8. Выведите перечень уникальных значений столбца `children`.**"
   ]
  },
  {
   "cell_type": "code",
   "execution_count": 8,
   "id": "dbb37b8e",
   "metadata": {
    "deletable": false,
    "id": "dbb37b8e",
    "outputId": "6975b15c-7f95-4697-d16d-a0c79b657b03"
   },
   "outputs": [
    {
     "data": {
      "text/plain": [
       "array([ 1,  0,  3,  2, -1,  4, 20,  5])"
      ]
     },
     "execution_count": 8,
     "metadata": {},
     "output_type": "execute_result"
    }
   ],
   "source": [
    "data['children'].unique()"
   ]
  },
  {
   "cell_type": "markdown",
   "id": "2b8b0715",
   "metadata": {
    "deletable": false,
    "editable": false,
    "id": "2b8b0715"
   },
   "source": [
    "**Задание 9. В столбце `children` есть два аномальных значения. Удалите строки, в которых встречаются такие аномальные значения из датафрейма `data`.**"
   ]
  },
  {
   "cell_type": "code",
   "execution_count": 9,
   "id": "20009df8",
   "metadata": {
    "deletable": false,
    "id": "20009df8"
   },
   "outputs": [],
   "source": [
    "data = data[(data['children'] != -1) & (data['children'] != 20)]"
   ]
  },
  {
   "cell_type": "markdown",
   "id": "8c6ac9f1",
   "metadata": {
    "deletable": false,
    "editable": false,
    "id": "8c6ac9f1"
   },
   "source": [
    "**Задание 10. Ещё раз выведите перечень уникальных значений столбца `children`, чтобы убедиться, что артефакты удалены.**"
   ]
  },
  {
   "cell_type": "code",
   "execution_count": 10,
   "id": "07337b81",
   "metadata": {
    "deletable": false,
    "id": "07337b81",
    "outputId": "b2097101-d49d-44d9-901b-32a65c9463d1"
   },
   "outputs": [
    {
     "data": {
      "text/plain": [
       "array([1, 0, 3, 2, 4, 5])"
      ]
     },
     "execution_count": 10,
     "metadata": {},
     "output_type": "execute_result"
    }
   ],
   "source": [
    "data['children'].unique()"
   ]
  },
  {
   "cell_type": "markdown",
   "id": "ee3f52d4",
   "metadata": {
    "deletable": false,
    "editable": false,
    "id": "ee3f52d4"
   },
   "source": [
    "### Удаление пропусков (продолжение)"
   ]
  },
  {
   "cell_type": "markdown",
   "id": "a700b0e4",
   "metadata": {
    "deletable": false,
    "editable": false,
    "id": "a700b0e4"
   },
   "source": [
    "**Задание 11. Заполните пропуски в столбце `days_employed` медианными значениями по каждого типа занятости `income_type`.**"
   ]
  },
  {
   "cell_type": "code",
   "execution_count": 11,
   "id": "61946b83",
   "metadata": {
    "deletable": false,
    "id": "61946b83"
   },
   "outputs": [],
   "source": [
    "for t in data['income_type'].unique():\n",
    "    data.loc[(data['income_type'] == t) & (data['days_employed'].isna()), 'days_employed'] = \\\n",
    "    data.loc[(data['income_type'] == t), 'days_employed'].median()"
   ]
  },
  {
   "cell_type": "markdown",
   "id": "550dcd9b",
   "metadata": {
    "deletable": false,
    "editable": false,
    "id": "550dcd9b"
   },
   "source": [
    "**Задание 12. Убедитесь, что все пропуски заполнены. Проверьте себя и ещё раз выведите количество пропущенных значений для каждого столбца с помощью двух методов.**"
   ]
  },
  {
   "cell_type": "code",
   "execution_count": 12,
   "id": "937c7014",
   "metadata": {
    "deletable": false,
    "id": "937c7014",
    "outputId": "8da1e4e1-358e-4e87-98c9-f261bce0a7b2"
   },
   "outputs": [
    {
     "data": {
      "text/plain": [
       "children            0\n",
       "days_employed       0\n",
       "dob_years           0\n",
       "education           0\n",
       "education_id        0\n",
       "family_status       0\n",
       "family_status_id    0\n",
       "gender              0\n",
       "income_type         0\n",
       "debt                0\n",
       "total_income        0\n",
       "purpose             0\n",
       "dtype: int64"
      ]
     },
     "execution_count": 12,
     "metadata": {},
     "output_type": "execute_result"
    }
   ],
   "source": [
    "data.isna().sum()"
   ]
  },
  {
   "cell_type": "markdown",
   "id": "d522e295",
   "metadata": {
    "deletable": false,
    "editable": false,
    "id": "d522e295"
   },
   "source": [
    "### Изменение типов данных"
   ]
  },
  {
   "cell_type": "markdown",
   "id": "c229c581",
   "metadata": {
    "deletable": false,
    "editable": false,
    "id": "c229c581"
   },
   "source": [
    "**Задание 13. Замените вещественный тип данных в столбце `total_income` на целочисленный с помощью метода `astype()`.**"
   ]
  },
  {
   "cell_type": "code",
   "execution_count": 13,
   "id": "31036462",
   "metadata": {
    "deletable": false,
    "id": "31036462"
   },
   "outputs": [],
   "source": [
    "data['total_income'] = data['total_income'].astype(int)"
   ]
  },
  {
   "cell_type": "markdown",
   "id": "b8e3d1d9",
   "metadata": {
    "deletable": false,
    "editable": false,
    "id": "b8e3d1d9"
   },
   "source": [
    "### Обработка дубликатов"
   ]
  },
  {
   "cell_type": "markdown",
   "id": "9be53c49",
   "metadata": {
    "deletable": false,
    "editable": false,
    "id": "9be53c49"
   },
   "source": [
    "**Задание 14. Обработайте неявные дубликаты в столбце `education`. В этом столбце есть одни и те же значения, но записанные по-разному: с использованием заглавных и строчных букв. Приведите их к нижнему регистру.**"
   ]
  },
  {
   "cell_type": "code",
   "execution_count": 14,
   "id": "d89e73e1",
   "metadata": {
    "deletable": false,
    "id": "d89e73e1"
   },
   "outputs": [],
   "source": [
    "data['education'] = data['education'].str.lower()"
   ]
  },
  {
   "cell_type": "markdown",
   "id": "01d4500e",
   "metadata": {
    "deletable": false,
    "editable": false,
    "id": "01d4500e"
   },
   "source": [
    "**Задание 15. Выведите на экран количество строк-дубликатов в данных. Если такие строки присутствуют, удалите их.**"
   ]
  },
  {
   "cell_type": "code",
   "execution_count": 15,
   "id": "e10efb23",
   "metadata": {
    "deletable": false,
    "id": "e10efb23",
    "outputId": "9684deba-1934-42d1-99e1-cda61740f822"
   },
   "outputs": [
    {
     "data": {
      "text/plain": [
       "71"
      ]
     },
     "execution_count": 15,
     "metadata": {},
     "output_type": "execute_result"
    }
   ],
   "source": [
    "data.duplicated().sum()"
   ]
  },
  {
   "cell_type": "code",
   "execution_count": 16,
   "id": "df853f20",
   "metadata": {
    "deletable": false,
    "id": "df853f20"
   },
   "outputs": [],
   "source": [
    "data = data.drop_duplicates()"
   ]
  },
  {
   "cell_type": "markdown",
   "id": "627be38f",
   "metadata": {
    "deletable": false,
    "editable": false,
    "id": "627be38f"
   },
   "source": [
    "### Категоризация данных"
   ]
  },
  {
   "cell_type": "markdown",
   "id": "4684c3e0",
   "metadata": {
    "deletable": false,
    "editable": false,
    "id": "4684c3e0"
   },
   "source": [
    "**Задание 16. На основании диапазонов, указанных ниже, создайте в датафрейме `data` столбец `total_income_category` с категориями:**\n",
    "\n",
    "- 0–30000 — `'E'`;\n",
    "- 30001–50000 — `'D'`;\n",
    "- 50001–200000 — `'C'`;\n",
    "- 200001–1000000 — `'B'`;\n",
    "- 1000001 и выше — `'A'`.\n",
    "\n",
    "\n",
    "**Например, кредитополучателю с доходом 25000 нужно назначить категорию `'E'`, а клиенту, получающему 235000, — `'B'`. Используйте собственную функцию с именем `categorize_income()` и метод `apply()`.**"
   ]
  },
  {
   "cell_type": "code",
   "execution_count": 17,
   "id": "78965238",
   "metadata": {
    "deletable": false,
    "id": "78965238"
   },
   "outputs": [],
   "source": [
    "def categorize_income(income):\n",
    "    try:\n",
    "        if 0 <= income <= 30000:\n",
    "            return 'E'\n",
    "        elif 30001 <= income <= 50000:\n",
    "            return 'D'\n",
    "        elif 50001 <= income <= 200000:\n",
    "            return 'C'\n",
    "        elif 200001 <= income <= 1000000:\n",
    "            return 'B'\n",
    "        elif income >= 1000001:\n",
    "            return 'A'\n",
    "    except:\n",
    "        pass"
   ]
  },
  {
   "cell_type": "code",
   "execution_count": 18,
   "id": "0980ada1",
   "metadata": {
    "deletable": false,
    "id": "0980ada1"
   },
   "outputs": [],
   "source": [
    "data['total_income_category'] = data['total_income'].apply(categorize_income)"
   ]
  },
  {
   "cell_type": "markdown",
   "id": "9917bba0",
   "metadata": {
    "deletable": false,
    "editable": false,
    "id": "9917bba0"
   },
   "source": [
    "**Задание 17. Выведите на экран перечень уникальных целей взятия кредита из столбца `purpose`.**"
   ]
  },
  {
   "cell_type": "code",
   "execution_count": 19,
   "id": "ee07b65e",
   "metadata": {
    "deletable": false,
    "id": "ee07b65e",
    "outputId": "673c12d9-7d7e-4ae0-9812-c622c89dd244"
   },
   "outputs": [
    {
     "data": {
      "text/plain": [
       "array(['покупка жилья', 'приобретение автомобиля',\n",
       "       'дополнительное образование', 'сыграть свадьбу',\n",
       "       'операции с жильем', 'образование', 'на проведение свадьбы',\n",
       "       'покупка жилья для семьи', 'покупка недвижимости',\n",
       "       'покупка коммерческой недвижимости', 'покупка жилой недвижимости',\n",
       "       'строительство собственной недвижимости', 'недвижимость',\n",
       "       'строительство недвижимости', 'на покупку подержанного автомобиля',\n",
       "       'на покупку своего автомобиля',\n",
       "       'операции с коммерческой недвижимостью',\n",
       "       'строительство жилой недвижимости', 'жилье',\n",
       "       'операции со своей недвижимостью', 'автомобили',\n",
       "       'заняться образованием', 'сделка с подержанным автомобилем',\n",
       "       'получение образования', 'автомобиль', 'свадьба',\n",
       "       'получение дополнительного образования', 'покупка своего жилья',\n",
       "       'операции с недвижимостью', 'получение высшего образования',\n",
       "       'свой автомобиль', 'сделка с автомобилем',\n",
       "       'профильное образование', 'высшее образование',\n",
       "       'покупка жилья для сдачи', 'на покупку автомобиля', 'ремонт жилью',\n",
       "       'заняться высшим образованием'], dtype=object)"
      ]
     },
     "execution_count": 19,
     "metadata": {},
     "output_type": "execute_result"
    }
   ],
   "source": [
    "data['purpose'].unique()"
   ]
  },
  {
   "cell_type": "markdown",
   "id": "52b79d56",
   "metadata": {
    "deletable": false,
    "editable": false,
    "id": "52b79d56"
   },
   "source": [
    "**Задание 18. Создайте функцию, которая на основании данных из столбца `purpose` сформирует новый столбец `purpose_category`, в который войдут следующие категории:**\n",
    "\n",
    "- `'операции с автомобилем'`,\n",
    "- `'операции с недвижимостью'`,\n",
    "- `'проведение свадьбы'`,\n",
    "- `'получение образования'`.\n",
    "\n",
    "**Например, если в столбце `purpose` находится подстрока `'на покупку автомобиля'`, то в столбце `purpose_category` должна появиться строка `'операции с автомобилем'`.**\n",
    "\n",
    "**Используйте собственную функцию с именем `categorize_purpose()` и метод `apply()`. Изучите данные в столбце `purpose` и определите, какие подстроки помогут вам правильно определить категорию.**"
   ]
  },
  {
   "cell_type": "code",
   "execution_count": 20,
   "id": "be41da5d",
   "metadata": {
    "deletable": false,
    "id": "be41da5d"
   },
   "outputs": [],
   "source": [
    "def categorize_purpose(row):\n",
    "    try:\n",
    "        if 'автом' in row:\n",
    "            return 'операции с автомобилем'\n",
    "        elif 'жил' in row or 'недвиж' in row:\n",
    "            return 'операции с недвижимостью'\n",
    "        elif 'свад' in row:\n",
    "            return 'проведение свадьбы'\n",
    "        elif 'образов' in row:\n",
    "            return 'получение образования'\n",
    "    except:\n",
    "        return 'нет категории'"
   ]
  },
  {
   "cell_type": "code",
   "execution_count": 21,
   "id": "94c4a19a",
   "metadata": {
    "deletable": false,
    "id": "94c4a19a"
   },
   "outputs": [],
   "source": [
    "data['purpose_category'] = data['purpose'].apply(categorize_purpose)"
   ]
  },
  {
   "cell_type": "markdown",
   "id": "3d596c34",
   "metadata": {
    "deletable": false,
    "editable": false,
    "id": "3d596c34"
   },
   "source": [
    "### Шаг 3. Исследуйте данные и ответьте на вопросы"
   ]
  },
  {
   "cell_type": "markdown",
   "id": "648db036",
   "metadata": {
    "deletable": false,
    "editable": false,
    "id": "648db036"
   },
   "source": [
    "#### 3.1 Есть ли зависимость между количеством детей и возвратом кредита в срок?"
   ]
  },
  {
   "cell_type": "markdown",
   "id": "15b0c996",
   "metadata": {},
   "source": [
    "Для определения наличия зависимости между количеством детей и возвратом кредита в срок проведем расчет процента заемщиков, у которых была задолженность по возврату кредитов, по каждой категории."
   ]
  },
  {
   "cell_type": "code",
   "execution_count": 22,
   "id": "0edc77fc",
   "metadata": {},
   "outputs": [
    {
     "name": "stdout",
     "output_type": "stream",
     "text": [
      "          debt_quantity  total_quantity  debt_percent\n",
      "children                                             \n",
      "0                  1063           14091      7.543822\n",
      "1                   444            4808      9.234609\n",
      "2                   194            2052      9.454191\n",
      "3                    27             330      8.181818\n",
      "4                     4              41      9.756098\n",
      "5                     0               9      0.000000\n"
     ]
    }
   ],
   "source": [
    "child_debt = pd.DataFrame()\n",
    "child_debt['debt_quantity'] = data.groupby('children')['debt'].agg('sum')\n",
    "#number of borrowers with overdue debt by category\n",
    "child_debt['total_quantity'] = data['children'].value_counts()\n",
    "#number of borrowers by category\n",
    "child_debt['debt_percent'] = (data.groupby('children')['debt'].agg('sum') / data['children'].value_counts())*100\n",
    "#percent of borrowers with overdue debt by category\n",
    "print(child_debt.sort_values(by='children',ascending=True))"
   ]
  },
  {
   "cell_type": "markdown",
   "id": "d6afd907",
   "metadata": {
    "deletable": false,
    "id": "2eb9088e"
   },
   "source": [
    "**Вывод:** В целом наблюдаем увеличение процента заемщиков с задолженностью по возврату кредита в зависимости от наличия детей. Также наблюдаем тенденцию к увеличению процента должников в зависимости от количества детей. Хотя мы и видим, что среди заемщиков с 3 детьми меньшая доля должников, чем среди заемщиков с 1-2 детьми и с 4 детьми, а среди заемщиков с 5 детьми должников нет совсем. Это связано с небольшим количеством заемщиков в данных категориях. Поэтому в этих категориях платежеспособность каждого заемщика сильно влияет на процент возвратов как в большую, так и в меньшую сторону. Так, заемщиков с 5 детьми всего 9. Если хоть один из них допустит просрочку, то процент заемщиков с задолженностью в данной категории вырастет сразу до 11,11%."
   ]
  },
  {
   "cell_type": "markdown",
   "id": "74c9b3a7",
   "metadata": {
    "deletable": false,
    "editable": false,
    "id": "74c9b3a7"
   },
   "source": [
    "#### 3.2 Есть ли зависимость между семейным положением и возвратом кредита в срок?"
   ]
  },
  {
   "cell_type": "markdown",
   "id": "e62d27dd",
   "metadata": {},
   "source": [
    "Для определения наличия зависимости между семейным положением и возвратом кредита в срок проведем расчеты, аналогичные расчетам в п. 3.1, по столбцу family_status."
   ]
  },
  {
   "cell_type": "code",
   "execution_count": 23,
   "id": "b5e1745e",
   "metadata": {},
   "outputs": [
    {
     "name": "stdout",
     "output_type": "stream",
     "text": [
      "                       debt_quantity  total_quantity  debt_percent\n",
      "family_status                                                     \n",
      "Не женат / не замужем            273            2796      9.763948\n",
      "гражданский брак                 385            4134      9.313014\n",
      "женат / замужем                  927           12261      7.560558\n",
      "в разводе                         84            1189      7.064760\n",
      "вдовец / вдова                    63             951      6.624606\n"
     ]
    }
   ],
   "source": [
    "fs_debt = pd.DataFrame()\n",
    "fs_debt['debt_quantity'] = data.groupby('family_status')['debt'].agg('sum')\n",
    "#number of borrowers with overdue debt by category\n",
    "fs_debt['total_quantity'] = data['family_status'].value_counts()\n",
    "#number of borrowers by category\n",
    "fs_debt['debt_percent'] = (data.groupby('family_status')['debt'].agg('sum') / data['family_status'].value_counts())*100\n",
    "#percent of borrowers with overdue debt by category\n",
    "print(fs_debt.sort_values(by='debt_percent',ascending=False))"
   ]
  },
  {
   "cell_type": "markdown",
   "id": "c389ca63",
   "metadata": {
    "deletable": false,
    "id": "c389ca63"
   },
   "source": [
    "**Вывод:** По полученным данным можно сказать, что зависимость между семейным положением и возвратом кредита в срок есть. Меньше всего должников среди вдовцов. Женатые и находящиеся в разводе заемщики имеют задолженность на примерно 1% чаще, чем вдовцы. Не женатые и живущие в гражданском браке заемщики не возвращают кредиты в срок чаще остальных на 2-3%.  \n",
    "При этом также стоит учитывать численность каждой категории. С учетом количества заемщиков в каждой категории можно сказать, что наиболее надежными являются женатые заемщики."
   ]
  },
  {
   "cell_type": "markdown",
   "id": "9529de68",
   "metadata": {
    "deletable": false,
    "editable": false,
    "id": "9529de68"
   },
   "source": [
    "#### 3.3 Есть ли зависимость между уровнем дохода и возвратом кредита в срок?"
   ]
  },
  {
   "cell_type": "markdown",
   "id": "d4f2c150",
   "metadata": {
    "deletable": false,
    "id": "8787f44a"
   },
   "source": [
    "Для определения наличия зависимости между семейным положением и возвратом кредита в срок проведем расчеты, аналогичные расчетам в п. 3.1, по столбцу total_income_category.  \n",
    "\n",
    "Категории по уровню дохода:  \n",
    "0–30000 — 'E';  \n",
    "30001–50000 — 'D';  \n",
    "50001–200000 — 'C';  \n",
    "200001–1000000 — 'B';  \n",
    "1000001 и выше — 'A'."
   ]
  },
  {
   "cell_type": "code",
   "execution_count": 24,
   "id": "f048cad8",
   "metadata": {},
   "outputs": [
    {
     "name": "stdout",
     "output_type": "stream",
     "text": [
      "                       debt_quantity  total_quantity  debt_percent\n",
      "total_income_category                                             \n",
      "A                                  2              25      8.000000\n",
      "B                                354            5014      7.060231\n",
      "C                               1353           15921      8.498210\n",
      "D                                 21             349      6.017192\n",
      "E                                  2              22      9.090909\n"
     ]
    }
   ],
   "source": [
    "total_income_debt = pd.DataFrame()\n",
    "total_income_debt['debt_quantity'] = data.groupby('total_income_category')['debt'].agg('sum')\n",
    "#number of borrowers with overdue debt by category\n",
    "total_income_debt['total_quantity'] = data['total_income_category'].value_counts()\n",
    "#number of borrowers by category\n",
    "total_income_debt['debt_percent'] = (data.groupby('total_income_category')['debt'].agg('sum') / data['total_income_category'].value_counts())*100\n",
    "#percent of borrowers with overdue debt by category\n",
    "print(total_income_debt.sort_values(by='total_income_category',ascending=True))"
   ]
  },
  {
   "cell_type": "markdown",
   "id": "6dd14b57",
   "metadata": {
    "deletable": false,
    "id": "6dd14b57"
   },
   "source": [
    "**Вывод:** Прямая зависимость между уровнем дохода и возвратом кредита в срок не выявлена. Процент должников с уровнем дохода A и E довольно высокий, что, вероятно, объясняется небольшим количеством заемщиков в данных категориях, а в категории E еще и низким доходом.  Меньше всего должников среди заемщиков с уровнем дохода чуть выше минимального (D) и чуть меньше максимального (B). В самой многочисленной категории со уровнем дохода C самый высокий процент должников (если не считать малочисленную категорию E). Основная масса заемщиков относится к уровням дохода C и B, в связи с чем можно сделать вывод, что наиболее надежные заемщики имеют уровень дохода B. При этом отнести заемщиков категории С к наименее надежным нельзя, так как это самая многочисленная категория заемщиков, вероятно являющаяся для банка целевой."
   ]
  },
  {
   "cell_type": "markdown",
   "id": "1dcc9b12",
   "metadata": {
    "deletable": false,
    "editable": false,
    "id": "1dcc9b12"
   },
   "source": [
    "#### 3.4 Как разные цели кредита влияют на его возврат в срок?"
   ]
  },
  {
   "cell_type": "markdown",
   "id": "83869fca",
   "metadata": {},
   "source": [
    "Для определения наличия зависимости между целью оформления кредита и возвратом кредита в срок проведем расчеты, аналогичные расчетам в п. 3.1, по столбцу purpose_category."
   ]
  },
  {
   "cell_type": "code",
   "execution_count": 25,
   "id": "ec3662db",
   "metadata": {},
   "outputs": [
    {
     "name": "stdout",
     "output_type": "stream",
     "text": [
      "                          debt_quantity  total_quantity  debt_percent\n",
      "purpose_category                                                     \n",
      "операции с автомобилем              400            4279      9.347978\n",
      "получение образования               369            3988      9.252758\n",
      "проведение свадьбы                  183            2313      7.911803\n",
      "операции с недвижимостью            780           10751      7.255139\n"
     ]
    }
   ],
   "source": [
    "purp_debt = pd.DataFrame()\n",
    "purp_debt['debt_quantity'] = data.groupby('purpose_category')['debt'].agg('sum')\n",
    "#number of borrowers with overdue debt by category\n",
    "purp_debt['total_quantity'] = data['purpose_category'].value_counts()\n",
    "#number of borrowers by category\n",
    "purp_debt['debt_percent'] = (data.groupby('purpose_category')['debt'].agg('sum') / data['purpose_category'].value_counts())*100\n",
    "#percent of borrowers with overdue debt by category\n",
    "print(purp_debt.sort_values(by='debt_percent',ascending=False))"
   ]
  },
  {
   "cell_type": "markdown",
   "id": "cf05ed63",
   "metadata": {
    "deletable": false,
    "id": "cf05ed63"
   },
   "source": [
    "**Вывод:** В соответствии с проведенным расчетом, чаще всего задолженность имеют заемщики, оформлявшие кредит на операции с автомобилем и на получение образования. На проведение свадьбы кредиты оформляют меньше всего, но процент должников в данной категории средний (в сравнении с остальными категориями). Чаще всего оформляют кредиты на операции с недвижимостью, и в данной категории меньше всего должников. Таким образом, наиболее надежными являются заемщики, оформляющие кредит на недвижимость."
   ]
  },
  {
   "cell_type": "markdown",
   "id": "46c1f10b",
   "metadata": {
    "deletable": false,
    "editable": false,
    "id": "46c1f10b"
   },
   "source": [
    "#### 3.5 Приведите возможные причины появления пропусков в исходных данных."
   ]
  },
  {
   "cell_type": "markdown",
   "id": "3697d2a9",
   "metadata": {
    "deletable": false,
    "id": "3697d2a9"
   },
   "source": [
    "*Ответ:* В исходных данных одинаковое количество пропусков в столбцах days_employed и total_income, что говорит о том, что пропуски в ячейках в этих столбцах не случайны.  \n",
    "\n",
    "Мое предположение было такое, что скорее всего эти данные не заполнены у тех категорий заемщиков, которые не имеют трудового стажа и, соответственно, ежемесячного дохода, например, у студентов.  \n",
    "\n",
    "Но после отбора в таблице строк с пустыми строками мое предположение не подтвердилось:  \n",
    "income_type  \n",
    "сотрудник          1105  \n",
    "компаньон           508  \n",
    "пенсионер           413  \n",
    "госслужащий         147  \n",
    "предприниматель       1  \n",
    "\n",
    "Судя по этим сведениям, данные о стаже и доходе могли быть не указаны этими заемщиками намеренно с целью не раскрывать информацию о своем доходе. Но так как данные не указаны в обоих столбцах, возможно, при заполнении анкеты происходил сбой, и часть анкеты с данными о трудовом стаже и доходе не подгрузилась."
   ]
  },
  {
   "cell_type": "markdown",
   "id": "3137d257",
   "metadata": {
    "deletable": false,
    "editable": false,
    "id": "3137d257"
   },
   "source": [
    "#### 3.6 Объясните, почему заполнить пропуски медианным значением — лучшее решение для количественных переменных."
   ]
  },
  {
   "cell_type": "markdown",
   "id": "cf40012a",
   "metadata": {
    "deletable": false,
    "id": "cf40012a"
   },
   "source": [
    "*Ответ:* Заполнить пропуски медианным значением — лучшее решение для количественных переменных, так как крайние значения в конкретной категории могут быть очень большими или очень маленькими относительно других значений. В такой ситуации рассчитанное среднее значение может некорректно отражать реальную ситуацию. Также замена пропусков средним значением при наличии выбросов может исказить распределение данных. Медианное значение в такой ситуации фактически будет ближе к типичному значению в наборе данных, особенно когда есть выбросы. "
   ]
  },
  {
   "cell_type": "markdown",
   "id": "57bc304e",
   "metadata": {
    "deletable": false,
    "editable": false,
    "id": "57bc304e"
   },
   "source": [
    "### Шаг 4: общий вывод."
   ]
  },
  {
   "cell_type": "markdown",
   "id": "1ab75d1c",
   "metadata": {
    "deletable": false,
    "id": "1ab75d1c"
   },
   "source": [
    "В ходе данного исследования было проверено:\n",
    "- есть ли зависимость между количеством детей и возвратом кредита в срок;\n",
    "- есть ли зависимость между семейным положением и возвратом кредита в срок;\n",
    "- есть ли зависимость между уровнем дохода и возвратом кредита в срок;\n",
    "- как разные цели кредита влияют на его возврат в срок.\n",
    "\n",
    "Для определения наличия зависимости был произведен расчет доли заемщиков с задолженностью от общего числа заемщиков по категориям. \n",
    "\n",
    "По результатам расчетов можно сделать следующие выводы.\n",
    "- Зависимость между количеством детей и возвратом кредита в срок есть, самые надежные заемщики те, кто не имеет детей. Далее наблюдается тенценция к увеличению процента должников прямо пропорционально количеству детей.\n",
    "- Зависимость между семейным положением и возвратом кредита в срок также имеется, самые надежные заемщики, состоящие в официальном браке.\n",
    "- Прямая зависимость между уровнем дохода и возвратом кредита в срок не выявлена. Самые надежные заемщики с доходом 200001–1000000 (категория 'B'). В категории с уровнем дохода 50001–200000 ('C') самый высокий процент должников. При этом отнести заемщиков категории С к наименее надежным нельзя, так как это самая многочисленная категория заемщиков, являющаяся для банка целевой.\n",
    "- Цель кредита значительно влияет на его возврат в срок. Наиболее надежными являются заемщики, оформляющие кредит на недвижимость. И с этой целью кредиты оформляют чаще всего. Наименее надежными являются заемщики, оформляющие кредит на автомобиль или образование.\n",
    "\n",
    "Таким образом, каждый из исследуемых факторов имеет влияние на возврат кредита в срок.\n",
    "Поэтому при скоринге необходимо учитывать совокупность факторов.  \n",
    "Например, идеальный заемщик для банка не имеет детей, женат, имеет уровень дохода 200001–1000000 и оформляет кредит на операции с недвижимостью.  \n",
    "Наиболее опасное сочетание - наличие более 2 детей, не состоит в официальном браке, имеет доход меньше 30000 и оформляет кредит на автомобиль или образование. \n",
    "\n",
    "Для проведения скоринга рекомендую присвоить каждой категории заемщиков по каждому из исследованных факторов баллы в зависимости от надежности, где 1 - наиболее надежный, и считать сумму баллов потенциального заемщика. Чем сумма баллов выше, тем больше вероятность невозврата кредита."
   ]
  },
  {
   "cell_type": "markdown",
   "id": "592ad7fb",
   "metadata": {
    "deletable": false,
    "id": "7fcff25e"
   },
   "source": []
  },
  {
   "cell_type": "markdown",
   "id": "cf4fc39c",
   "metadata": {
    "deletable": false,
    "id": "c602bc8b"
   },
   "source": []
  },
  {
   "cell_type": "markdown",
   "id": "150af30c-5f6a-4373-a791-947208005f57",
   "metadata": {
    "deletable": false,
    "editable": false,
    "id": "ffe86f65"
   },
   "source": []
  },
  {
   "cell_type": "code",
   "execution_count": null,
   "id": "baddd2ca-d29e-4391-96d0-de525fb418c0",
   "metadata": {
    "deletable": false,
    "editable": false,
    "id": "ffe86f65"
   },
   "outputs": [],
   "source": []
  },
  {
   "cell_type": "markdown",
   "id": "3a6296f6-de26-488c-9a37-2fe18f4d07af",
   "metadata": {
    "deletable": false,
    "editable": false,
    "id": "ffe86f65"
   },
   "source": [
    "Во второй части проекта вы выполните шаги 3 и 4. Их вручную проверит ревьюер."
   ]
  },
  {
   "cell_type": "markdown",
   "id": "3dd22dbe-4e64-4387-b63d-7f4925cbb9e1",
   "metadata": {
    "deletable": false,
    "editable": false,
    "id": "ffe86f65"
   },
   "source": [
    "Чтобы вам не пришлось писать код заново для шагов 1 и 2, мы добавили авторские решения в ячейки с кодом. "
   ]
  },
  {
   "cell_type": "markdown",
   "id": "bcf9c240",
   "metadata": {
    "deletable": false,
    "id": "8098ab3b"
   },
   "source": [
    "<div class=\"alert-success\"> "
   ]
  }
 ],
 "metadata": {
  "ExecuteTimeLog": [
   {
    "duration": 528,
    "start_time": "2023-10-28T18:21:59.670Z"
   },
   {
    "duration": 21,
    "start_time": "2023-10-28T18:22:02.656Z"
   },
   {
    "duration": 15,
    "start_time": "2023-10-28T18:22:33.651Z"
   },
   {
    "duration": 432,
    "start_time": "2023-10-28T18:22:43.387Z"
   },
   {
    "duration": 23,
    "start_time": "2023-10-28T18:22:43.821Z"
   },
   {
    "duration": 14,
    "start_time": "2023-10-28T18:22:43.848Z"
   },
   {
    "duration": 12,
    "start_time": "2023-10-28T18:22:43.864Z"
   },
   {
    "duration": 39,
    "start_time": "2023-10-28T18:22:43.878Z"
   },
   {
    "duration": 3,
    "start_time": "2023-10-28T18:22:43.919Z"
   },
   {
    "duration": 25,
    "start_time": "2023-10-28T18:22:43.924Z"
   },
   {
    "duration": 5,
    "start_time": "2023-10-28T18:22:43.950Z"
   },
   {
    "duration": 14,
    "start_time": "2023-10-28T18:22:43.957Z"
   },
   {
    "duration": 5,
    "start_time": "2023-10-28T18:22:43.972Z"
   },
   {
    "duration": 54,
    "start_time": "2023-10-28T18:22:43.978Z"
   },
   {
    "duration": 19,
    "start_time": "2023-10-28T18:22:44.034Z"
   },
   {
    "duration": 5,
    "start_time": "2023-10-28T18:22:44.054Z"
   },
   {
    "duration": 15,
    "start_time": "2023-10-28T18:22:44.060Z"
   },
   {
    "duration": 44,
    "start_time": "2023-10-28T18:22:44.077Z"
   },
   {
    "duration": 28,
    "start_time": "2023-10-28T18:22:44.123Z"
   },
   {
    "duration": 4,
    "start_time": "2023-10-28T18:22:44.153Z"
   },
   {
    "duration": 16,
    "start_time": "2023-10-28T18:22:44.159Z"
   },
   {
    "duration": 8,
    "start_time": "2023-10-28T18:22:44.177Z"
   },
   {
    "duration": 11,
    "start_time": "2023-10-28T18:22:44.188Z"
   },
   {
    "duration": 29,
    "start_time": "2023-10-28T18:22:44.202Z"
   },
   {
    "duration": 43,
    "start_time": "2023-10-28T18:22:44.233Z"
   },
   {
    "duration": 5,
    "start_time": "2023-10-28T18:22:44.278Z"
   },
   {
    "duration": 7,
    "start_time": "2023-10-28T18:22:44.285Z"
   },
   {
    "duration": 6,
    "start_time": "2023-10-28T18:22:44.293Z"
   },
   {
    "duration": 4,
    "start_time": "2023-10-28T19:14:30.306Z"
   },
   {
    "duration": 4,
    "start_time": "2023-10-28T19:21:34.396Z"
   },
   {
    "duration": 5,
    "start_time": "2023-10-28T19:22:38.056Z"
   },
   {
    "duration": 7,
    "start_time": "2023-10-28T19:23:43.676Z"
   },
   {
    "duration": 6,
    "start_time": "2023-10-28T19:26:47.346Z"
   },
   {
    "duration": 7,
    "start_time": "2023-10-28T19:36:52.547Z"
   },
   {
    "duration": 6,
    "start_time": "2023-10-28T19:37:26.429Z"
   },
   {
    "duration": 65,
    "start_time": "2023-10-28T19:41:02.023Z"
   },
   {
    "duration": 8,
    "start_time": "2023-10-28T19:41:16.351Z"
   },
   {
    "duration": 8,
    "start_time": "2023-10-28T20:10:42.488Z"
   },
   {
    "duration": 203,
    "start_time": "2023-10-28T20:10:49.103Z"
   },
   {
    "duration": 93,
    "start_time": "2023-10-28T20:10:54.733Z"
   },
   {
    "duration": 85,
    "start_time": "2023-10-28T20:11:03.573Z"
   },
   {
    "duration": 10,
    "start_time": "2023-10-28T20:11:21.314Z"
   },
   {
    "duration": 8,
    "start_time": "2023-10-28T20:12:22.334Z"
   },
   {
    "duration": 8,
    "start_time": "2023-10-28T20:12:28.230Z"
   },
   {
    "duration": 8,
    "start_time": "2023-10-28T20:12:37.529Z"
   },
   {
    "duration": 8,
    "start_time": "2023-10-28T20:12:56.819Z"
   },
   {
    "duration": 6,
    "start_time": "2023-10-28T20:13:32.490Z"
   },
   {
    "duration": 8,
    "start_time": "2023-10-28T20:13:42.266Z"
   },
   {
    "duration": 8,
    "start_time": "2023-10-28T20:14:09.498Z"
   },
   {
    "duration": 4,
    "start_time": "2023-10-28T20:14:45.954Z"
   },
   {
    "duration": 5,
    "start_time": "2023-10-28T20:15:03.796Z"
   },
   {
    "duration": 46,
    "start_time": "2023-10-29T17:57:42.288Z"
   },
   {
    "duration": 706,
    "start_time": "2023-10-29T17:57:51.229Z"
   },
   {
    "duration": 21,
    "start_time": "2023-10-29T17:57:51.937Z"
   },
   {
    "duration": 16,
    "start_time": "2023-10-29T17:57:51.960Z"
   },
   {
    "duration": 11,
    "start_time": "2023-10-29T17:57:51.978Z"
   },
   {
    "duration": 50,
    "start_time": "2023-10-29T17:57:51.991Z"
   },
   {
    "duration": 3,
    "start_time": "2023-10-29T17:57:52.043Z"
   },
   {
    "duration": 27,
    "start_time": "2023-10-29T17:57:52.047Z"
   },
   {
    "duration": 6,
    "start_time": "2023-10-29T17:57:52.076Z"
   },
   {
    "duration": 39,
    "start_time": "2023-10-29T17:57:52.084Z"
   },
   {
    "duration": 4,
    "start_time": "2023-10-29T17:57:52.127Z"
   },
   {
    "duration": 49,
    "start_time": "2023-10-29T17:57:52.133Z"
   },
   {
    "duration": 11,
    "start_time": "2023-10-29T17:57:52.184Z"
   },
   {
    "duration": 7,
    "start_time": "2023-10-29T17:57:52.197Z"
   },
   {
    "duration": 31,
    "start_time": "2023-10-29T17:57:52.206Z"
   },
   {
    "duration": 30,
    "start_time": "2023-10-29T17:57:52.238Z"
   },
   {
    "duration": 19,
    "start_time": "2023-10-29T17:57:52.270Z"
   },
   {
    "duration": 4,
    "start_time": "2023-10-29T17:57:52.291Z"
   },
   {
    "duration": 15,
    "start_time": "2023-10-29T17:57:52.296Z"
   },
   {
    "duration": 6,
    "start_time": "2023-10-29T17:57:52.323Z"
   },
   {
    "duration": 8,
    "start_time": "2023-10-29T17:57:52.331Z"
   },
   {
    "duration": 24,
    "start_time": "2023-10-29T17:57:52.341Z"
   },
   {
    "duration": 12,
    "start_time": "2023-10-29T17:57:52.368Z"
   },
   {
    "duration": 13,
    "start_time": "2023-10-29T17:57:52.382Z"
   },
   {
    "duration": 13,
    "start_time": "2023-10-29T17:57:52.397Z"
   },
   {
    "duration": 12,
    "start_time": "2023-10-29T17:57:52.412Z"
   },
   {
    "duration": 18,
    "start_time": "2023-10-29T17:57:52.426Z"
   },
   {
    "duration": 6,
    "start_time": "2023-10-29T17:59:01.077Z"
   },
   {
    "duration": 8,
    "start_time": "2023-10-29T17:59:30.084Z"
   },
   {
    "duration": 8,
    "start_time": "2023-10-29T18:01:32.629Z"
   },
   {
    "duration": 10,
    "start_time": "2023-10-29T18:01:36.906Z"
   },
   {
    "duration": 6,
    "start_time": "2023-10-29T18:11:37.822Z"
   },
   {
    "duration": 7,
    "start_time": "2023-10-29T18:13:19.972Z"
   },
   {
    "duration": 8,
    "start_time": "2023-10-29T18:13:47.027Z"
   },
   {
    "duration": 65,
    "start_time": "2023-10-29T18:29:38.743Z"
   },
   {
    "duration": 7,
    "start_time": "2023-10-29T18:29:43.872Z"
   },
   {
    "duration": 6,
    "start_time": "2023-10-29T18:30:39.814Z"
   },
   {
    "duration": 9,
    "start_time": "2023-10-29T18:30:40.831Z"
   },
   {
    "duration": 21,
    "start_time": "2023-10-29T18:49:38.489Z"
   },
   {
    "duration": 16,
    "start_time": "2023-10-29T18:50:12.228Z"
   },
   {
    "duration": 476,
    "start_time": "2023-10-29T18:50:31.633Z"
   },
   {
    "duration": 23,
    "start_time": "2023-10-29T18:50:32.111Z"
   },
   {
    "duration": 27,
    "start_time": "2023-10-29T18:50:32.135Z"
   },
   {
    "duration": 29,
    "start_time": "2023-10-29T18:50:32.164Z"
   },
   {
    "duration": 48,
    "start_time": "2023-10-29T18:50:32.195Z"
   },
   {
    "duration": 3,
    "start_time": "2023-10-29T18:50:32.245Z"
   },
   {
    "duration": 38,
    "start_time": "2023-10-29T18:50:32.250Z"
   },
   {
    "duration": 21,
    "start_time": "2023-10-29T18:50:32.290Z"
   },
   {
    "duration": 37,
    "start_time": "2023-10-29T18:50:32.312Z"
   },
   {
    "duration": 27,
    "start_time": "2023-10-29T18:50:32.351Z"
   },
   {
    "duration": 51,
    "start_time": "2023-10-29T18:50:32.380Z"
   },
   {
    "duration": 12,
    "start_time": "2023-10-29T18:50:32.433Z"
   },
   {
    "duration": 7,
    "start_time": "2023-10-29T18:50:32.446Z"
   },
   {
    "duration": 30,
    "start_time": "2023-10-29T18:50:32.456Z"
   },
   {
    "duration": 40,
    "start_time": "2023-10-29T18:50:32.488Z"
   },
   {
    "duration": 16,
    "start_time": "2023-10-29T18:50:32.530Z"
   },
   {
    "duration": 9,
    "start_time": "2023-10-29T18:50:32.548Z"
   },
   {
    "duration": 36,
    "start_time": "2023-10-29T18:50:32.559Z"
   },
   {
    "duration": 40,
    "start_time": "2023-10-29T18:50:32.597Z"
   },
   {
    "duration": 4,
    "start_time": "2023-10-29T18:50:32.638Z"
   },
   {
    "duration": 23,
    "start_time": "2023-10-29T18:50:32.643Z"
   },
   {
    "duration": 12,
    "start_time": "2023-10-29T18:50:32.668Z"
   },
   {
    "duration": 16,
    "start_time": "2023-10-29T18:50:32.681Z"
   },
   {
    "duration": 12,
    "start_time": "2023-10-29T18:50:32.699Z"
   },
   {
    "duration": 27,
    "start_time": "2023-10-29T18:50:32.713Z"
   },
   {
    "duration": 12,
    "start_time": "2023-10-29T18:50:32.742Z"
   },
   {
    "duration": 15,
    "start_time": "2023-10-29T18:50:32.756Z"
   },
   {
    "duration": 22,
    "start_time": "2023-10-29T18:50:32.773Z"
   },
   {
    "duration": 27,
    "start_time": "2023-10-29T18:50:32.797Z"
   },
   {
    "duration": 505,
    "start_time": "2023-10-29T20:58:22.494Z"
   },
   {
    "duration": 25,
    "start_time": "2023-10-29T20:58:23.002Z"
   },
   {
    "duration": 31,
    "start_time": "2023-10-29T20:58:23.029Z"
   },
   {
    "duration": 43,
    "start_time": "2023-10-29T20:58:23.063Z"
   },
   {
    "duration": 50,
    "start_time": "2023-10-29T20:58:23.107Z"
   },
   {
    "duration": 3,
    "start_time": "2023-10-29T20:58:23.159Z"
   },
   {
    "duration": 37,
    "start_time": "2023-10-29T20:58:23.164Z"
   },
   {
    "duration": 8,
    "start_time": "2023-10-29T20:58:23.203Z"
   },
   {
    "duration": 15,
    "start_time": "2023-10-29T20:58:23.213Z"
   },
   {
    "duration": 4,
    "start_time": "2023-10-29T20:58:23.233Z"
   },
   {
    "duration": 39,
    "start_time": "2023-10-29T20:58:23.239Z"
   },
   {
    "duration": 12,
    "start_time": "2023-10-29T20:58:23.280Z"
   },
   {
    "duration": 31,
    "start_time": "2023-10-29T20:58:23.294Z"
   },
   {
    "duration": 112,
    "start_time": "2023-10-29T20:58:23.327Z"
   },
   {
    "duration": 91,
    "start_time": "2023-10-29T20:58:23.440Z"
   },
   {
    "duration": 231,
    "start_time": "2023-10-29T20:58:23.533Z"
   },
   {
    "duration": 32,
    "start_time": "2023-10-29T20:58:23.765Z"
   },
   {
    "duration": 189,
    "start_time": "2023-10-29T20:58:23.799Z"
   },
   {
    "duration": 123,
    "start_time": "2023-10-29T20:58:23.990Z"
   },
   {
    "duration": 177,
    "start_time": "2023-10-29T20:58:24.115Z"
   },
   {
    "duration": 211,
    "start_time": "2023-10-29T20:58:24.294Z"
   },
   {
    "duration": 48,
    "start_time": "2023-10-29T20:58:24.506Z"
   },
   {
    "duration": 23,
    "start_time": "2023-10-29T20:58:24.555Z"
   },
   {
    "duration": 15,
    "start_time": "2023-10-29T20:58:24.580Z"
   },
   {
    "duration": 116,
    "start_time": "2023-10-29T20:58:24.597Z"
   },
   {
    "duration": 57,
    "start_time": "2023-10-29T20:58:24.715Z"
   },
   {
    "duration": 117,
    "start_time": "2023-10-29T20:58:24.774Z"
   },
   {
    "duration": 208,
    "start_time": "2023-10-29T20:58:24.895Z"
   },
   {
    "duration": 52,
    "start_time": "2023-10-29T20:58:25.105Z"
   },
   {
    "duration": 451,
    "start_time": "2023-10-29T21:22:23.099Z"
   },
   {
    "duration": 19,
    "start_time": "2023-10-29T21:22:23.552Z"
   },
   {
    "duration": 13,
    "start_time": "2023-10-29T21:22:23.798Z"
   },
   {
    "duration": 8,
    "start_time": "2023-10-29T21:22:24.548Z"
   },
   {
    "duration": 29,
    "start_time": "2023-10-29T21:22:24.947Z"
   },
   {
    "duration": 3,
    "start_time": "2023-10-29T21:22:25.501Z"
   },
   {
    "duration": 6,
    "start_time": "2023-10-29T21:22:25.898Z"
   },
   {
    "duration": 4,
    "start_time": "2023-10-29T21:22:26.492Z"
   },
   {
    "duration": 7,
    "start_time": "2023-10-29T21:22:26.887Z"
   },
   {
    "duration": 4,
    "start_time": "2023-10-29T21:22:27.298Z"
   },
   {
    "duration": 28,
    "start_time": "2023-10-29T21:22:27.932Z"
   },
   {
    "duration": 9,
    "start_time": "2023-10-29T21:22:28.465Z"
   },
   {
    "duration": 3,
    "start_time": "2023-10-29T21:22:29.064Z"
   },
   {
    "duration": 10,
    "start_time": "2023-10-29T21:22:29.699Z"
   },
   {
    "duration": 19,
    "start_time": "2023-10-29T21:22:30.081Z"
   },
   {
    "duration": 15,
    "start_time": "2023-10-29T21:22:30.308Z"
   },
   {
    "duration": 4,
    "start_time": "2023-10-29T21:22:30.931Z"
   },
   {
    "duration": 11,
    "start_time": "2023-10-29T21:22:31.150Z"
   },
   {
    "duration": 8,
    "start_time": "2023-10-29T21:22:31.633Z"
   },
   {
    "duration": 3,
    "start_time": "2023-10-29T21:22:32.099Z"
   },
   {
    "duration": 14,
    "start_time": "2023-10-29T21:22:32.509Z"
   },
   {
    "duration": 4,
    "start_time": "2023-10-29T21:22:57.333Z"
   },
   {
    "duration": 7,
    "start_time": "2023-10-29T21:22:57.865Z"
   },
   {
    "duration": 759,
    "start_time": "2023-10-30T15:05:14.394Z"
   },
   {
    "duration": 23,
    "start_time": "2023-10-30T15:05:15.579Z"
   },
   {
    "duration": 17,
    "start_time": "2023-10-30T15:05:16.306Z"
   },
   {
    "duration": 11,
    "start_time": "2023-10-30T15:05:17.158Z"
   },
   {
    "duration": 36,
    "start_time": "2023-10-30T15:05:17.538Z"
   },
   {
    "duration": 4,
    "start_time": "2023-10-30T15:05:18.088Z"
   },
   {
    "duration": 8,
    "start_time": "2023-10-30T15:05:18.438Z"
   },
   {
    "duration": 5,
    "start_time": "2023-10-30T15:05:19.005Z"
   },
   {
    "duration": 7,
    "start_time": "2023-10-30T15:05:19.374Z"
   },
   {
    "duration": 5,
    "start_time": "2023-10-30T15:05:19.774Z"
   },
   {
    "duration": 35,
    "start_time": "2023-10-30T15:05:20.322Z"
   },
   {
    "duration": 10,
    "start_time": "2023-10-30T15:05:20.689Z"
   },
   {
    "duration": 4,
    "start_time": "2023-10-30T15:05:21.255Z"
   },
   {
    "duration": 12,
    "start_time": "2023-10-30T15:05:21.842Z"
   },
   {
    "duration": 20,
    "start_time": "2023-10-30T15:05:22.205Z"
   },
   {
    "duration": 48,
    "start_time": "2023-10-30T15:05:22.391Z"
   },
   {
    "duration": 3,
    "start_time": "2023-10-30T15:05:22.977Z"
   },
   {
    "duration": 12,
    "start_time": "2023-10-30T15:05:23.171Z"
   },
   {
    "duration": 7,
    "start_time": "2023-10-30T15:05:23.590Z"
   },
   {
    "duration": 3,
    "start_time": "2023-10-30T15:05:23.989Z"
   },
   {
    "duration": 10,
    "start_time": "2023-10-30T15:05:24.200Z"
   },
   {
    "duration": 49,
    "start_time": "2023-10-31T16:18:39.107Z"
   },
   {
    "duration": 531,
    "start_time": "2023-10-31T16:18:47.764Z"
   },
   {
    "duration": 22,
    "start_time": "2023-10-31T16:18:48.297Z"
   },
   {
    "duration": 29,
    "start_time": "2023-10-31T16:18:48.321Z"
   },
   {
    "duration": 23,
    "start_time": "2023-10-31T16:18:48.351Z"
   },
   {
    "duration": 56,
    "start_time": "2023-10-31T16:18:48.376Z"
   },
   {
    "duration": 5,
    "start_time": "2023-10-31T16:18:48.434Z"
   },
   {
    "duration": 18,
    "start_time": "2023-10-31T16:18:48.441Z"
   },
   {
    "duration": 34,
    "start_time": "2023-10-31T16:18:48.460Z"
   },
   {
    "duration": 35,
    "start_time": "2023-10-31T16:18:48.496Z"
   },
   {
    "duration": 26,
    "start_time": "2023-10-31T16:18:48.533Z"
   },
   {
    "duration": 43,
    "start_time": "2023-10-31T16:18:48.561Z"
   },
   {
    "duration": 10,
    "start_time": "2023-10-31T16:18:48.606Z"
   },
   {
    "duration": 7,
    "start_time": "2023-10-31T16:18:48.617Z"
   },
   {
    "duration": 20,
    "start_time": "2023-10-31T16:18:48.626Z"
   },
   {
    "duration": 30,
    "start_time": "2023-10-31T16:18:48.647Z"
   },
   {
    "duration": 18,
    "start_time": "2023-10-31T16:18:48.679Z"
   },
   {
    "duration": 4,
    "start_time": "2023-10-31T16:18:48.698Z"
   },
   {
    "duration": 19,
    "start_time": "2023-10-31T16:18:48.704Z"
   },
   {
    "duration": 11,
    "start_time": "2023-10-31T16:18:48.725Z"
   },
   {
    "duration": 4,
    "start_time": "2023-10-31T16:18:48.745Z"
   },
   {
    "duration": 14,
    "start_time": "2023-10-31T16:18:48.750Z"
   },
   {
    "duration": 25,
    "start_time": "2023-10-31T16:18:48.766Z"
   },
   {
    "duration": 34,
    "start_time": "2023-10-31T16:18:48.793Z"
   },
   {
    "duration": 33,
    "start_time": "2023-10-31T16:18:48.829Z"
   },
   {
    "duration": 9,
    "start_time": "2023-10-31T16:18:48.864Z"
   },
   {
    "duration": 29,
    "start_time": "2023-10-31T16:18:48.874Z"
   },
   {
    "duration": 9,
    "start_time": "2023-10-31T16:18:48.905Z"
   },
   {
    "duration": 22,
    "start_time": "2023-10-31T16:18:48.916Z"
   },
   {
    "duration": 26,
    "start_time": "2023-10-31T16:18:48.940Z"
   },
   {
    "duration": 15,
    "start_time": "2023-10-31T16:18:48.968Z"
   },
   {
    "duration": 12,
    "start_time": "2023-10-31T16:45:12.649Z"
   },
   {
    "duration": 13,
    "start_time": "2023-10-31T16:45:25.958Z"
   },
   {
    "duration": 71,
    "start_time": "2023-10-31T16:54:10.551Z"
   },
   {
    "duration": 19,
    "start_time": "2023-10-31T16:54:21.938Z"
   },
   {
    "duration": 18,
    "start_time": "2023-10-31T16:54:56.114Z"
   },
   {
    "duration": 18,
    "start_time": "2023-10-31T16:55:10.898Z"
   },
   {
    "duration": 19,
    "start_time": "2023-10-31T16:55:20.782Z"
   },
   {
    "duration": 18,
    "start_time": "2023-10-31T16:55:45.077Z"
   },
   {
    "duration": 18,
    "start_time": "2023-10-31T16:55:55.629Z"
   },
   {
    "duration": 19,
    "start_time": "2023-10-31T16:59:05.061Z"
   },
   {
    "duration": 18,
    "start_time": "2023-10-31T16:59:13.053Z"
   },
   {
    "duration": 29,
    "start_time": "2023-10-31T16:59:24.564Z"
   },
   {
    "duration": 19,
    "start_time": "2023-10-31T16:59:31.811Z"
   },
   {
    "duration": 85,
    "start_time": "2023-10-31T17:09:51.122Z"
   },
   {
    "duration": 433,
    "start_time": "2023-10-31T18:07:21.892Z"
   },
   {
    "duration": 23,
    "start_time": "2023-10-31T18:07:22.327Z"
   },
   {
    "duration": 21,
    "start_time": "2023-10-31T18:07:22.351Z"
   },
   {
    "duration": 9,
    "start_time": "2023-10-31T18:07:22.374Z"
   },
   {
    "duration": 45,
    "start_time": "2023-10-31T18:07:22.385Z"
   },
   {
    "duration": 3,
    "start_time": "2023-10-31T18:07:22.432Z"
   },
   {
    "duration": 13,
    "start_time": "2023-10-31T18:07:22.444Z"
   },
   {
    "duration": 4,
    "start_time": "2023-10-31T18:07:22.459Z"
   },
   {
    "duration": 18,
    "start_time": "2023-10-31T18:07:22.464Z"
   },
   {
    "duration": 13,
    "start_time": "2023-10-31T18:07:22.485Z"
   },
   {
    "duration": 51,
    "start_time": "2023-10-31T18:07:22.500Z"
   },
   {
    "duration": 10,
    "start_time": "2023-10-31T18:07:22.553Z"
   },
   {
    "duration": 14,
    "start_time": "2023-10-31T18:07:22.564Z"
   },
   {
    "duration": 14,
    "start_time": "2023-10-31T18:07:22.579Z"
   },
   {
    "duration": 17,
    "start_time": "2023-10-31T18:07:22.595Z"
   },
   {
    "duration": 31,
    "start_time": "2023-10-31T18:07:22.614Z"
   },
   {
    "duration": 3,
    "start_time": "2023-10-31T18:07:22.647Z"
   },
   {
    "duration": 12,
    "start_time": "2023-10-31T18:07:22.652Z"
   },
   {
    "duration": 4,
    "start_time": "2023-10-31T18:07:22.666Z"
   },
   {
    "duration": 3,
    "start_time": "2023-10-31T18:07:22.672Z"
   },
   {
    "duration": 17,
    "start_time": "2023-10-31T18:07:22.676Z"
   },
   {
    "duration": 12,
    "start_time": "2023-10-31T18:07:22.694Z"
   },
   {
    "duration": 36,
    "start_time": "2023-10-31T18:07:22.708Z"
   },
   {
    "duration": 16,
    "start_time": "2023-10-31T18:07:22.746Z"
   },
   {
    "duration": 21,
    "start_time": "2023-10-31T18:07:22.764Z"
   }
  ],
  "colab": {
   "provenance": []
  },
  "kernelspec": {
   "display_name": "Python 3 (ipykernel)",
   "language": "python",
   "name": "python3"
  },
  "language_info": {
   "codemirror_mode": {
    "name": "ipython",
    "version": 3
   },
   "file_extension": ".py",
   "mimetype": "text/x-python",
   "name": "python",
   "nbconvert_exporter": "python",
   "pygments_lexer": "ipython3",
   "version": "3.11.7"
  },
  "toc": {
   "base_numbering": 1,
   "nav_menu": {},
   "number_sections": true,
   "sideBar": true,
   "skip_h1_title": true,
   "title_cell": "Table of Contents",
   "title_sidebar": "Contents",
   "toc_cell": false,
   "toc_position": {},
   "toc_section_display": true,
   "toc_window_display": true
  }
 },
 "nbformat": 4,
 "nbformat_minor": 5
}
