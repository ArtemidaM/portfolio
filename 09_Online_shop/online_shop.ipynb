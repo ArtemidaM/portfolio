{
 "cells": [
  {
   "cell_type": "markdown",
   "metadata": {},
   "source": [
    "# Проект Принятие решений в бизнесе"
   ]
  },
  {
   "cell_type": "markdown",
   "metadata": {},
   "source": [
    "## Описание проекта"
   ]
  },
  {
   "cell_type": "markdown",
   "metadata": {},
   "source": [
    "Отделом маркетинга и отделом аналитики совместно подготовлен список гипотез для увеличения выручки интернет-магазина.\n",
    "\n",
    "<b>Задачи в рамках проекта:</b>\n",
    "- приоритизировать выдвинутые гипотезы, \n",
    "- запустить A/B-тест,\n",
    "- проанализировать результаты A/B-теста. \n",
    "\n",
    "<b>В ходе анализа будут рассмотрены:</b>\n",
    "- график кумулятивной выручки по группам;\n",
    "- график кумулятивного среднего чека по группам;\n",
    "- график относительного изменения кумулятивного среднего чека группы B к группе A;\n",
    "- график кумулятивного среднего количества заказов на посетителя по группам;\n",
    "- график относительного изменения кумулятивного среднего количества заказов на посетителя группы B к группе A;\n",
    "- точечный график количества заказов по пользователям и 95-й и 99-й перцентили количества заказов на пользователя;\n",
    "- точечный график стоимостей заказов и 95-й и 99-й перцентили стоимости заказов;\n",
    "- статистическая значимость различий в среднем количестве заказов на посетителя между группами по «сырым» данным;\n",
    "- статистическая значимость различий в среднем чеке заказа между группами по «сырым» данным;\n",
    "- статистическая значимость различий в среднем количестве заказов на посетителя между группами по «очищенным» данным;\n",
    "- статистическая значимость различий в среднем чеке заказа между группами по «очищенным» данным.\n",
    "\n",
    "<b>По результатам анализа необходимо принять решение:</b>\n",
    "1. Остановить тест, зафиксировать победу одной из групп.\n",
    "2. Остановить тест, зафиксировать отсутствие различий между группами.\n",
    "3. Продолжить тест."
   ]
  },
  {
   "cell_type": "markdown",
   "metadata": {},
   "source": [
    "## Описание данных"
   ]
  },
  {
   "cell_type": "markdown",
   "metadata": {},
   "source": [
    "Для проведения анализа у нас есть 3 файла с данными:\n",
    "\n",
    "<b>Данные для первой части</b>\n",
    "\n",
    "Файл /datasets/hypothesis.csv. \n",
    "\n",
    "Hypothesis — краткое описание гипотезы;  \n",
    "Reach — охват пользователей по 10-балльной шкале;  \n",
    "Impact — влияние на пользователей по 10-балльной шкале;  \n",
    "Confidence — уверенность в гипотезе по 10-балльной шкале;  \n",
    "Efforts — затраты ресурсов на проверку гипотезы по 10-балльной шкале. Чем больше значение Efforts, тем дороже проверка гипотезы.\n",
    "\n",
    "<b>Данные для второй части</b>\n",
    "\n",
    "Файл /datasets/orders.csv. \n",
    "\n",
    "transactionId — идентификатор заказа;  \n",
    "visitorId — идентификатор пользователя, совершившего заказ;  \n",
    "date — дата, когда был совершён заказ;  \n",
    "revenue — выручка заказа;  \n",
    "group — группа A/B-теста, в которую попал заказ.  \n",
    "\n",
    "Файл /datasets/visitors.csv. \n",
    "\n",
    "date — дата;  \n",
    "group — группа A/B-теста;  \n",
    "visitors — количество пользователей в указанную дату в указанной группе A/B-теста\n"
   ]
  },
  {
   "cell_type": "markdown",
   "metadata": {},
   "source": [
    "## Часть 1. Приоритизация гипотез"
   ]
  },
  {
   "cell_type": "markdown",
   "metadata": {},
   "source": [
    "В файле /datasets/hypothesis.csv 9 гипотез по увеличению выручки интернет-магазина с указанными параметрами Reach, Impact, Confidence, Effort."
   ]
  },
  {
   "cell_type": "code",
   "execution_count": 1,
   "metadata": {},
   "outputs": [],
   "source": [
    "#импортируем необходимые библиотеки \n",
    "import pandas as pd\n",
    "import datetime as dt\n",
    "import scipy.stats as stats\n",
    "import numpy as np\n",
    "import matplotlib.pyplot as plt\n",
    "from pandas.plotting import register_matplotlib_converters\n",
    "import warnings"
   ]
  },
  {
   "cell_type": "code",
   "execution_count": 27,
   "metadata": {},
   "outputs": [
    {
     "data": {
      "text/html": [
       "<div>\n",
       "<style scoped>\n",
       "    .dataframe tbody tr th:only-of-type {\n",
       "        vertical-align: middle;\n",
       "    }\n",
       "\n",
       "    .dataframe tbody tr th {\n",
       "        vertical-align: top;\n",
       "    }\n",
       "\n",
       "    .dataframe thead th {\n",
       "        text-align: right;\n",
       "    }\n",
       "</style>\n",
       "<table border=\"1\" class=\"dataframe\">\n",
       "  <thead>\n",
       "    <tr style=\"text-align: right;\">\n",
       "      <th></th>\n",
       "      <th>Hypothesis</th>\n",
       "      <th>Reach</th>\n",
       "      <th>Impact</th>\n",
       "      <th>Confidence</th>\n",
       "      <th>Efforts</th>\n",
       "    </tr>\n",
       "  </thead>\n",
       "  <tbody>\n",
       "    <tr>\n",
       "      <th>0</th>\n",
       "      <td>Добавить два новых канала привлечения трафика, что позволит привлекать на 30% больше пользователей</td>\n",
       "      <td>3</td>\n",
       "      <td>10</td>\n",
       "      <td>8</td>\n",
       "      <td>6</td>\n",
       "    </tr>\n",
       "    <tr>\n",
       "      <th>1</th>\n",
       "      <td>Запустить собственную службу доставки, что сократит срок доставки заказов</td>\n",
       "      <td>2</td>\n",
       "      <td>5</td>\n",
       "      <td>4</td>\n",
       "      <td>10</td>\n",
       "    </tr>\n",
       "    <tr>\n",
       "      <th>2</th>\n",
       "      <td>Добавить блоки рекомендаций товаров на сайт интернет магазина, чтобы повысить конверсию и средний чек заказа</td>\n",
       "      <td>8</td>\n",
       "      <td>3</td>\n",
       "      <td>7</td>\n",
       "      <td>3</td>\n",
       "    </tr>\n",
       "    <tr>\n",
       "      <th>3</th>\n",
       "      <td>Изменить структура категорий, что увеличит конверсию, т.к. пользователи быстрее найдут нужный товар</td>\n",
       "      <td>8</td>\n",
       "      <td>3</td>\n",
       "      <td>3</td>\n",
       "      <td>8</td>\n",
       "    </tr>\n",
       "    <tr>\n",
       "      <th>4</th>\n",
       "      <td>Изменить цвет фона главной страницы, чтобы увеличить вовлеченность пользователей</td>\n",
       "      <td>3</td>\n",
       "      <td>1</td>\n",
       "      <td>1</td>\n",
       "      <td>1</td>\n",
       "    </tr>\n",
       "    <tr>\n",
       "      <th>5</th>\n",
       "      <td>Добавить страницу отзывов клиентов о магазине, что позволит увеличить количество заказов</td>\n",
       "      <td>3</td>\n",
       "      <td>2</td>\n",
       "      <td>2</td>\n",
       "      <td>3</td>\n",
       "    </tr>\n",
       "    <tr>\n",
       "      <th>6</th>\n",
       "      <td>Показать на главной странице баннеры с актуальными акциями и распродажами, чтобы увеличить конверсию</td>\n",
       "      <td>5</td>\n",
       "      <td>3</td>\n",
       "      <td>8</td>\n",
       "      <td>3</td>\n",
       "    </tr>\n",
       "    <tr>\n",
       "      <th>7</th>\n",
       "      <td>Добавить форму подписки на все основные страницы, чтобы собрать базу клиентов для email-рассылок</td>\n",
       "      <td>10</td>\n",
       "      <td>7</td>\n",
       "      <td>8</td>\n",
       "      <td>5</td>\n",
       "    </tr>\n",
       "    <tr>\n",
       "      <th>8</th>\n",
       "      <td>Запустить акцию, дающую скидку на товар в день рождения</td>\n",
       "      <td>1</td>\n",
       "      <td>9</td>\n",
       "      <td>9</td>\n",
       "      <td>5</td>\n",
       "    </tr>\n",
       "  </tbody>\n",
       "</table>\n",
       "</div>"
      ],
      "text/plain": [
       "                                                                                                     Hypothesis  \\\n",
       "0            Добавить два новых канала привлечения трафика, что позволит привлекать на 30% больше пользователей   \n",
       "1                                     Запустить собственную службу доставки, что сократит срок доставки заказов   \n",
       "2  Добавить блоки рекомендаций товаров на сайт интернет магазина, чтобы повысить конверсию и средний чек заказа   \n",
       "3           Изменить структура категорий, что увеличит конверсию, т.к. пользователи быстрее найдут нужный товар   \n",
       "4                              Изменить цвет фона главной страницы, чтобы увеличить вовлеченность пользователей   \n",
       "5                      Добавить страницу отзывов клиентов о магазине, что позволит увеличить количество заказов   \n",
       "6          Показать на главной странице баннеры с актуальными акциями и распродажами, чтобы увеличить конверсию   \n",
       "7              Добавить форму подписки на все основные страницы, чтобы собрать базу клиентов для email-рассылок   \n",
       "8                                                       Запустить акцию, дающую скидку на товар в день рождения   \n",
       "\n",
       "   Reach  Impact  Confidence  Efforts  \n",
       "0      3      10           8        6  \n",
       "1      2       5           4       10  \n",
       "2      8       3           7        3  \n",
       "3      8       3           3        8  \n",
       "4      3       1           1        1  \n",
       "5      3       2           2        3  \n",
       "6      5       3           8        3  \n",
       "7     10       7           8        5  \n",
       "8      1       9           9        5  "
      ]
     },
     "metadata": {},
     "output_type": "display_data"
    },
    {
     "name": "stdout",
     "output_type": "stream",
     "text": [
      "<class 'pandas.core.frame.DataFrame'>\n",
      "RangeIndex: 9 entries, 0 to 8\n",
      "Data columns (total 5 columns):\n",
      " #   Column      Non-Null Count  Dtype \n",
      "---  ------      --------------  ----- \n",
      " 0   Hypothesis  9 non-null      object\n",
      " 1   Reach       9 non-null      int64 \n",
      " 2   Impact      9 non-null      int64 \n",
      " 3   Confidence  9 non-null      int64 \n",
      " 4   Efforts     9 non-null      int64 \n",
      "dtypes: int64(4), object(1)\n",
      "memory usage: 488.0+ bytes\n"
     ]
    }
   ],
   "source": [
    "#изучим файл\n",
    "data = pd.read_csv('/datasets/hypothesis.csv')\n",
    "\n",
    "pd.options.display.max_colwidth = 120\n",
    "display(data)\n",
    "data.info()"
   ]
  },
  {
   "cell_type": "markdown",
   "metadata": {},
   "source": [
    "В файле 9 гипотез со значениями Reach, Impact, Confidence и Efforts для каждой. Пропуски отсутствуют. Тип данных во всех столбцах соответствует содержащимся в них значениям. Приведем названия столбцов к нижнему регистру."
   ]
  },
  {
   "cell_type": "code",
   "execution_count": 3,
   "metadata": {},
   "outputs": [],
   "source": [
    "data.columns = data.columns.str.lower()"
   ]
  },
  {
   "cell_type": "markdown",
   "metadata": {},
   "source": [
    "### Применяем фреймворк ICE для приоритизации гипотез. Отсортируем их по убыванию приоритета."
   ]
  },
  {
   "cell_type": "code",
   "execution_count": 4,
   "metadata": {},
   "outputs": [
    {
     "data": {
      "text/html": [
       "<div>\n",
       "<style scoped>\n",
       "    .dataframe tbody tr th:only-of-type {\n",
       "        vertical-align: middle;\n",
       "    }\n",
       "\n",
       "    .dataframe tbody tr th {\n",
       "        vertical-align: top;\n",
       "    }\n",
       "\n",
       "    .dataframe thead th {\n",
       "        text-align: right;\n",
       "    }\n",
       "</style>\n",
       "<table border=\"1\" class=\"dataframe\">\n",
       "  <thead>\n",
       "    <tr style=\"text-align: right;\">\n",
       "      <th></th>\n",
       "      <th>hypothesis</th>\n",
       "      <th>ICE</th>\n",
       "    </tr>\n",
       "  </thead>\n",
       "  <tbody>\n",
       "    <tr>\n",
       "      <th>8</th>\n",
       "      <td>Запустить акцию, дающую скидку на товар в день рождения</td>\n",
       "      <td>16.20</td>\n",
       "    </tr>\n",
       "    <tr>\n",
       "      <th>0</th>\n",
       "      <td>Добавить два новых канала привлечения трафика, что позволит привлекать на 30% больше пользователей</td>\n",
       "      <td>13.33</td>\n",
       "    </tr>\n",
       "    <tr>\n",
       "      <th>7</th>\n",
       "      <td>Добавить форму подписки на все основные страницы, чтобы собрать базу клиентов для email-рассылок</td>\n",
       "      <td>11.20</td>\n",
       "    </tr>\n",
       "    <tr>\n",
       "      <th>6</th>\n",
       "      <td>Показать на главной странице баннеры с актуальными акциями и распродажами, чтобы увеличить конверсию</td>\n",
       "      <td>8.00</td>\n",
       "    </tr>\n",
       "    <tr>\n",
       "      <th>2</th>\n",
       "      <td>Добавить блоки рекомендаций товаров на сайт интернет магазина, чтобы повысить конверсию и средний чек заказа</td>\n",
       "      <td>7.00</td>\n",
       "    </tr>\n",
       "    <tr>\n",
       "      <th>1</th>\n",
       "      <td>Запустить собственную службу доставки, что сократит срок доставки заказов</td>\n",
       "      <td>2.00</td>\n",
       "    </tr>\n",
       "    <tr>\n",
       "      <th>5</th>\n",
       "      <td>Добавить страницу отзывов клиентов о магазине, что позволит увеличить количество заказов</td>\n",
       "      <td>1.33</td>\n",
       "    </tr>\n",
       "    <tr>\n",
       "      <th>3</th>\n",
       "      <td>Изменить структура категорий, что увеличит конверсию, т.к. пользователи быстрее найдут нужный товар</td>\n",
       "      <td>1.12</td>\n",
       "    </tr>\n",
       "    <tr>\n",
       "      <th>4</th>\n",
       "      <td>Изменить цвет фона главной страницы, чтобы увеличить вовлеченность пользователей</td>\n",
       "      <td>1.00</td>\n",
       "    </tr>\n",
       "  </tbody>\n",
       "</table>\n",
       "</div>"
      ],
      "text/plain": [
       "                                                                                                     hypothesis  \\\n",
       "8                                                       Запустить акцию, дающую скидку на товар в день рождения   \n",
       "0            Добавить два новых канала привлечения трафика, что позволит привлекать на 30% больше пользователей   \n",
       "7              Добавить форму подписки на все основные страницы, чтобы собрать базу клиентов для email-рассылок   \n",
       "6          Показать на главной странице баннеры с актуальными акциями и распродажами, чтобы увеличить конверсию   \n",
       "2  Добавить блоки рекомендаций товаров на сайт интернет магазина, чтобы повысить конверсию и средний чек заказа   \n",
       "1                                     Запустить собственную службу доставки, что сократит срок доставки заказов   \n",
       "5                      Добавить страницу отзывов клиентов о магазине, что позволит увеличить количество заказов   \n",
       "3           Изменить структура категорий, что увеличит конверсию, т.к. пользователи быстрее найдут нужный товар   \n",
       "4                              Изменить цвет фона главной страницы, чтобы увеличить вовлеченность пользователей   \n",
       "\n",
       "     ICE  \n",
       "8  16.20  \n",
       "0  13.33  \n",
       "7  11.20  \n",
       "6   8.00  \n",
       "2   7.00  \n",
       "1   2.00  \n",
       "5   1.33  \n",
       "3   1.12  \n",
       "4   1.00  "
      ]
     },
     "metadata": {},
     "output_type": "display_data"
    }
   ],
   "source": [
    "data['ICE'] = ((data['impact'] * data['confidence']) / data['efforts']).round(2)\n",
    "\n",
    "display(data[['hypothesis', 'ICE']].sort_values(by='ICE', ascending=False))"
   ]
  },
  {
   "cell_type": "markdown",
   "metadata": {},
   "source": [
    "По методу ICE наиболее перспективными являются гипотезы:\n",
    "- (8) Запустить акцию, дающую скидку на товар в день рождения, \n",
    "- (0) Добавить два новых канала привлечения трафика, что позволит привлекать на 30% больше пользователей,\n",
    "- (7) Добавить форму подписки на все основные страницы, чтобы собрать базу клиентов для email-рассылок."
   ]
  },
  {
   "cell_type": "markdown",
   "metadata": {},
   "source": [
    "### Применяем фреймворк RICE для приоритизации гипотез. Отсортируем их по убыванию приоритета."
   ]
  },
  {
   "cell_type": "code",
   "execution_count": 5,
   "metadata": {},
   "outputs": [
    {
     "data": {
      "text/html": [
       "<div>\n",
       "<style scoped>\n",
       "    .dataframe tbody tr th:only-of-type {\n",
       "        vertical-align: middle;\n",
       "    }\n",
       "\n",
       "    .dataframe tbody tr th {\n",
       "        vertical-align: top;\n",
       "    }\n",
       "\n",
       "    .dataframe thead th {\n",
       "        text-align: right;\n",
       "    }\n",
       "</style>\n",
       "<table border=\"1\" class=\"dataframe\">\n",
       "  <thead>\n",
       "    <tr style=\"text-align: right;\">\n",
       "      <th></th>\n",
       "      <th>hypothesis</th>\n",
       "      <th>RICE</th>\n",
       "    </tr>\n",
       "  </thead>\n",
       "  <tbody>\n",
       "    <tr>\n",
       "      <th>7</th>\n",
       "      <td>Добавить форму подписки на все основные страницы, чтобы собрать базу клиентов для email-рассылок</td>\n",
       "      <td>112.0</td>\n",
       "    </tr>\n",
       "    <tr>\n",
       "      <th>2</th>\n",
       "      <td>Добавить блоки рекомендаций товаров на сайт интернет магазина, чтобы повысить конверсию и средний чек заказа</td>\n",
       "      <td>56.0</td>\n",
       "    </tr>\n",
       "    <tr>\n",
       "      <th>0</th>\n",
       "      <td>Добавить два новых канала привлечения трафика, что позволит привлекать на 30% больше пользователей</td>\n",
       "      <td>40.0</td>\n",
       "    </tr>\n",
       "    <tr>\n",
       "      <th>6</th>\n",
       "      <td>Показать на главной странице баннеры с актуальными акциями и распродажами, чтобы увеличить конверсию</td>\n",
       "      <td>40.0</td>\n",
       "    </tr>\n",
       "    <tr>\n",
       "      <th>8</th>\n",
       "      <td>Запустить акцию, дающую скидку на товар в день рождения</td>\n",
       "      <td>16.2</td>\n",
       "    </tr>\n",
       "    <tr>\n",
       "      <th>3</th>\n",
       "      <td>Изменить структура категорий, что увеличит конверсию, т.к. пользователи быстрее найдут нужный товар</td>\n",
       "      <td>9.0</td>\n",
       "    </tr>\n",
       "    <tr>\n",
       "      <th>1</th>\n",
       "      <td>Запустить собственную службу доставки, что сократит срок доставки заказов</td>\n",
       "      <td>4.0</td>\n",
       "    </tr>\n",
       "    <tr>\n",
       "      <th>5</th>\n",
       "      <td>Добавить страницу отзывов клиентов о магазине, что позволит увеличить количество заказов</td>\n",
       "      <td>4.0</td>\n",
       "    </tr>\n",
       "    <tr>\n",
       "      <th>4</th>\n",
       "      <td>Изменить цвет фона главной страницы, чтобы увеличить вовлеченность пользователей</td>\n",
       "      <td>3.0</td>\n",
       "    </tr>\n",
       "  </tbody>\n",
       "</table>\n",
       "</div>"
      ],
      "text/plain": [
       "                                                                                                     hypothesis  \\\n",
       "7              Добавить форму подписки на все основные страницы, чтобы собрать базу клиентов для email-рассылок   \n",
       "2  Добавить блоки рекомендаций товаров на сайт интернет магазина, чтобы повысить конверсию и средний чек заказа   \n",
       "0            Добавить два новых канала привлечения трафика, что позволит привлекать на 30% больше пользователей   \n",
       "6          Показать на главной странице баннеры с актуальными акциями и распродажами, чтобы увеличить конверсию   \n",
       "8                                                       Запустить акцию, дающую скидку на товар в день рождения   \n",
       "3           Изменить структура категорий, что увеличит конверсию, т.к. пользователи быстрее найдут нужный товар   \n",
       "1                                     Запустить собственную службу доставки, что сократит срок доставки заказов   \n",
       "5                      Добавить страницу отзывов клиентов о магазине, что позволит увеличить количество заказов   \n",
       "4                              Изменить цвет фона главной страницы, чтобы увеличить вовлеченность пользователей   \n",
       "\n",
       "    RICE  \n",
       "7  112.0  \n",
       "2   56.0  \n",
       "0   40.0  \n",
       "6   40.0  \n",
       "8   16.2  \n",
       "3    9.0  \n",
       "1    4.0  \n",
       "5    4.0  \n",
       "4    3.0  "
      ]
     },
     "metadata": {},
     "output_type": "display_data"
    }
   ],
   "source": [
    "data['RICE'] = (data['reach'] * data['impact'] * data['confidence']) / data['efforts']\n",
    "display(data[['hypothesis', 'RICE']].sort_values(by='RICE', ascending=False))"
   ]
  },
  {
   "cell_type": "markdown",
   "metadata": {},
   "source": [
    "По методу RICE наиболее перспективными являются гипотезы: \n",
    "- (7) Добавить форму подписки на все основные страницы, чтобы собрать базу клиентов для email-рассылок, \n",
    "- (2) Добавить блоки рекомендаций товаров на сайт интернет магазина, чтобы повысить конверсию и средний чек заказа, \n",
    "- (0) Добавить два новых канала привлечения трафика, что позволит привлекать на 30% больше пользователей, \n",
    "- (6) Показать на главной странице баннеры с актуальными акциями и распродажами, чтобы увеличить конверсию."
   ]
  },
  {
   "cell_type": "markdown",
   "metadata": {},
   "source": [
    "<b>Вывод:</b> По методу ICE самой приоритетной была гипотеза (8) Запустить акцию, дающую скидку на товар в день рождения, но после применения метода RICE она опустилась на 5 место, так как эта гипотеза охватывает наименьшее количество пользователей. Параметр Reach равен 1, в то время как у других гипотез он выше.\n",
    "\n",
    "Приоритетность гипотез (2) Добавить блоки рекомендаций товаров на сайт интернет магазина, чтобы повысить конверсию и средний чек заказа, и (6) Показать на главной странице баннеры с актуальными акциями и распродажами, чтобы увеличить конверсию, также выросла с учетом охвата пользователей.\n",
    "\n",
    "Приоритетность гипотез (0) Добавить два новых канала привлечения трафика, что позволит привлекать на 30% больше пользователей, и (7) Добавить форму подписки на все основные страницы, чтобы собрать базу клиентов для email-рассылок, несколько изменилась после применения метода RICE, но они являются приоритетными в обоих случаях. Поэтому эти гипотезы следует проверить в первую очередь."
   ]
  },
  {
   "cell_type": "markdown",
   "metadata": {},
   "source": [
    "## Часть 2. Анализ A/B-теста"
   ]
  },
  {
   "cell_type": "markdown",
   "metadata": {},
   "source": [
    "Мы провели A/B-тест и получили результаты, которые описаны в файлах /datasets/orders.csv и /datasets/visitors.csv."
   ]
  },
  {
   "cell_type": "code",
   "execution_count": 6,
   "metadata": {},
   "outputs": [
    {
     "data": {
      "text/html": [
       "<div>\n",
       "<style scoped>\n",
       "    .dataframe tbody tr th:only-of-type {\n",
       "        vertical-align: middle;\n",
       "    }\n",
       "\n",
       "    .dataframe tbody tr th {\n",
       "        vertical-align: top;\n",
       "    }\n",
       "\n",
       "    .dataframe thead th {\n",
       "        text-align: right;\n",
       "    }\n",
       "</style>\n",
       "<table border=\"1\" class=\"dataframe\">\n",
       "  <thead>\n",
       "    <tr style=\"text-align: right;\">\n",
       "      <th></th>\n",
       "      <th>transactionId</th>\n",
       "      <th>visitorId</th>\n",
       "      <th>date</th>\n",
       "      <th>revenue</th>\n",
       "      <th>group</th>\n",
       "    </tr>\n",
       "  </thead>\n",
       "  <tbody>\n",
       "    <tr>\n",
       "      <th>0</th>\n",
       "      <td>3667963787</td>\n",
       "      <td>3312258926</td>\n",
       "      <td>2019-08-15</td>\n",
       "      <td>1650</td>\n",
       "      <td>B</td>\n",
       "    </tr>\n",
       "    <tr>\n",
       "      <th>1</th>\n",
       "      <td>2804400009</td>\n",
       "      <td>3642806036</td>\n",
       "      <td>2019-08-15</td>\n",
       "      <td>730</td>\n",
       "      <td>B</td>\n",
       "    </tr>\n",
       "    <tr>\n",
       "      <th>2</th>\n",
       "      <td>2961555356</td>\n",
       "      <td>4069496402</td>\n",
       "      <td>2019-08-15</td>\n",
       "      <td>400</td>\n",
       "      <td>A</td>\n",
       "    </tr>\n",
       "    <tr>\n",
       "      <th>3</th>\n",
       "      <td>3797467345</td>\n",
       "      <td>1196621759</td>\n",
       "      <td>2019-08-15</td>\n",
       "      <td>9759</td>\n",
       "      <td>B</td>\n",
       "    </tr>\n",
       "    <tr>\n",
       "      <th>4</th>\n",
       "      <td>2282983706</td>\n",
       "      <td>2322279887</td>\n",
       "      <td>2019-08-15</td>\n",
       "      <td>2308</td>\n",
       "      <td>B</td>\n",
       "    </tr>\n",
       "  </tbody>\n",
       "</table>\n",
       "</div>"
      ],
      "text/plain": [
       "   transactionId   visitorId        date  revenue group\n",
       "0     3667963787  3312258926  2019-08-15     1650     B\n",
       "1     2804400009  3642806036  2019-08-15      730     B\n",
       "2     2961555356  4069496402  2019-08-15      400     A\n",
       "3     3797467345  1196621759  2019-08-15     9759     B\n",
       "4     2282983706  2322279887  2019-08-15     2308     B"
      ]
     },
     "metadata": {},
     "output_type": "display_data"
    },
    {
     "name": "stdout",
     "output_type": "stream",
     "text": [
      "<class 'pandas.core.frame.DataFrame'>\n",
      "RangeIndex: 1197 entries, 0 to 1196\n",
      "Data columns (total 5 columns):\n",
      " #   Column         Non-Null Count  Dtype \n",
      "---  ------         --------------  ----- \n",
      " 0   transactionId  1197 non-null   int64 \n",
      " 1   visitorId      1197 non-null   int64 \n",
      " 2   date           1197 non-null   object\n",
      " 3   revenue        1197 non-null   int64 \n",
      " 4   group          1197 non-null   object\n",
      "dtypes: int64(3), object(2)\n",
      "memory usage: 46.9+ KB\n"
     ]
    },
    {
     "data": {
      "text/plain": [
       "None"
      ]
     },
     "metadata": {},
     "output_type": "display_data"
    },
    {
     "data": {
      "text/html": [
       "<div>\n",
       "<style scoped>\n",
       "    .dataframe tbody tr th:only-of-type {\n",
       "        vertical-align: middle;\n",
       "    }\n",
       "\n",
       "    .dataframe tbody tr th {\n",
       "        vertical-align: top;\n",
       "    }\n",
       "\n",
       "    .dataframe thead th {\n",
       "        text-align: right;\n",
       "    }\n",
       "</style>\n",
       "<table border=\"1\" class=\"dataframe\">\n",
       "  <thead>\n",
       "    <tr style=\"text-align: right;\">\n",
       "      <th></th>\n",
       "      <th>date</th>\n",
       "      <th>group</th>\n",
       "      <th>visitors</th>\n",
       "    </tr>\n",
       "  </thead>\n",
       "  <tbody>\n",
       "    <tr>\n",
       "      <th>0</th>\n",
       "      <td>2019-08-01</td>\n",
       "      <td>A</td>\n",
       "      <td>719</td>\n",
       "    </tr>\n",
       "    <tr>\n",
       "      <th>1</th>\n",
       "      <td>2019-08-02</td>\n",
       "      <td>A</td>\n",
       "      <td>619</td>\n",
       "    </tr>\n",
       "    <tr>\n",
       "      <th>2</th>\n",
       "      <td>2019-08-03</td>\n",
       "      <td>A</td>\n",
       "      <td>507</td>\n",
       "    </tr>\n",
       "    <tr>\n",
       "      <th>3</th>\n",
       "      <td>2019-08-04</td>\n",
       "      <td>A</td>\n",
       "      <td>717</td>\n",
       "    </tr>\n",
       "    <tr>\n",
       "      <th>4</th>\n",
       "      <td>2019-08-05</td>\n",
       "      <td>A</td>\n",
       "      <td>756</td>\n",
       "    </tr>\n",
       "  </tbody>\n",
       "</table>\n",
       "</div>"
      ],
      "text/plain": [
       "         date group  visitors\n",
       "0  2019-08-01     A       719\n",
       "1  2019-08-02     A       619\n",
       "2  2019-08-03     A       507\n",
       "3  2019-08-04     A       717\n",
       "4  2019-08-05     A       756"
      ]
     },
     "metadata": {},
     "output_type": "display_data"
    },
    {
     "name": "stdout",
     "output_type": "stream",
     "text": [
      "<class 'pandas.core.frame.DataFrame'>\n",
      "RangeIndex: 62 entries, 0 to 61\n",
      "Data columns (total 3 columns):\n",
      " #   Column    Non-Null Count  Dtype \n",
      "---  ------    --------------  ----- \n",
      " 0   date      62 non-null     object\n",
      " 1   group     62 non-null     object\n",
      " 2   visitors  62 non-null     int64 \n",
      "dtypes: int64(1), object(2)\n",
      "memory usage: 1.6+ KB\n"
     ]
    },
    {
     "data": {
      "text/plain": [
       "None"
      ]
     },
     "metadata": {},
     "output_type": "display_data"
    }
   ],
   "source": [
    "#изучим файлы\n",
    "orders = pd.read_csv('/datasets/orders.csv')\n",
    "visitors = pd.read_csv('/datasets/visitors.csv')\n",
    "\n",
    "display(orders.head(5))\n",
    "display(orders.info())\n",
    "\n",
    "display(visitors.head(5))\n",
    "display(visitors.info())"
   ]
  },
  {
   "cell_type": "code",
   "execution_count": 7,
   "metadata": {},
   "outputs": [],
   "source": [
    "#заменим названия нескольких столбцов в orders на змеиный регистр\n",
    "orders.rename(\n",
    "    columns = {'transactionId':'transaction_id', 'visitorId':'visitor_id'}, inplace=True\n",
    ")"
   ]
  },
  {
   "cell_type": "markdown",
   "metadata": {},
   "source": [
    "Изменим тип данных в столбцах date в обоих датафреймах."
   ]
  },
  {
   "cell_type": "code",
   "execution_count": 8,
   "metadata": {},
   "outputs": [],
   "source": [
    "orders['date'] = pd.to_datetime(orders['date'])\n",
    "visitors['date'] = pd.to_datetime(visitors['date'])"
   ]
  },
  {
   "cell_type": "markdown",
   "metadata": {},
   "source": [
    "Пропусков в данных нет. Проверим файлы на наличие явных дубликатов."
   ]
  },
  {
   "cell_type": "code",
   "execution_count": 9,
   "metadata": {},
   "outputs": [
    {
     "name": "stdout",
     "output_type": "stream",
     "text": [
      "<class 'pandas.core.frame.DataFrame'>\n",
      "RangeIndex: 1197 entries, 0 to 1196\n",
      "Data columns (total 5 columns):\n",
      " #   Column          Non-Null Count  Dtype         \n",
      "---  ------          --------------  -----         \n",
      " 0   transaction_id  1197 non-null   int64         \n",
      " 1   visitor_id      1197 non-null   int64         \n",
      " 2   date            1197 non-null   datetime64[ns]\n",
      " 3   revenue         1197 non-null   int64         \n",
      " 4   group           1197 non-null   object        \n",
      "dtypes: datetime64[ns](1), int64(3), object(1)\n",
      "memory usage: 46.9+ KB\n",
      "<class 'pandas.core.frame.DataFrame'>\n",
      "RangeIndex: 62 entries, 0 to 61\n",
      "Data columns (total 3 columns):\n",
      " #   Column    Non-Null Count  Dtype         \n",
      "---  ------    --------------  -----         \n",
      " 0   date      62 non-null     datetime64[ns]\n",
      " 1   group     62 non-null     object        \n",
      " 2   visitors  62 non-null     int64         \n",
      "dtypes: datetime64[ns](1), int64(1), object(1)\n",
      "memory usage: 1.6+ KB\n"
     ]
    }
   ],
   "source": [
    "orders.drop_duplicates()\n",
    "visitors.drop_duplicates()\n",
    "\n",
    "orders.info()\n",
    "visitors.info()"
   ]
  },
  {
   "cell_type": "markdown",
   "metadata": {},
   "source": [
    "Явные дубликаты отсутствуют. "
   ]
  },
  {
   "cell_type": "markdown",
   "metadata": {},
   "source": [
    "<b>Вывод:</b> Имеющиеся данные довольно \"чистые\". Пропусков и явных дубликатов не выявлено. Приступим к анализу проведенного A/B-теста."
   ]
  },
  {
   "cell_type": "markdown",
   "metadata": {},
   "source": [
    "### Построим график кумулятивной выручки по группам"
   ]
  },
  {
   "cell_type": "code",
   "execution_count": 10,
   "metadata": {},
   "outputs": [
    {
     "data": {
      "text/html": [
       "<div>\n",
       "<style scoped>\n",
       "    .dataframe tbody tr th:only-of-type {\n",
       "        vertical-align: middle;\n",
       "    }\n",
       "\n",
       "    .dataframe tbody tr th {\n",
       "        vertical-align: top;\n",
       "    }\n",
       "\n",
       "    .dataframe thead th {\n",
       "        text-align: right;\n",
       "    }\n",
       "</style>\n",
       "<table border=\"1\" class=\"dataframe\">\n",
       "  <thead>\n",
       "    <tr style=\"text-align: right;\">\n",
       "      <th></th>\n",
       "      <th>date</th>\n",
       "      <th>group</th>\n",
       "      <th>orders</th>\n",
       "      <th>buyers</th>\n",
       "      <th>revenue</th>\n",
       "      <th>visitors</th>\n",
       "    </tr>\n",
       "  </thead>\n",
       "  <tbody>\n",
       "    <tr>\n",
       "      <th>0</th>\n",
       "      <td>2019-08-01</td>\n",
       "      <td>A</td>\n",
       "      <td>24</td>\n",
       "      <td>20</td>\n",
       "      <td>148579</td>\n",
       "      <td>719</td>\n",
       "    </tr>\n",
       "    <tr>\n",
       "      <th>1</th>\n",
       "      <td>2019-08-01</td>\n",
       "      <td>B</td>\n",
       "      <td>21</td>\n",
       "      <td>20</td>\n",
       "      <td>101217</td>\n",
       "      <td>713</td>\n",
       "    </tr>\n",
       "    <tr>\n",
       "      <th>2</th>\n",
       "      <td>2019-08-02</td>\n",
       "      <td>A</td>\n",
       "      <td>44</td>\n",
       "      <td>38</td>\n",
       "      <td>242401</td>\n",
       "      <td>1338</td>\n",
       "    </tr>\n",
       "    <tr>\n",
       "      <th>3</th>\n",
       "      <td>2019-08-02</td>\n",
       "      <td>B</td>\n",
       "      <td>45</td>\n",
       "      <td>43</td>\n",
       "      <td>266748</td>\n",
       "      <td>1294</td>\n",
       "    </tr>\n",
       "    <tr>\n",
       "      <th>4</th>\n",
       "      <td>2019-08-03</td>\n",
       "      <td>A</td>\n",
       "      <td>68</td>\n",
       "      <td>62</td>\n",
       "      <td>354874</td>\n",
       "      <td>1845</td>\n",
       "    </tr>\n",
       "  </tbody>\n",
       "</table>\n",
       "</div>"
      ],
      "text/plain": [
       "        date group  orders  buyers  revenue  visitors\n",
       "0 2019-08-01     A      24      20   148579       719\n",
       "1 2019-08-01     B      21      20   101217       713\n",
       "2 2019-08-02     A      44      38   242401      1338\n",
       "3 2019-08-02     B      45      43   266748      1294\n",
       "4 2019-08-03     A      68      62   354874      1845"
      ]
     },
     "metadata": {},
     "output_type": "display_data"
    }
   ],
   "source": [
    "#создим датафрейм с уникальными парами значений 'date' и 'group' таблицы orders\n",
    "datesGroups = orders[['date','group']].drop_duplicates() \n",
    "\n",
    "ordersAggregated = datesGroups.apply(\n",
    "    lambda x: orders[np.logical_and(orders['date'] <= x['date'], \n",
    "                                    orders['group'] == x['group'])]\\\n",
    "    .agg({'date' : 'max', 'group' : 'max', 'transaction_id' : 'nunique',\n",
    "          'visitor_id' : 'nunique', \n",
    "          'revenue' : 'sum'}), axis=1).sort_values(by=['date','group']\n",
    ")\n",
    "\n",
    "visitorsAggregated = datesGroups.apply(\n",
    "    lambda x: visitors[np.logical_and(visitors['date'] <= x['date'], visitors['group'] == x['group'])]\n",
    "    .agg({'date' : 'max', 'group' : 'max',\n",
    "          'visitors' : 'sum'}), axis=1).sort_values(by=['date','group']\n",
    ")\n",
    "\n",
    "ordersAggregated = datesGroups.apply(\n",
    "    lambda x: orders[np.logical_and(orders['date'] <= x['date'], \n",
    "                                    orders['group'] == x['group'])]\n",
    "    .agg({'date' : 'max', 'group' : 'max',\n",
    "          'transaction_id' : 'nunique','visitor_id' : 'nunique', \n",
    "          'revenue' : 'sum'}), axis=1).sort_values(by=['date','group']\n",
    ")\n",
    "\n",
    "visitorsAggregated = datesGroups.apply(\n",
    "    lambda x: visitors[np.logical_and(visitors['date'] <= x['date'], \n",
    "                                      visitors['group'] == x['group'])]\n",
    "    .agg({'date' : 'max', 'group' : 'max',\n",
    "          'visitors' : 'sum'}), axis=1).sort_values(by=['date','group']\n",
    ")\n",
    "\n",
    "cumulativeData = ordersAggregated.merge(\n",
    "    visitorsAggregated, left_on=['date', 'group'], right_on=['date', 'group']\n",
    ")\n",
    "cumulativeData.columns = ['date', 'group', 'orders', 'buyers', 'revenue', 'visitors']\n",
    "\n",
    "display(cumulativeData.head(5))"
   ]
  },
  {
   "cell_type": "code",
   "execution_count": 11,
   "metadata": {},
   "outputs": [
    {
     "data": {
      "image/png": "[encoded data removed]",
      "text/plain": [
       "<Figure size 1080x288 with 1 Axes>"
      ]
     },
     "metadata": {
      "needs_background": "light"
     },
     "output_type": "display_data"
    }
   ],
   "source": [
    "cumulativeRevenueA = cumulativeData[cumulativeData['group']=='A'][['date','revenue', 'orders']]\n",
    "cumulativeRevenueB = cumulativeData[cumulativeData['group']=='B'][['date','revenue', 'orders']]\n",
    "\n",
    "plt.figure().set_figwidth(15)\n",
    "plt.plot(cumulativeRevenueA['date'], cumulativeRevenueA['revenue'], label='A')\n",
    "plt.plot(cumulativeRevenueB['date'], cumulativeRevenueB['revenue'], label='B')\n",
    "\n",
    "plt.title('График кумулятивной выручки по группам')\n",
    "plt.xlabel('Дата')\n",
    "plt.ylabel('Кумулятивная выручка')\n",
    "plt.legend()\n",
    "plt.show()"
   ]
  },
  {
   "cell_type": "markdown",
   "metadata": {},
   "source": [
    "Во второй половине теста сегмент B вырвался вперёд по кумулятивной выручке и продолжал лидировать весь остаток теста. Возможно, скачок в середине теста произошел из-за того, что в сегменте B был оформлен аномально крупный заказ."
   ]
  },
  {
   "cell_type": "markdown",
   "metadata": {},
   "source": [
    "### Построим график кумулятивного среднего чека по группам"
   ]
  },
  {
   "cell_type": "code",
   "execution_count": 12,
   "metadata": {},
   "outputs": [
    {
     "data": {
      "image/png": "[encoded data removed]",
      "text/plain": [
       "<Figure size 1080x288 with 1 Axes>"
      ]
     },
     "metadata": {
      "needs_background": "light"
     },
     "output_type": "display_data"
    }
   ],
   "source": [
    "plt.figure().set_figwidth(15)\n",
    "plt.plot(cumulativeRevenueA['date'], \n",
    "         cumulativeRevenueA['revenue']/cumulativeRevenueA['orders'], label='A')\n",
    "plt.plot(cumulativeRevenueB['date'], \n",
    "         cumulativeRevenueB['revenue']/cumulativeRevenueB['orders'], label='B')\n",
    "\n",
    "plt.title('График кумулятивного среднего чека по группам')\n",
    "plt.xlabel('Дата')\n",
    "plt.ylabel('Кумулятивный средний чек')\n",
    "plt.legend(loc='upper left')\n",
    "plt.show()"
   ]
  },
  {
   "cell_type": "markdown",
   "metadata": {},
   "source": [
    "Во второй половине теста сегмент B вырвался вперёд по среднему чеку, но потом начал немного снижаться. Хотя все равно лидировал в сравнении с сегментом A."
   ]
  },
  {
   "cell_type": "markdown",
   "metadata": {},
   "source": [
    "### Построим график относительного изменения кумулятивного среднего чека группы B к группе A"
   ]
  },
  {
   "cell_type": "code",
   "execution_count": 13,
   "metadata": {},
   "outputs": [
    {
     "data": {
      "image/png": "[encoded data removed]",
      "text/plain": [
       "<Figure size 1080x288 with 1 Axes>"
      ]
     },
     "metadata": {
      "needs_background": "light"
     },
     "output_type": "display_data"
    }
   ],
   "source": [
    "# собираем данные в одном датафрейме\n",
    "mergedCumulativeRevenue = cumulativeRevenueA.merge(\n",
    "    cumulativeRevenueB, left_on='date', right_on='date', how='left', suffixes=['A', 'B'])\n",
    "\n",
    "plt.figure().set_figwidth(15)\n",
    "# cтроим отношение средних чеков\n",
    "plt.plot(mergedCumulativeRevenue['date'], \n",
    "         (mergedCumulativeRevenue['revenueB']/mergedCumulativeRevenue['ordersB'])\n",
    "         /(mergedCumulativeRevenue['revenueA']/mergedCumulativeRevenue['ordersA'])-1)\n",
    "\n",
    "# добавляем ось X\n",
    "plt.axhline(y=0, color='black', linestyle='--')\n",
    "\n",
    "plt.title('График относительного изменения кумулятивного среднего чека группы B к группе A')\n",
    "plt.xlabel('Дата')\n",
    "plt.ylabel('Кумулятивный средний чек')\n",
    "plt.show()"
   ]
  },
  {
   "cell_type": "markdown",
   "metadata": {},
   "source": [
    "Результаты теста значительно и резко менялись в несколько дат. Возможно, в эти даты были совершены аномальные заказы."
   ]
  },
  {
   "cell_type": "markdown",
   "metadata": {},
   "source": [
    "### Построим график кумулятивного среднего количества заказов на посетителя по группам"
   ]
  },
  {
   "cell_type": "code",
   "execution_count": 14,
   "metadata": {},
   "outputs": [
    {
     "data": {
      "image/png": "[encoded data removed]",
      "text/plain": [
       "<Figure size 1080x288 with 1 Axes>"
      ]
     },
     "metadata": {
      "needs_background": "light"
     },
     "output_type": "display_data"
    }
   ],
   "source": [
    "# считаем среднее количество заказов на посетителя\n",
    "cumulativeData['conversion'] = cumulativeData['orders']/cumulativeData['visitors']\n",
    "\n",
    "# отделяем данные по группе A\n",
    "cumulativeDataA = cumulativeData[cumulativeData['group']=='A']\n",
    "\n",
    "# отделяем данные по группе B\n",
    "cumulativeDataB = cumulativeData[cumulativeData['group']=='B']\n",
    "\n",
    "# строим графики\n",
    "plt.figure().set_figwidth(15)\n",
    "plt.plot(cumulativeDataA['date'], cumulativeDataA['conversion'], label='A')\n",
    "plt.plot(cumulativeDataB['date'], cumulativeDataB['conversion'], label='B')\n",
    "plt.title('График кумулятивного среднего количества заказов на посетителя по группам')\n",
    "plt.xlabel('Дата')\n",
    "plt.ylabel('Кумулятивное среднее количество заказов на посетителя')\n",
    "plt.legend()\n",
    "plt.show()"
   ]
  },
  {
   "cell_type": "markdown",
   "metadata": {},
   "source": [
    "В начале теста сегмент A имел большее кумулятивное среднее количество заказов, но после резкого пика начал сначала также резко снижаться, после чего стабилизировался на низком уровне.\n",
    "\n",
    "Сегмет B в самом начале резко взлетел, после чего резко снизился, и стал расти уже постепенно, и стабилизировался на высоком уровне."
   ]
  },
  {
   "cell_type": "markdown",
   "metadata": {},
   "source": [
    "### Построим график относительного изменения кумулятивного среднего количества заказов на посетителя группы B к группе A. "
   ]
  },
  {
   "cell_type": "code",
   "execution_count": 15,
   "metadata": {},
   "outputs": [
    {
     "data": {
      "image/png": "[encoded data removed]",
      "text/plain": [
       "<Figure size 1080x288 with 1 Axes>"
      ]
     },
     "metadata": {
      "needs_background": "light"
     },
     "output_type": "display_data"
    }
   ],
   "source": [
    "mergedCumulativeConversions = cumulativeDataA[['date','conversion']].merge(cumulativeDataB[['date','conversion']], left_on='date', right_on='date', how='left', suffixes=['A', 'B'])\n",
    "\n",
    "plt.figure().set_figwidth(15)\n",
    "plt.plot(mergedCumulativeConversions['date'], mergedCumulativeConversions['conversionB']/mergedCumulativeConversions['conversionA']-1, \n",
    "         label=\"Относительный прирост кумулятивного среднего количества заказов на посетителя группы B относительно группы A\")\n",
    "plt.title('Относительное изменение кумулятивного среднего количества заказов на посетителя группы B к группе A')\n",
    "plt.xlabel('Дата')\n",
    "plt.ylabel('Кумулятивное среднее количество заказов на посетителя')\n",
    "plt.axhline(y=0, color='black', linestyle='--')\n",
    "plt.axhline(y=0.1, color='grey', linestyle='--')\n",
    "plt.legend(loc='lower right')\n",
    "plt.show()"
   ]
  },
  {
   "cell_type": "markdown",
   "metadata": {},
   "source": [
    "В начале теста сегмент B был ниже по метрике, чем сегмент A. Но довольно быстро сегмент B стал расти и показывать лучшие показатели, чем сегмент A. В итоге прирост сегмента B относительно сегмента A зафиксировался в районе чуть выше 10%."
   ]
  },
  {
   "cell_type": "markdown",
   "metadata": {},
   "source": [
    "### Построим точечный график количества заказов по пользователям"
   ]
  },
  {
   "cell_type": "code",
   "execution_count": 16,
   "metadata": {},
   "outputs": [
    {
     "data": {
      "text/html": [
       "<div>\n",
       "<style scoped>\n",
       "    .dataframe tbody tr th:only-of-type {\n",
       "        vertical-align: middle;\n",
       "    }\n",
       "\n",
       "    .dataframe tbody tr th {\n",
       "        vertical-align: top;\n",
       "    }\n",
       "\n",
       "    .dataframe thead th {\n",
       "        text-align: right;\n",
       "    }\n",
       "</style>\n",
       "<table border=\"1\" class=\"dataframe\">\n",
       "  <thead>\n",
       "    <tr style=\"text-align: right;\">\n",
       "      <th></th>\n",
       "      <th>user_id</th>\n",
       "      <th>orders</th>\n",
       "    </tr>\n",
       "  </thead>\n",
       "  <tbody>\n",
       "    <tr>\n",
       "      <th>1023</th>\n",
       "      <td>4256040402</td>\n",
       "      <td>11</td>\n",
       "    </tr>\n",
       "    <tr>\n",
       "      <th>591</th>\n",
       "      <td>2458001652</td>\n",
       "      <td>11</td>\n",
       "    </tr>\n",
       "    <tr>\n",
       "      <th>569</th>\n",
       "      <td>2378935119</td>\n",
       "      <td>9</td>\n",
       "    </tr>\n",
       "    <tr>\n",
       "      <th>487</th>\n",
       "      <td>2038680547</td>\n",
       "      <td>8</td>\n",
       "    </tr>\n",
       "    <tr>\n",
       "      <th>44</th>\n",
       "      <td>199603092</td>\n",
       "      <td>5</td>\n",
       "    </tr>\n",
       "    <tr>\n",
       "      <th>744</th>\n",
       "      <td>3062433592</td>\n",
       "      <td>5</td>\n",
       "    </tr>\n",
       "    <tr>\n",
       "      <th>55</th>\n",
       "      <td>237748145</td>\n",
       "      <td>5</td>\n",
       "    </tr>\n",
       "    <tr>\n",
       "      <th>917</th>\n",
       "      <td>3803269165</td>\n",
       "      <td>5</td>\n",
       "    </tr>\n",
       "    <tr>\n",
       "      <th>299</th>\n",
       "      <td>1230306981</td>\n",
       "      <td>5</td>\n",
       "    </tr>\n",
       "    <tr>\n",
       "      <th>897</th>\n",
       "      <td>3717692402</td>\n",
       "      <td>5</td>\n",
       "    </tr>\n",
       "  </tbody>\n",
       "</table>\n",
       "</div>"
      ],
      "text/plain": [
       "         user_id  orders\n",
       "1023  4256040402      11\n",
       "591   2458001652      11\n",
       "569   2378935119       9\n",
       "487   2038680547       8\n",
       "44     199603092       5\n",
       "744   3062433592       5\n",
       "55     237748145       5\n",
       "917   3803269165       5\n",
       "299   1230306981       5\n",
       "897   3717692402       5"
      ]
     },
     "metadata": {},
     "output_type": "display_data"
    }
   ],
   "source": [
    "ordersByUsers = ( \n",
    "    orders.groupby('visitor_id', as_index=False)\n",
    "    .agg({'transaction_id' : 'nunique',})\n",
    "    .sort_values(by='transaction_id',ascending=False)\n",
    ")\n",
    "ordersByUsers.columns = ['user_id', 'orders']\n",
    "\n",
    "display(ordersByUsers.head(10))"
   ]
  },
  {
   "cell_type": "code",
   "execution_count": 17,
   "metadata": {},
   "outputs": [
    {
     "data": {
      "image/png": "[encoded data removed]",
      "text/plain": [
       "<Figure size 720x288 with 1 Axes>"
      ]
     },
     "metadata": {
      "needs_background": "light"
     },
     "output_type": "display_data"
    }
   ],
   "source": [
    "# серия из чисел от 0 до количества наблюдений в ordersByUsers\n",
    "x_values = pd.Series(range(0, len(ordersByUsers)))\n",
    "\n",
    "plt.figure().set_figwidth(10)\n",
    "plt.scatter(x_values, ordersByUsers['orders'])\n",
    "plt.title('График количества заказов по пользователям')\n",
    "plt.xlabel('Пользователи')\n",
    "plt.ylabel('Количество заказов')\n",
    "plt.show()"
   ]
  },
  {
   "cell_type": "markdown",
   "metadata": {},
   "source": [
    "Видим, что большая часть клиентов делает только по 1 заказу. Небольшая часть клиентов делала по 2 заказа. Клиентов, делавших более 3 заказов немного. А клиентов, сделавших более 5 заказов, буквально единицы."
   ]
  },
  {
   "cell_type": "markdown",
   "metadata": {},
   "source": [
    "### Посчитаем 95-й и 99-й перцентили количества заказов на пользователя"
   ]
  },
  {
   "cell_type": "code",
   "execution_count": 18,
   "metadata": {},
   "outputs": [
    {
     "name": "stdout",
     "output_type": "stream",
     "text": [
      "[2. 4.]\n"
     ]
    }
   ],
   "source": [
    "print(np.percentile(ordersByUsers['orders'], [95, 99]))"
   ]
  },
  {
   "cell_type": "markdown",
   "metadata": {},
   "source": [
    "Не более 5% клиентов сделали больше 2 заказов и не более 1% клиентов сделали больше 4 заказов. С учетом точечного графика выше и рассчитанных перцентилей можно сказать, что граница нормальных и аномальных заказов приходится на 95-м перцентиле. Сверх этого уровня уже идет аномальное количество заказов."
   ]
  },
  {
   "cell_type": "markdown",
   "metadata": {},
   "source": [
    "### Построим точечный график стоимостей заказов"
   ]
  },
  {
   "cell_type": "code",
   "execution_count": 19,
   "metadata": {},
   "outputs": [
    {
     "data": {
      "image/png": "[encoded data removed]",
      "text/plain": [
       "<Figure size 720x288 with 1 Axes>"
      ]
     },
     "metadata": {
      "needs_background": "light"
     },
     "output_type": "display_data"
    }
   ],
   "source": [
    "plt.figure().set_figwidth(10)\n",
    "x_values = pd.Series(range(0, len(orders['revenue'])))\n",
    "\n",
    "plt.scatter(x_values, orders['revenue'])\n",
    "plt.title('График стоимостей заказов')\n",
    "plt.xlabel('Пользователи')\n",
    "plt.ylabel('Стоимость заказов')\n",
    "plt.scatter(x_values, orders['revenue'])\n",
    "plt.show()"
   ]
  },
  {
   "cell_type": "markdown",
   "metadata": {},
   "source": [
    "В основном заказы оформляются на примерно одинаковые суммы у всех клиентов. Есть несколько выделяющихся выбросов, один из которых заказ на сумму более 1.2 млн. Этот заказ в интернет-магазине выглядит весьма аномально. "
   ]
  },
  {
   "cell_type": "markdown",
   "metadata": {},
   "source": [
    "### Посчитаем 95-й и 99-й перцентили стоимости заказов. Выберем границу для определения аномальных заказов."
   ]
  },
  {
   "cell_type": "code",
   "execution_count": 20,
   "metadata": {},
   "outputs": [
    {
     "name": "stdout",
     "output_type": "stream",
     "text": [
      "[28000.  58233.2]\n"
     ]
    }
   ],
   "source": [
    "print(np.percentile(orders['revenue'], [95, 99]))"
   ]
  },
  {
   "cell_type": "markdown",
   "metadata": {},
   "source": [
    "Не более 5% клиентов сделали заказы на сумму больше 28000.00 и не более 1% клиентов заказы на сумму больше 58233.20. Заказы свыше 28000 можно считать аномальными."
   ]
  },
  {
   "cell_type": "markdown",
   "metadata": {},
   "source": [
    "### Посчитаем статистическую значимость различий в среднем количестве заказов на посетителя между группами по «сырым» данным. "
   ]
  },
  {
   "cell_type": "markdown",
   "metadata": {},
   "source": [
    "Посчитаем статистическую значимость различий в среднем числе заказов на посетителя и среднем чеке между группами по «сырым» данным — без удаления аномальных пользователей.\n",
    "\n",
    "Сформулируем гипотезы. Нулевая: различий в среднем количестве заказов между группами нет. Альтернативная: различия в среднем между группами есть."
   ]
  },
  {
   "cell_type": "code",
   "execution_count": 21,
   "metadata": {},
   "outputs": [
    {
     "data": {
      "text/html": [
       "<div>\n",
       "<style scoped>\n",
       "    .dataframe tbody tr th:only-of-type {\n",
       "        vertical-align: middle;\n",
       "    }\n",
       "\n",
       "    .dataframe tbody tr th {\n",
       "        vertical-align: top;\n",
       "    }\n",
       "\n",
       "    .dataframe thead th {\n",
       "        text-align: right;\n",
       "    }\n",
       "</style>\n",
       "<table border=\"1\" class=\"dataframe\">\n",
       "  <thead>\n",
       "    <tr style=\"text-align: right;\">\n",
       "      <th></th>\n",
       "      <th>date</th>\n",
       "      <th>ordersPerDateA</th>\n",
       "      <th>revenuePerDateA</th>\n",
       "      <th>ordersPerDateB</th>\n",
       "      <th>revenuePerDateB</th>\n",
       "      <th>ordersCummulativeA</th>\n",
       "      <th>revenueCummulativeA</th>\n",
       "      <th>ordersCummulativeB</th>\n",
       "      <th>revenueCummulativeB</th>\n",
       "      <th>visitorsPerDateA</th>\n",
       "      <th>visitorsPerDateB</th>\n",
       "      <th>visitorsCummulativeA</th>\n",
       "      <th>visitorsCummulativeB</th>\n",
       "    </tr>\n",
       "  </thead>\n",
       "  <tbody>\n",
       "    <tr>\n",
       "      <th>0</th>\n",
       "      <td>2019-08-01</td>\n",
       "      <td>24</td>\n",
       "      <td>148579</td>\n",
       "      <td>21</td>\n",
       "      <td>101217</td>\n",
       "      <td>24</td>\n",
       "      <td>148579</td>\n",
       "      <td>21</td>\n",
       "      <td>101217</td>\n",
       "      <td>719</td>\n",
       "      <td>713</td>\n",
       "      <td>719</td>\n",
       "      <td>713</td>\n",
       "    </tr>\n",
       "    <tr>\n",
       "      <th>1</th>\n",
       "      <td>2019-08-02</td>\n",
       "      <td>20</td>\n",
       "      <td>93822</td>\n",
       "      <td>24</td>\n",
       "      <td>165531</td>\n",
       "      <td>44</td>\n",
       "      <td>242401</td>\n",
       "      <td>45</td>\n",
       "      <td>266748</td>\n",
       "      <td>619</td>\n",
       "      <td>581</td>\n",
       "      <td>1338</td>\n",
       "      <td>1294</td>\n",
       "    </tr>\n",
       "    <tr>\n",
       "      <th>2</th>\n",
       "      <td>2019-08-03</td>\n",
       "      <td>24</td>\n",
       "      <td>112473</td>\n",
       "      <td>16</td>\n",
       "      <td>114248</td>\n",
       "      <td>68</td>\n",
       "      <td>354874</td>\n",
       "      <td>61</td>\n",
       "      <td>380996</td>\n",
       "      <td>507</td>\n",
       "      <td>509</td>\n",
       "      <td>1845</td>\n",
       "      <td>1803</td>\n",
       "    </tr>\n",
       "    <tr>\n",
       "      <th>3</th>\n",
       "      <td>2019-08-04</td>\n",
       "      <td>16</td>\n",
       "      <td>70825</td>\n",
       "      <td>17</td>\n",
       "      <td>108571</td>\n",
       "      <td>84</td>\n",
       "      <td>425699</td>\n",
       "      <td>78</td>\n",
       "      <td>489567</td>\n",
       "      <td>717</td>\n",
       "      <td>770</td>\n",
       "      <td>2562</td>\n",
       "      <td>2573</td>\n",
       "    </tr>\n",
       "    <tr>\n",
       "      <th>4</th>\n",
       "      <td>2019-08-05</td>\n",
       "      <td>25</td>\n",
       "      <td>124218</td>\n",
       "      <td>23</td>\n",
       "      <td>92428</td>\n",
       "      <td>109</td>\n",
       "      <td>549917</td>\n",
       "      <td>101</td>\n",
       "      <td>581995</td>\n",
       "      <td>756</td>\n",
       "      <td>707</td>\n",
       "      <td>3318</td>\n",
       "      <td>3280</td>\n",
       "    </tr>\n",
       "  </tbody>\n",
       "</table>\n",
       "</div>"
      ],
      "text/plain": [
       "        date  ordersPerDateA  revenuePerDateA  ordersPerDateB  \\\n",
       "0 2019-08-01              24           148579              21   \n",
       "1 2019-08-02              20            93822              24   \n",
       "2 2019-08-03              24           112473              16   \n",
       "3 2019-08-04              16            70825              17   \n",
       "4 2019-08-05              25           124218              23   \n",
       "\n",
       "   revenuePerDateB  ordersCummulativeA  revenueCummulativeA  \\\n",
       "0           101217                  24               148579   \n",
       "1           165531                  44               242401   \n",
       "2           114248                  68               354874   \n",
       "3           108571                  84               425699   \n",
       "4            92428                 109               549917   \n",
       "\n",
       "   ordersCummulativeB  revenueCummulativeB  visitorsPerDateA  \\\n",
       "0                  21               101217               719   \n",
       "1                  45               266748               619   \n",
       "2                  61               380996               507   \n",
       "3                  78               489567               717   \n",
       "4                 101               581995               756   \n",
       "\n",
       "   visitorsPerDateB  visitorsCummulativeA  visitorsCummulativeB  \n",
       "0               713                   719                   713  \n",
       "1               581                  1338                  1294  \n",
       "2               509                  1845                  1803  \n",
       "3               770                  2562                  2573  \n",
       "4               707                  3318                  3280  "
      ]
     },
     "metadata": {},
     "output_type": "display_data"
    },
    {
     "name": "stdout",
     "output_type": "stream",
     "text": [
      "p-value\n",
      "0.017\n",
      "Относительное различие в среднем между группами\n",
      "0.138\n"
     ]
    }
   ],
   "source": [
    "visitorsADaily = visitors[visitors['group'] == 'A'][['date', 'visitors']]\n",
    "visitorsADaily.columns = ['date', 'visitorsPerDateA']\n",
    "\n",
    "visitorsACummulative = visitorsADaily.apply(\n",
    "    lambda x: visitorsADaily[visitorsADaily['date'] <= x['date']].agg(\n",
    "        {'date': 'max', 'visitorsPerDateA': 'sum'}\n",
    "    ),\n",
    "    axis=1,\n",
    ")\n",
    "visitorsACummulative.columns = ['date', 'visitorsCummulativeA']\n",
    "\n",
    "visitorsBDaily = visitors[visitors['group'] == 'B'][['date', 'visitors']]\n",
    "visitorsBDaily.columns = ['date', 'visitorsPerDateB']\n",
    "\n",
    "visitorsBCummulative = visitorsBDaily.apply(\n",
    "    lambda x: visitorsBDaily[visitorsBDaily['date'] <= x['date']].agg(\n",
    "        {'date': 'max', 'visitorsPerDateB': 'sum'}\n",
    "    ),\n",
    "    axis=1,\n",
    ")\n",
    "visitorsBCummulative.columns = ['date', 'visitorsCummulativeB']\n",
    "\n",
    "ordersADaily = (\n",
    "    orders[orders['group'] == 'A'][['date', 'transaction_id', 'visitor_id', 'revenue']]\n",
    "    .groupby('date', as_index=False)\n",
    "    .agg({'transaction_id': pd.Series.nunique, 'revenue': 'sum'})\n",
    ")\n",
    "ordersADaily.columns = ['date', 'ordersPerDateA', 'revenuePerDateA']\n",
    "\n",
    "ordersACummulative = ordersADaily.apply(\n",
    "    lambda x: ordersADaily[ordersADaily['date'] <= x['date']].agg(\n",
    "        {'date': 'max', 'ordersPerDateA': 'sum', 'revenuePerDateA': 'sum'}\n",
    "    ),\n",
    "    axis=1,\n",
    ").sort_values(by=['date'])\n",
    "ordersACummulative.columns = [\n",
    "    'date',\n",
    "    'ordersCummulativeA',\n",
    "    'revenueCummulativeA',\n",
    "]\n",
    "\n",
    "ordersBDaily = (\n",
    "    orders[orders['group'] == 'B'][['date', 'transaction_id', 'visitor_id', 'revenue']]\n",
    "    .groupby('date', as_index=False)\n",
    "    .agg({'transaction_id': pd.Series.nunique, 'revenue': 'sum'})\n",
    ")\n",
    "ordersBDaily.columns = ['date', 'ordersPerDateB', 'revenuePerDateB']\n",
    "\n",
    "ordersBCummulative = ordersBDaily.apply(\n",
    "    lambda x: ordersBDaily[ordersBDaily['date'] <= x['date']].agg(\n",
    "        {'date': 'max', 'ordersPerDateB': 'sum', 'revenuePerDateB': 'sum'}\n",
    "    ),\n",
    "    axis=1,\n",
    ").sort_values(by=['date'])\n",
    "ordersBCummulative.columns = [\n",
    "    'date',\n",
    "    'ordersCummulativeB',\n",
    "    'revenueCummulativeB',\n",
    "]\n",
    "\n",
    "data = (\n",
    "    ordersADaily.merge(\n",
    "        ordersBDaily, left_on='date', right_on='date', how='left'\n",
    "    )\n",
    "    .merge(ordersACummulative, left_on='date', right_on='date', how='left')\n",
    "    .merge(ordersBCummulative, left_on='date', right_on='date', how='left')\n",
    "    .merge(visitorsADaily, left_on='date', right_on='date', how='left')\n",
    "    .merge(visitorsBDaily, left_on='date', right_on='date', how='left')\n",
    "    .merge(visitorsACummulative, left_on='date', right_on='date', how='left')\n",
    "    .merge(visitorsBCummulative, left_on='date', right_on='date', how='left')\n",
    ")\n",
    "\n",
    "display(data.head(5))\n",
    "\n",
    "ordersByUsersA = (\n",
    "    orders[orders['group'] == 'A']\n",
    "    .groupby('visitor_id', as_index=False)\n",
    "    .agg({'transaction_id': pd.Series.nunique})\n",
    ")\n",
    "ordersByUsersA.columns = ['visitor_id', 'orders']\n",
    "\n",
    "ordersByUsersB = (\n",
    "    orders[orders['group'] == 'B']\n",
    "    .groupby('visitor_id', as_index=False)\n",
    "    .agg({'transaction_id': pd.Series.nunique})\n",
    ")\n",
    "ordersByUsersB.columns = ['visitor_id', 'orders']\n",
    "\n",
    "pd.Series(0, index=np.arange(data['visitorsPerDateA'].sum() - len(ordersByUsersA['orders'])), name='orders')\n",
    " \n",
    "[ordersByUsersA['orders'],pd.Series(0, index=np.arange(data['visitorsPerDateA'].sum() - len(ordersByUsersA['orders'])), name='orders')]\n",
    "\n",
    "sampleA = pd.concat([ordersByUsersA['orders'],pd.Series(0, index=np.arange(data['visitorsPerDateA'].sum() - len(ordersByUsersA['orders'])), name='orders')],axis=0)\n",
    "\n",
    "sampleB = pd.concat([ordersByUsersB['orders'],pd.Series(0, index=np.arange(data['visitorsPerDateB'].sum() - len(ordersByUsersB['orders'])), name='orders')],axis=0)\n",
    "\n",
    "print('p-value')\n",
    "print(\"{0:.3f}\".format(stats.mannwhitneyu(sampleA, sampleB)[1]))\n",
    "print('Относительное различие в среднем между группами')\n",
    "print(\"{0:.3f}\".format(sampleB.mean() / sampleA.mean() - 1))"
   ]
  },
  {
   "cell_type": "markdown",
   "metadata": {},
   "source": [
    "P-value значительно меньше 0.05, поэтому нулевую гипотезу отвергаем. Анализ \"сырых\" данных показывает, что в среднем количестве заказов между группами есть статистически значимые различия. Относительный прирост среднего группы B к конверсии группы A равен 13,8%."
   ]
  },
  {
   "cell_type": "markdown",
   "metadata": {},
   "source": [
    "### Посчитаем статистическую значимость различий в среднем чеке заказа между группами по «сырым» данным."
   ]
  },
  {
   "cell_type": "markdown",
   "metadata": {},
   "source": [
    "Теперь проверим статистическую значимость различий в среднем чеке между сегментами. \n",
    "\n",
    "Нулевая гипотеза: различий в среднем чеке между группами нет. Альтернативная гипотеза: различия в среднем чеке между группами есть. "
   ]
  },
  {
   "cell_type": "code",
   "execution_count": 22,
   "metadata": {},
   "outputs": [
    {
     "name": "stdout",
     "output_type": "stream",
     "text": [
      "p-value\n",
      "0.729\n",
      "Относительный прирост среднего чека группы B\n",
      "0.259\n"
     ]
    }
   ],
   "source": [
    "print('p-value')\n",
    "print('{0:.3f}'.format(stats.mannwhitneyu(orders[orders['group']=='A']['revenue'], orders[orders['group']=='B']['revenue'])[1]))\n",
    "print('Относительный прирост среднего чека группы B')\n",
    "print('{0:.3f}'.format(orders[orders['group']=='B']['revenue'].mean()/orders[orders['group']=='A']['revenue'].mean()-1))"
   ]
  },
  {
   "cell_type": "markdown",
   "metadata": {},
   "source": [
    "P-value больше 0.05, статистически значимых отличий в среднем чеке между группами нет. Но относительное различие среднего чека между сегментами 26%."
   ]
  },
  {
   "cell_type": "markdown",
   "metadata": {},
   "source": [
    "### Посчитаем статистическую значимость различий в среднем количестве заказов на посетителя между группами по «очищенным» данным."
   ]
  },
  {
   "cell_type": "markdown",
   "metadata": {},
   "source": [
    "Найденные выше 95-й и 99-й перцентили средних чеков равны 28000. и 58233.2. А 95-й и 99-й перцентили количества заказов на одного пользователя равны 2. и 4. заказа на пользователя.\n",
    "\n",
    "Примем за аномальных пользователей тех, кто совершил от 3 заказов или совершил заказ дороже 28 000. Так мы уберём 5% пользователей с наибольшим числом заказов и до 5% пользователей с дорогими заказами. "
   ]
  },
  {
   "cell_type": "code",
   "execution_count": 23,
   "metadata": {},
   "outputs": [
    {
     "data": {
      "text/plain": [
       "1121    28060\n",
       "723     28350\n",
       "137     28490\n",
       "960     28750\n",
       "73      29499\n",
       "dtype: int64"
      ]
     },
     "metadata": {},
     "output_type": "display_data"
    },
    {
     "name": "stdout",
     "output_type": "stream",
     "text": [
      "69\n"
     ]
    }
   ],
   "source": [
    "usersWithManyOrders = pd.concat(\n",
    "    [\n",
    "        ordersByUsersA[ordersByUsersA['orders'] > 2]['visitor_id'],\n",
    "        ordersByUsersB[ordersByUsersB['orders'] > 2]['visitor_id'],\n",
    "    ],\n",
    "    axis=0,\n",
    ")\n",
    "usersWithExpensiveOrders = orders[orders['revenue'] > 28000]['revenue']\n",
    "abnormalUsers = (\n",
    "    pd.concat([usersWithManyOrders, usersWithExpensiveOrders], axis=0)\n",
    "    .drop_duplicates()\n",
    "    .sort_values()\n",
    ")\n",
    "display(abnormalUsers.head(5))\n",
    "print(abnormalUsers.shape[0])"
   ]
  },
  {
   "cell_type": "markdown",
   "metadata": {},
   "source": [
    "Всего 69 аномальных пользователей. "
   ]
  },
  {
   "cell_type": "code",
   "execution_count": 24,
   "metadata": {},
   "outputs": [
    {
     "name": "stdout",
     "output_type": "stream",
     "text": [
      "p-value\n",
      "0.01155\n",
      "Относительное различие в среднем между группами\n",
      "0.170\n"
     ]
    }
   ],
   "source": [
    "sampleAFiltered = pd.concat(\n",
    "    [\n",
    "        ordersByUsersA[\n",
    "            np.logical_not(ordersByUsersA['visitor_id'].isin(abnormalUsers))\n",
    "        ]['orders'],\n",
    "        pd.Series(\n",
    "            0,\n",
    "            index=np.arange(\n",
    "                data['visitorsPerDateA'].sum() - len(ordersByUsersA['orders'])\n",
    "            ),\n",
    "            name='orders',\n",
    "        ),\n",
    "    ],\n",
    "    axis=0,\n",
    ")\n",
    "\n",
    "sampleBFiltered = pd.concat(\n",
    "    [\n",
    "        ordersByUsersB[\n",
    "            np.logical_not(ordersByUsersB['visitor_id'].isin(abnormalUsers))\n",
    "        ]['orders'],\n",
    "        pd.Series(\n",
    "            0,\n",
    "            index=np.arange(\n",
    "                data['visitorsPerDateB'].sum() - len(ordersByUsersB['orders'])\n",
    "            ),\n",
    "            name='orders',\n",
    "        ),\n",
    "    ],\n",
    "    axis=0,\n",
    ")\n",
    "\n",
    "print('p-value')\n",
    "print('{0:.5f}'.format(stats.mannwhitneyu(sampleAFiltered, sampleBFiltered)[1]))\n",
    "print('Относительное различие в среднем между группами')\n",
    "print('{0:.3f}'.format(sampleBFiltered.mean()/sampleAFiltered.mean()-1))"
   ]
  },
  {
   "cell_type": "markdown",
   "metadata": {},
   "source": [
    "Как и в случае с \"сырыми\" данными, статистическая значимость достигнута. Сегмент B значительно лучше сегмента A."
   ]
  },
  {
   "cell_type": "markdown",
   "metadata": {},
   "source": [
    "### Посчитаем статистическую значимость различий в среднем чеке заказа между группами по «очищенным» данным."
   ]
  },
  {
   "cell_type": "code",
   "execution_count": 25,
   "metadata": {},
   "outputs": [
    {
     "name": "stdout",
     "output_type": "stream",
     "text": [
      "p-value\n",
      "0.661\n",
      "Относительный прирост среднего чека группы B\n",
      "0.234\n"
     ]
    }
   ],
   "source": [
    "print('p-value')\n",
    "print(\n",
    "    '{0:.3f}'.format(\n",
    "        stats.mannwhitneyu(\n",
    "            orders[\n",
    "                np.logical_and(\n",
    "                    orders['group'] == 'A',\n",
    "                    np.logical_not(orders['visitor_id'].isin(abnormalUsers)),\n",
    "                )\n",
    "            ]['revenue'],\n",
    "            orders[\n",
    "                np.logical_and(\n",
    "                    orders['group'] == 'B',\n",
    "                    np.logical_not(orders['visitor_id'].isin(abnormalUsers)),\n",
    "                )\n",
    "            ]['revenue'],\n",
    "        )[1]\n",
    "    )\n",
    ")\n",
    "\n",
    "print('Относительный прирост среднего чека группы B')\n",
    "print(\n",
    "    \"{0:.3f}\".format(\n",
    "        orders[\n",
    "            np.logical_and(\n",
    "                orders['group'] == 'B',\n",
    "                np.logical_not(orders['visitor_id'].isin(abnormalUsers)),\n",
    "            )\n",
    "        ]['revenue'].mean()\n",
    "        / orders[\n",
    "            np.logical_and(\n",
    "                orders['group'] == 'A',\n",
    "                np.logical_not(orders['visitor_id'].isin(abnormalUsers)),\n",
    "            )\n",
    "        ]['revenue'].mean()\n",
    "        - 1\n",
    "    )\n",
    ")\n",
    "\n"
   ]
  },
  {
   "cell_type": "markdown",
   "metadata": {},
   "source": [
    "P-value снизился, но все равно сильно больше 0.05. Относительный прирост среднего чека группы B также немного снизился с 26 до 23%. Общие выводы по результатам теста по чистым данным не изменились. "
   ]
  },
  {
   "cell_type": "markdown",
   "metadata": {},
   "source": [
    "### Вывод\n",
    "По результатам проведенного A/B-теста можно сделать вывод, что статистически значимые различия между сегментом A и сегментом B есть как по по среднему количеству заказов, так и по среднему чеку. Сегмент B показывает результаты лучше в среднем на 20%. \n",
    "\n",
    "На данном этапе можно остановить тест и зафиксировать победу группы B. Продолжать смысла нет, потому как вероятность, что при имеющихся данных сегмент A на самом деле лучше сегмента B — практически нулевая.\n",
    "\n"
   ]
  }
 ],
 "metadata": {
  "ExecuteTimeLog": [
   {
    "duration": 546,
    "start_time": "2024-03-24T08:10:21.690Z"
   },
   {
    "duration": 90,
    "start_time": "2024-03-24T08:10:36.579Z"
   },
   {
    "duration": 39,
    "start_time": "2024-03-24T08:10:41.046Z"
   },
   {
    "duration": 38,
    "start_time": "2024-03-24T08:13:05.093Z"
   },
   {
    "duration": 4,
    "start_time": "2024-03-24T08:16:10.777Z"
   },
   {
    "duration": 39,
    "start_time": "2024-03-24T08:16:55.641Z"
   },
   {
    "duration": 3,
    "start_time": "2024-03-24T08:17:08.288Z"
   },
   {
    "duration": 38,
    "start_time": "2024-03-24T08:17:37.912Z"
   },
   {
    "duration": 11,
    "start_time": "2024-03-24T08:18:19.357Z"
   },
   {
    "duration": 11,
    "start_time": "2024-03-24T08:21:05.120Z"
   },
   {
    "duration": 146,
    "start_time": "2024-03-24T08:35:30.069Z"
   },
   {
    "duration": 64,
    "start_time": "2024-03-24T08:36:05.063Z"
   },
   {
    "duration": 73,
    "start_time": "2024-03-24T08:36:10.353Z"
   },
   {
    "duration": 84,
    "start_time": "2024-03-24T08:36:50.380Z"
   },
   {
    "duration": 4,
    "start_time": "2024-03-24T08:39:29.062Z"
   },
   {
    "duration": 3,
    "start_time": "2024-03-24T08:41:21.392Z"
   },
   {
    "duration": 20,
    "start_time": "2024-03-24T08:41:59.168Z"
   },
   {
    "duration": 3,
    "start_time": "2024-03-24T09:01:23.128Z"
   },
   {
    "duration": 40,
    "start_time": "2024-03-24T09:01:24.802Z"
   },
   {
    "duration": 3,
    "start_time": "2024-03-24T09:01:25.558Z"
   },
   {
    "duration": 10,
    "start_time": "2024-03-24T09:01:26.268Z"
   },
   {
    "duration": 12,
    "start_time": "2024-03-24T09:01:27.786Z"
   },
   {
    "duration": 84,
    "start_time": "2024-03-24T09:01:34.026Z"
   },
   {
    "duration": 5,
    "start_time": "2024-03-24T09:01:34.661Z"
   },
   {
    "duration": 19,
    "start_time": "2024-03-24T09:01:41.176Z"
   },
   {
    "duration": 82,
    "start_time": "2024-03-24T09:03:31.727Z"
   },
   {
    "duration": 384,
    "start_time": "2024-03-24T09:04:17.629Z"
   },
   {
    "duration": 372,
    "start_time": "2024-03-24T09:04:55.940Z"
   },
   {
    "duration": 7,
    "start_time": "2024-03-24T09:06:12.744Z"
   },
   {
    "duration": 40,
    "start_time": "2024-03-24T09:08:09.643Z"
   },
   {
    "duration": 297,
    "start_time": "2024-03-24T09:09:15.876Z"
   },
   {
    "duration": 91,
    "start_time": "2024-03-24T09:12:25.676Z"
   },
   {
    "duration": 80,
    "start_time": "2024-03-24T09:12:51.477Z"
   },
   {
    "duration": 95,
    "start_time": "2024-03-24T09:13:31.903Z"
   },
   {
    "duration": 93,
    "start_time": "2024-03-24T09:13:47.917Z"
   },
   {
    "duration": 97,
    "start_time": "2024-03-24T09:14:12.701Z"
   },
   {
    "duration": 646,
    "start_time": "2024-03-24T09:14:47.158Z"
   },
   {
    "duration": 16,
    "start_time": "2024-03-24T09:18:05.260Z"
   },
   {
    "duration": 375,
    "start_time": "2024-03-24T09:18:28.230Z"
   },
   {
    "duration": 627,
    "start_time": "2024-03-24T09:18:34.027Z"
   },
   {
    "duration": 42,
    "start_time": "2024-03-24T09:18:34.656Z"
   },
   {
    "duration": 3,
    "start_time": "2024-03-24T09:18:34.700Z"
   },
   {
    "duration": 21,
    "start_time": "2024-03-24T09:18:34.705Z"
   },
   {
    "duration": 12,
    "start_time": "2024-03-24T09:18:34.727Z"
   },
   {
    "duration": 85,
    "start_time": "2024-03-24T09:18:34.741Z"
   },
   {
    "duration": 3,
    "start_time": "2024-03-24T09:18:34.828Z"
   },
   {
    "duration": 8,
    "start_time": "2024-03-24T09:18:34.833Z"
   },
   {
    "duration": 19,
    "start_time": "2024-03-24T09:18:34.843Z"
   },
   {
    "duration": 580,
    "start_time": "2024-03-24T09:18:34.864Z"
   },
   {
    "duration": 276,
    "start_time": "2024-03-24T09:18:35.446Z"
   },
   {
    "duration": 187,
    "start_time": "2024-03-24T09:20:20.112Z"
   },
   {
    "duration": 200,
    "start_time": "2024-03-24T09:21:19.247Z"
   },
   {
    "duration": 229,
    "start_time": "2024-03-24T09:21:32.226Z"
   },
   {
    "duration": 280,
    "start_time": "2024-03-24T09:22:59.416Z"
   },
   {
    "duration": 228,
    "start_time": "2024-03-24T09:23:40.479Z"
   },
   {
    "duration": 183,
    "start_time": "2024-03-24T09:23:46.905Z"
   },
   {
    "duration": 208,
    "start_time": "2024-03-24T09:27:04.399Z"
   },
   {
    "duration": 177,
    "start_time": "2024-03-24T09:27:13.521Z"
   },
   {
    "duration": 177,
    "start_time": "2024-03-24T09:27:33.598Z"
   },
   {
    "duration": 217,
    "start_time": "2024-03-24T09:28:04.294Z"
   },
   {
    "duration": 319,
    "start_time": "2024-03-24T09:31:04.483Z"
   },
   {
    "duration": 290,
    "start_time": "2024-03-24T09:31:16.192Z"
   },
   {
    "duration": 296,
    "start_time": "2024-03-24T09:31:36.884Z"
   },
   {
    "duration": 486,
    "start_time": "2024-03-24T09:32:59.958Z"
   },
   {
    "duration": 441,
    "start_time": "2024-03-24T09:33:04.314Z"
   },
   {
    "duration": 413,
    "start_time": "2024-03-24T09:33:23.896Z"
   },
   {
    "duration": 307,
    "start_time": "2024-03-24T09:33:39.037Z"
   },
   {
    "duration": 360,
    "start_time": "2024-03-24T09:35:00.056Z"
   },
   {
    "duration": 196,
    "start_time": "2024-03-24T09:35:18.508Z"
   },
   {
    "duration": 235,
    "start_time": "2024-03-24T09:35:37.882Z"
   },
   {
    "duration": 270,
    "start_time": "2024-03-24T09:38:26.136Z"
   },
   {
    "duration": 165,
    "start_time": "2024-03-24T09:41:09.993Z"
   },
   {
    "duration": 223,
    "start_time": "2024-03-24T09:41:23.343Z"
   },
   {
    "duration": 226,
    "start_time": "2024-03-24T09:41:47.841Z"
   },
   {
    "duration": 296,
    "start_time": "2024-03-24T09:41:58.616Z"
   },
   {
    "duration": 351,
    "start_time": "2024-03-24T09:47:49.887Z"
   },
   {
    "duration": 347,
    "start_time": "2024-03-24T09:48:04.693Z"
   },
   {
    "duration": 295,
    "start_time": "2024-03-24T09:48:12.741Z"
   },
   {
    "duration": 240,
    "start_time": "2024-03-24T09:48:50.141Z"
   },
   {
    "duration": 208,
    "start_time": "2024-03-24T09:49:08.479Z"
   },
   {
    "duration": 200,
    "start_time": "2024-03-24T09:49:23.542Z"
   },
   {
    "duration": 324,
    "start_time": "2024-03-24T09:49:39.907Z"
   },
   {
    "duration": 238,
    "start_time": "2024-03-24T09:50:03.808Z"
   },
   {
    "duration": 405,
    "start_time": "2024-03-24T09:51:07.855Z"
   },
   {
    "duration": 335,
    "start_time": "2024-03-24T09:51:22.238Z"
   },
   {
    "duration": 370,
    "start_time": "2024-03-24T09:52:22.392Z"
   },
   {
    "duration": 258,
    "start_time": "2024-03-24T09:53:05.006Z"
   },
   {
    "duration": 383,
    "start_time": "2024-03-24T09:54:00.031Z"
   },
   {
    "duration": 259,
    "start_time": "2024-03-24T09:54:48.057Z"
   },
   {
    "duration": 364,
    "start_time": "2024-03-24T09:55:05.833Z"
   },
   {
    "duration": 535,
    "start_time": "2024-03-24T09:58:05.830Z"
   },
   {
    "duration": 649,
    "start_time": "2024-03-24T09:58:18.687Z"
   },
   {
    "duration": 42,
    "start_time": "2024-03-24T09:58:19.338Z"
   },
   {
    "duration": 3,
    "start_time": "2024-03-24T09:58:19.382Z"
   },
   {
    "duration": 25,
    "start_time": "2024-03-24T09:58:19.387Z"
   },
   {
    "duration": 11,
    "start_time": "2024-03-24T09:58:19.413Z"
   },
   {
    "duration": 94,
    "start_time": "2024-03-24T09:58:19.425Z"
   },
   {
    "duration": 3,
    "start_time": "2024-03-24T09:58:19.521Z"
   },
   {
    "duration": 27,
    "start_time": "2024-03-24T09:58:19.525Z"
   },
   {
    "duration": 43,
    "start_time": "2024-03-24T09:58:19.554Z"
   },
   {
    "duration": 569,
    "start_time": "2024-03-24T09:58:19.600Z"
   },
   {
    "duration": 308,
    "start_time": "2024-03-24T09:58:20.171Z"
   },
   {
    "duration": 231,
    "start_time": "2024-03-24T09:58:20.481Z"
   },
   {
    "duration": 319,
    "start_time": "2024-03-24T09:58:20.714Z"
   },
   {
    "duration": 301,
    "start_time": "2024-03-24T09:58:21.035Z"
   },
   {
    "duration": 340,
    "start_time": "2024-03-24T09:58:21.338Z"
   },
   {
    "duration": 328,
    "start_time": "2024-03-24T10:00:58.411Z"
   },
   {
    "duration": 363,
    "start_time": "2024-03-24T10:01:04.753Z"
   },
   {
    "duration": 371,
    "start_time": "2024-03-24T10:01:10.275Z"
   },
   {
    "duration": 78,
    "start_time": "2024-03-24T10:07:28.450Z"
   },
   {
    "duration": 11,
    "start_time": "2024-03-24T10:09:21.909Z"
   },
   {
    "duration": 10,
    "start_time": "2024-03-24T10:09:42.357Z"
   },
   {
    "duration": 130,
    "start_time": "2024-03-24T10:10:45.012Z"
   },
   {
    "duration": 11,
    "start_time": "2024-03-24T10:11:04.312Z"
   },
   {
    "duration": 110,
    "start_time": "2024-03-24T10:11:11.859Z"
   },
   {
    "duration": 111,
    "start_time": "2024-03-24T10:11:40.745Z"
   },
   {
    "duration": 139,
    "start_time": "2024-03-24T10:13:00.187Z"
   },
   {
    "duration": 126,
    "start_time": "2024-03-24T10:13:04.628Z"
   },
   {
    "duration": 152,
    "start_time": "2024-03-24T10:13:43.813Z"
   },
   {
    "duration": 230,
    "start_time": "2024-03-24T10:13:52.696Z"
   },
   {
    "duration": 151,
    "start_time": "2024-03-24T10:14:04.564Z"
   },
   {
    "duration": 329,
    "start_time": "2024-03-24T10:14:27.913Z"
   },
   {
    "duration": 360,
    "start_time": "2024-03-24T10:14:40.112Z"
   },
   {
    "duration": 386,
    "start_time": "2024-03-24T10:14:53.090Z"
   },
   {
    "duration": 341,
    "start_time": "2024-03-24T10:14:59.425Z"
   },
   {
    "duration": 363,
    "start_time": "2024-03-24T10:15:05.752Z"
   },
   {
    "duration": 397,
    "start_time": "2024-03-24T10:15:32.066Z"
   },
   {
    "duration": 354,
    "start_time": "2024-03-24T10:16:03.146Z"
   },
   {
    "duration": 399,
    "start_time": "2024-03-24T10:16:15.686Z"
   },
   {
    "duration": 402,
    "start_time": "2024-03-24T10:16:32.662Z"
   },
   {
    "duration": 301,
    "start_time": "2024-03-24T10:16:53.336Z"
   },
   {
    "duration": 211,
    "start_time": "2024-03-24T10:17:21.158Z"
   },
   {
    "duration": 335,
    "start_time": "2024-03-24T10:17:43.919Z"
   },
   {
    "duration": 140,
    "start_time": "2024-03-24T10:18:20.122Z"
   },
   {
    "duration": 131,
    "start_time": "2024-03-24T10:18:43.524Z"
   },
   {
    "duration": 12,
    "start_time": "2024-03-24T10:19:26.600Z"
   },
   {
    "duration": 12,
    "start_time": "2024-03-24T10:20:33.509Z"
   },
   {
    "duration": 10,
    "start_time": "2024-03-24T10:20:41.088Z"
   },
   {
    "duration": 4,
    "start_time": "2024-03-24T10:27:27.626Z"
   },
   {
    "duration": 140,
    "start_time": "2024-03-24T10:30:41.599Z"
   },
   {
    "duration": 122,
    "start_time": "2024-03-24T10:31:40.597Z"
   },
   {
    "duration": 108,
    "start_time": "2024-03-24T10:31:53.256Z"
   },
   {
    "duration": 121,
    "start_time": "2024-03-24T10:32:04.591Z"
   },
   {
    "duration": 1369,
    "start_time": "2024-03-24T10:32:51.173Z"
   },
   {
    "duration": 154,
    "start_time": "2024-03-24T10:33:09.494Z"
   },
   {
    "duration": 221,
    "start_time": "2024-03-24T10:33:36.638Z"
   },
   {
    "duration": 5,
    "start_time": "2024-03-24T10:34:18.440Z"
   },
   {
    "duration": 163,
    "start_time": "2024-03-24T10:34:30.194Z"
   },
   {
    "duration": 166,
    "start_time": "2024-03-24T10:34:37.990Z"
   },
   {
    "duration": 170,
    "start_time": "2024-03-24T10:36:01.703Z"
   },
   {
    "duration": 200,
    "start_time": "2024-03-24T10:36:24.306Z"
   },
   {
    "duration": 187,
    "start_time": "2024-03-24T10:36:31.263Z"
   },
   {
    "duration": 164,
    "start_time": "2024-03-24T10:36:39.588Z"
   },
   {
    "duration": 157,
    "start_time": "2024-03-24T10:36:51.230Z"
   },
   {
    "duration": 506,
    "start_time": "2024-03-24T10:44:31.877Z"
   },
   {
    "duration": 262,
    "start_time": "2024-03-24T10:46:22.840Z"
   },
   {
    "duration": 400,
    "start_time": "2024-03-24T10:47:43.407Z"
   },
   {
    "duration": 414,
    "start_time": "2024-03-24T10:50:10.233Z"
   },
   {
    "duration": 430,
    "start_time": "2024-03-24T10:51:52.799Z"
   },
   {
    "duration": 380,
    "start_time": "2024-03-24T10:52:14.485Z"
   },
   {
    "duration": 11,
    "start_time": "2024-03-24T10:59:20.473Z"
   },
   {
    "duration": 14,
    "start_time": "2024-03-24T11:04:02.669Z"
   },
   {
    "duration": 1406,
    "start_time": "2024-03-24T11:08:23.277Z"
   },
   {
    "duration": 1464,
    "start_time": "2024-03-24T11:09:14.967Z"
   },
   {
    "duration": 1522,
    "start_time": "2024-03-24T11:10:21.400Z"
   },
   {
    "duration": 1523,
    "start_time": "2024-03-24T11:10:41.305Z"
   },
   {
    "duration": 417,
    "start_time": "2024-03-24T11:11:38.251Z"
   },
   {
    "duration": 15,
    "start_time": "2024-03-24T11:11:44.431Z"
   },
   {
    "duration": 2043,
    "start_time": "2024-03-24T11:13:28.529Z"
   },
   {
    "duration": 10,
    "start_time": "2024-03-24T11:13:41.648Z"
   },
   {
    "duration": 9,
    "start_time": "2024-03-24T11:17:46.841Z"
   },
   {
    "duration": 12,
    "start_time": "2024-03-24T11:17:53.611Z"
   },
   {
    "duration": 15,
    "start_time": "2024-03-24T11:19:45.380Z"
   },
   {
    "duration": 15,
    "start_time": "2024-03-24T11:19:56.399Z"
   },
   {
    "duration": 1458,
    "start_time": "2024-03-24T11:21:00.523Z"
   },
   {
    "duration": 42,
    "start_time": "2024-03-24T11:22:02.560Z"
   },
   {
    "duration": 1430,
    "start_time": "2024-03-24T11:24:11.012Z"
   },
   {
    "duration": 1457,
    "start_time": "2024-03-24T11:24:52.651Z"
   },
   {
    "duration": 1492,
    "start_time": "2024-03-24T11:25:40.963Z"
   },
   {
    "duration": 21,
    "start_time": "2024-03-24T11:26:01.231Z"
   },
   {
    "duration": 16,
    "start_time": "2024-03-24T11:27:24.471Z"
   },
   {
    "duration": 1171,
    "start_time": "2024-03-24T11:28:30.983Z"
   },
   {
    "duration": 104,
    "start_time": "2024-03-24T11:28:32.156Z"
   },
   {
    "duration": 3,
    "start_time": "2024-03-24T11:28:32.262Z"
   },
   {
    "duration": 35,
    "start_time": "2024-03-24T11:28:32.267Z"
   },
   {
    "duration": 12,
    "start_time": "2024-03-24T11:28:32.311Z"
   },
   {
    "duration": 111,
    "start_time": "2024-03-24T11:28:32.324Z"
   },
   {
    "duration": 3,
    "start_time": "2024-03-24T11:28:32.436Z"
   },
   {
    "duration": 18,
    "start_time": "2024-03-24T11:28:32.441Z"
   },
   {
    "duration": 60,
    "start_time": "2024-03-24T11:28:32.460Z"
   },
   {
    "duration": 631,
    "start_time": "2024-03-24T11:28:32.522Z"
   },
   {
    "duration": 366,
    "start_time": "2024-03-24T11:28:33.154Z"
   },
   {
    "duration": 225,
    "start_time": "2024-03-24T11:28:33.521Z"
   },
   {
    "duration": 365,
    "start_time": "2024-03-24T11:28:33.748Z"
   },
   {
    "duration": 255,
    "start_time": "2024-03-24T11:28:34.115Z"
   },
   {
    "duration": 399,
    "start_time": "2024-03-24T11:28:34.372Z"
   },
   {
    "duration": 21,
    "start_time": "2024-03-24T11:28:34.773Z"
   },
   {
    "duration": 152,
    "start_time": "2024-03-24T11:28:34.796Z"
   },
   {
    "duration": 5,
    "start_time": "2024-03-24T11:28:34.949Z"
   },
   {
    "duration": 199,
    "start_time": "2024-03-24T11:28:34.956Z"
   },
   {
    "duration": 5,
    "start_time": "2024-03-24T11:28:35.156Z"
   },
   {
    "duration": 458,
    "start_time": "2024-03-24T11:28:35.162Z"
   },
   {
    "duration": 10,
    "start_time": "2024-03-24T11:28:35.622Z"
   },
   {
    "duration": 26,
    "start_time": "2024-03-24T11:28:35.633Z"
   },
   {
    "duration": 53,
    "start_time": "2024-03-24T11:28:35.660Z"
   },
   {
    "duration": 16,
    "start_time": "2024-03-24T11:28:35.715Z"
   },
   {
    "duration": 36,
    "start_time": "2024-03-24T11:32:13.983Z"
   },
   {
    "duration": 15,
    "start_time": "2024-03-24T11:32:55.663Z"
   },
   {
    "duration": 14,
    "start_time": "2024-03-24T11:33:13.857Z"
   },
   {
    "duration": 92,
    "start_time": "2024-03-24T14:47:39.030Z"
   },
   {
    "duration": 41,
    "start_time": "2024-03-24T14:47:48.439Z"
   },
   {
    "duration": 1231,
    "start_time": "2024-03-24T14:47:51.588Z"
   },
   {
    "duration": 196,
    "start_time": "2024-03-24T14:47:52.821Z"
   },
   {
    "duration": 45,
    "start_time": "2024-03-24T14:48:08.038Z"
   },
   {
    "duration": 37,
    "start_time": "2024-03-24T14:48:48.551Z"
   },
   {
    "duration": 1442,
    "start_time": "2024-03-24T14:50:08.969Z"
   },
   {
    "duration": 1038,
    "start_time": "2024-03-24T14:50:21.398Z"
   },
   {
    "duration": 92,
    "start_time": "2024-03-24T14:50:22.439Z"
   },
   {
    "duration": 3,
    "start_time": "2024-03-24T14:50:22.532Z"
   },
   {
    "duration": 37,
    "start_time": "2024-03-24T14:50:22.537Z"
   },
   {
    "duration": 15,
    "start_time": "2024-03-24T14:50:22.577Z"
   },
   {
    "duration": 184,
    "start_time": "2024-03-24T14:50:22.594Z"
   },
   {
    "duration": 3,
    "start_time": "2024-03-24T14:50:22.780Z"
   },
   {
    "duration": 17,
    "start_time": "2024-03-24T14:50:22.784Z"
   },
   {
    "duration": 29,
    "start_time": "2024-03-24T14:50:22.802Z"
   },
   {
    "duration": 562,
    "start_time": "2024-03-24T14:50:22.832Z"
   },
   {
    "duration": 296,
    "start_time": "2024-03-24T14:50:23.396Z"
   },
   {
    "duration": 202,
    "start_time": "2024-03-24T14:50:23.694Z"
   },
   {
    "duration": 311,
    "start_time": "2024-03-24T14:50:23.897Z"
   },
   {
    "duration": 239,
    "start_time": "2024-03-24T14:50:24.211Z"
   },
   {
    "duration": 336,
    "start_time": "2024-03-24T14:50:24.452Z"
   },
   {
    "duration": 10,
    "start_time": "2024-03-24T14:50:24.794Z"
   },
   {
    "duration": 204,
    "start_time": "2024-03-24T14:50:24.805Z"
   },
   {
    "duration": 5,
    "start_time": "2024-03-24T14:50:25.011Z"
   },
   {
    "duration": 189,
    "start_time": "2024-03-24T14:50:25.017Z"
   },
   {
    "duration": 5,
    "start_time": "2024-03-24T14:50:25.207Z"
   },
   {
    "duration": 375,
    "start_time": "2024-03-24T14:50:25.213Z"
   },
   {
    "duration": 14,
    "start_time": "2024-03-24T14:50:25.589Z"
   },
   {
    "duration": 12,
    "start_time": "2024-03-24T14:50:25.605Z"
   },
   {
    "duration": 93,
    "start_time": "2024-03-24T14:50:25.619Z"
   },
   {
    "duration": 14,
    "start_time": "2024-03-24T14:50:25.714Z"
   },
   {
    "duration": 37,
    "start_time": "2024-03-24T14:50:36.556Z"
   },
   {
    "duration": 36,
    "start_time": "2024-03-24T14:50:47.979Z"
   },
   {
    "duration": 36,
    "start_time": "2024-03-24T14:50:59.138Z"
   },
   {
    "duration": 37,
    "start_time": "2024-03-24T14:51:04.876Z"
   },
   {
    "duration": 1230,
    "start_time": "2024-03-24T16:40:14.445Z"
   },
   {
    "duration": 155,
    "start_time": "2024-03-24T16:40:15.678Z"
   },
   {
    "duration": 4,
    "start_time": "2024-03-24T16:40:15.834Z"
   },
   {
    "duration": 13,
    "start_time": "2024-03-24T16:40:15.840Z"
   },
   {
    "duration": 17,
    "start_time": "2024-03-24T16:40:15.855Z"
   },
   {
    "duration": 194,
    "start_time": "2024-03-24T16:40:15.874Z"
   },
   {
    "duration": 3,
    "start_time": "2024-03-24T16:40:16.070Z"
   },
   {
    "duration": 16,
    "start_time": "2024-03-24T16:40:16.075Z"
   },
   {
    "duration": 23,
    "start_time": "2024-03-24T16:40:16.093Z"
   },
   {
    "duration": 541,
    "start_time": "2024-03-24T16:40:16.118Z"
   },
   {
    "duration": 288,
    "start_time": "2024-03-24T16:40:16.660Z"
   },
   {
    "duration": 208,
    "start_time": "2024-03-24T16:40:16.949Z"
   },
   {
    "duration": 355,
    "start_time": "2024-03-24T16:40:17.158Z"
   },
   {
    "duration": 234,
    "start_time": "2024-03-24T16:40:17.515Z"
   },
   {
    "duration": 343,
    "start_time": "2024-03-24T16:40:17.751Z"
   },
   {
    "duration": 10,
    "start_time": "2024-03-24T16:40:18.095Z"
   },
   {
    "duration": 141,
    "start_time": "2024-03-24T16:40:18.106Z"
   },
   {
    "duration": 5,
    "start_time": "2024-03-24T16:40:18.249Z"
   },
   {
    "duration": 157,
    "start_time": "2024-03-24T16:40:18.256Z"
   },
   {
    "duration": 4,
    "start_time": "2024-03-24T16:40:18.414Z"
   },
   {
    "duration": 370,
    "start_time": "2024-03-24T16:40:18.419Z"
   },
   {
    "duration": 9,
    "start_time": "2024-03-24T16:40:18.791Z"
   },
   {
    "duration": 14,
    "start_time": "2024-03-24T16:40:18.802Z"
   },
   {
    "duration": 50,
    "start_time": "2024-03-24T16:40:18.818Z"
   },
   {
    "duration": 18,
    "start_time": "2024-03-24T16:40:18.870Z"
   },
   {
    "duration": 5,
    "start_time": "2024-03-24T17:06:34.198Z"
   },
   {
    "duration": 5,
    "start_time": "2024-03-24T17:06:41.056Z"
   },
   {
    "duration": 1067,
    "start_time": "2024-03-24T17:18:48.192Z"
   },
   {
    "duration": 92,
    "start_time": "2024-03-24T17:18:49.261Z"
   },
   {
    "duration": 4,
    "start_time": "2024-03-24T17:18:49.355Z"
   },
   {
    "duration": 14,
    "start_time": "2024-03-24T17:18:49.361Z"
   },
   {
    "duration": 10,
    "start_time": "2024-03-24T17:18:49.377Z"
   },
   {
    "duration": 96,
    "start_time": "2024-03-24T17:18:49.388Z"
   },
   {
    "duration": 3,
    "start_time": "2024-03-24T17:18:49.486Z"
   },
   {
    "duration": 8,
    "start_time": "2024-03-24T17:18:49.490Z"
   },
   {
    "duration": 27,
    "start_time": "2024-03-24T17:18:49.500Z"
   },
   {
    "duration": 555,
    "start_time": "2024-03-24T17:18:49.529Z"
   },
   {
    "duration": 304,
    "start_time": "2024-03-24T17:18:50.086Z"
   },
   {
    "duration": 196,
    "start_time": "2024-03-24T17:18:50.392Z"
   },
   {
    "duration": 287,
    "start_time": "2024-03-24T17:18:50.589Z"
   },
   {
    "duration": 230,
    "start_time": "2024-03-24T17:18:50.877Z"
   },
   {
    "duration": 308,
    "start_time": "2024-03-24T17:18:51.108Z"
   },
   {
    "duration": 11,
    "start_time": "2024-03-24T17:18:51.418Z"
   },
   {
    "duration": 147,
    "start_time": "2024-03-24T17:18:51.431Z"
   },
   {
    "duration": 5,
    "start_time": "2024-03-24T17:18:51.579Z"
   },
   {
    "duration": 175,
    "start_time": "2024-03-24T17:18:51.586Z"
   },
   {
    "duration": 5,
    "start_time": "2024-03-24T17:18:51.764Z"
   },
   {
    "duration": 374,
    "start_time": "2024-03-24T17:18:51.770Z"
   },
   {
    "duration": 21,
    "start_time": "2024-03-24T17:18:52.146Z"
   },
   {
    "duration": 10,
    "start_time": "2024-03-24T17:18:52.169Z"
   },
   {
    "duration": 29,
    "start_time": "2024-03-24T17:18:52.181Z"
   },
   {
    "duration": 14,
    "start_time": "2024-03-24T17:18:52.212Z"
   },
   {
    "duration": 39,
    "start_time": "2024-03-24T17:22:08.725Z"
   },
   {
    "duration": 39,
    "start_time": "2024-03-24T17:22:13.895Z"
   }
  ],
  "kernelspec": {
   "display_name": "Python 3 (ipykernel)",
   "language": "python",
   "name": "python3"
  },
  "language_info": {
   "codemirror_mode": {
    "name": "ipython",
    "version": 3
   },
   "file_extension": ".py",
   "mimetype": "text/x-python",
   "name": "python",
   "nbconvert_exporter": "python",
   "pygments_lexer": "ipython3",
   "version": "3.11.7"
  },
  "toc": {
   "base_numbering": 1,
   "nav_menu": {},
   "number_sections": true,
   "sideBar": true,
   "skip_h1_title": true,
   "title_cell": "Table of Contents",
   "title_sidebar": "Contents",
   "toc_cell": false,
   "toc_position": {
    "height": "calc(100% - 180px)",
    "left": "10px",
    "top": "150px",
    "width": "226.796875px"
   },
   "toc_section_display": true,
   "toc_window_display": false
  }
 },
 "nbformat": 4,
 "nbformat_minor": 4
}
